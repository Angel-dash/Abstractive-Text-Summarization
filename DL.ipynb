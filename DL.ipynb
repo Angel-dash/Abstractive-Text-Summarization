{
  "cells": [
    {
      "cell_type": "markdown",
      "metadata": {
        "id": "view-in-github",
        "colab_type": "text"
      },
      "source": [
        "<a href=\"https://colab.research.google.com/github/Angel-dash/Abstractive-Text-Summarization/blob/main/DL.ipynb\" target=\"_parent\"><img src=\"https://colab.research.google.com/assets/colab-badge.svg\" alt=\"Open In Colab\"/></a>"
      ]
    },
    {
      "cell_type": "markdown",
      "metadata": {
        "id": "kqAfNPhkHgS_"
      },
      "source": []
    },
    {
      "cell_type": "code",
      "execution_count": null,
      "metadata": {
        "colab": {
          "base_uri": "https://localhost:8080/"
        },
        "id": "MMJKxxgXOPT0",
        "outputId": "c02f9cce-4ea3-4597-9e26-1baa1df12558"
      },
      "outputs": [
        {
          "name": "stdout",
          "output_type": "stream",
          "text": [
            "Drive already mounted at /content/drive; to attempt to forcibly remount, call drive.mount(\"/content/drive\", force_remount=True).\n"
          ]
        }
      ],
      "source": [
        "from google.colab import drive\n",
        "drive.mount('/content/drive')\n"
      ]
    },
    {
      "cell_type": "code",
      "execution_count": null,
      "metadata": {
        "colab": {
          "background_save": true,
          "base_uri": "https://localhost:8080/"
        },
        "id": "NL040gAPOe6t",
        "outputId": "7bf84a6e-c2ac-441d-87c7-bdc742534bf3"
      },
      "outputs": [
        {
          "name": "stdout",
          "output_type": "stream",
          "text": [
            "Archive:  /content/drive/MyDrive/MiniProjectdata/data.zip\n",
            "replace cnn_dailymail/test.csv? [y]es, [n]o, [A]ll, [N]one, [r]ename: "
          ]
        }
      ],
      "source": [
        "!unzip /content/drive/MyDrive/MiniProjectdata/data.zip\n"
      ]
    },
    {
      "cell_type": "code",
      "execution_count": null,
      "metadata": {
        "id": "fHunr2RhP2pd"
      },
      "outputs": [],
      "source": [
        "import numpy as np\n",
        "import pandas as pd\n",
        "import re\n",
        "from bs4 import BeautifulSoup\n",
        "from tensorflow.keras.preprocessing.text import Tokenizer\n",
        "from tensorflow.keras.preprocessing.sequence import pad_sequences\n",
        "from nltk.corpus import stopwords\n",
        "from tensorflow.keras.layers import Input, LSTM, Embedding, Dense, Concatenate, TimeDistributed, Bidirectional\n",
        "from tensorflow.keras.models import Model\n",
        "from tensorflow.keras.callbacks import EarlyStopping\n",
        "import warnings\n",
        "pd.set_option(\"display.max_colwidth\", 200)\n",
        "warnings.filterwarnings(\"ignore\")\n",
        "import textwrap\n",
        "import nltk\n",
        "nltk.download('stopwords')"
      ]
    },
    {
      "cell_type": "code",
      "execution_count": null,
      "metadata": {
        "id": "_4YwYIe7hQmt"
      },
      "outputs": [],
      "source": [
        "data_train=pd.read_csv('/content/cnn_dailymail/train.csv')\n",
        "data_test=pd.read_csv('/content/cnn_dailymail/test.csv')\n",
        "data_validation=pd.read_csv('/content/cnn_dailymail/validation.csv')"
      ]
    },
    {
      "cell_type": "markdown",
      "metadata": {
        "id": "zQJdiWCJoIaM"
      },
      "source": [
        "Data preprocessing"
      ]
    },
    {
      "cell_type": "code",
      "execution_count": null,
      "metadata": {
        "id": "bjaSvOGej9gg"
      },
      "outputs": [],
      "source": [
        "data_train.head(3)"
      ]
    },
    {
      "cell_type": "code",
      "execution_count": null,
      "metadata": {
        "id": "uhS4-P39kULT"
      },
      "outputs": [],
      "source": [
        "data = pd.concat([data_train, data_test, data_validation ])\n",
        "train_df = data"
      ]
    },
    {
      "cell_type": "code",
      "execution_count": null,
      "metadata": {
        "id": "B4gMsVvVmV_b"
      },
      "outputs": [],
      "source": [
        "train_df.shape"
      ]
    },
    {
      "cell_type": "code",
      "execution_count": null,
      "metadata": {
        "id": "3dPq1VoEmYMF"
      },
      "outputs": [],
      "source": [
        "sample=data_train.sample()\n",
        "print(\"****Article****\")\n",
        "print(sample.article.values)\n",
        "print('****Highlights****')\n",
        "print(sample.highlights.values)"
      ]
    },
    {
      "cell_type": "markdown",
      "metadata": {
        "id": "A8f0fplPn7FV"
      },
      "source": [
        "Checking for Null values\n"
      ]
    },
    {
      "cell_type": "code",
      "execution_count": null,
      "metadata": {
        "id": "-rj60r4FmswB"
      },
      "outputs": [],
      "source": [
        "data_train.isna().sum()"
      ]
    },
    {
      "cell_type": "markdown",
      "metadata": {
        "id": "uGY2KQtMoDkM"
      },
      "source": [
        "Checking for duplicates\n"
      ]
    },
    {
      "cell_type": "code",
      "execution_count": null,
      "metadata": {
        "id": "kHMVZot0n4uD"
      },
      "outputs": [],
      "source": [
        "data_train.duplicated(subset=['article','highlights']).sum()"
      ]
    },
    {
      "cell_type": "code",
      "execution_count": null,
      "metadata": {
        "id": "QVHFFfmwoZZT"
      },
      "outputs": [],
      "source": [
        "data_train=data_train.drop_duplicates(subset=['article','highlights'])\n",
        "data_train.shape"
      ]
    },
    {
      "cell_type": "code",
      "execution_count": null,
      "metadata": {
        "id": "vDaWneCvo12o"
      },
      "outputs": [],
      "source": [
        "data_train.duplicated(subset=['article','highlights']).sum()"
      ]
    },
    {
      "cell_type": "code",
      "execution_count": null,
      "metadata": {
        "id": "T2EEiOeFKUgB"
      },
      "outputs": [],
      "source": [
        "data_train['article'][:10]"
      ]
    },
    {
      "cell_type": "code",
      "execution_count": null,
      "metadata": {
        "id": "yzd9n9H5LaX0"
      },
      "outputs": [],
      "source": [
        "data_train['article'] = data_train['article'].str.lower()\n",
        "data_train['highlights'] = data_train['highlights'].str.lower()\n",
        "\n",
        "data_train.head()"
      ]
    },
    {
      "cell_type": "code",
      "execution_count": null,
      "metadata": {
        "id": "-BWqXLjOS7DS"
      },
      "outputs": [],
      "source": [
        "data_train['article']=data_train['article'].str.lower()\n",
        "\n",
        "data_train['highlights']=data_train['highlights'].str.lower()"
      ]
    },
    {
      "cell_type": "markdown",
      "metadata": {
        "id": "60oRsNGfvm5_"
      },
      "source": [
        "Converting to lower case"
      ]
    },
    {
      "cell_type": "code",
      "execution_count": null,
      "metadata": {
        "id": "H0xN7npXoA3o"
      },
      "outputs": [],
      "source": [
        "data_train.head()"
      ]
    },
    {
      "cell_type": "code",
      "execution_count": null,
      "metadata": {
        "id": "XQn0v0i6vwme"
      },
      "outputs": [],
      "source": [
        "#removing html tags\n",
        "import re\n",
        "def remove_html_tags(text):\n",
        "    if isinstance(text, str):\n",
        "        pattern = re.compile('<.*?>')\n",
        "        return pattern.sub(r'', text)\n",
        "    else:\n",
        "        return text"
      ]
    },
    {
      "cell_type": "code",
      "execution_count": null,
      "metadata": {
        "id": "KVJUffPswJw3"
      },
      "outputs": [],
      "source": [
        "data_train['article'] = data_train['article'].apply(remove_html_tags)\n",
        "\n",
        "data_train['highlights'] = data_train['highlights'].apply(remove_html_tags)"
      ]
    },
    {
      "cell_type": "code",
      "execution_count": null,
      "metadata": {
        "id": "r6JZJuYywQCY"
      },
      "outputs": [],
      "source": [
        "data_train.head()"
      ]
    },
    {
      "cell_type": "code",
      "execution_count": null,
      "metadata": {
        "id": "TaKdy7PHwUtP"
      },
      "outputs": [],
      "source": [
        "#removing punchuation\n",
        "\n",
        "\n",
        "import string\n",
        "string.punctuation\n",
        "exclude = string.punctuation\n",
        "def remove_punc(text):\n",
        "    if isinstance(text, str):\n",
        "        return ''.join(ch for ch in text if ch not in exclude)\n",
        "    else:\n",
        "        return str(text)  # Convert non-string data to string"
      ]
    },
    {
      "cell_type": "code",
      "execution_count": null,
      "metadata": {
        "colab": {
          "background_save": true
        },
        "id": "s-EUZ33swfy1"
      },
      "outputs": [],
      "source": [
        "data_train['article'] = data_train['article'].apply(remove_punc)\n",
        "\n",
        "data_train['highlights'] = data_train['highlights'].apply(remove_punc)"
      ]
    },
    {
      "cell_type": "code",
      "execution_count": null,
      "metadata": {
        "colab": {
          "background_save": true
        },
        "id": "N2jk9WjfwkZI"
      },
      "outputs": [],
      "source": [
        "from nltk.corpus import stopwords\n",
        "stopwords=stopwords.words(\"english\")\n",
        "print(stopwords)"
      ]
    },
    {
      "cell_type": "code",
      "execution_count": null,
      "metadata": {
        "colab": {
          "background_save": true
        },
        "id": "wjYAbVnK3wiN"
      },
      "outputs": [],
      "source": [
        "!pip install contractions\n"
      ]
    },
    {
      "cell_type": "code",
      "execution_count": null,
      "metadata": {
        "colab": {
          "background_save": true
        },
        "id": "G8lV_x1b4zSS"
      },
      "outputs": [],
      "source": [
        "def re_clean(text):\n",
        "    import re\n",
        "    text = re.sub(r'https?:\\/\\/.*[\\r\\n]*', ' ', text, flags=re.MULTILINE)\n",
        "    text = re.sub(r'\\<a href', ' ', text)\n",
        "    text = re.sub(r'&amp;', ' ', text)\n",
        "    text = re.sub(r'[_\\-;%()|+&=*%:#$@\\[\\]/]', ' ', text)\n",
        "    text = re.sub(r'<br />', ' ', text)\n",
        "    text = re.sub(r'\\'', ' ', text)\n",
        "    text=re.sub(r'\\n',' ',text)\n",
        "    text=re.sub(' est ',' ',text)\n",
        "    text=re.sub(r'[?!]','.',text)\n",
        "    return text\n",
        "#used to expand contractions\n",
        "def expand(text):\n",
        "    import contractions\n",
        "    text=text.split()\n",
        "    final=[]\n",
        "    for word in text:\n",
        "        try:\n",
        "            final.append(contractions.fix(word)+\" \")\n",
        "        except:\n",
        "            final.append(word+\" \")\n",
        "            print(word)\n",
        "    return \"\".join(final)\n",
        "def remove(texts):\n",
        "    final=[]\n",
        "    for text in texts:\n",
        "        sents=[]\n",
        "        sentences=text.split(\".\")\n",
        "        for sentence in sentences:\n",
        "            if(len(sentence.split())>=5):\n",
        "                sents.append(sentence+\".\")\n",
        "        final.append(\"\".join(sents))\n",
        "    return final\n",
        "def removeTag(texts):\n",
        "    final=[]\n",
        "    #removing cnn and est\n",
        "    for text in texts:\n",
        "        cnn=text.find(\"cnn\")\n",
        "        if(cnn!=-1 and cnn<len(text)//10):\n",
        "            text=text[cnn+3:]\n",
        "        found=False\n",
        "        for i in range(2):\n",
        "            est=text.find(\" est,\")\n",
        "            if(est<len(text)//5 and est!=-1):\n",
        "                text=text[est+5:]\n",
        "                found=True\n",
        "        fs=text.find(\".\")\n",
        "        if(fs<20 and fs!=-1 and found):\n",
        "            text=text[fs:]\n",
        "        final.append(text)\n",
        "    return final"
      ]
    },
    {
      "cell_type": "code",
      "execution_count": null,
      "metadata": {
        "colab": {
          "background_save": true
        },
        "id": "5-tyQuxB-j-N"
      },
      "outputs": [],
      "source": [
        "texts=data_train.iloc[:,1]"
      ]
    },
    {
      "cell_type": "code",
      "execution_count": null,
      "metadata": {
        "colab": {
          "background_save": true
        },
        "id": "4aG_pz82-vdi"
      },
      "outputs": [],
      "source": [
        "new_texts=[]\n",
        "for i in texts:\n",
        "    new_texts.append(expand(re_clean(i)).lower())\n",
        "finalcleaned=removeTag(remove(new_texts))"
      ]
    },
    {
      "cell_type": "code",
      "execution_count": null,
      "metadata": {
        "colab": {
          "background_save": true
        },
        "id": "GN2LA6uL-zHc"
      },
      "outputs": [],
      "source": [
        "summaries=data_train.iloc[:,2]"
      ]
    },
    {
      "cell_type": "code",
      "execution_count": null,
      "metadata": {
        "id": "QnBuZRyX-_E7"
      },
      "outputs": [],
      "source": [
        "new_summaries=[]\n",
        "for i in summaries:\n",
        "    new_summaries.append(expand(re_clean(i)).lower())"
      ]
    },
    {
      "cell_type": "code",
      "execution_count": null,
      "metadata": {
        "id": "HakAWpMP_Ber"
      },
      "outputs": [],
      "source": [
        "newdf=pd.DataFrame()\n",
        "newdf[\"Texts\"]=finalcleaned\n",
        "newdf[\"Summaries\"]=new_summaries"
      ]
    },
    {
      "cell_type": "code",
      "execution_count": null,
      "metadata": {
        "id": "T5i_Ocbh_InI"
      },
      "outputs": [],
      "source": [
        "newdf.to_csv(\"Cleaned.csv\")"
      ]
    },
    {
      "cell_type": "code",
      "execution_count": null,
      "metadata": {
        "id": "YEmgwZ28_JCC"
      },
      "outputs": [],
      "source": [
        "newdf"
      ]
    },
    {
      "cell_type": "code",
      "execution_count": null,
      "metadata": {
        "id": "2KvGTGqw_K8F"
      },
      "outputs": [],
      "source": [
        "def words(texts):\n",
        "    import re\n",
        "    setofwords=set()\n",
        "    for text in texts:\n",
        "        text=re.sub(r'[.,]',' ',text)\n",
        "        words=text.split()\n",
        "        for word in words:\n",
        "            setofwords.add(word)\n",
        "    return setofwords\n",
        "swords=words(finalcleaned)"
      ]
    },
    {
      "cell_type": "code",
      "execution_count": null,
      "metadata": {
        "id": "cQfWt3mo_QIR"
      },
      "outputs": [],
      "source": []
    }
  ],
  "metadata": {
    "accelerator": "TPU",
    "colab": {
      "provenance": [],
      "authorship_tag": "ABX9TyMwWvDk81UrF6AhWIdI1iES",
      "include_colab_link": true
    },
    "kernelspec": {
      "display_name": "Python 3",
      "name": "python3"
    },
    "language_info": {
      "name": "python"
    }
  },
  "nbformat": 4,
  "nbformat_minor": 0
}