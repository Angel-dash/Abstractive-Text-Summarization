{
  "cells": [
    {
      "cell_type": "markdown",
      "metadata": {
        "id": "view-in-github",
        "colab_type": "text"
      },
      "source": [
        "<a href=\"https://colab.research.google.com/github/Angel-dash/Abstractive-Text-Summarization/blob/main/DL.ipynb\" target=\"_parent\"><img src=\"https://colab.research.google.com/assets/colab-badge.svg\" alt=\"Open In Colab\"/></a>"
      ]
    },
    {
      "cell_type": "markdown",
      "metadata": {
        "id": "kqAfNPhkHgS_"
      },
      "source": []
    },
    {
      "cell_type": "code",
      "execution_count": 1,
      "metadata": {
        "colab": {
          "base_uri": "https://localhost:8080/"
        },
        "id": "MMJKxxgXOPT0",
        "outputId": "a8686ed3-4bdd-4547-a225-5bbc068aad19"
      },
      "outputs": [
        {
          "output_type": "stream",
          "name": "stdout",
          "text": [
            "Mounted at /content/drive\n"
          ]
        }
      ],
      "source": [
        "from google.colab import drive\n",
        "drive.mount('/content/drive')\n"
      ]
    },
    {
      "cell_type": "code",
      "execution_count": 2,
      "metadata": {
        "colab": {
          "base_uri": "https://localhost:8080/"
        },
        "id": "NL040gAPOe6t",
        "outputId": "52e81fe9-0997-409c-bc39-906ebc28a287"
      },
      "outputs": [
        {
          "output_type": "stream",
          "name": "stdout",
          "text": [
            "Archive:  /content/drive/MyDrive/MiniProjectdata/data.zip\n",
            "  inflating: cnn_dailymail/test.csv  \n",
            "  inflating: cnn_dailymail/train.csv  \n",
            "  inflating: cnn_dailymail/validation.csv  \n"
          ]
        }
      ],
      "source": [
        "!unzip /content/drive/MyDrive/MiniProjectdata/data.zip\n"
      ]
    },
    {
      "cell_type": "code",
      "execution_count": 3,
      "metadata": {
        "id": "fHunr2RhP2pd",
        "colab": {
          "base_uri": "https://localhost:8080/"
        },
        "outputId": "09723696-1f73-4a8d-d915-31525868aca7"
      },
      "outputs": [
        {
          "output_type": "stream",
          "name": "stderr",
          "text": [
            "[nltk_data] Downloading package stopwords to /root/nltk_data...\n",
            "[nltk_data]   Unzipping corpora/stopwords.zip.\n"
          ]
        },
        {
          "output_type": "execute_result",
          "data": {
            "text/plain": [
              "True"
            ]
          },
          "metadata": {},
          "execution_count": 3
        }
      ],
      "source": [
        "import numpy as np\n",
        "import pandas as pd\n",
        "import re\n",
        "from bs4 import BeautifulSoup\n",
        "from tensorflow.keras.preprocessing.text import Tokenizer\n",
        "from tensorflow.keras.preprocessing.sequence import pad_sequences\n",
        "from nltk.corpus import stopwords\n",
        "from tensorflow.keras.layers import Input, LSTM, Embedding, Dense, Concatenate, TimeDistributed, Bidirectional\n",
        "from tensorflow.keras.models import Model\n",
        "from tensorflow.keras.callbacks import EarlyStopping\n",
        "import warnings\n",
        "pd.set_option(\"display.max_colwidth\", 200)\n",
        "warnings.filterwarnings(\"ignore\")\n",
        "import textwrap\n",
        "import nltk\n",
        "nltk.download('stopwords')"
      ]
    },
    {
      "cell_type": "code",
      "execution_count": 4,
      "metadata": {
        "id": "_4YwYIe7hQmt"
      },
      "outputs": [],
      "source": [
        "data_train=pd.read_csv('/content/cnn_dailymail/train.csv')\n",
        "data_test=pd.read_csv('/content/cnn_dailymail/test.csv')\n",
        "data_validation=pd.read_csv('/content/cnn_dailymail/validation.csv')"
      ]
    },
    {
      "cell_type": "markdown",
      "metadata": {
        "id": "zQJdiWCJoIaM"
      },
      "source": [
        "Data preprocessing"
      ]
    },
    {
      "cell_type": "code",
      "execution_count": 5,
      "metadata": {
        "id": "uhS4-P39kULT"
      },
      "outputs": [],
      "source": [
        "data = pd.concat([data_train, data_test, data_validation ])\n",
        "df = data"
      ]
    },
    {
      "cell_type": "code",
      "source": [
        "new_df=df.sample(75000)"
      ],
      "metadata": {
        "id": "ibu0t1QjvoVk"
      },
      "execution_count": 6,
      "outputs": []
    },
    {
      "cell_type": "code",
      "execution_count": 7,
      "metadata": {
        "id": "bjaSvOGej9gg",
        "colab": {
          "base_uri": "https://localhost:8080/",
          "height": 421
        },
        "outputId": "67cef61f-f783-4c66-a07b-088afd1a4183"
      },
      "outputs": [
        {
          "output_type": "execute_result",
          "data": {
            "text/plain": [
              "                                              id  \\\n",
              "237847  bfdad69e453b1170d74a81b34787efb3c99a0a53   \n",
              "111408  1ba691af7453d82294d124b0f2d6ac3b85f4e524   \n",
              "285878  fe693322187d83dc154628344ca3f9579e6d7c3b   \n",
              "\n",
              "                                                                                                                                                                                                        article  \\\n",
              "237847  By . Ian Drury . PUBLISHED: . 22:35 EST, 11 November 2012 . | . UPDATED: . 02:51 EST, 13 November 2012 . A British Army officer who was shot dead by an Afghan soldier as he played in a Remembrance...   \n",
              "111408  By . Suzannah Hills . PUBLISHED: . 14:05 EST, 1 October 2013 . | . UPDATED: . 05:33 EST, 2 October 2013 . Drug mules Michaella McCollum and Melissa Reid are in brilliant health in a modern well-eq...   \n",
              "285878  Washington (CNN) -- On a typical Monday morning, lines of travelers heading toward the security checkpoint at Washington's Reagan National Airport snake past a sign that reads: \"Not much longer. 2...   \n",
              "\n",
              "                                                                                                                                                                                                     highlights  \n",
              "237847  Captain Walter Barrie, 41, died after a rogue soldier hit him during the game .\\nWife and fellow soldiers pay tribute to a 'great man' who was 'approachable and compassionate'\\nBritish forces hold...  \n",
              "111408  Father Maurice Foley visits Michaella McCollum and Melissa Reid at new jail .\\nBoth women appeared at private court hearing at Sarita Colonia del Callao .\\nThey appeared to have new clothes and Mc...  \n",
              "285878  NEW: Two Air Force bases cancel air shows, citing budget cuts and sequestration .\\nLooming cuts in spending could reduce services, impact the military, teachers, border patrols .\\nSome Republicans...  "
            ],
            "text/html": [
              "\n",
              "  <div id=\"df-de5522c4-9b46-4da6-a78c-fe5f07a5b164\" class=\"colab-df-container\">\n",
              "    <div>\n",
              "<style scoped>\n",
              "    .dataframe tbody tr th:only-of-type {\n",
              "        vertical-align: middle;\n",
              "    }\n",
              "\n",
              "    .dataframe tbody tr th {\n",
              "        vertical-align: top;\n",
              "    }\n",
              "\n",
              "    .dataframe thead th {\n",
              "        text-align: right;\n",
              "    }\n",
              "</style>\n",
              "<table border=\"1\" class=\"dataframe\">\n",
              "  <thead>\n",
              "    <tr style=\"text-align: right;\">\n",
              "      <th></th>\n",
              "      <th>id</th>\n",
              "      <th>article</th>\n",
              "      <th>highlights</th>\n",
              "    </tr>\n",
              "  </thead>\n",
              "  <tbody>\n",
              "    <tr>\n",
              "      <th>237847</th>\n",
              "      <td>bfdad69e453b1170d74a81b34787efb3c99a0a53</td>\n",
              "      <td>By . Ian Drury . PUBLISHED: . 22:35 EST, 11 November 2012 . | . UPDATED: . 02:51 EST, 13 November 2012 . A British Army officer who was shot dead by an Afghan soldier as he played in a Remembrance...</td>\n",
              "      <td>Captain Walter Barrie, 41, died after a rogue soldier hit him during the game .\\nWife and fellow soldiers pay tribute to a 'great man' who was 'approachable and compassionate'\\nBritish forces hold...</td>\n",
              "    </tr>\n",
              "    <tr>\n",
              "      <th>111408</th>\n",
              "      <td>1ba691af7453d82294d124b0f2d6ac3b85f4e524</td>\n",
              "      <td>By . Suzannah Hills . PUBLISHED: . 14:05 EST, 1 October 2013 . | . UPDATED: . 05:33 EST, 2 October 2013 . Drug mules Michaella McCollum and Melissa Reid are in brilliant health in a modern well-eq...</td>\n",
              "      <td>Father Maurice Foley visits Michaella McCollum and Melissa Reid at new jail .\\nBoth women appeared at private court hearing at Sarita Colonia del Callao .\\nThey appeared to have new clothes and Mc...</td>\n",
              "    </tr>\n",
              "    <tr>\n",
              "      <th>285878</th>\n",
              "      <td>fe693322187d83dc154628344ca3f9579e6d7c3b</td>\n",
              "      <td>Washington (CNN) -- On a typical Monday morning, lines of travelers heading toward the security checkpoint at Washington's Reagan National Airport snake past a sign that reads: \"Not much longer. 2...</td>\n",
              "      <td>NEW: Two Air Force bases cancel air shows, citing budget cuts and sequestration .\\nLooming cuts in spending could reduce services, impact the military, teachers, border patrols .\\nSome Republicans...</td>\n",
              "    </tr>\n",
              "  </tbody>\n",
              "</table>\n",
              "</div>\n",
              "    <div class=\"colab-df-buttons\">\n",
              "\n",
              "  <div class=\"colab-df-container\">\n",
              "    <button class=\"colab-df-convert\" onclick=\"convertToInteractive('df-de5522c4-9b46-4da6-a78c-fe5f07a5b164')\"\n",
              "            title=\"Convert this dataframe to an interactive table.\"\n",
              "            style=\"display:none;\">\n",
              "\n",
              "  <svg xmlns=\"http://www.w3.org/2000/svg\" height=\"24px\" viewBox=\"0 -960 960 960\">\n",
              "    <path d=\"M120-120v-720h720v720H120Zm60-500h600v-160H180v160Zm220 220h160v-160H400v160Zm0 220h160v-160H400v160ZM180-400h160v-160H180v160Zm440 0h160v-160H620v160ZM180-180h160v-160H180v160Zm440 0h160v-160H620v160Z\"/>\n",
              "  </svg>\n",
              "    </button>\n",
              "\n",
              "  <style>\n",
              "    .colab-df-container {\n",
              "      display:flex;\n",
              "      gap: 12px;\n",
              "    }\n",
              "\n",
              "    .colab-df-convert {\n",
              "      background-color: #E8F0FE;\n",
              "      border: none;\n",
              "      border-radius: 50%;\n",
              "      cursor: pointer;\n",
              "      display: none;\n",
              "      fill: #1967D2;\n",
              "      height: 32px;\n",
              "      padding: 0 0 0 0;\n",
              "      width: 32px;\n",
              "    }\n",
              "\n",
              "    .colab-df-convert:hover {\n",
              "      background-color: #E2EBFA;\n",
              "      box-shadow: 0px 1px 2px rgba(60, 64, 67, 0.3), 0px 1px 3px 1px rgba(60, 64, 67, 0.15);\n",
              "      fill: #174EA6;\n",
              "    }\n",
              "\n",
              "    .colab-df-buttons div {\n",
              "      margin-bottom: 4px;\n",
              "    }\n",
              "\n",
              "    [theme=dark] .colab-df-convert {\n",
              "      background-color: #3B4455;\n",
              "      fill: #D2E3FC;\n",
              "    }\n",
              "\n",
              "    [theme=dark] .colab-df-convert:hover {\n",
              "      background-color: #434B5C;\n",
              "      box-shadow: 0px 1px 3px 1px rgba(0, 0, 0, 0.15);\n",
              "      filter: drop-shadow(0px 1px 2px rgba(0, 0, 0, 0.3));\n",
              "      fill: #FFFFFF;\n",
              "    }\n",
              "  </style>\n",
              "\n",
              "    <script>\n",
              "      const buttonEl =\n",
              "        document.querySelector('#df-de5522c4-9b46-4da6-a78c-fe5f07a5b164 button.colab-df-convert');\n",
              "      buttonEl.style.display =\n",
              "        google.colab.kernel.accessAllowed ? 'block' : 'none';\n",
              "\n",
              "      async function convertToInteractive(key) {\n",
              "        const element = document.querySelector('#df-de5522c4-9b46-4da6-a78c-fe5f07a5b164');\n",
              "        const dataTable =\n",
              "          await google.colab.kernel.invokeFunction('convertToInteractive',\n",
              "                                                    [key], {});\n",
              "        if (!dataTable) return;\n",
              "\n",
              "        const docLinkHtml = 'Like what you see? Visit the ' +\n",
              "          '<a target=\"_blank\" href=https://colab.research.google.com/notebooks/data_table.ipynb>data table notebook</a>'\n",
              "          + ' to learn more about interactive tables.';\n",
              "        element.innerHTML = '';\n",
              "        dataTable['output_type'] = 'display_data';\n",
              "        await google.colab.output.renderOutput(dataTable, element);\n",
              "        const docLink = document.createElement('div');\n",
              "        docLink.innerHTML = docLinkHtml;\n",
              "        element.appendChild(docLink);\n",
              "      }\n",
              "    </script>\n",
              "  </div>\n",
              "\n",
              "\n",
              "<div id=\"df-efa1edda-3dd7-4212-8ef5-0fe8a0d47ac2\">\n",
              "  <button class=\"colab-df-quickchart\" onclick=\"quickchart('df-efa1edda-3dd7-4212-8ef5-0fe8a0d47ac2')\"\n",
              "            title=\"Suggest charts\"\n",
              "            style=\"display:none;\">\n",
              "\n",
              "<svg xmlns=\"http://www.w3.org/2000/svg\" height=\"24px\"viewBox=\"0 0 24 24\"\n",
              "     width=\"24px\">\n",
              "    <g>\n",
              "        <path d=\"M19 3H5c-1.1 0-2 .9-2 2v14c0 1.1.9 2 2 2h14c1.1 0 2-.9 2-2V5c0-1.1-.9-2-2-2zM9 17H7v-7h2v7zm4 0h-2V7h2v10zm4 0h-2v-4h2v4z\"/>\n",
              "    </g>\n",
              "</svg>\n",
              "  </button>\n",
              "\n",
              "<style>\n",
              "  .colab-df-quickchart {\n",
              "      --bg-color: #E8F0FE;\n",
              "      --fill-color: #1967D2;\n",
              "      --hover-bg-color: #E2EBFA;\n",
              "      --hover-fill-color: #174EA6;\n",
              "      --disabled-fill-color: #AAA;\n",
              "      --disabled-bg-color: #DDD;\n",
              "  }\n",
              "\n",
              "  [theme=dark] .colab-df-quickchart {\n",
              "      --bg-color: #3B4455;\n",
              "      --fill-color: #D2E3FC;\n",
              "      --hover-bg-color: #434B5C;\n",
              "      --hover-fill-color: #FFFFFF;\n",
              "      --disabled-bg-color: #3B4455;\n",
              "      --disabled-fill-color: #666;\n",
              "  }\n",
              "\n",
              "  .colab-df-quickchart {\n",
              "    background-color: var(--bg-color);\n",
              "    border: none;\n",
              "    border-radius: 50%;\n",
              "    cursor: pointer;\n",
              "    display: none;\n",
              "    fill: var(--fill-color);\n",
              "    height: 32px;\n",
              "    padding: 0;\n",
              "    width: 32px;\n",
              "  }\n",
              "\n",
              "  .colab-df-quickchart:hover {\n",
              "    background-color: var(--hover-bg-color);\n",
              "    box-shadow: 0 1px 2px rgba(60, 64, 67, 0.3), 0 1px 3px 1px rgba(60, 64, 67, 0.15);\n",
              "    fill: var(--button-hover-fill-color);\n",
              "  }\n",
              "\n",
              "  .colab-df-quickchart-complete:disabled,\n",
              "  .colab-df-quickchart-complete:disabled:hover {\n",
              "    background-color: var(--disabled-bg-color);\n",
              "    fill: var(--disabled-fill-color);\n",
              "    box-shadow: none;\n",
              "  }\n",
              "\n",
              "  .colab-df-spinner {\n",
              "    border: 2px solid var(--fill-color);\n",
              "    border-color: transparent;\n",
              "    border-bottom-color: var(--fill-color);\n",
              "    animation:\n",
              "      spin 1s steps(1) infinite;\n",
              "  }\n",
              "\n",
              "  @keyframes spin {\n",
              "    0% {\n",
              "      border-color: transparent;\n",
              "      border-bottom-color: var(--fill-color);\n",
              "      border-left-color: var(--fill-color);\n",
              "    }\n",
              "    20% {\n",
              "      border-color: transparent;\n",
              "      border-left-color: var(--fill-color);\n",
              "      border-top-color: var(--fill-color);\n",
              "    }\n",
              "    30% {\n",
              "      border-color: transparent;\n",
              "      border-left-color: var(--fill-color);\n",
              "      border-top-color: var(--fill-color);\n",
              "      border-right-color: var(--fill-color);\n",
              "    }\n",
              "    40% {\n",
              "      border-color: transparent;\n",
              "      border-right-color: var(--fill-color);\n",
              "      border-top-color: var(--fill-color);\n",
              "    }\n",
              "    60% {\n",
              "      border-color: transparent;\n",
              "      border-right-color: var(--fill-color);\n",
              "    }\n",
              "    80% {\n",
              "      border-color: transparent;\n",
              "      border-right-color: var(--fill-color);\n",
              "      border-bottom-color: var(--fill-color);\n",
              "    }\n",
              "    90% {\n",
              "      border-color: transparent;\n",
              "      border-bottom-color: var(--fill-color);\n",
              "    }\n",
              "  }\n",
              "</style>\n",
              "\n",
              "  <script>\n",
              "    async function quickchart(key) {\n",
              "      const quickchartButtonEl =\n",
              "        document.querySelector('#' + key + ' button');\n",
              "      quickchartButtonEl.disabled = true;  // To prevent multiple clicks.\n",
              "      quickchartButtonEl.classList.add('colab-df-spinner');\n",
              "      try {\n",
              "        const charts = await google.colab.kernel.invokeFunction(\n",
              "            'suggestCharts', [key], {});\n",
              "      } catch (error) {\n",
              "        console.error('Error during call to suggestCharts:', error);\n",
              "      }\n",
              "      quickchartButtonEl.classList.remove('colab-df-spinner');\n",
              "      quickchartButtonEl.classList.add('colab-df-quickchart-complete');\n",
              "    }\n",
              "    (() => {\n",
              "      let quickchartButtonEl =\n",
              "        document.querySelector('#df-efa1edda-3dd7-4212-8ef5-0fe8a0d47ac2 button');\n",
              "      quickchartButtonEl.style.display =\n",
              "        google.colab.kernel.accessAllowed ? 'block' : 'none';\n",
              "    })();\n",
              "  </script>\n",
              "</div>\n",
              "    </div>\n",
              "  </div>\n"
            ]
          },
          "metadata": {},
          "execution_count": 7
        }
      ],
      "source": [
        "new_df.head(3)"
      ]
    },
    {
      "cell_type": "code",
      "execution_count": 8,
      "metadata": {
        "id": "B4gMsVvVmV_b",
        "colab": {
          "base_uri": "https://localhost:8080/"
        },
        "outputId": "eaa36030-5f91-462a-b803-f39e057b3bc1"
      },
      "outputs": [
        {
          "output_type": "execute_result",
          "data": {
            "text/plain": [
              "(75000, 3)"
            ]
          },
          "metadata": {},
          "execution_count": 8
        }
      ],
      "source": [
        "new_df.shape"
      ]
    },
    {
      "cell_type": "code",
      "execution_count": 9,
      "metadata": {
        "id": "3dPq1VoEmYMF",
        "colab": {
          "base_uri": "https://localhost:8080/"
        },
        "outputId": "33f6234d-dffd-41a8-8f68-13d172fdeb23"
      },
      "outputs": [
        {
          "output_type": "stream",
          "name": "stdout",
          "text": [
            "****Article****\n",
            "['London (CNN) -- With her glossy dark hair, exotic outfit and ruby-red pouting lips, she\\'s every inch the classic pin-up... except, that is, for that greenish-blue skin. And yet her image was every bit as popular, in its day, as those of the latest Hollywood starlets. She is the \"Chinese Girl,\" by Vladimir Tretchikoff, the Russian-born South African who became king of the kitsch portrait. In the 1950s and \\'60s, no self-respecting suburban home was fit to be seen without a print of her on the living room wall. At one point, the picture was reputed to be the most reproduced image in the world; on Wednesday, the original sold for almost $1.5 million (Â£982,050) at Bonhams auction house in London, far outstripping pre-sale estimates of $750,000. Speaking to CNN before the auction, Giles Peppiatt, director of South African art Bonhams said that the picture\\'s kitschy popular appeal \"isn\\'t necessarily a bad thing.\" \"It is an extraordinary image... and it certainly seems to have caught everyone\\'s eye. It is, I suppose, the \\'Mona Lisa\\' of kitsch, but it is a great work of art as well.\" Tretchikoff\\'s biographer, Boris Gorelik, says the picture was \"one of the most important pop culture icons\" of the mid-20th century; Peppiatt agrees, \"the word iconic is so often-used and almost debased now, but this really is an iconic image.\" The painter himself wrote that \"my heart and soul went into this painting,\" and whatever the secret, it was certainly a success. \"Millions of people -- perhaps your parents or grandparents -- bought a lithograph of the painting, hung it on their wall and admired it for years, if not decades,\" wrote Gorelik. \"Maybe you even grew up looking at it.\" While cheap copies of the picture flooded the globe, the original disappeared from view: Taken to the U.S. by Tretchikoff for a hugely successful tour in the 1950s, it was bought by a young fan, and hung in the family home, a world away from the art scene\\'s latest fads and fashions. The identity of the model for \"Chinese Girl\" was a mystery for decades, too. After she was eventually identified three years ago, CNN visited Monika Pon at home in Johannesburg. Now in her 70s, she explained how, as a teenager, she came to pose for the painting. \"My uncle had a laundry and I worked in the office. Tretchikoff used to pop in there every second week or so. He said to me, \\'Hello... I\\'m Tretchikoff... I would like to paint you, would you like to sit for me?\" But she said that although her image went on to feature in the homes of thousands of people around the world, modeling for the picture -- for which she was paid about $10 -- did little to change her life, much of which was spent in poverty during the Apartheid era. \"He wasn\\'t famous. People hardly knew him,\" she said, adding that she was no fan of the finished work: \"Ugh, green face... Why is my face green?\" Cabaret artist Tricity Vogue, whose entire stage show is based on the \"Blue Lady\" of Tretchikoff\\'s painting, said it was a \"dream come true\" to come face-to-face with her muse in London this week, ahead of the sale. \"She\\'s been a constant in my life for so many years, but I didn\\'t think I would ever get to see her in person,\" she told CNN. \"When I was doing my research, I read that she was lost, possibly even destroyed.\" Peppiatt said the first version of \"Chinese Girl\" was indeed believed to have been ruined -- possibly by one of his enemies on the South African art scene, a world which disapproved of his decision to sell paintings through department stores, rather than galleries. \"Tretchikoff had a lot of antagonism towards him... and just before he set off to the U.S., a lot of his paintings were slashed. One of them was the \\'Chinese Girl.\\' \"He repainted a new version of it, and this is... the famous version, the one from which all the prints were made, and the one everyone knows. The first one, no-one even knows what it looked like.\" Several other, lesser-known Tretchikoff pieces, including \"Balinese Dancer\" and \"Lady with Crayfish\" are also set to go under the hammer in the sale. There has been a massive renewal of interest in the artist\\'s work since a major retrospective of his work at the South African National Gallery two years ago -- the first time \"Chinese Girl\" had been seen in public since its sale some 60 years before. \"Prior to that, he was perhaps regarded as a bit of a joke,\" Peppiatt said, but the show \"brought him back into the mainstream\" and meant he could take his place alongside other international artists. \"Art is so subjective,\" he explained. \"Some people love it, some people loathe it, but that would be the same of any work of art, be it a Van Gogh, a Titian or a Tretchikoff.\" Whether the artist deserves to be mentioned in the same sentence as the long-time stars of the art world is a matter of personal taste, but the sale of \"Chinese Girl\" appears to have cemented his reputation as a commercial, if not critical, success.']\n",
            "****Highlights****\n",
            "[\"'Chinese Girl' by Russian-South African artist Vladimir Tretchikoff sells for $1.5m .\\nPainting of woman with blue-green face is reputed to be world's most reproduced print .\\n'One of the most important pop culture icons... in the 1950s to early 1960s'\\nWork was one of seven Tretchikoff pictures in Bonhams' London sale of South African art .\"]\n"
          ]
        }
      ],
      "source": [
        "sample=new_df.sample()\n",
        "print(\"****Article****\")\n",
        "print(sample.article.values)\n",
        "print('****Highlights****')\n",
        "print(sample.highlights.values)"
      ]
    },
    {
      "cell_type": "markdown",
      "metadata": {
        "id": "A8f0fplPn7FV"
      },
      "source": [
        "Checking for Null values\n"
      ]
    },
    {
      "cell_type": "code",
      "execution_count": 10,
      "metadata": {
        "id": "-rj60r4FmswB",
        "colab": {
          "base_uri": "https://localhost:8080/"
        },
        "outputId": "91d1ba4e-1e7a-4dbb-d7ff-23d24bc50dd1"
      },
      "outputs": [
        {
          "output_type": "execute_result",
          "data": {
            "text/plain": [
              "id            0\n",
              "article       0\n",
              "highlights    0\n",
              "dtype: int64"
            ]
          },
          "metadata": {},
          "execution_count": 10
        }
      ],
      "source": [
        "new_df.isna().sum()"
      ]
    },
    {
      "cell_type": "markdown",
      "metadata": {
        "id": "uGY2KQtMoDkM"
      },
      "source": [
        "Checking for duplicates\n"
      ]
    },
    {
      "cell_type": "code",
      "execution_count": 11,
      "metadata": {
        "id": "kHMVZot0n4uD",
        "colab": {
          "base_uri": "https://localhost:8080/"
        },
        "outputId": "4a4d34b1-9600-415f-a6aa-7f783a6afc71"
      },
      "outputs": [
        {
          "output_type": "execute_result",
          "data": {
            "text/plain": [
              "176"
            ]
          },
          "metadata": {},
          "execution_count": 11
        }
      ],
      "source": [
        "new_df.duplicated(subset=['article','highlights']).sum()"
      ]
    },
    {
      "cell_type": "code",
      "execution_count": 12,
      "metadata": {
        "id": "QVHFFfmwoZZT",
        "colab": {
          "base_uri": "https://localhost:8080/"
        },
        "outputId": "b507a79b-ad53-4c9a-8875-67b9e6f09f8e"
      },
      "outputs": [
        {
          "output_type": "execute_result",
          "data": {
            "text/plain": [
              "(74824, 3)"
            ]
          },
          "metadata": {},
          "execution_count": 12
        }
      ],
      "source": [
        "new_df=new_df.drop_duplicates(subset=['article','highlights'])\n",
        "new_df.shape"
      ]
    },
    {
      "cell_type": "code",
      "execution_count": 13,
      "metadata": {
        "id": "vDaWneCvo12o",
        "colab": {
          "base_uri": "https://localhost:8080/"
        },
        "outputId": "0fd24dde-00d9-4577-bc7a-fb59bbf12ec8"
      },
      "outputs": [
        {
          "output_type": "execute_result",
          "data": {
            "text/plain": [
              "0"
            ]
          },
          "metadata": {},
          "execution_count": 13
        }
      ],
      "source": [
        "new_df.duplicated(subset=['article','highlights']).sum()"
      ]
    },
    {
      "cell_type": "code",
      "execution_count": 14,
      "metadata": {
        "id": "T2EEiOeFKUgB",
        "colab": {
          "base_uri": "https://localhost:8080/"
        },
        "outputId": "222ee3e6-6cf0-428d-d4ee-2d0233a5e09a"
      },
      "outputs": [
        {
          "output_type": "execute_result",
          "data": {
            "text/plain": [
              "237847    By . Ian Drury . PUBLISHED: . 22:35 EST, 11 November 2012 . | . UPDATED: . 02:51 EST, 13 November 2012 . A British Army officer who was shot dead by an Afghan soldier as he played in a Remembrance...\n",
              "111408    By . Suzannah Hills . PUBLISHED: . 14:05 EST, 1 October 2013 . | . UPDATED: . 05:33 EST, 2 October 2013 . Drug mules Michaella McCollum and Melissa Reid are in brilliant health in a modern well-eq...\n",
              "285878    Washington (CNN) -- On a typical Monday morning, lines of travelers heading toward the security checkpoint at Washington's Reagan National Airport snake past a sign that reads: \"Not much longer. 2...\n",
              "38802     Emilie Livingston may have been launched into the limelight after marrying Jeff Goldblum earlier this month, but the newlywed is also famous in her own right. The 31-year-old from Toronto has quit...\n",
              "135626    Berlin (CNN) -- Pope Benedict XVI met Friday with a group of people who had been sexually abused by clergy in his native Germany, where disenchantment with the Roman Catholic Church has grown in t...\n",
              "228053    By . Associated Press . Last updated at 1:12 PM on 24th November 2011 . John Kitzhaber has suspended the death penalty for the remainder of his term . Oregon Governor John Kitzhaber yesterday susp...\n",
              "242743    Jerusalem (CNN) -- A court fined former Israeli Prime Minister Ehud Olmert and gave him a one-year suspended jail sentence Monday, more than two months after he was found guilty of breach of trust...\n",
              "5816      (CNN) -- China is facing its worst wave of labour unrest since a series of wildcat strikes at Japanese-owned car plants last year, as declining export orders force factories to reduce worker pay. ...\n",
              "10347     (CNN)There's an old saying which states the Cape Verde Islands are home to a greater number of musicians per square kilometer than any other country in the world. In truth, such a definitive claim...\n",
              "128133    By . Victoria Woollaston . PUBLISHED: . 09:29 EST, 24 October 2013 . | . UPDATED: . 09:37 EST, 24 October 2013 . The days of waiting for eBay sellers to post your purchases, and making sure you're...\n",
              "Name: article, dtype: object"
            ]
          },
          "metadata": {},
          "execution_count": 14
        }
      ],
      "source": [
        "new_df['article'][:10]"
      ]
    },
    {
      "cell_type": "code",
      "execution_count": 15,
      "metadata": {
        "id": "yzd9n9H5LaX0",
        "colab": {
          "base_uri": "https://localhost:8080/",
          "height": 640
        },
        "outputId": "dcd4ff01-fe5b-4220-ad98-e9375d5430b7"
      },
      "outputs": [
        {
          "output_type": "execute_result",
          "data": {
            "text/plain": [
              "                                              id  \\\n",
              "237847  bfdad69e453b1170d74a81b34787efb3c99a0a53   \n",
              "111408  1ba691af7453d82294d124b0f2d6ac3b85f4e524   \n",
              "285878  fe693322187d83dc154628344ca3f9579e6d7c3b   \n",
              "38802   6dacc8a07a994febb00f50d4e4ebab1b9b0a9e38   \n",
              "135626  3b791e59d020a5feebfbc0aa9f549c87eb2584ce   \n",
              "\n",
              "                                                                                                                                                                                                        article  \\\n",
              "237847  by . ian drury . published: . 22:35 est, 11 november 2012 . | . updated: . 02:51 est, 13 november 2012 . a british army officer who was shot dead by an afghan soldier as he played in a remembrance...   \n",
              "111408  by . suzannah hills . published: . 14:05 est, 1 october 2013 . | . updated: . 05:33 est, 2 october 2013 . drug mules michaella mccollum and melissa reid are in brilliant health in a modern well-eq...   \n",
              "285878  washington (cnn) -- on a typical monday morning, lines of travelers heading toward the security checkpoint at washington's reagan national airport snake past a sign that reads: \"not much longer. 2...   \n",
              "38802   emilie livingston may have been launched into the limelight after marrying jeff goldblum earlier this month, but the newlywed is also famous in her own right. the 31-year-old from toronto has quit...   \n",
              "135626  berlin (cnn) -- pope benedict xvi met friday with a group of people who had been sexually abused by clergy in his native germany, where disenchantment with the roman catholic church has grown in t...   \n",
              "\n",
              "                                                                                                                                                                                                     highlights  \n",
              "237847  captain walter barrie, 41, died after a rogue soldier hit him during the game .\\nwife and fellow soldiers pay tribute to a 'great man' who was 'approachable and compassionate'\\nbritish forces hold...  \n",
              "111408  father maurice foley visits michaella mccollum and melissa reid at new jail .\\nboth women appeared at private court hearing at sarita colonia del callao .\\nthey appeared to have new clothes and mc...  \n",
              "285878  new: two air force bases cancel air shows, citing budget cuts and sequestration .\\nlooming cuts in spending could reduce services, impact the military, teachers, border patrols .\\nsome republicans...  \n",
              "38802   the 31-year-old from toronto moved to russia at just ten years old to train with renowned rhythmic gymnastics coaches .\\nshe went on to become a three-time national champion of canada, as well as ...  \n",
              "135626  pope benedict xvi meets with victims of clergy abuse in his native germany .\\nhe \"expressed his deep compassion and regret,\" the vatican reports .\\nit is his first state visit to germany, which in...  "
            ],
            "text/html": [
              "\n",
              "  <div id=\"df-88c2b673-fd72-42ad-9f8a-ab0877126f20\" class=\"colab-df-container\">\n",
              "    <div>\n",
              "<style scoped>\n",
              "    .dataframe tbody tr th:only-of-type {\n",
              "        vertical-align: middle;\n",
              "    }\n",
              "\n",
              "    .dataframe tbody tr th {\n",
              "        vertical-align: top;\n",
              "    }\n",
              "\n",
              "    .dataframe thead th {\n",
              "        text-align: right;\n",
              "    }\n",
              "</style>\n",
              "<table border=\"1\" class=\"dataframe\">\n",
              "  <thead>\n",
              "    <tr style=\"text-align: right;\">\n",
              "      <th></th>\n",
              "      <th>id</th>\n",
              "      <th>article</th>\n",
              "      <th>highlights</th>\n",
              "    </tr>\n",
              "  </thead>\n",
              "  <tbody>\n",
              "    <tr>\n",
              "      <th>237847</th>\n",
              "      <td>bfdad69e453b1170d74a81b34787efb3c99a0a53</td>\n",
              "      <td>by . ian drury . published: . 22:35 est, 11 november 2012 . | . updated: . 02:51 est, 13 november 2012 . a british army officer who was shot dead by an afghan soldier as he played in a remembrance...</td>\n",
              "      <td>captain walter barrie, 41, died after a rogue soldier hit him during the game .\\nwife and fellow soldiers pay tribute to a 'great man' who was 'approachable and compassionate'\\nbritish forces hold...</td>\n",
              "    </tr>\n",
              "    <tr>\n",
              "      <th>111408</th>\n",
              "      <td>1ba691af7453d82294d124b0f2d6ac3b85f4e524</td>\n",
              "      <td>by . suzannah hills . published: . 14:05 est, 1 october 2013 . | . updated: . 05:33 est, 2 october 2013 . drug mules michaella mccollum and melissa reid are in brilliant health in a modern well-eq...</td>\n",
              "      <td>father maurice foley visits michaella mccollum and melissa reid at new jail .\\nboth women appeared at private court hearing at sarita colonia del callao .\\nthey appeared to have new clothes and mc...</td>\n",
              "    </tr>\n",
              "    <tr>\n",
              "      <th>285878</th>\n",
              "      <td>fe693322187d83dc154628344ca3f9579e6d7c3b</td>\n",
              "      <td>washington (cnn) -- on a typical monday morning, lines of travelers heading toward the security checkpoint at washington's reagan national airport snake past a sign that reads: \"not much longer. 2...</td>\n",
              "      <td>new: two air force bases cancel air shows, citing budget cuts and sequestration .\\nlooming cuts in spending could reduce services, impact the military, teachers, border patrols .\\nsome republicans...</td>\n",
              "    </tr>\n",
              "    <tr>\n",
              "      <th>38802</th>\n",
              "      <td>6dacc8a07a994febb00f50d4e4ebab1b9b0a9e38</td>\n",
              "      <td>emilie livingston may have been launched into the limelight after marrying jeff goldblum earlier this month, but the newlywed is also famous in her own right. the 31-year-old from toronto has quit...</td>\n",
              "      <td>the 31-year-old from toronto moved to russia at just ten years old to train with renowned rhythmic gymnastics coaches .\\nshe went on to become a three-time national champion of canada, as well as ...</td>\n",
              "    </tr>\n",
              "    <tr>\n",
              "      <th>135626</th>\n",
              "      <td>3b791e59d020a5feebfbc0aa9f549c87eb2584ce</td>\n",
              "      <td>berlin (cnn) -- pope benedict xvi met friday with a group of people who had been sexually abused by clergy in his native germany, where disenchantment with the roman catholic church has grown in t...</td>\n",
              "      <td>pope benedict xvi meets with victims of clergy abuse in his native germany .\\nhe \"expressed his deep compassion and regret,\" the vatican reports .\\nit is his first state visit to germany, which in...</td>\n",
              "    </tr>\n",
              "  </tbody>\n",
              "</table>\n",
              "</div>\n",
              "    <div class=\"colab-df-buttons\">\n",
              "\n",
              "  <div class=\"colab-df-container\">\n",
              "    <button class=\"colab-df-convert\" onclick=\"convertToInteractive('df-88c2b673-fd72-42ad-9f8a-ab0877126f20')\"\n",
              "            title=\"Convert this dataframe to an interactive table.\"\n",
              "            style=\"display:none;\">\n",
              "\n",
              "  <svg xmlns=\"http://www.w3.org/2000/svg\" height=\"24px\" viewBox=\"0 -960 960 960\">\n",
              "    <path d=\"M120-120v-720h720v720H120Zm60-500h600v-160H180v160Zm220 220h160v-160H400v160Zm0 220h160v-160H400v160ZM180-400h160v-160H180v160Zm440 0h160v-160H620v160ZM180-180h160v-160H180v160Zm440 0h160v-160H620v160Z\"/>\n",
              "  </svg>\n",
              "    </button>\n",
              "\n",
              "  <style>\n",
              "    .colab-df-container {\n",
              "      display:flex;\n",
              "      gap: 12px;\n",
              "    }\n",
              "\n",
              "    .colab-df-convert {\n",
              "      background-color: #E8F0FE;\n",
              "      border: none;\n",
              "      border-radius: 50%;\n",
              "      cursor: pointer;\n",
              "      display: none;\n",
              "      fill: #1967D2;\n",
              "      height: 32px;\n",
              "      padding: 0 0 0 0;\n",
              "      width: 32px;\n",
              "    }\n",
              "\n",
              "    .colab-df-convert:hover {\n",
              "      background-color: #E2EBFA;\n",
              "      box-shadow: 0px 1px 2px rgba(60, 64, 67, 0.3), 0px 1px 3px 1px rgba(60, 64, 67, 0.15);\n",
              "      fill: #174EA6;\n",
              "    }\n",
              "\n",
              "    .colab-df-buttons div {\n",
              "      margin-bottom: 4px;\n",
              "    }\n",
              "\n",
              "    [theme=dark] .colab-df-convert {\n",
              "      background-color: #3B4455;\n",
              "      fill: #D2E3FC;\n",
              "    }\n",
              "\n",
              "    [theme=dark] .colab-df-convert:hover {\n",
              "      background-color: #434B5C;\n",
              "      box-shadow: 0px 1px 3px 1px rgba(0, 0, 0, 0.15);\n",
              "      filter: drop-shadow(0px 1px 2px rgba(0, 0, 0, 0.3));\n",
              "      fill: #FFFFFF;\n",
              "    }\n",
              "  </style>\n",
              "\n",
              "    <script>\n",
              "      const buttonEl =\n",
              "        document.querySelector('#df-88c2b673-fd72-42ad-9f8a-ab0877126f20 button.colab-df-convert');\n",
              "      buttonEl.style.display =\n",
              "        google.colab.kernel.accessAllowed ? 'block' : 'none';\n",
              "\n",
              "      async function convertToInteractive(key) {\n",
              "        const element = document.querySelector('#df-88c2b673-fd72-42ad-9f8a-ab0877126f20');\n",
              "        const dataTable =\n",
              "          await google.colab.kernel.invokeFunction('convertToInteractive',\n",
              "                                                    [key], {});\n",
              "        if (!dataTable) return;\n",
              "\n",
              "        const docLinkHtml = 'Like what you see? Visit the ' +\n",
              "          '<a target=\"_blank\" href=https://colab.research.google.com/notebooks/data_table.ipynb>data table notebook</a>'\n",
              "          + ' to learn more about interactive tables.';\n",
              "        element.innerHTML = '';\n",
              "        dataTable['output_type'] = 'display_data';\n",
              "        await google.colab.output.renderOutput(dataTable, element);\n",
              "        const docLink = document.createElement('div');\n",
              "        docLink.innerHTML = docLinkHtml;\n",
              "        element.appendChild(docLink);\n",
              "      }\n",
              "    </script>\n",
              "  </div>\n",
              "\n",
              "\n",
              "<div id=\"df-42cc1818-d1d7-4b37-8565-61b19d530903\">\n",
              "  <button class=\"colab-df-quickchart\" onclick=\"quickchart('df-42cc1818-d1d7-4b37-8565-61b19d530903')\"\n",
              "            title=\"Suggest charts\"\n",
              "            style=\"display:none;\">\n",
              "\n",
              "<svg xmlns=\"http://www.w3.org/2000/svg\" height=\"24px\"viewBox=\"0 0 24 24\"\n",
              "     width=\"24px\">\n",
              "    <g>\n",
              "        <path d=\"M19 3H5c-1.1 0-2 .9-2 2v14c0 1.1.9 2 2 2h14c1.1 0 2-.9 2-2V5c0-1.1-.9-2-2-2zM9 17H7v-7h2v7zm4 0h-2V7h2v10zm4 0h-2v-4h2v4z\"/>\n",
              "    </g>\n",
              "</svg>\n",
              "  </button>\n",
              "\n",
              "<style>\n",
              "  .colab-df-quickchart {\n",
              "      --bg-color: #E8F0FE;\n",
              "      --fill-color: #1967D2;\n",
              "      --hover-bg-color: #E2EBFA;\n",
              "      --hover-fill-color: #174EA6;\n",
              "      --disabled-fill-color: #AAA;\n",
              "      --disabled-bg-color: #DDD;\n",
              "  }\n",
              "\n",
              "  [theme=dark] .colab-df-quickchart {\n",
              "      --bg-color: #3B4455;\n",
              "      --fill-color: #D2E3FC;\n",
              "      --hover-bg-color: #434B5C;\n",
              "      --hover-fill-color: #FFFFFF;\n",
              "      --disabled-bg-color: #3B4455;\n",
              "      --disabled-fill-color: #666;\n",
              "  }\n",
              "\n",
              "  .colab-df-quickchart {\n",
              "    background-color: var(--bg-color);\n",
              "    border: none;\n",
              "    border-radius: 50%;\n",
              "    cursor: pointer;\n",
              "    display: none;\n",
              "    fill: var(--fill-color);\n",
              "    height: 32px;\n",
              "    padding: 0;\n",
              "    width: 32px;\n",
              "  }\n",
              "\n",
              "  .colab-df-quickchart:hover {\n",
              "    background-color: var(--hover-bg-color);\n",
              "    box-shadow: 0 1px 2px rgba(60, 64, 67, 0.3), 0 1px 3px 1px rgba(60, 64, 67, 0.15);\n",
              "    fill: var(--button-hover-fill-color);\n",
              "  }\n",
              "\n",
              "  .colab-df-quickchart-complete:disabled,\n",
              "  .colab-df-quickchart-complete:disabled:hover {\n",
              "    background-color: var(--disabled-bg-color);\n",
              "    fill: var(--disabled-fill-color);\n",
              "    box-shadow: none;\n",
              "  }\n",
              "\n",
              "  .colab-df-spinner {\n",
              "    border: 2px solid var(--fill-color);\n",
              "    border-color: transparent;\n",
              "    border-bottom-color: var(--fill-color);\n",
              "    animation:\n",
              "      spin 1s steps(1) infinite;\n",
              "  }\n",
              "\n",
              "  @keyframes spin {\n",
              "    0% {\n",
              "      border-color: transparent;\n",
              "      border-bottom-color: var(--fill-color);\n",
              "      border-left-color: var(--fill-color);\n",
              "    }\n",
              "    20% {\n",
              "      border-color: transparent;\n",
              "      border-left-color: var(--fill-color);\n",
              "      border-top-color: var(--fill-color);\n",
              "    }\n",
              "    30% {\n",
              "      border-color: transparent;\n",
              "      border-left-color: var(--fill-color);\n",
              "      border-top-color: var(--fill-color);\n",
              "      border-right-color: var(--fill-color);\n",
              "    }\n",
              "    40% {\n",
              "      border-color: transparent;\n",
              "      border-right-color: var(--fill-color);\n",
              "      border-top-color: var(--fill-color);\n",
              "    }\n",
              "    60% {\n",
              "      border-color: transparent;\n",
              "      border-right-color: var(--fill-color);\n",
              "    }\n",
              "    80% {\n",
              "      border-color: transparent;\n",
              "      border-right-color: var(--fill-color);\n",
              "      border-bottom-color: var(--fill-color);\n",
              "    }\n",
              "    90% {\n",
              "      border-color: transparent;\n",
              "      border-bottom-color: var(--fill-color);\n",
              "    }\n",
              "  }\n",
              "</style>\n",
              "\n",
              "  <script>\n",
              "    async function quickchart(key) {\n",
              "      const quickchartButtonEl =\n",
              "        document.querySelector('#' + key + ' button');\n",
              "      quickchartButtonEl.disabled = true;  // To prevent multiple clicks.\n",
              "      quickchartButtonEl.classList.add('colab-df-spinner');\n",
              "      try {\n",
              "        const charts = await google.colab.kernel.invokeFunction(\n",
              "            'suggestCharts', [key], {});\n",
              "      } catch (error) {\n",
              "        console.error('Error during call to suggestCharts:', error);\n",
              "      }\n",
              "      quickchartButtonEl.classList.remove('colab-df-spinner');\n",
              "      quickchartButtonEl.classList.add('colab-df-quickchart-complete');\n",
              "    }\n",
              "    (() => {\n",
              "      let quickchartButtonEl =\n",
              "        document.querySelector('#df-42cc1818-d1d7-4b37-8565-61b19d530903 button');\n",
              "      quickchartButtonEl.style.display =\n",
              "        google.colab.kernel.accessAllowed ? 'block' : 'none';\n",
              "    })();\n",
              "  </script>\n",
              "</div>\n",
              "    </div>\n",
              "  </div>\n"
            ]
          },
          "metadata": {},
          "execution_count": 15
        }
      ],
      "source": [
        "new_df['article'] = new_df['article'].str.lower()\n",
        "new_df['highlights'] = new_df['highlights'].str.lower()\n",
        "\n",
        "new_df.head()"
      ]
    },
    {
      "cell_type": "code",
      "execution_count": 16,
      "metadata": {
        "id": "-BWqXLjOS7DS"
      },
      "outputs": [],
      "source": [
        "new_df['article']=new_df['article'].str.lower()\n",
        "\n",
        "new_df['highlights']=new_df['highlights'].str.lower()"
      ]
    },
    {
      "cell_type": "markdown",
      "metadata": {
        "id": "60oRsNGfvm5_"
      },
      "source": [
        "Converting to lower case"
      ]
    },
    {
      "cell_type": "code",
      "execution_count": 17,
      "metadata": {
        "id": "H0xN7npXoA3o",
        "colab": {
          "base_uri": "https://localhost:8080/",
          "height": 640
        },
        "outputId": "22d19b52-f4df-4335-bcdf-f381e2c08ece"
      },
      "outputs": [
        {
          "output_type": "execute_result",
          "data": {
            "text/plain": [
              "                                              id  \\\n",
              "237847  bfdad69e453b1170d74a81b34787efb3c99a0a53   \n",
              "111408  1ba691af7453d82294d124b0f2d6ac3b85f4e524   \n",
              "285878  fe693322187d83dc154628344ca3f9579e6d7c3b   \n",
              "38802   6dacc8a07a994febb00f50d4e4ebab1b9b0a9e38   \n",
              "135626  3b791e59d020a5feebfbc0aa9f549c87eb2584ce   \n",
              "\n",
              "                                                                                                                                                                                                        article  \\\n",
              "237847  by . ian drury . published: . 22:35 est, 11 november 2012 . | . updated: . 02:51 est, 13 november 2012 . a british army officer who was shot dead by an afghan soldier as he played in a remembrance...   \n",
              "111408  by . suzannah hills . published: . 14:05 est, 1 october 2013 . | . updated: . 05:33 est, 2 october 2013 . drug mules michaella mccollum and melissa reid are in brilliant health in a modern well-eq...   \n",
              "285878  washington (cnn) -- on a typical monday morning, lines of travelers heading toward the security checkpoint at washington's reagan national airport snake past a sign that reads: \"not much longer. 2...   \n",
              "38802   emilie livingston may have been launched into the limelight after marrying jeff goldblum earlier this month, but the newlywed is also famous in her own right. the 31-year-old from toronto has quit...   \n",
              "135626  berlin (cnn) -- pope benedict xvi met friday with a group of people who had been sexually abused by clergy in his native germany, where disenchantment with the roman catholic church has grown in t...   \n",
              "\n",
              "                                                                                                                                                                                                     highlights  \n",
              "237847  captain walter barrie, 41, died after a rogue soldier hit him during the game .\\nwife and fellow soldiers pay tribute to a 'great man' who was 'approachable and compassionate'\\nbritish forces hold...  \n",
              "111408  father maurice foley visits michaella mccollum and melissa reid at new jail .\\nboth women appeared at private court hearing at sarita colonia del callao .\\nthey appeared to have new clothes and mc...  \n",
              "285878  new: two air force bases cancel air shows, citing budget cuts and sequestration .\\nlooming cuts in spending could reduce services, impact the military, teachers, border patrols .\\nsome republicans...  \n",
              "38802   the 31-year-old from toronto moved to russia at just ten years old to train with renowned rhythmic gymnastics coaches .\\nshe went on to become a three-time national champion of canada, as well as ...  \n",
              "135626  pope benedict xvi meets with victims of clergy abuse in his native germany .\\nhe \"expressed his deep compassion and regret,\" the vatican reports .\\nit is his first state visit to germany, which in...  "
            ],
            "text/html": [
              "\n",
              "  <div id=\"df-4be563b2-c323-4d0a-ab5a-667734f184db\" class=\"colab-df-container\">\n",
              "    <div>\n",
              "<style scoped>\n",
              "    .dataframe tbody tr th:only-of-type {\n",
              "        vertical-align: middle;\n",
              "    }\n",
              "\n",
              "    .dataframe tbody tr th {\n",
              "        vertical-align: top;\n",
              "    }\n",
              "\n",
              "    .dataframe thead th {\n",
              "        text-align: right;\n",
              "    }\n",
              "</style>\n",
              "<table border=\"1\" class=\"dataframe\">\n",
              "  <thead>\n",
              "    <tr style=\"text-align: right;\">\n",
              "      <th></th>\n",
              "      <th>id</th>\n",
              "      <th>article</th>\n",
              "      <th>highlights</th>\n",
              "    </tr>\n",
              "  </thead>\n",
              "  <tbody>\n",
              "    <tr>\n",
              "      <th>237847</th>\n",
              "      <td>bfdad69e453b1170d74a81b34787efb3c99a0a53</td>\n",
              "      <td>by . ian drury . published: . 22:35 est, 11 november 2012 . | . updated: . 02:51 est, 13 november 2012 . a british army officer who was shot dead by an afghan soldier as he played in a remembrance...</td>\n",
              "      <td>captain walter barrie, 41, died after a rogue soldier hit him during the game .\\nwife and fellow soldiers pay tribute to a 'great man' who was 'approachable and compassionate'\\nbritish forces hold...</td>\n",
              "    </tr>\n",
              "    <tr>\n",
              "      <th>111408</th>\n",
              "      <td>1ba691af7453d82294d124b0f2d6ac3b85f4e524</td>\n",
              "      <td>by . suzannah hills . published: . 14:05 est, 1 october 2013 . | . updated: . 05:33 est, 2 october 2013 . drug mules michaella mccollum and melissa reid are in brilliant health in a modern well-eq...</td>\n",
              "      <td>father maurice foley visits michaella mccollum and melissa reid at new jail .\\nboth women appeared at private court hearing at sarita colonia del callao .\\nthey appeared to have new clothes and mc...</td>\n",
              "    </tr>\n",
              "    <tr>\n",
              "      <th>285878</th>\n",
              "      <td>fe693322187d83dc154628344ca3f9579e6d7c3b</td>\n",
              "      <td>washington (cnn) -- on a typical monday morning, lines of travelers heading toward the security checkpoint at washington's reagan national airport snake past a sign that reads: \"not much longer. 2...</td>\n",
              "      <td>new: two air force bases cancel air shows, citing budget cuts and sequestration .\\nlooming cuts in spending could reduce services, impact the military, teachers, border patrols .\\nsome republicans...</td>\n",
              "    </tr>\n",
              "    <tr>\n",
              "      <th>38802</th>\n",
              "      <td>6dacc8a07a994febb00f50d4e4ebab1b9b0a9e38</td>\n",
              "      <td>emilie livingston may have been launched into the limelight after marrying jeff goldblum earlier this month, but the newlywed is also famous in her own right. the 31-year-old from toronto has quit...</td>\n",
              "      <td>the 31-year-old from toronto moved to russia at just ten years old to train with renowned rhythmic gymnastics coaches .\\nshe went on to become a three-time national champion of canada, as well as ...</td>\n",
              "    </tr>\n",
              "    <tr>\n",
              "      <th>135626</th>\n",
              "      <td>3b791e59d020a5feebfbc0aa9f549c87eb2584ce</td>\n",
              "      <td>berlin (cnn) -- pope benedict xvi met friday with a group of people who had been sexually abused by clergy in his native germany, where disenchantment with the roman catholic church has grown in t...</td>\n",
              "      <td>pope benedict xvi meets with victims of clergy abuse in his native germany .\\nhe \"expressed his deep compassion and regret,\" the vatican reports .\\nit is his first state visit to germany, which in...</td>\n",
              "    </tr>\n",
              "  </tbody>\n",
              "</table>\n",
              "</div>\n",
              "    <div class=\"colab-df-buttons\">\n",
              "\n",
              "  <div class=\"colab-df-container\">\n",
              "    <button class=\"colab-df-convert\" onclick=\"convertToInteractive('df-4be563b2-c323-4d0a-ab5a-667734f184db')\"\n",
              "            title=\"Convert this dataframe to an interactive table.\"\n",
              "            style=\"display:none;\">\n",
              "\n",
              "  <svg xmlns=\"http://www.w3.org/2000/svg\" height=\"24px\" viewBox=\"0 -960 960 960\">\n",
              "    <path d=\"M120-120v-720h720v720H120Zm60-500h600v-160H180v160Zm220 220h160v-160H400v160Zm0 220h160v-160H400v160ZM180-400h160v-160H180v160Zm440 0h160v-160H620v160ZM180-180h160v-160H180v160Zm440 0h160v-160H620v160Z\"/>\n",
              "  </svg>\n",
              "    </button>\n",
              "\n",
              "  <style>\n",
              "    .colab-df-container {\n",
              "      display:flex;\n",
              "      gap: 12px;\n",
              "    }\n",
              "\n",
              "    .colab-df-convert {\n",
              "      background-color: #E8F0FE;\n",
              "      border: none;\n",
              "      border-radius: 50%;\n",
              "      cursor: pointer;\n",
              "      display: none;\n",
              "      fill: #1967D2;\n",
              "      height: 32px;\n",
              "      padding: 0 0 0 0;\n",
              "      width: 32px;\n",
              "    }\n",
              "\n",
              "    .colab-df-convert:hover {\n",
              "      background-color: #E2EBFA;\n",
              "      box-shadow: 0px 1px 2px rgba(60, 64, 67, 0.3), 0px 1px 3px 1px rgba(60, 64, 67, 0.15);\n",
              "      fill: #174EA6;\n",
              "    }\n",
              "\n",
              "    .colab-df-buttons div {\n",
              "      margin-bottom: 4px;\n",
              "    }\n",
              "\n",
              "    [theme=dark] .colab-df-convert {\n",
              "      background-color: #3B4455;\n",
              "      fill: #D2E3FC;\n",
              "    }\n",
              "\n",
              "    [theme=dark] .colab-df-convert:hover {\n",
              "      background-color: #434B5C;\n",
              "      box-shadow: 0px 1px 3px 1px rgba(0, 0, 0, 0.15);\n",
              "      filter: drop-shadow(0px 1px 2px rgba(0, 0, 0, 0.3));\n",
              "      fill: #FFFFFF;\n",
              "    }\n",
              "  </style>\n",
              "\n",
              "    <script>\n",
              "      const buttonEl =\n",
              "        document.querySelector('#df-4be563b2-c323-4d0a-ab5a-667734f184db button.colab-df-convert');\n",
              "      buttonEl.style.display =\n",
              "        google.colab.kernel.accessAllowed ? 'block' : 'none';\n",
              "\n",
              "      async function convertToInteractive(key) {\n",
              "        const element = document.querySelector('#df-4be563b2-c323-4d0a-ab5a-667734f184db');\n",
              "        const dataTable =\n",
              "          await google.colab.kernel.invokeFunction('convertToInteractive',\n",
              "                                                    [key], {});\n",
              "        if (!dataTable) return;\n",
              "\n",
              "        const docLinkHtml = 'Like what you see? Visit the ' +\n",
              "          '<a target=\"_blank\" href=https://colab.research.google.com/notebooks/data_table.ipynb>data table notebook</a>'\n",
              "          + ' to learn more about interactive tables.';\n",
              "        element.innerHTML = '';\n",
              "        dataTable['output_type'] = 'display_data';\n",
              "        await google.colab.output.renderOutput(dataTable, element);\n",
              "        const docLink = document.createElement('div');\n",
              "        docLink.innerHTML = docLinkHtml;\n",
              "        element.appendChild(docLink);\n",
              "      }\n",
              "    </script>\n",
              "  </div>\n",
              "\n",
              "\n",
              "<div id=\"df-f37b85d2-2967-4d78-ad97-4513d37382ab\">\n",
              "  <button class=\"colab-df-quickchart\" onclick=\"quickchart('df-f37b85d2-2967-4d78-ad97-4513d37382ab')\"\n",
              "            title=\"Suggest charts\"\n",
              "            style=\"display:none;\">\n",
              "\n",
              "<svg xmlns=\"http://www.w3.org/2000/svg\" height=\"24px\"viewBox=\"0 0 24 24\"\n",
              "     width=\"24px\">\n",
              "    <g>\n",
              "        <path d=\"M19 3H5c-1.1 0-2 .9-2 2v14c0 1.1.9 2 2 2h14c1.1 0 2-.9 2-2V5c0-1.1-.9-2-2-2zM9 17H7v-7h2v7zm4 0h-2V7h2v10zm4 0h-2v-4h2v4z\"/>\n",
              "    </g>\n",
              "</svg>\n",
              "  </button>\n",
              "\n",
              "<style>\n",
              "  .colab-df-quickchart {\n",
              "      --bg-color: #E8F0FE;\n",
              "      --fill-color: #1967D2;\n",
              "      --hover-bg-color: #E2EBFA;\n",
              "      --hover-fill-color: #174EA6;\n",
              "      --disabled-fill-color: #AAA;\n",
              "      --disabled-bg-color: #DDD;\n",
              "  }\n",
              "\n",
              "  [theme=dark] .colab-df-quickchart {\n",
              "      --bg-color: #3B4455;\n",
              "      --fill-color: #D2E3FC;\n",
              "      --hover-bg-color: #434B5C;\n",
              "      --hover-fill-color: #FFFFFF;\n",
              "      --disabled-bg-color: #3B4455;\n",
              "      --disabled-fill-color: #666;\n",
              "  }\n",
              "\n",
              "  .colab-df-quickchart {\n",
              "    background-color: var(--bg-color);\n",
              "    border: none;\n",
              "    border-radius: 50%;\n",
              "    cursor: pointer;\n",
              "    display: none;\n",
              "    fill: var(--fill-color);\n",
              "    height: 32px;\n",
              "    padding: 0;\n",
              "    width: 32px;\n",
              "  }\n",
              "\n",
              "  .colab-df-quickchart:hover {\n",
              "    background-color: var(--hover-bg-color);\n",
              "    box-shadow: 0 1px 2px rgba(60, 64, 67, 0.3), 0 1px 3px 1px rgba(60, 64, 67, 0.15);\n",
              "    fill: var(--button-hover-fill-color);\n",
              "  }\n",
              "\n",
              "  .colab-df-quickchart-complete:disabled,\n",
              "  .colab-df-quickchart-complete:disabled:hover {\n",
              "    background-color: var(--disabled-bg-color);\n",
              "    fill: var(--disabled-fill-color);\n",
              "    box-shadow: none;\n",
              "  }\n",
              "\n",
              "  .colab-df-spinner {\n",
              "    border: 2px solid var(--fill-color);\n",
              "    border-color: transparent;\n",
              "    border-bottom-color: var(--fill-color);\n",
              "    animation:\n",
              "      spin 1s steps(1) infinite;\n",
              "  }\n",
              "\n",
              "  @keyframes spin {\n",
              "    0% {\n",
              "      border-color: transparent;\n",
              "      border-bottom-color: var(--fill-color);\n",
              "      border-left-color: var(--fill-color);\n",
              "    }\n",
              "    20% {\n",
              "      border-color: transparent;\n",
              "      border-left-color: var(--fill-color);\n",
              "      border-top-color: var(--fill-color);\n",
              "    }\n",
              "    30% {\n",
              "      border-color: transparent;\n",
              "      border-left-color: var(--fill-color);\n",
              "      border-top-color: var(--fill-color);\n",
              "      border-right-color: var(--fill-color);\n",
              "    }\n",
              "    40% {\n",
              "      border-color: transparent;\n",
              "      border-right-color: var(--fill-color);\n",
              "      border-top-color: var(--fill-color);\n",
              "    }\n",
              "    60% {\n",
              "      border-color: transparent;\n",
              "      border-right-color: var(--fill-color);\n",
              "    }\n",
              "    80% {\n",
              "      border-color: transparent;\n",
              "      border-right-color: var(--fill-color);\n",
              "      border-bottom-color: var(--fill-color);\n",
              "    }\n",
              "    90% {\n",
              "      border-color: transparent;\n",
              "      border-bottom-color: var(--fill-color);\n",
              "    }\n",
              "  }\n",
              "</style>\n",
              "\n",
              "  <script>\n",
              "    async function quickchart(key) {\n",
              "      const quickchartButtonEl =\n",
              "        document.querySelector('#' + key + ' button');\n",
              "      quickchartButtonEl.disabled = true;  // To prevent multiple clicks.\n",
              "      quickchartButtonEl.classList.add('colab-df-spinner');\n",
              "      try {\n",
              "        const charts = await google.colab.kernel.invokeFunction(\n",
              "            'suggestCharts', [key], {});\n",
              "      } catch (error) {\n",
              "        console.error('Error during call to suggestCharts:', error);\n",
              "      }\n",
              "      quickchartButtonEl.classList.remove('colab-df-spinner');\n",
              "      quickchartButtonEl.classList.add('colab-df-quickchart-complete');\n",
              "    }\n",
              "    (() => {\n",
              "      let quickchartButtonEl =\n",
              "        document.querySelector('#df-f37b85d2-2967-4d78-ad97-4513d37382ab button');\n",
              "      quickchartButtonEl.style.display =\n",
              "        google.colab.kernel.accessAllowed ? 'block' : 'none';\n",
              "    })();\n",
              "  </script>\n",
              "</div>\n",
              "    </div>\n",
              "  </div>\n"
            ]
          },
          "metadata": {},
          "execution_count": 17
        }
      ],
      "source": [
        "new_df.head()"
      ]
    },
    {
      "cell_type": "code",
      "execution_count": 18,
      "metadata": {
        "id": "XQn0v0i6vwme"
      },
      "outputs": [],
      "source": [
        "#removing html tags\n",
        "import re\n",
        "def remove_html_tags(text):\n",
        "    if isinstance(text, str):\n",
        "        pattern = re.compile('<.*?>')\n",
        "        return pattern.sub(r'', text)\n",
        "    else:\n",
        "        return text"
      ]
    },
    {
      "cell_type": "code",
      "execution_count": 19,
      "metadata": {
        "id": "KVJUffPswJw3"
      },
      "outputs": [],
      "source": [
        "new_df['article'] = new_df['article'].apply(remove_html_tags)\n",
        "\n",
        "new_df['highlights'] = new_df['highlights'].apply(remove_html_tags)"
      ]
    },
    {
      "cell_type": "code",
      "execution_count": 20,
      "metadata": {
        "id": "r6JZJuYywQCY",
        "colab": {
          "base_uri": "https://localhost:8080/",
          "height": 640
        },
        "outputId": "df6c93cf-3f0f-439b-f563-4c23f484cf59"
      },
      "outputs": [
        {
          "output_type": "execute_result",
          "data": {
            "text/plain": [
              "                                              id  \\\n",
              "237847  bfdad69e453b1170d74a81b34787efb3c99a0a53   \n",
              "111408  1ba691af7453d82294d124b0f2d6ac3b85f4e524   \n",
              "285878  fe693322187d83dc154628344ca3f9579e6d7c3b   \n",
              "38802   6dacc8a07a994febb00f50d4e4ebab1b9b0a9e38   \n",
              "135626  3b791e59d020a5feebfbc0aa9f549c87eb2584ce   \n",
              "\n",
              "                                                                                                                                                                                                        article  \\\n",
              "237847  by . ian drury . published: . 22:35 est, 11 november 2012 . | . updated: . 02:51 est, 13 november 2012 . a british army officer who was shot dead by an afghan soldier as he played in a remembrance...   \n",
              "111408  by . suzannah hills . published: . 14:05 est, 1 october 2013 . | . updated: . 05:33 est, 2 october 2013 . drug mules michaella mccollum and melissa reid are in brilliant health in a modern well-eq...   \n",
              "285878  washington (cnn) -- on a typical monday morning, lines of travelers heading toward the security checkpoint at washington's reagan national airport snake past a sign that reads: \"not much longer. 2...   \n",
              "38802   emilie livingston may have been launched into the limelight after marrying jeff goldblum earlier this month, but the newlywed is also famous in her own right. the 31-year-old from toronto has quit...   \n",
              "135626  berlin (cnn) -- pope benedict xvi met friday with a group of people who had been sexually abused by clergy in his native germany, where disenchantment with the roman catholic church has grown in t...   \n",
              "\n",
              "                                                                                                                                                                                                     highlights  \n",
              "237847  captain walter barrie, 41, died after a rogue soldier hit him during the game .\\nwife and fellow soldiers pay tribute to a 'great man' who was 'approachable and compassionate'\\nbritish forces hold...  \n",
              "111408  father maurice foley visits michaella mccollum and melissa reid at new jail .\\nboth women appeared at private court hearing at sarita colonia del callao .\\nthey appeared to have new clothes and mc...  \n",
              "285878  new: two air force bases cancel air shows, citing budget cuts and sequestration .\\nlooming cuts in spending could reduce services, impact the military, teachers, border patrols .\\nsome republicans...  \n",
              "38802   the 31-year-old from toronto moved to russia at just ten years old to train with renowned rhythmic gymnastics coaches .\\nshe went on to become a three-time national champion of canada, as well as ...  \n",
              "135626  pope benedict xvi meets with victims of clergy abuse in his native germany .\\nhe \"expressed his deep compassion and regret,\" the vatican reports .\\nit is his first state visit to germany, which in...  "
            ],
            "text/html": [
              "\n",
              "  <div id=\"df-9811d5db-e07b-4f98-910b-c3b7794febe5\" class=\"colab-df-container\">\n",
              "    <div>\n",
              "<style scoped>\n",
              "    .dataframe tbody tr th:only-of-type {\n",
              "        vertical-align: middle;\n",
              "    }\n",
              "\n",
              "    .dataframe tbody tr th {\n",
              "        vertical-align: top;\n",
              "    }\n",
              "\n",
              "    .dataframe thead th {\n",
              "        text-align: right;\n",
              "    }\n",
              "</style>\n",
              "<table border=\"1\" class=\"dataframe\">\n",
              "  <thead>\n",
              "    <tr style=\"text-align: right;\">\n",
              "      <th></th>\n",
              "      <th>id</th>\n",
              "      <th>article</th>\n",
              "      <th>highlights</th>\n",
              "    </tr>\n",
              "  </thead>\n",
              "  <tbody>\n",
              "    <tr>\n",
              "      <th>237847</th>\n",
              "      <td>bfdad69e453b1170d74a81b34787efb3c99a0a53</td>\n",
              "      <td>by . ian drury . published: . 22:35 est, 11 november 2012 . | . updated: . 02:51 est, 13 november 2012 . a british army officer who was shot dead by an afghan soldier as he played in a remembrance...</td>\n",
              "      <td>captain walter barrie, 41, died after a rogue soldier hit him during the game .\\nwife and fellow soldiers pay tribute to a 'great man' who was 'approachable and compassionate'\\nbritish forces hold...</td>\n",
              "    </tr>\n",
              "    <tr>\n",
              "      <th>111408</th>\n",
              "      <td>1ba691af7453d82294d124b0f2d6ac3b85f4e524</td>\n",
              "      <td>by . suzannah hills . published: . 14:05 est, 1 october 2013 . | . updated: . 05:33 est, 2 october 2013 . drug mules michaella mccollum and melissa reid are in brilliant health in a modern well-eq...</td>\n",
              "      <td>father maurice foley visits michaella mccollum and melissa reid at new jail .\\nboth women appeared at private court hearing at sarita colonia del callao .\\nthey appeared to have new clothes and mc...</td>\n",
              "    </tr>\n",
              "    <tr>\n",
              "      <th>285878</th>\n",
              "      <td>fe693322187d83dc154628344ca3f9579e6d7c3b</td>\n",
              "      <td>washington (cnn) -- on a typical monday morning, lines of travelers heading toward the security checkpoint at washington's reagan national airport snake past a sign that reads: \"not much longer. 2...</td>\n",
              "      <td>new: two air force bases cancel air shows, citing budget cuts and sequestration .\\nlooming cuts in spending could reduce services, impact the military, teachers, border patrols .\\nsome republicans...</td>\n",
              "    </tr>\n",
              "    <tr>\n",
              "      <th>38802</th>\n",
              "      <td>6dacc8a07a994febb00f50d4e4ebab1b9b0a9e38</td>\n",
              "      <td>emilie livingston may have been launched into the limelight after marrying jeff goldblum earlier this month, but the newlywed is also famous in her own right. the 31-year-old from toronto has quit...</td>\n",
              "      <td>the 31-year-old from toronto moved to russia at just ten years old to train with renowned rhythmic gymnastics coaches .\\nshe went on to become a three-time national champion of canada, as well as ...</td>\n",
              "    </tr>\n",
              "    <tr>\n",
              "      <th>135626</th>\n",
              "      <td>3b791e59d020a5feebfbc0aa9f549c87eb2584ce</td>\n",
              "      <td>berlin (cnn) -- pope benedict xvi met friday with a group of people who had been sexually abused by clergy in his native germany, where disenchantment with the roman catholic church has grown in t...</td>\n",
              "      <td>pope benedict xvi meets with victims of clergy abuse in his native germany .\\nhe \"expressed his deep compassion and regret,\" the vatican reports .\\nit is his first state visit to germany, which in...</td>\n",
              "    </tr>\n",
              "  </tbody>\n",
              "</table>\n",
              "</div>\n",
              "    <div class=\"colab-df-buttons\">\n",
              "\n",
              "  <div class=\"colab-df-container\">\n",
              "    <button class=\"colab-df-convert\" onclick=\"convertToInteractive('df-9811d5db-e07b-4f98-910b-c3b7794febe5')\"\n",
              "            title=\"Convert this dataframe to an interactive table.\"\n",
              "            style=\"display:none;\">\n",
              "\n",
              "  <svg xmlns=\"http://www.w3.org/2000/svg\" height=\"24px\" viewBox=\"0 -960 960 960\">\n",
              "    <path d=\"M120-120v-720h720v720H120Zm60-500h600v-160H180v160Zm220 220h160v-160H400v160Zm0 220h160v-160H400v160ZM180-400h160v-160H180v160Zm440 0h160v-160H620v160ZM180-180h160v-160H180v160Zm440 0h160v-160H620v160Z\"/>\n",
              "  </svg>\n",
              "    </button>\n",
              "\n",
              "  <style>\n",
              "    .colab-df-container {\n",
              "      display:flex;\n",
              "      gap: 12px;\n",
              "    }\n",
              "\n",
              "    .colab-df-convert {\n",
              "      background-color: #E8F0FE;\n",
              "      border: none;\n",
              "      border-radius: 50%;\n",
              "      cursor: pointer;\n",
              "      display: none;\n",
              "      fill: #1967D2;\n",
              "      height: 32px;\n",
              "      padding: 0 0 0 0;\n",
              "      width: 32px;\n",
              "    }\n",
              "\n",
              "    .colab-df-convert:hover {\n",
              "      background-color: #E2EBFA;\n",
              "      box-shadow: 0px 1px 2px rgba(60, 64, 67, 0.3), 0px 1px 3px 1px rgba(60, 64, 67, 0.15);\n",
              "      fill: #174EA6;\n",
              "    }\n",
              "\n",
              "    .colab-df-buttons div {\n",
              "      margin-bottom: 4px;\n",
              "    }\n",
              "\n",
              "    [theme=dark] .colab-df-convert {\n",
              "      background-color: #3B4455;\n",
              "      fill: #D2E3FC;\n",
              "    }\n",
              "\n",
              "    [theme=dark] .colab-df-convert:hover {\n",
              "      background-color: #434B5C;\n",
              "      box-shadow: 0px 1px 3px 1px rgba(0, 0, 0, 0.15);\n",
              "      filter: drop-shadow(0px 1px 2px rgba(0, 0, 0, 0.3));\n",
              "      fill: #FFFFFF;\n",
              "    }\n",
              "  </style>\n",
              "\n",
              "    <script>\n",
              "      const buttonEl =\n",
              "        document.querySelector('#df-9811d5db-e07b-4f98-910b-c3b7794febe5 button.colab-df-convert');\n",
              "      buttonEl.style.display =\n",
              "        google.colab.kernel.accessAllowed ? 'block' : 'none';\n",
              "\n",
              "      async function convertToInteractive(key) {\n",
              "        const element = document.querySelector('#df-9811d5db-e07b-4f98-910b-c3b7794febe5');\n",
              "        const dataTable =\n",
              "          await google.colab.kernel.invokeFunction('convertToInteractive',\n",
              "                                                    [key], {});\n",
              "        if (!dataTable) return;\n",
              "\n",
              "        const docLinkHtml = 'Like what you see? Visit the ' +\n",
              "          '<a target=\"_blank\" href=https://colab.research.google.com/notebooks/data_table.ipynb>data table notebook</a>'\n",
              "          + ' to learn more about interactive tables.';\n",
              "        element.innerHTML = '';\n",
              "        dataTable['output_type'] = 'display_data';\n",
              "        await google.colab.output.renderOutput(dataTable, element);\n",
              "        const docLink = document.createElement('div');\n",
              "        docLink.innerHTML = docLinkHtml;\n",
              "        element.appendChild(docLink);\n",
              "      }\n",
              "    </script>\n",
              "  </div>\n",
              "\n",
              "\n",
              "<div id=\"df-207995c3-1e29-4236-b1af-843f042e95db\">\n",
              "  <button class=\"colab-df-quickchart\" onclick=\"quickchart('df-207995c3-1e29-4236-b1af-843f042e95db')\"\n",
              "            title=\"Suggest charts\"\n",
              "            style=\"display:none;\">\n",
              "\n",
              "<svg xmlns=\"http://www.w3.org/2000/svg\" height=\"24px\"viewBox=\"0 0 24 24\"\n",
              "     width=\"24px\">\n",
              "    <g>\n",
              "        <path d=\"M19 3H5c-1.1 0-2 .9-2 2v14c0 1.1.9 2 2 2h14c1.1 0 2-.9 2-2V5c0-1.1-.9-2-2-2zM9 17H7v-7h2v7zm4 0h-2V7h2v10zm4 0h-2v-4h2v4z\"/>\n",
              "    </g>\n",
              "</svg>\n",
              "  </button>\n",
              "\n",
              "<style>\n",
              "  .colab-df-quickchart {\n",
              "      --bg-color: #E8F0FE;\n",
              "      --fill-color: #1967D2;\n",
              "      --hover-bg-color: #E2EBFA;\n",
              "      --hover-fill-color: #174EA6;\n",
              "      --disabled-fill-color: #AAA;\n",
              "      --disabled-bg-color: #DDD;\n",
              "  }\n",
              "\n",
              "  [theme=dark] .colab-df-quickchart {\n",
              "      --bg-color: #3B4455;\n",
              "      --fill-color: #D2E3FC;\n",
              "      --hover-bg-color: #434B5C;\n",
              "      --hover-fill-color: #FFFFFF;\n",
              "      --disabled-bg-color: #3B4455;\n",
              "      --disabled-fill-color: #666;\n",
              "  }\n",
              "\n",
              "  .colab-df-quickchart {\n",
              "    background-color: var(--bg-color);\n",
              "    border: none;\n",
              "    border-radius: 50%;\n",
              "    cursor: pointer;\n",
              "    display: none;\n",
              "    fill: var(--fill-color);\n",
              "    height: 32px;\n",
              "    padding: 0;\n",
              "    width: 32px;\n",
              "  }\n",
              "\n",
              "  .colab-df-quickchart:hover {\n",
              "    background-color: var(--hover-bg-color);\n",
              "    box-shadow: 0 1px 2px rgba(60, 64, 67, 0.3), 0 1px 3px 1px rgba(60, 64, 67, 0.15);\n",
              "    fill: var(--button-hover-fill-color);\n",
              "  }\n",
              "\n",
              "  .colab-df-quickchart-complete:disabled,\n",
              "  .colab-df-quickchart-complete:disabled:hover {\n",
              "    background-color: var(--disabled-bg-color);\n",
              "    fill: var(--disabled-fill-color);\n",
              "    box-shadow: none;\n",
              "  }\n",
              "\n",
              "  .colab-df-spinner {\n",
              "    border: 2px solid var(--fill-color);\n",
              "    border-color: transparent;\n",
              "    border-bottom-color: var(--fill-color);\n",
              "    animation:\n",
              "      spin 1s steps(1) infinite;\n",
              "  }\n",
              "\n",
              "  @keyframes spin {\n",
              "    0% {\n",
              "      border-color: transparent;\n",
              "      border-bottom-color: var(--fill-color);\n",
              "      border-left-color: var(--fill-color);\n",
              "    }\n",
              "    20% {\n",
              "      border-color: transparent;\n",
              "      border-left-color: var(--fill-color);\n",
              "      border-top-color: var(--fill-color);\n",
              "    }\n",
              "    30% {\n",
              "      border-color: transparent;\n",
              "      border-left-color: var(--fill-color);\n",
              "      border-top-color: var(--fill-color);\n",
              "      border-right-color: var(--fill-color);\n",
              "    }\n",
              "    40% {\n",
              "      border-color: transparent;\n",
              "      border-right-color: var(--fill-color);\n",
              "      border-top-color: var(--fill-color);\n",
              "    }\n",
              "    60% {\n",
              "      border-color: transparent;\n",
              "      border-right-color: var(--fill-color);\n",
              "    }\n",
              "    80% {\n",
              "      border-color: transparent;\n",
              "      border-right-color: var(--fill-color);\n",
              "      border-bottom-color: var(--fill-color);\n",
              "    }\n",
              "    90% {\n",
              "      border-color: transparent;\n",
              "      border-bottom-color: var(--fill-color);\n",
              "    }\n",
              "  }\n",
              "</style>\n",
              "\n",
              "  <script>\n",
              "    async function quickchart(key) {\n",
              "      const quickchartButtonEl =\n",
              "        document.querySelector('#' + key + ' button');\n",
              "      quickchartButtonEl.disabled = true;  // To prevent multiple clicks.\n",
              "      quickchartButtonEl.classList.add('colab-df-spinner');\n",
              "      try {\n",
              "        const charts = await google.colab.kernel.invokeFunction(\n",
              "            'suggestCharts', [key], {});\n",
              "      } catch (error) {\n",
              "        console.error('Error during call to suggestCharts:', error);\n",
              "      }\n",
              "      quickchartButtonEl.classList.remove('colab-df-spinner');\n",
              "      quickchartButtonEl.classList.add('colab-df-quickchart-complete');\n",
              "    }\n",
              "    (() => {\n",
              "      let quickchartButtonEl =\n",
              "        document.querySelector('#df-207995c3-1e29-4236-b1af-843f042e95db button');\n",
              "      quickchartButtonEl.style.display =\n",
              "        google.colab.kernel.accessAllowed ? 'block' : 'none';\n",
              "    })();\n",
              "  </script>\n",
              "</div>\n",
              "    </div>\n",
              "  </div>\n"
            ]
          },
          "metadata": {},
          "execution_count": 20
        }
      ],
      "source": [
        "new_df.head()"
      ]
    },
    {
      "cell_type": "code",
      "execution_count": 21,
      "metadata": {
        "id": "TaKdy7PHwUtP"
      },
      "outputs": [],
      "source": [
        "#removing punchuation\n",
        "\n",
        "\n",
        "import string\n",
        "string.punctuation\n",
        "exclude = string.punctuation\n",
        "def remove_punc(text):\n",
        "    if isinstance(text, str):\n",
        "        return ''.join(ch for ch in text if ch not in exclude)\n",
        "    else:\n",
        "        return str(text)  # Convert non-string data to string"
      ]
    },
    {
      "cell_type": "code",
      "execution_count": 22,
      "metadata": {
        "id": "s-EUZ33swfy1"
      },
      "outputs": [],
      "source": [
        "new_df['article'] = new_df['article'].apply(remove_punc)\n",
        "\n",
        "new_df['highlights'] = new_df['highlights'].apply(remove_punc)"
      ]
    },
    {
      "cell_type": "code",
      "execution_count": 23,
      "metadata": {
        "id": "N2jk9WjfwkZI",
        "colab": {
          "base_uri": "https://localhost:8080/"
        },
        "outputId": "0aa5f9f4-7fa5-4344-b966-8116e7aa2e27"
      },
      "outputs": [
        {
          "output_type": "stream",
          "name": "stdout",
          "text": [
            "['i', 'me', 'my', 'myself', 'we', 'our', 'ours', 'ourselves', 'you', \"you're\", \"you've\", \"you'll\", \"you'd\", 'your', 'yours', 'yourself', 'yourselves', 'he', 'him', 'his', 'himself', 'she', \"she's\", 'her', 'hers', 'herself', 'it', \"it's\", 'its', 'itself', 'they', 'them', 'their', 'theirs', 'themselves', 'what', 'which', 'who', 'whom', 'this', 'that', \"that'll\", 'these', 'those', 'am', 'is', 'are', 'was', 'were', 'be', 'been', 'being', 'have', 'has', 'had', 'having', 'do', 'does', 'did', 'doing', 'a', 'an', 'the', 'and', 'but', 'if', 'or', 'because', 'as', 'until', 'while', 'of', 'at', 'by', 'for', 'with', 'about', 'against', 'between', 'into', 'through', 'during', 'before', 'after', 'above', 'below', 'to', 'from', 'up', 'down', 'in', 'out', 'on', 'off', 'over', 'under', 'again', 'further', 'then', 'once', 'here', 'there', 'when', 'where', 'why', 'how', 'all', 'any', 'both', 'each', 'few', 'more', 'most', 'other', 'some', 'such', 'no', 'nor', 'not', 'only', 'own', 'same', 'so', 'than', 'too', 'very', 's', 't', 'can', 'will', 'just', 'don', \"don't\", 'should', \"should've\", 'now', 'd', 'll', 'm', 'o', 're', 've', 'y', 'ain', 'aren', \"aren't\", 'couldn', \"couldn't\", 'didn', \"didn't\", 'doesn', \"doesn't\", 'hadn', \"hadn't\", 'hasn', \"hasn't\", 'haven', \"haven't\", 'isn', \"isn't\", 'ma', 'mightn', \"mightn't\", 'mustn', \"mustn't\", 'needn', \"needn't\", 'shan', \"shan't\", 'shouldn', \"shouldn't\", 'wasn', \"wasn't\", 'weren', \"weren't\", 'won', \"won't\", 'wouldn', \"wouldn't\"]\n"
          ]
        },
        {
          "output_type": "stream",
          "name": "stderr",
          "text": [
            "[nltk_data] Downloading package stopwords to /root/nltk_data...\n",
            "[nltk_data]   Package stopwords is already up-to-date!\n"
          ]
        }
      ],
      "source": [
        "from nltk.corpus import stopwords\n",
        "nltk.download('stopwords')\n",
        "stopwords = nltk.corpus.stopwords.words('english')\n",
        "\n",
        "print(stopwords)"
      ]
    },
    {
      "cell_type": "code",
      "source": [
        "import nltk\n",
        "nltk.download('stopwords')\n",
        "from nltk.corpus import stopwords\n",
        "\n",
        "stop_words = stopwords.words('english')\n",
        "new_df['article'] = new_df['article'].apply(lambda x: ' '.join([word for word in x.split() if word not in (stop_words)]))\n",
        "new_df['highlights'] = new_df['highlights'].apply(lambda x: ' '.join([word for word in x.split() if word not in (stop_words)]))"
      ],
      "metadata": {
        "colab": {
          "base_uri": "https://localhost:8080/"
        },
        "id": "JGR138QarO3c",
        "outputId": "7673943e-b93b-42bf-edb3-768b6506a142"
      },
      "execution_count": 24,
      "outputs": [
        {
          "output_type": "stream",
          "name": "stderr",
          "text": [
            "[nltk_data] Downloading package stopwords to /root/nltk_data...\n",
            "[nltk_data]   Package stopwords is already up-to-date!\n"
          ]
        }
      ]
    },
    {
      "cell_type": "code",
      "source": [
        "data_train.head(1)"
      ],
      "metadata": {
        "id": "ZFWR4dg1sQlH"
      },
      "execution_count": null,
      "outputs": []
    },
    {
      "cell_type": "code",
      "source": [
        "new_df.head(1)"
      ],
      "metadata": {
        "colab": {
          "base_uri": "https://localhost:8080/",
          "height": 168
        },
        "id": "53UvDl_TxJUo",
        "outputId": "288b98c4-4ea3-4247-cc1a-7de3233387a5"
      },
      "execution_count": 26,
      "outputs": [
        {
          "output_type": "execute_result",
          "data": {
            "text/plain": [
              "                                              id  \\\n",
              "237847  bfdad69e453b1170d74a81b34787efb3c99a0a53   \n",
              "\n",
              "                                                                                                                                                                                                        article  \\\n",
              "237847  ian drury published 2235 est 11 november 2012 updated 0251 est 13 november 2012 british army officer shot dead afghan soldier played remembrance day football match named ministry defence captain w...   \n",
              "\n",
              "                                                                                                                                                                                                     highlights  \n",
              "237847  captain walter barrie 41 died rogue soldier hit game wife fellow soldiers pay tribute great man approachable compassionate british forces hold man responsible named mohammad ashraf ashraf shot inj...  "
            ],
            "text/html": [
              "\n",
              "  <div id=\"df-70060b42-f232-4ba3-9a4f-feacd77a0f42\" class=\"colab-df-container\">\n",
              "    <div>\n",
              "<style scoped>\n",
              "    .dataframe tbody tr th:only-of-type {\n",
              "        vertical-align: middle;\n",
              "    }\n",
              "\n",
              "    .dataframe tbody tr th {\n",
              "        vertical-align: top;\n",
              "    }\n",
              "\n",
              "    .dataframe thead th {\n",
              "        text-align: right;\n",
              "    }\n",
              "</style>\n",
              "<table border=\"1\" class=\"dataframe\">\n",
              "  <thead>\n",
              "    <tr style=\"text-align: right;\">\n",
              "      <th></th>\n",
              "      <th>id</th>\n",
              "      <th>article</th>\n",
              "      <th>highlights</th>\n",
              "    </tr>\n",
              "  </thead>\n",
              "  <tbody>\n",
              "    <tr>\n",
              "      <th>237847</th>\n",
              "      <td>bfdad69e453b1170d74a81b34787efb3c99a0a53</td>\n",
              "      <td>ian drury published 2235 est 11 november 2012 updated 0251 est 13 november 2012 british army officer shot dead afghan soldier played remembrance day football match named ministry defence captain w...</td>\n",
              "      <td>captain walter barrie 41 died rogue soldier hit game wife fellow soldiers pay tribute great man approachable compassionate british forces hold man responsible named mohammad ashraf ashraf shot inj...</td>\n",
              "    </tr>\n",
              "  </tbody>\n",
              "</table>\n",
              "</div>\n",
              "    <div class=\"colab-df-buttons\">\n",
              "\n",
              "  <div class=\"colab-df-container\">\n",
              "    <button class=\"colab-df-convert\" onclick=\"convertToInteractive('df-70060b42-f232-4ba3-9a4f-feacd77a0f42')\"\n",
              "            title=\"Convert this dataframe to an interactive table.\"\n",
              "            style=\"display:none;\">\n",
              "\n",
              "  <svg xmlns=\"http://www.w3.org/2000/svg\" height=\"24px\" viewBox=\"0 -960 960 960\">\n",
              "    <path d=\"M120-120v-720h720v720H120Zm60-500h600v-160H180v160Zm220 220h160v-160H400v160Zm0 220h160v-160H400v160ZM180-400h160v-160H180v160Zm440 0h160v-160H620v160ZM180-180h160v-160H180v160Zm440 0h160v-160H620v160Z\"/>\n",
              "  </svg>\n",
              "    </button>\n",
              "\n",
              "  <style>\n",
              "    .colab-df-container {\n",
              "      display:flex;\n",
              "      gap: 12px;\n",
              "    }\n",
              "\n",
              "    .colab-df-convert {\n",
              "      background-color: #E8F0FE;\n",
              "      border: none;\n",
              "      border-radius: 50%;\n",
              "      cursor: pointer;\n",
              "      display: none;\n",
              "      fill: #1967D2;\n",
              "      height: 32px;\n",
              "      padding: 0 0 0 0;\n",
              "      width: 32px;\n",
              "    }\n",
              "\n",
              "    .colab-df-convert:hover {\n",
              "      background-color: #E2EBFA;\n",
              "      box-shadow: 0px 1px 2px rgba(60, 64, 67, 0.3), 0px 1px 3px 1px rgba(60, 64, 67, 0.15);\n",
              "      fill: #174EA6;\n",
              "    }\n",
              "\n",
              "    .colab-df-buttons div {\n",
              "      margin-bottom: 4px;\n",
              "    }\n",
              "\n",
              "    [theme=dark] .colab-df-convert {\n",
              "      background-color: #3B4455;\n",
              "      fill: #D2E3FC;\n",
              "    }\n",
              "\n",
              "    [theme=dark] .colab-df-convert:hover {\n",
              "      background-color: #434B5C;\n",
              "      box-shadow: 0px 1px 3px 1px rgba(0, 0, 0, 0.15);\n",
              "      filter: drop-shadow(0px 1px 2px rgba(0, 0, 0, 0.3));\n",
              "      fill: #FFFFFF;\n",
              "    }\n",
              "  </style>\n",
              "\n",
              "    <script>\n",
              "      const buttonEl =\n",
              "        document.querySelector('#df-70060b42-f232-4ba3-9a4f-feacd77a0f42 button.colab-df-convert');\n",
              "      buttonEl.style.display =\n",
              "        google.colab.kernel.accessAllowed ? 'block' : 'none';\n",
              "\n",
              "      async function convertToInteractive(key) {\n",
              "        const element = document.querySelector('#df-70060b42-f232-4ba3-9a4f-feacd77a0f42');\n",
              "        const dataTable =\n",
              "          await google.colab.kernel.invokeFunction('convertToInteractive',\n",
              "                                                    [key], {});\n",
              "        if (!dataTable) return;\n",
              "\n",
              "        const docLinkHtml = 'Like what you see? Visit the ' +\n",
              "          '<a target=\"_blank\" href=https://colab.research.google.com/notebooks/data_table.ipynb>data table notebook</a>'\n",
              "          + ' to learn more about interactive tables.';\n",
              "        element.innerHTML = '';\n",
              "        dataTable['output_type'] = 'display_data';\n",
              "        await google.colab.output.renderOutput(dataTable, element);\n",
              "        const docLink = document.createElement('div');\n",
              "        docLink.innerHTML = docLinkHtml;\n",
              "        element.appendChild(docLink);\n",
              "      }\n",
              "    </script>\n",
              "  </div>\n",
              "\n",
              "    </div>\n",
              "  </div>\n"
            ]
          },
          "metadata": {},
          "execution_count": 26
        }
      ]
    },
    {
      "cell_type": "code",
      "execution_count": 27,
      "metadata": {
        "id": "wjYAbVnK3wiN"
      },
      "outputs": [],
      "source": [
        "#!pip install contractions\n"
      ]
    },
    {
      "cell_type": "code",
      "source": [
        "max_len_text=80\n",
        "max_len_summary=10"
      ],
      "metadata": {
        "id": "tsPHdtpm_iIT"
      },
      "execution_count": 28,
      "outputs": []
    },
    {
      "cell_type": "code",
      "source": [
        "from sklearn.model_selection import train_test_split\n",
        "x_tr,x_val,y_tr,y_val=train_test_split(df['article'],df['highlights'],test_size=0.1,random_state=0,shuffle=True)"
      ],
      "metadata": {
        "id": "ALhIQrqvDVpg"
      },
      "execution_count": 29,
      "outputs": []
    },
    {
      "cell_type": "code",
      "source": [
        "#prepare a tokenizer for reviews on training data\n",
        "x_tokenizer = Tokenizer()\n",
        "x_tokenizer.fit_on_texts(list(x_tr))\n",
        "\n",
        "#convert text sequences into integer sequences\n",
        "x_tr    =   x_tokenizer.texts_to_sequences(x_tr)\n",
        "x_val   =   x_tokenizer.texts_to_sequences(x_val)\n",
        "\n",
        "#padding zero upto maximum length\n",
        "x_tr    =   pad_sequences(x_tr,  maxlen=max_len_text, padding='post')\n",
        "x_val   =   pad_sequences(x_val, maxlen=max_len_text, padding='post')\n",
        "\n",
        "x_voc_size   =  len(x_tokenizer.word_index) +1"
      ],
      "metadata": {
        "id": "7zBMGNiOplHZ"
      },
      "execution_count": null,
      "outputs": []
    },
    {
      "cell_type": "code",
      "source": [
        "#preparing a tokenizer for summary on training data\n",
        "y_tokenizer = Tokenizer()\n",
        "y_tokenizer.fit_on_texts(list(y_tr))\n",
        "\n",
        "#convert summary sequences into integer sequences\n",
        "y_tr    =   y_tokenizer.texts_to_sequences(y_tr)\n",
        "y_val   =   y_tokenizer.texts_to_sequences(y_val)\n",
        "\n",
        "#padding zero upto maximum length\n",
        "y_tr    =   pad_sequences(y_tr, maxlen=max_len_summary, padding='post')\n",
        "y_val   =   pad_sequences(y_val, maxlen=max_len_summary, padding='post')\n",
        "\n",
        "y_voc_size  =   len(y_tokenizer.word_index) +1"
      ],
      "metadata": {
        "id": "UkQr1e0A_3Gx"
      },
      "execution_count": null,
      "outputs": []
    },
    {
      "cell_type": "markdown",
      "source": [
        "1. Note for tomorrow\n",
        "2. Concatinate all three data set and form a new data set\n",
        "3. Create a sample of around 100000 of those data\n",
        "4. Clean those data set and apply all the preprocessing\n",
        "5. Split into train and validation set\n",
        "6. Tokenize\n",
        "7. Then LSTM network"
      ],
      "metadata": {
        "id": "NWxcEWsNARSW"
      }
    },
    {
      "cell_type": "code",
      "source": [],
      "metadata": {
        "id": "0dxdnQjhAWku"
      },
      "execution_count": null,
      "outputs": []
    }
  ],
  "metadata": {
    "colab": {
      "provenance": [],
      "authorship_tag": "ABX9TyOJD+pvz2VZb+HlIrt/ESnI",
      "include_colab_link": true
    },
    "kernelspec": {
      "display_name": "Python 3",
      "name": "python3"
    },
    "language_info": {
      "name": "python"
    }
  },
  "nbformat": 4,
  "nbformat_minor": 0
}