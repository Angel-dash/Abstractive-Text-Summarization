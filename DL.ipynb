{
  "cells": [
    {
      "cell_type": "markdown",
      "metadata": {
        "id": "view-in-github",
        "colab_type": "text"
      },
      "source": [
        "<a href=\"https://colab.research.google.com/github/Angel-dash/Abstractive-Text-Summarization/blob/main/DL.ipynb\" target=\"_parent\"><img src=\"https://colab.research.google.com/assets/colab-badge.svg\" alt=\"Open In Colab\"/></a>"
      ]
    },
    {
      "cell_type": "markdown",
      "metadata": {
        "id": "kqAfNPhkHgS_"
      },
      "source": [
        "Uncomment the code below if you are running on google colab\n",
        "If you are running the code on the google colab then you must have the data set on your google drive. Link to the dataset where you can download it form https://drive.google.com/file/d/1CAK0Cj1kNgoZ0FRxwwCflbh-1-hKDPoK/view?usp=sharing\n",
        "\n"
      ]
    },
    {
      "cell_type": "code",
      "execution_count": null,
      "metadata": {
        "colab": {
          "base_uri": "https://localhost:8080/"
        },
        "id": "MMJKxxgXOPT0",
        "outputId": "3caf0d03-4926-4f8f-8761-d5a30eb2c7ad"
      },
      "outputs": [
        {
          "output_type": "stream",
          "name": "stdout",
          "text": [
            "Mounted at /content/drive\n"
          ]
        }
      ],
      "source": [
        "from google.colab import drive\n",
        "drive.mount('/content/drive', force_remount = True)\n"
      ]
    },
    {
      "cell_type": "code",
      "execution_count": null,
      "metadata": {
        "colab": {
          "base_uri": "https://localhost:8080/"
        },
        "id": "NL040gAPOe6t",
        "outputId": "a28ebfee-c61c-41b5-8a9b-14009ba4425c"
      },
      "outputs": [
        {
          "output_type": "stream",
          "name": "stdout",
          "text": [
            "Archive:  /content/drive/MyDrive/MiniProjectdata/amazon.zip\n",
            "  inflating: Reviews.csv             \n",
            "  inflating: database.sqlite         \n",
            "  inflating: hashes.txt              \n"
          ]
        }
      ],
      "source": [
        "#!unzip /content/drive/MyDrive/DL/data.zip # Comment out for niranjan's\n",
        "!unzip /content/drive/MyDrive/MiniProjectdata/amazon.zip #comment out for Angel's\n",
        "\n"
      ]
    },
    {
      "cell_type": "code",
      "execution_count": null,
      "metadata": {
        "id": "fHunr2RhP2pd",
        "colab": {
          "base_uri": "https://localhost:8080/"
        },
        "outputId": "49c5cce3-fc47-4f3e-a4ab-b477ff8adaf8"
      },
      "outputs": [
        {
          "output_type": "stream",
          "name": "stderr",
          "text": [
            "[nltk_data] Downloading package stopwords to /root/nltk_data...\n",
            "[nltk_data]   Unzipping corpora/stopwords.zip.\n"
          ]
        },
        {
          "output_type": "execute_result",
          "data": {
            "text/plain": [
              "True"
            ]
          },
          "metadata": {},
          "execution_count": 3
        }
      ],
      "source": [
        "import numpy as np\n",
        "import pandas as pd\n",
        "import re\n",
        "from bs4 import BeautifulSoup\n",
        "from tensorflow.keras.preprocessing.text import Tokenizer\n",
        "from tensorflow.keras.preprocessing.sequence import pad_sequences\n",
        "from nltk.corpus import stopwords\n",
        "from tensorflow.keras.layers import Input, LSTM, Embedding, Dense, Concatenate, TimeDistributed, Bidirectional\n",
        "from tensorflow.keras.models import Model\n",
        "from tensorflow.keras.callbacks import EarlyStopping\n",
        "import warnings\n",
        "pd.set_option(\"display.max_colwidth\", 200)\n",
        "warnings.filterwarnings(\"ignore\")\n",
        "import textwrap\n",
        "import nltk\n",
        "nltk.download('stopwords')"
      ]
    },
    {
      "cell_type": "code",
      "execution_count": null,
      "metadata": {
        "id": "_4YwYIe7hQmt"
      },
      "outputs": [],
      "source": [
        "#data_train=pd.read_csv('/content/cnn_dailymail/train.csv')\n",
        "#data_test=pd.read_csv('/content/cnn_dailymail/test.csv')\n",
        "#data_validation=pd.read_csv('/content/cnn_dailymail/validation.csv')\n",
        "data=pd.read_csv('/content/Reviews.csv',nrows=100000)"
      ]
    },
    {
      "cell_type": "markdown",
      "metadata": {
        "id": "zQJdiWCJoIaM"
      },
      "source": [
        "Data preprocessing"
      ]
    },
    {
      "cell_type": "code",
      "execution_count": null,
      "metadata": {
        "id": "uhS4-P39kULT"
      },
      "outputs": [],
      "source": [
        "#data = pd.concat([data_train, data_test, data_validation ])\n",
        "df = data"
      ]
    },
    {
      "cell_type": "code",
      "execution_count": null,
      "metadata": {
        "id": "ibu0t1QjvoVk"
      },
      "outputs": [],
      "source": [
        "new_df=df.sample(25000)"
      ]
    },
    {
      "cell_type": "code",
      "execution_count": null,
      "metadata": {
        "id": "bjaSvOGej9gg",
        "colab": {
          "base_uri": "https://localhost:8080/",
          "height": 230
        },
        "outputId": "93efd8b4-2105-47d1-bef5-94028fdffc95"
      },
      "outputs": [
        {
          "output_type": "execute_result",
          "data": {
            "text/plain": [
              "          Id   ProductId          UserId            ProfileName  \\\n",
              "77995  77996  B000VK8HCW  A2E7MWFFDYGALE             Judy Walls   \n",
              "4253    4254  B004391DK0  A2MHH4FWA6B6FV  R. Taylor \"R. Taylor\"   \n",
              "28759  28760  B003XW70VY  A3AD2S4F5Z6SGA                 Jackie   \n",
              "\n",
              "       HelpfulnessNumerator  HelpfulnessDenominator  Score        Time  \\\n",
              "77995                     0                       0      5  1290816000   \n",
              "4253                     51                      51      5  1307059200   \n",
              "28759                     0                       0      5  1288915200   \n",
              "\n",
              "                                                   Summary  \\\n",
              "77995                                            Happy Dog   \n",
              "4253   One of the Greatest Gluten Free Products I've Found   \n",
              "28759                                 A perfect cup of tea   \n",
              "\n",
              "                                                                                                                                                                                                          Text  \n",
              "77995                                                                           My dog LOVES this food. He follows us around at meal time till he gets his food and then never leaves his dish till it's gone.  \n",
              "4253   This is one of the most versatile mixes I've found, and most recipes come out tasting very much like the Full of Gluten Blends. I, like many, am struggling with celiac's disease, and I've only jus...  \n",
              "28759                                                                                                This product makes a very good cup of tea.  My grandson enjoys this tea with his breakfast every morning.  "
            ],
            "text/html": [
              "\n",
              "  <div id=\"df-f93ddf88-e8d9-480d-8b6e-d58c3d9a3c2a\" class=\"colab-df-container\">\n",
              "    <div>\n",
              "<style scoped>\n",
              "    .dataframe tbody tr th:only-of-type {\n",
              "        vertical-align: middle;\n",
              "    }\n",
              "\n",
              "    .dataframe tbody tr th {\n",
              "        vertical-align: top;\n",
              "    }\n",
              "\n",
              "    .dataframe thead th {\n",
              "        text-align: right;\n",
              "    }\n",
              "</style>\n",
              "<table border=\"1\" class=\"dataframe\">\n",
              "  <thead>\n",
              "    <tr style=\"text-align: right;\">\n",
              "      <th></th>\n",
              "      <th>Id</th>\n",
              "      <th>ProductId</th>\n",
              "      <th>UserId</th>\n",
              "      <th>ProfileName</th>\n",
              "      <th>HelpfulnessNumerator</th>\n",
              "      <th>HelpfulnessDenominator</th>\n",
              "      <th>Score</th>\n",
              "      <th>Time</th>\n",
              "      <th>Summary</th>\n",
              "      <th>Text</th>\n",
              "    </tr>\n",
              "  </thead>\n",
              "  <tbody>\n",
              "    <tr>\n",
              "      <th>77995</th>\n",
              "      <td>77996</td>\n",
              "      <td>B000VK8HCW</td>\n",
              "      <td>A2E7MWFFDYGALE</td>\n",
              "      <td>Judy Walls</td>\n",
              "      <td>0</td>\n",
              "      <td>0</td>\n",
              "      <td>5</td>\n",
              "      <td>1290816000</td>\n",
              "      <td>Happy Dog</td>\n",
              "      <td>My dog LOVES this food. He follows us around at meal time till he gets his food and then never leaves his dish till it's gone.</td>\n",
              "    </tr>\n",
              "    <tr>\n",
              "      <th>4253</th>\n",
              "      <td>4254</td>\n",
              "      <td>B004391DK0</td>\n",
              "      <td>A2MHH4FWA6B6FV</td>\n",
              "      <td>R. Taylor \"R. Taylor\"</td>\n",
              "      <td>51</td>\n",
              "      <td>51</td>\n",
              "      <td>5</td>\n",
              "      <td>1307059200</td>\n",
              "      <td>One of the Greatest Gluten Free Products I've Found</td>\n",
              "      <td>This is one of the most versatile mixes I've found, and most recipes come out tasting very much like the Full of Gluten Blends. I, like many, am struggling with celiac's disease, and I've only jus...</td>\n",
              "    </tr>\n",
              "    <tr>\n",
              "      <th>28759</th>\n",
              "      <td>28760</td>\n",
              "      <td>B003XW70VY</td>\n",
              "      <td>A3AD2S4F5Z6SGA</td>\n",
              "      <td>Jackie</td>\n",
              "      <td>0</td>\n",
              "      <td>0</td>\n",
              "      <td>5</td>\n",
              "      <td>1288915200</td>\n",
              "      <td>A perfect cup of tea</td>\n",
              "      <td>This product makes a very good cup of tea.  My grandson enjoys this tea with his breakfast every morning.</td>\n",
              "    </tr>\n",
              "  </tbody>\n",
              "</table>\n",
              "</div>\n",
              "    <div class=\"colab-df-buttons\">\n",
              "\n",
              "  <div class=\"colab-df-container\">\n",
              "    <button class=\"colab-df-convert\" onclick=\"convertToInteractive('df-f93ddf88-e8d9-480d-8b6e-d58c3d9a3c2a')\"\n",
              "            title=\"Convert this dataframe to an interactive table.\"\n",
              "            style=\"display:none;\">\n",
              "\n",
              "  <svg xmlns=\"http://www.w3.org/2000/svg\" height=\"24px\" viewBox=\"0 -960 960 960\">\n",
              "    <path d=\"M120-120v-720h720v720H120Zm60-500h600v-160H180v160Zm220 220h160v-160H400v160Zm0 220h160v-160H400v160ZM180-400h160v-160H180v160Zm440 0h160v-160H620v160ZM180-180h160v-160H180v160Zm440 0h160v-160H620v160Z\"/>\n",
              "  </svg>\n",
              "    </button>\n",
              "\n",
              "  <style>\n",
              "    .colab-df-container {\n",
              "      display:flex;\n",
              "      gap: 12px;\n",
              "    }\n",
              "\n",
              "    .colab-df-convert {\n",
              "      background-color: #E8F0FE;\n",
              "      border: none;\n",
              "      border-radius: 50%;\n",
              "      cursor: pointer;\n",
              "      display: none;\n",
              "      fill: #1967D2;\n",
              "      height: 32px;\n",
              "      padding: 0 0 0 0;\n",
              "      width: 32px;\n",
              "    }\n",
              "\n",
              "    .colab-df-convert:hover {\n",
              "      background-color: #E2EBFA;\n",
              "      box-shadow: 0px 1px 2px rgba(60, 64, 67, 0.3), 0px 1px 3px 1px rgba(60, 64, 67, 0.15);\n",
              "      fill: #174EA6;\n",
              "    }\n",
              "\n",
              "    .colab-df-buttons div {\n",
              "      margin-bottom: 4px;\n",
              "    }\n",
              "\n",
              "    [theme=dark] .colab-df-convert {\n",
              "      background-color: #3B4455;\n",
              "      fill: #D2E3FC;\n",
              "    }\n",
              "\n",
              "    [theme=dark] .colab-df-convert:hover {\n",
              "      background-color: #434B5C;\n",
              "      box-shadow: 0px 1px 3px 1px rgba(0, 0, 0, 0.15);\n",
              "      filter: drop-shadow(0px 1px 2px rgba(0, 0, 0, 0.3));\n",
              "      fill: #FFFFFF;\n",
              "    }\n",
              "  </style>\n",
              "\n",
              "    <script>\n",
              "      const buttonEl =\n",
              "        document.querySelector('#df-f93ddf88-e8d9-480d-8b6e-d58c3d9a3c2a button.colab-df-convert');\n",
              "      buttonEl.style.display =\n",
              "        google.colab.kernel.accessAllowed ? 'block' : 'none';\n",
              "\n",
              "      async function convertToInteractive(key) {\n",
              "        const element = document.querySelector('#df-f93ddf88-e8d9-480d-8b6e-d58c3d9a3c2a');\n",
              "        const dataTable =\n",
              "          await google.colab.kernel.invokeFunction('convertToInteractive',\n",
              "                                                    [key], {});\n",
              "        if (!dataTable) return;\n",
              "\n",
              "        const docLinkHtml = 'Like what you see? Visit the ' +\n",
              "          '<a target=\"_blank\" href=https://colab.research.google.com/notebooks/data_table.ipynb>data table notebook</a>'\n",
              "          + ' to learn more about interactive tables.';\n",
              "        element.innerHTML = '';\n",
              "        dataTable['output_type'] = 'display_data';\n",
              "        await google.colab.output.renderOutput(dataTable, element);\n",
              "        const docLink = document.createElement('div');\n",
              "        docLink.innerHTML = docLinkHtml;\n",
              "        element.appendChild(docLink);\n",
              "      }\n",
              "    </script>\n",
              "  </div>\n",
              "\n",
              "\n",
              "<div id=\"df-67dfb9ee-3735-4edc-9bf6-07d47e1569db\">\n",
              "  <button class=\"colab-df-quickchart\" onclick=\"quickchart('df-67dfb9ee-3735-4edc-9bf6-07d47e1569db')\"\n",
              "            title=\"Suggest charts\"\n",
              "            style=\"display:none;\">\n",
              "\n",
              "<svg xmlns=\"http://www.w3.org/2000/svg\" height=\"24px\"viewBox=\"0 0 24 24\"\n",
              "     width=\"24px\">\n",
              "    <g>\n",
              "        <path d=\"M19 3H5c-1.1 0-2 .9-2 2v14c0 1.1.9 2 2 2h14c1.1 0 2-.9 2-2V5c0-1.1-.9-2-2-2zM9 17H7v-7h2v7zm4 0h-2V7h2v10zm4 0h-2v-4h2v4z\"/>\n",
              "    </g>\n",
              "</svg>\n",
              "  </button>\n",
              "\n",
              "<style>\n",
              "  .colab-df-quickchart {\n",
              "      --bg-color: #E8F0FE;\n",
              "      --fill-color: #1967D2;\n",
              "      --hover-bg-color: #E2EBFA;\n",
              "      --hover-fill-color: #174EA6;\n",
              "      --disabled-fill-color: #AAA;\n",
              "      --disabled-bg-color: #DDD;\n",
              "  }\n",
              "\n",
              "  [theme=dark] .colab-df-quickchart {\n",
              "      --bg-color: #3B4455;\n",
              "      --fill-color: #D2E3FC;\n",
              "      --hover-bg-color: #434B5C;\n",
              "      --hover-fill-color: #FFFFFF;\n",
              "      --disabled-bg-color: #3B4455;\n",
              "      --disabled-fill-color: #666;\n",
              "  }\n",
              "\n",
              "  .colab-df-quickchart {\n",
              "    background-color: var(--bg-color);\n",
              "    border: none;\n",
              "    border-radius: 50%;\n",
              "    cursor: pointer;\n",
              "    display: none;\n",
              "    fill: var(--fill-color);\n",
              "    height: 32px;\n",
              "    padding: 0;\n",
              "    width: 32px;\n",
              "  }\n",
              "\n",
              "  .colab-df-quickchart:hover {\n",
              "    background-color: var(--hover-bg-color);\n",
              "    box-shadow: 0 1px 2px rgba(60, 64, 67, 0.3), 0 1px 3px 1px rgba(60, 64, 67, 0.15);\n",
              "    fill: var(--button-hover-fill-color);\n",
              "  }\n",
              "\n",
              "  .colab-df-quickchart-complete:disabled,\n",
              "  .colab-df-quickchart-complete:disabled:hover {\n",
              "    background-color: var(--disabled-bg-color);\n",
              "    fill: var(--disabled-fill-color);\n",
              "    box-shadow: none;\n",
              "  }\n",
              "\n",
              "  .colab-df-spinner {\n",
              "    border: 2px solid var(--fill-color);\n",
              "    border-color: transparent;\n",
              "    border-bottom-color: var(--fill-color);\n",
              "    animation:\n",
              "      spin 1s steps(1) infinite;\n",
              "  }\n",
              "\n",
              "  @keyframes spin {\n",
              "    0% {\n",
              "      border-color: transparent;\n",
              "      border-bottom-color: var(--fill-color);\n",
              "      border-left-color: var(--fill-color);\n",
              "    }\n",
              "    20% {\n",
              "      border-color: transparent;\n",
              "      border-left-color: var(--fill-color);\n",
              "      border-top-color: var(--fill-color);\n",
              "    }\n",
              "    30% {\n",
              "      border-color: transparent;\n",
              "      border-left-color: var(--fill-color);\n",
              "      border-top-color: var(--fill-color);\n",
              "      border-right-color: var(--fill-color);\n",
              "    }\n",
              "    40% {\n",
              "      border-color: transparent;\n",
              "      border-right-color: var(--fill-color);\n",
              "      border-top-color: var(--fill-color);\n",
              "    }\n",
              "    60% {\n",
              "      border-color: transparent;\n",
              "      border-right-color: var(--fill-color);\n",
              "    }\n",
              "    80% {\n",
              "      border-color: transparent;\n",
              "      border-right-color: var(--fill-color);\n",
              "      border-bottom-color: var(--fill-color);\n",
              "    }\n",
              "    90% {\n",
              "      border-color: transparent;\n",
              "      border-bottom-color: var(--fill-color);\n",
              "    }\n",
              "  }\n",
              "</style>\n",
              "\n",
              "  <script>\n",
              "    async function quickchart(key) {\n",
              "      const quickchartButtonEl =\n",
              "        document.querySelector('#' + key + ' button');\n",
              "      quickchartButtonEl.disabled = true;  // To prevent multiple clicks.\n",
              "      quickchartButtonEl.classList.add('colab-df-spinner');\n",
              "      try {\n",
              "        const charts = await google.colab.kernel.invokeFunction(\n",
              "            'suggestCharts', [key], {});\n",
              "      } catch (error) {\n",
              "        console.error('Error during call to suggestCharts:', error);\n",
              "      }\n",
              "      quickchartButtonEl.classList.remove('colab-df-spinner');\n",
              "      quickchartButtonEl.classList.add('colab-df-quickchart-complete');\n",
              "    }\n",
              "    (() => {\n",
              "      let quickchartButtonEl =\n",
              "        document.querySelector('#df-67dfb9ee-3735-4edc-9bf6-07d47e1569db button');\n",
              "      quickchartButtonEl.style.display =\n",
              "        google.colab.kernel.accessAllowed ? 'block' : 'none';\n",
              "    })();\n",
              "  </script>\n",
              "</div>\n",
              "    </div>\n",
              "  </div>\n"
            ]
          },
          "metadata": {},
          "execution_count": 7
        }
      ],
      "source": [
        "new_df.head(3)"
      ]
    },
    {
      "cell_type": "code",
      "execution_count": null,
      "metadata": {
        "id": "B4gMsVvVmV_b",
        "colab": {
          "base_uri": "https://localhost:8080/"
        },
        "outputId": "98bc96bf-5938-4fc7-8ba9-edfe520250c7"
      },
      "outputs": [
        {
          "output_type": "execute_result",
          "data": {
            "text/plain": [
              "(25000, 10)"
            ]
          },
          "metadata": {},
          "execution_count": 8
        }
      ],
      "source": [
        "new_df.shape"
      ]
    },
    {
      "cell_type": "code",
      "execution_count": null,
      "metadata": {
        "id": "3dPq1VoEmYMF"
      },
      "outputs": [],
      "source": [
        "#sample=new_df.sample()\n",
        "#print(\"****Article****\")\n",
        "#print(sample.article.values)\n",
        "#print('****Highlights****')\n",
        "#print(sample.highlights.values)"
      ]
    },
    {
      "cell_type": "markdown",
      "metadata": {
        "id": "A8f0fplPn7FV"
      },
      "source": [
        "Checking for Null values\n"
      ]
    },
    {
      "cell_type": "code",
      "execution_count": null,
      "metadata": {
        "id": "-rj60r4FmswB",
        "colab": {
          "base_uri": "https://localhost:8080/"
        },
        "outputId": "d4961db5-2508-40d7-ab36-14f44111c457"
      },
      "outputs": [
        {
          "output_type": "execute_result",
          "data": {
            "text/plain": [
              "Id                        0\n",
              "ProductId                 0\n",
              "UserId                    0\n",
              "ProfileName               1\n",
              "HelpfulnessNumerator      0\n",
              "HelpfulnessDenominator    0\n",
              "Score                     0\n",
              "Time                      0\n",
              "Summary                   0\n",
              "Text                      0\n",
              "dtype: int64"
            ]
          },
          "metadata": {},
          "execution_count": 10
        }
      ],
      "source": [
        "new_df.isna().sum()"
      ]
    },
    {
      "cell_type": "markdown",
      "metadata": {
        "id": "uGY2KQtMoDkM"
      },
      "source": [
        "Checking for duplicates\n"
      ]
    },
    {
      "cell_type": "code",
      "execution_count": null,
      "metadata": {
        "id": "kHMVZot0n4uD",
        "colab": {
          "base_uri": "https://localhost:8080/"
        },
        "outputId": "cc4b0903-77c2-4a9a-de63-8c45fabf4638"
      },
      "outputs": [
        {
          "output_type": "execute_result",
          "data": {
            "text/plain": [
              "875"
            ]
          },
          "metadata": {},
          "execution_count": 11
        }
      ],
      "source": [
        "new_df.duplicated(subset=['Text']).sum()"
      ]
    },
    {
      "cell_type": "code",
      "execution_count": null,
      "metadata": {
        "id": "QVHFFfmwoZZT",
        "colab": {
          "base_uri": "https://localhost:8080/"
        },
        "outputId": "2dc602fd-7f50-4617-c5e2-c833b94d11ef"
      },
      "outputs": [
        {
          "output_type": "execute_result",
          "data": {
            "text/plain": [
              "(24125, 10)"
            ]
          },
          "metadata": {},
          "execution_count": 12
        }
      ],
      "source": [
        "new_df=new_df.drop_duplicates(subset=['Text'])\n",
        "new_df.shape"
      ]
    },
    {
      "cell_type": "code",
      "execution_count": null,
      "metadata": {
        "id": "vDaWneCvo12o",
        "colab": {
          "base_uri": "https://localhost:8080/"
        },
        "outputId": "eb7266e1-24a5-4fd7-bafb-2d44374837f6"
      },
      "outputs": [
        {
          "output_type": "execute_result",
          "data": {
            "text/plain": [
              "0"
            ]
          },
          "metadata": {},
          "execution_count": 13
        }
      ],
      "source": [
        "new_df.duplicated(subset=['Text']).sum()"
      ]
    },
    {
      "cell_type": "code",
      "execution_count": null,
      "metadata": {
        "id": "T2EEiOeFKUgB",
        "colab": {
          "base_uri": "https://localhost:8080/"
        },
        "outputId": "a2a4b6f8-7bf3-4e53-e9f3-ec83675cd351"
      },
      "outputs": [
        {
          "output_type": "execute_result",
          "data": {
            "text/plain": [
              "77995                                                                             My dog LOVES this food. He follows us around at meal time till he gets his food and then never leaves his dish till it's gone.\n",
              "4253     This is one of the most versatile mixes I've found, and most recipes come out tasting very much like the Full of Gluten Blends. I, like many, am struggling with celiac's disease, and I've only jus...\n",
              "28759                                                                                                  This product makes a very good cup of tea.  My grandson enjoys this tea with his breakfast every morning.\n",
              "88896    This is an awesome curry paste to use with coconut milk. For what ever reason the combination of the two work reaaly well. I have used this paste with chicken, shrimp and minced lamb and each time...\n",
              "10124                               i own a bar and this product, along with the regular rinds, is a very good seller. keeps customer at the bar for snacks plus puts something in their stomach for the liquor.\n",
              "869      These where great couldnt stop eating them.<br />Lowest priced anywhere and will buy even more next time.<br />Cant say enough about these, they where shipped faster than what I paid to have shipp...\n",
              "47870    I was sooo initially excited about pre-ordering on amazon.com before it was available.  Then someone posted a not so good review from this same product in store and I was concerned.  Customer serv...\n",
              "20354    My cats love it. They eat most cat foods once they are used to them but switching them to new foods can be tricky. It was no problem with them. They loved the food. Even the cat who never eats can...\n",
              "87644    I love Fig Newtons and so does my 7 year old, so I thought I'd try the minis in a convenient size. Unfortunately they don't taste very good. There is hardly any fig inside and they're a bit dry. I...\n",
              "2819     My daughter, living and working in DC this summer, introduced me to this product while home for a visit.  She encouraged me to give the plain version (just pure coconut water) a chance first, and ...\n",
              "Name: Text, dtype: object"
            ]
          },
          "metadata": {},
          "execution_count": 14
        }
      ],
      "source": [
        "new_df['Text'][:10]"
      ]
    },
    {
      "cell_type": "code",
      "execution_count": null,
      "metadata": {
        "id": "yzd9n9H5LaX0",
        "colab": {
          "base_uri": "https://localhost:8080/",
          "height": 380
        },
        "outputId": "6eaaee23-d5e1-4a4e-f2f4-cead0f8fa60c"
      },
      "outputs": [
        {
          "output_type": "execute_result",
          "data": {
            "text/plain": [
              "          Id   ProductId          UserId                 ProfileName  \\\n",
              "77995  77996  B000VK8HCW  A2E7MWFFDYGALE                  Judy Walls   \n",
              "4253    4254  B004391DK0  A2MHH4FWA6B6FV       R. Taylor \"R. Taylor\"   \n",
              "28759  28760  B003XW70VY  A3AD2S4F5Z6SGA                      Jackie   \n",
              "88896  88897  B000HQND56  A3AE4BVF98K0W4  Shilpa Sharda \"food lover\"   \n",
              "10124  10125  B003EML8PM  A3VZ94PGPVBQFF                    cajunman   \n",
              "\n",
              "       HelpfulnessNumerator  HelpfulnessDenominator  Score        Time  \\\n",
              "77995                     0                       0      5  1290816000   \n",
              "4253                     51                      51      5  1307059200   \n",
              "28759                     0                       0      5  1288915200   \n",
              "88896                     1                       1      5  1273968000   \n",
              "10124                     0                       0      5  1325116800   \n",
              "\n",
              "                                                   Summary  \\\n",
              "77995                                            happy dog   \n",
              "4253   one of the greatest gluten free products i've found   \n",
              "28759                                 a perfect cup of tea   \n",
              "88896                           awesome curry for anything   \n",
              "10124                                          good seller   \n",
              "\n",
              "                                                                                                                                                                                                          Text  \n",
              "77995                                                                           my dog loves this food. he follows us around at meal time till he gets his food and then never leaves his dish till it's gone.  \n",
              "4253   this is one of the most versatile mixes i've found, and most recipes come out tasting very much like the full of gluten blends. i, like many, am struggling with celiac's disease, and i've only jus...  \n",
              "28759                                                                                                this product makes a very good cup of tea.  my grandson enjoys this tea with his breakfast every morning.  \n",
              "88896  this is an awesome curry paste to use with coconut milk. for what ever reason the combination of the two work reaaly well. i have used this paste with chicken, shrimp and minced lamb and each time...  \n",
              "10124                             i own a bar and this product, along with the regular rinds, is a very good seller. keeps customer at the bar for snacks plus puts something in their stomach for the liquor.  "
            ],
            "text/html": [
              "\n",
              "  <div id=\"df-80df9b09-00f3-4cf9-9283-2dc1c97ead37\" class=\"colab-df-container\">\n",
              "    <div>\n",
              "<style scoped>\n",
              "    .dataframe tbody tr th:only-of-type {\n",
              "        vertical-align: middle;\n",
              "    }\n",
              "\n",
              "    .dataframe tbody tr th {\n",
              "        vertical-align: top;\n",
              "    }\n",
              "\n",
              "    .dataframe thead th {\n",
              "        text-align: right;\n",
              "    }\n",
              "</style>\n",
              "<table border=\"1\" class=\"dataframe\">\n",
              "  <thead>\n",
              "    <tr style=\"text-align: right;\">\n",
              "      <th></th>\n",
              "      <th>Id</th>\n",
              "      <th>ProductId</th>\n",
              "      <th>UserId</th>\n",
              "      <th>ProfileName</th>\n",
              "      <th>HelpfulnessNumerator</th>\n",
              "      <th>HelpfulnessDenominator</th>\n",
              "      <th>Score</th>\n",
              "      <th>Time</th>\n",
              "      <th>Summary</th>\n",
              "      <th>Text</th>\n",
              "    </tr>\n",
              "  </thead>\n",
              "  <tbody>\n",
              "    <tr>\n",
              "      <th>77995</th>\n",
              "      <td>77996</td>\n",
              "      <td>B000VK8HCW</td>\n",
              "      <td>A2E7MWFFDYGALE</td>\n",
              "      <td>Judy Walls</td>\n",
              "      <td>0</td>\n",
              "      <td>0</td>\n",
              "      <td>5</td>\n",
              "      <td>1290816000</td>\n",
              "      <td>happy dog</td>\n",
              "      <td>my dog loves this food. he follows us around at meal time till he gets his food and then never leaves his dish till it's gone.</td>\n",
              "    </tr>\n",
              "    <tr>\n",
              "      <th>4253</th>\n",
              "      <td>4254</td>\n",
              "      <td>B004391DK0</td>\n",
              "      <td>A2MHH4FWA6B6FV</td>\n",
              "      <td>R. Taylor \"R. Taylor\"</td>\n",
              "      <td>51</td>\n",
              "      <td>51</td>\n",
              "      <td>5</td>\n",
              "      <td>1307059200</td>\n",
              "      <td>one of the greatest gluten free products i've found</td>\n",
              "      <td>this is one of the most versatile mixes i've found, and most recipes come out tasting very much like the full of gluten blends. i, like many, am struggling with celiac's disease, and i've only jus...</td>\n",
              "    </tr>\n",
              "    <tr>\n",
              "      <th>28759</th>\n",
              "      <td>28760</td>\n",
              "      <td>B003XW70VY</td>\n",
              "      <td>A3AD2S4F5Z6SGA</td>\n",
              "      <td>Jackie</td>\n",
              "      <td>0</td>\n",
              "      <td>0</td>\n",
              "      <td>5</td>\n",
              "      <td>1288915200</td>\n",
              "      <td>a perfect cup of tea</td>\n",
              "      <td>this product makes a very good cup of tea.  my grandson enjoys this tea with his breakfast every morning.</td>\n",
              "    </tr>\n",
              "    <tr>\n",
              "      <th>88896</th>\n",
              "      <td>88897</td>\n",
              "      <td>B000HQND56</td>\n",
              "      <td>A3AE4BVF98K0W4</td>\n",
              "      <td>Shilpa Sharda \"food lover\"</td>\n",
              "      <td>1</td>\n",
              "      <td>1</td>\n",
              "      <td>5</td>\n",
              "      <td>1273968000</td>\n",
              "      <td>awesome curry for anything</td>\n",
              "      <td>this is an awesome curry paste to use with coconut milk. for what ever reason the combination of the two work reaaly well. i have used this paste with chicken, shrimp and minced lamb and each time...</td>\n",
              "    </tr>\n",
              "    <tr>\n",
              "      <th>10124</th>\n",
              "      <td>10125</td>\n",
              "      <td>B003EML8PM</td>\n",
              "      <td>A3VZ94PGPVBQFF</td>\n",
              "      <td>cajunman</td>\n",
              "      <td>0</td>\n",
              "      <td>0</td>\n",
              "      <td>5</td>\n",
              "      <td>1325116800</td>\n",
              "      <td>good seller</td>\n",
              "      <td>i own a bar and this product, along with the regular rinds, is a very good seller. keeps customer at the bar for snacks plus puts something in their stomach for the liquor.</td>\n",
              "    </tr>\n",
              "  </tbody>\n",
              "</table>\n",
              "</div>\n",
              "    <div class=\"colab-df-buttons\">\n",
              "\n",
              "  <div class=\"colab-df-container\">\n",
              "    <button class=\"colab-df-convert\" onclick=\"convertToInteractive('df-80df9b09-00f3-4cf9-9283-2dc1c97ead37')\"\n",
              "            title=\"Convert this dataframe to an interactive table.\"\n",
              "            style=\"display:none;\">\n",
              "\n",
              "  <svg xmlns=\"http://www.w3.org/2000/svg\" height=\"24px\" viewBox=\"0 -960 960 960\">\n",
              "    <path d=\"M120-120v-720h720v720H120Zm60-500h600v-160H180v160Zm220 220h160v-160H400v160Zm0 220h160v-160H400v160ZM180-400h160v-160H180v160Zm440 0h160v-160H620v160ZM180-180h160v-160H180v160Zm440 0h160v-160H620v160Z\"/>\n",
              "  </svg>\n",
              "    </button>\n",
              "\n",
              "  <style>\n",
              "    .colab-df-container {\n",
              "      display:flex;\n",
              "      gap: 12px;\n",
              "    }\n",
              "\n",
              "    .colab-df-convert {\n",
              "      background-color: #E8F0FE;\n",
              "      border: none;\n",
              "      border-radius: 50%;\n",
              "      cursor: pointer;\n",
              "      display: none;\n",
              "      fill: #1967D2;\n",
              "      height: 32px;\n",
              "      padding: 0 0 0 0;\n",
              "      width: 32px;\n",
              "    }\n",
              "\n",
              "    .colab-df-convert:hover {\n",
              "      background-color: #E2EBFA;\n",
              "      box-shadow: 0px 1px 2px rgba(60, 64, 67, 0.3), 0px 1px 3px 1px rgba(60, 64, 67, 0.15);\n",
              "      fill: #174EA6;\n",
              "    }\n",
              "\n",
              "    .colab-df-buttons div {\n",
              "      margin-bottom: 4px;\n",
              "    }\n",
              "\n",
              "    [theme=dark] .colab-df-convert {\n",
              "      background-color: #3B4455;\n",
              "      fill: #D2E3FC;\n",
              "    }\n",
              "\n",
              "    [theme=dark] .colab-df-convert:hover {\n",
              "      background-color: #434B5C;\n",
              "      box-shadow: 0px 1px 3px 1px rgba(0, 0, 0, 0.15);\n",
              "      filter: drop-shadow(0px 1px 2px rgba(0, 0, 0, 0.3));\n",
              "      fill: #FFFFFF;\n",
              "    }\n",
              "  </style>\n",
              "\n",
              "    <script>\n",
              "      const buttonEl =\n",
              "        document.querySelector('#df-80df9b09-00f3-4cf9-9283-2dc1c97ead37 button.colab-df-convert');\n",
              "      buttonEl.style.display =\n",
              "        google.colab.kernel.accessAllowed ? 'block' : 'none';\n",
              "\n",
              "      async function convertToInteractive(key) {\n",
              "        const element = document.querySelector('#df-80df9b09-00f3-4cf9-9283-2dc1c97ead37');\n",
              "        const dataTable =\n",
              "          await google.colab.kernel.invokeFunction('convertToInteractive',\n",
              "                                                    [key], {});\n",
              "        if (!dataTable) return;\n",
              "\n",
              "        const docLinkHtml = 'Like what you see? Visit the ' +\n",
              "          '<a target=\"_blank\" href=https://colab.research.google.com/notebooks/data_table.ipynb>data table notebook</a>'\n",
              "          + ' to learn more about interactive tables.';\n",
              "        element.innerHTML = '';\n",
              "        dataTable['output_type'] = 'display_data';\n",
              "        await google.colab.output.renderOutput(dataTable, element);\n",
              "        const docLink = document.createElement('div');\n",
              "        docLink.innerHTML = docLinkHtml;\n",
              "        element.appendChild(docLink);\n",
              "      }\n",
              "    </script>\n",
              "  </div>\n",
              "\n",
              "\n",
              "<div id=\"df-cae05b66-3ad3-4f9f-a96b-d2c6b43a02f8\">\n",
              "  <button class=\"colab-df-quickchart\" onclick=\"quickchart('df-cae05b66-3ad3-4f9f-a96b-d2c6b43a02f8')\"\n",
              "            title=\"Suggest charts\"\n",
              "            style=\"display:none;\">\n",
              "\n",
              "<svg xmlns=\"http://www.w3.org/2000/svg\" height=\"24px\"viewBox=\"0 0 24 24\"\n",
              "     width=\"24px\">\n",
              "    <g>\n",
              "        <path d=\"M19 3H5c-1.1 0-2 .9-2 2v14c0 1.1.9 2 2 2h14c1.1 0 2-.9 2-2V5c0-1.1-.9-2-2-2zM9 17H7v-7h2v7zm4 0h-2V7h2v10zm4 0h-2v-4h2v4z\"/>\n",
              "    </g>\n",
              "</svg>\n",
              "  </button>\n",
              "\n",
              "<style>\n",
              "  .colab-df-quickchart {\n",
              "      --bg-color: #E8F0FE;\n",
              "      --fill-color: #1967D2;\n",
              "      --hover-bg-color: #E2EBFA;\n",
              "      --hover-fill-color: #174EA6;\n",
              "      --disabled-fill-color: #AAA;\n",
              "      --disabled-bg-color: #DDD;\n",
              "  }\n",
              "\n",
              "  [theme=dark] .colab-df-quickchart {\n",
              "      --bg-color: #3B4455;\n",
              "      --fill-color: #D2E3FC;\n",
              "      --hover-bg-color: #434B5C;\n",
              "      --hover-fill-color: #FFFFFF;\n",
              "      --disabled-bg-color: #3B4455;\n",
              "      --disabled-fill-color: #666;\n",
              "  }\n",
              "\n",
              "  .colab-df-quickchart {\n",
              "    background-color: var(--bg-color);\n",
              "    border: none;\n",
              "    border-radius: 50%;\n",
              "    cursor: pointer;\n",
              "    display: none;\n",
              "    fill: var(--fill-color);\n",
              "    height: 32px;\n",
              "    padding: 0;\n",
              "    width: 32px;\n",
              "  }\n",
              "\n",
              "  .colab-df-quickchart:hover {\n",
              "    background-color: var(--hover-bg-color);\n",
              "    box-shadow: 0 1px 2px rgba(60, 64, 67, 0.3), 0 1px 3px 1px rgba(60, 64, 67, 0.15);\n",
              "    fill: var(--button-hover-fill-color);\n",
              "  }\n",
              "\n",
              "  .colab-df-quickchart-complete:disabled,\n",
              "  .colab-df-quickchart-complete:disabled:hover {\n",
              "    background-color: var(--disabled-bg-color);\n",
              "    fill: var(--disabled-fill-color);\n",
              "    box-shadow: none;\n",
              "  }\n",
              "\n",
              "  .colab-df-spinner {\n",
              "    border: 2px solid var(--fill-color);\n",
              "    border-color: transparent;\n",
              "    border-bottom-color: var(--fill-color);\n",
              "    animation:\n",
              "      spin 1s steps(1) infinite;\n",
              "  }\n",
              "\n",
              "  @keyframes spin {\n",
              "    0% {\n",
              "      border-color: transparent;\n",
              "      border-bottom-color: var(--fill-color);\n",
              "      border-left-color: var(--fill-color);\n",
              "    }\n",
              "    20% {\n",
              "      border-color: transparent;\n",
              "      border-left-color: var(--fill-color);\n",
              "      border-top-color: var(--fill-color);\n",
              "    }\n",
              "    30% {\n",
              "      border-color: transparent;\n",
              "      border-left-color: var(--fill-color);\n",
              "      border-top-color: var(--fill-color);\n",
              "      border-right-color: var(--fill-color);\n",
              "    }\n",
              "    40% {\n",
              "      border-color: transparent;\n",
              "      border-right-color: var(--fill-color);\n",
              "      border-top-color: var(--fill-color);\n",
              "    }\n",
              "    60% {\n",
              "      border-color: transparent;\n",
              "      border-right-color: var(--fill-color);\n",
              "    }\n",
              "    80% {\n",
              "      border-color: transparent;\n",
              "      border-right-color: var(--fill-color);\n",
              "      border-bottom-color: var(--fill-color);\n",
              "    }\n",
              "    90% {\n",
              "      border-color: transparent;\n",
              "      border-bottom-color: var(--fill-color);\n",
              "    }\n",
              "  }\n",
              "</style>\n",
              "\n",
              "  <script>\n",
              "    async function quickchart(key) {\n",
              "      const quickchartButtonEl =\n",
              "        document.querySelector('#' + key + ' button');\n",
              "      quickchartButtonEl.disabled = true;  // To prevent multiple clicks.\n",
              "      quickchartButtonEl.classList.add('colab-df-spinner');\n",
              "      try {\n",
              "        const charts = await google.colab.kernel.invokeFunction(\n",
              "            'suggestCharts', [key], {});\n",
              "      } catch (error) {\n",
              "        console.error('Error during call to suggestCharts:', error);\n",
              "      }\n",
              "      quickchartButtonEl.classList.remove('colab-df-spinner');\n",
              "      quickchartButtonEl.classList.add('colab-df-quickchart-complete');\n",
              "    }\n",
              "    (() => {\n",
              "      let quickchartButtonEl =\n",
              "        document.querySelector('#df-cae05b66-3ad3-4f9f-a96b-d2c6b43a02f8 button');\n",
              "      quickchartButtonEl.style.display =\n",
              "        google.colab.kernel.accessAllowed ? 'block' : 'none';\n",
              "    })();\n",
              "  </script>\n",
              "</div>\n",
              "    </div>\n",
              "  </div>\n"
            ]
          },
          "metadata": {},
          "execution_count": 15
        }
      ],
      "source": [
        "new_df['Text'] = new_df['Text'].str.lower()\n",
        "new_df['Summary'] = new_df['Summary'].str.lower()\n",
        "\n",
        "new_df.head()"
      ]
    },
    {
      "cell_type": "code",
      "execution_count": null,
      "metadata": {
        "id": "-BWqXLjOS7DS"
      },
      "outputs": [],
      "source": [
        "#removing html tags\n",
        "import re\n",
        "def remove_html_tags(text):\n",
        "    if isinstance(text, str):\n",
        "        pattern = re.compile('<.*?>')\n",
        "        return pattern.sub(r'', text)\n",
        "    else:\n",
        "        return text"
      ]
    },
    {
      "cell_type": "markdown",
      "metadata": {
        "id": "60oRsNGfvm5_"
      },
      "source": [
        "Converting to lower case"
      ]
    },
    {
      "cell_type": "code",
      "execution_count": null,
      "metadata": {
        "id": "H0xN7npXoA3o"
      },
      "outputs": [],
      "source": [
        "new_df['Text'] = new_df['Text'].apply(remove_html_tags)\n",
        "\n",
        "new_df['Summary'] = new_df['Summary'].apply(remove_html_tags)"
      ]
    },
    {
      "cell_type": "code",
      "execution_count": null,
      "metadata": {
        "id": "TaKdy7PHwUtP"
      },
      "outputs": [],
      "source": [
        "#removing punchuation\n",
        "\n",
        "\n",
        "import string\n",
        "string.punctuation\n",
        "exclude = string.punctuation\n",
        "def remove_punc(text):\n",
        "    if isinstance(text, str):\n",
        "        return ''.join(ch for ch in text if ch not in exclude)\n",
        "    else:\n",
        "        return str(text)  # Convert non-string data to string"
      ]
    },
    {
      "cell_type": "code",
      "execution_count": null,
      "metadata": {
        "id": "s-EUZ33swfy1"
      },
      "outputs": [],
      "source": [
        "new_df['Text'] = new_df['Text'].apply(remove_punc)\n",
        "\n",
        "new_df['Summary'] = new_df['Summary'].apply(remove_punc)"
      ]
    },
    {
      "cell_type": "code",
      "execution_count": null,
      "metadata": {
        "id": "N2jk9WjfwkZI",
        "colab": {
          "base_uri": "https://localhost:8080/"
        },
        "outputId": "ad0e5c67-27bf-4413-d129-2cb7a8a52f89"
      },
      "outputs": [
        {
          "output_type": "stream",
          "name": "stdout",
          "text": [
            "['i', 'me', 'my', 'myself', 'we', 'our', 'ours', 'ourselves', 'you', \"you're\", \"you've\", \"you'll\", \"you'd\", 'your', 'yours', 'yourself', 'yourselves', 'he', 'him', 'his', 'himself', 'she', \"she's\", 'her', 'hers', 'herself', 'it', \"it's\", 'its', 'itself', 'they', 'them', 'their', 'theirs', 'themselves', 'what', 'which', 'who', 'whom', 'this', 'that', \"that'll\", 'these', 'those', 'am', 'is', 'are', 'was', 'were', 'be', 'been', 'being', 'have', 'has', 'had', 'having', 'do', 'does', 'did', 'doing', 'a', 'an', 'the', 'and', 'but', 'if', 'or', 'because', 'as', 'until', 'while', 'of', 'at', 'by', 'for', 'with', 'about', 'against', 'between', 'into', 'through', 'during', 'before', 'after', 'above', 'below', 'to', 'from', 'up', 'down', 'in', 'out', 'on', 'off', 'over', 'under', 'again', 'further', 'then', 'once', 'here', 'there', 'when', 'where', 'why', 'how', 'all', 'any', 'both', 'each', 'few', 'more', 'most', 'other', 'some', 'such', 'no', 'nor', 'not', 'only', 'own', 'same', 'so', 'than', 'too', 'very', 's', 't', 'can', 'will', 'just', 'don', \"don't\", 'should', \"should've\", 'now', 'd', 'll', 'm', 'o', 're', 've', 'y', 'ain', 'aren', \"aren't\", 'couldn', \"couldn't\", 'didn', \"didn't\", 'doesn', \"doesn't\", 'hadn', \"hadn't\", 'hasn', \"hasn't\", 'haven', \"haven't\", 'isn', \"isn't\", 'ma', 'mightn', \"mightn't\", 'mustn', \"mustn't\", 'needn', \"needn't\", 'shan', \"shan't\", 'shouldn', \"shouldn't\", 'wasn', \"wasn't\", 'weren', \"weren't\", 'won', \"won't\", 'wouldn', \"wouldn't\"]\n"
          ]
        },
        {
          "output_type": "stream",
          "name": "stderr",
          "text": [
            "[nltk_data] Downloading package stopwords to /root/nltk_data...\n",
            "[nltk_data]   Package stopwords is already up-to-date!\n"
          ]
        }
      ],
      "source": [
        "from nltk.corpus import stopwords\n",
        "nltk.download('stopwords')\n",
        "stopwords = nltk.corpus.stopwords.words('english')\n",
        "\n",
        "print(stopwords)"
      ]
    },
    {
      "cell_type": "code",
      "execution_count": null,
      "metadata": {
        "id": "JGR138QarO3c",
        "colab": {
          "base_uri": "https://localhost:8080/"
        },
        "outputId": "0efb9d91-4174-480c-ec47-b0e1dd6d944f"
      },
      "outputs": [
        {
          "output_type": "stream",
          "name": "stderr",
          "text": [
            "[nltk_data] Downloading package stopwords to /root/nltk_data...\n",
            "[nltk_data]   Package stopwords is already up-to-date!\n"
          ]
        }
      ],
      "source": [
        "import nltk\n",
        "nltk.download('stopwords')\n",
        "from nltk.corpus import stopwords\n",
        "\n",
        "stop_words = stopwords.words('english')\n",
        "new_df['Text'] = new_df['Text'].apply(lambda x: ' '.join([word for word in x.split() if word not in (stop_words)]))\n",
        "new_df['Summary'] = new_df['Summary'].apply(lambda x: ' '.join([word for word in x.split() if word not in (stop_words)]))"
      ]
    },
    {
      "cell_type": "code",
      "execution_count": null,
      "metadata": {
        "id": "53UvDl_TxJUo",
        "colab": {
          "base_uri": "https://localhost:8080/",
          "height": 98
        },
        "outputId": "17fca36b-33eb-4745-d478-838dba997a94"
      },
      "outputs": [
        {
          "output_type": "execute_result",
          "data": {
            "text/plain": [
              "          Id   ProductId          UserId ProfileName  HelpfulnessNumerator  \\\n",
              "77995  77996  B000VK8HCW  A2E7MWFFDYGALE  Judy Walls                     0   \n",
              "\n",
              "       HelpfulnessDenominator  Score        Time    Summary  \\\n",
              "77995                       0      5  1290816000  happy dog   \n",
              "\n",
              "                                                                                        Text  \n",
              "77995  dog loves food follows us around meal time till gets food never leaves dish till gone  "
            ],
            "text/html": [
              "\n",
              "  <div id=\"df-dd0c38f6-73d8-465c-930d-b148e851f6bc\" class=\"colab-df-container\">\n",
              "    <div>\n",
              "<style scoped>\n",
              "    .dataframe tbody tr th:only-of-type {\n",
              "        vertical-align: middle;\n",
              "    }\n",
              "\n",
              "    .dataframe tbody tr th {\n",
              "        vertical-align: top;\n",
              "    }\n",
              "\n",
              "    .dataframe thead th {\n",
              "        text-align: right;\n",
              "    }\n",
              "</style>\n",
              "<table border=\"1\" class=\"dataframe\">\n",
              "  <thead>\n",
              "    <tr style=\"text-align: right;\">\n",
              "      <th></th>\n",
              "      <th>Id</th>\n",
              "      <th>ProductId</th>\n",
              "      <th>UserId</th>\n",
              "      <th>ProfileName</th>\n",
              "      <th>HelpfulnessNumerator</th>\n",
              "      <th>HelpfulnessDenominator</th>\n",
              "      <th>Score</th>\n",
              "      <th>Time</th>\n",
              "      <th>Summary</th>\n",
              "      <th>Text</th>\n",
              "    </tr>\n",
              "  </thead>\n",
              "  <tbody>\n",
              "    <tr>\n",
              "      <th>77995</th>\n",
              "      <td>77996</td>\n",
              "      <td>B000VK8HCW</td>\n",
              "      <td>A2E7MWFFDYGALE</td>\n",
              "      <td>Judy Walls</td>\n",
              "      <td>0</td>\n",
              "      <td>0</td>\n",
              "      <td>5</td>\n",
              "      <td>1290816000</td>\n",
              "      <td>happy dog</td>\n",
              "      <td>dog loves food follows us around meal time till gets food never leaves dish till gone</td>\n",
              "    </tr>\n",
              "  </tbody>\n",
              "</table>\n",
              "</div>\n",
              "    <div class=\"colab-df-buttons\">\n",
              "\n",
              "  <div class=\"colab-df-container\">\n",
              "    <button class=\"colab-df-convert\" onclick=\"convertToInteractive('df-dd0c38f6-73d8-465c-930d-b148e851f6bc')\"\n",
              "            title=\"Convert this dataframe to an interactive table.\"\n",
              "            style=\"display:none;\">\n",
              "\n",
              "  <svg xmlns=\"http://www.w3.org/2000/svg\" height=\"24px\" viewBox=\"0 -960 960 960\">\n",
              "    <path d=\"M120-120v-720h720v720H120Zm60-500h600v-160H180v160Zm220 220h160v-160H400v160Zm0 220h160v-160H400v160ZM180-400h160v-160H180v160Zm440 0h160v-160H620v160ZM180-180h160v-160H180v160Zm440 0h160v-160H620v160Z\"/>\n",
              "  </svg>\n",
              "    </button>\n",
              "\n",
              "  <style>\n",
              "    .colab-df-container {\n",
              "      display:flex;\n",
              "      gap: 12px;\n",
              "    }\n",
              "\n",
              "    .colab-df-convert {\n",
              "      background-color: #E8F0FE;\n",
              "      border: none;\n",
              "      border-radius: 50%;\n",
              "      cursor: pointer;\n",
              "      display: none;\n",
              "      fill: #1967D2;\n",
              "      height: 32px;\n",
              "      padding: 0 0 0 0;\n",
              "      width: 32px;\n",
              "    }\n",
              "\n",
              "    .colab-df-convert:hover {\n",
              "      background-color: #E2EBFA;\n",
              "      box-shadow: 0px 1px 2px rgba(60, 64, 67, 0.3), 0px 1px 3px 1px rgba(60, 64, 67, 0.15);\n",
              "      fill: #174EA6;\n",
              "    }\n",
              "\n",
              "    .colab-df-buttons div {\n",
              "      margin-bottom: 4px;\n",
              "    }\n",
              "\n",
              "    [theme=dark] .colab-df-convert {\n",
              "      background-color: #3B4455;\n",
              "      fill: #D2E3FC;\n",
              "    }\n",
              "\n",
              "    [theme=dark] .colab-df-convert:hover {\n",
              "      background-color: #434B5C;\n",
              "      box-shadow: 0px 1px 3px 1px rgba(0, 0, 0, 0.15);\n",
              "      filter: drop-shadow(0px 1px 2px rgba(0, 0, 0, 0.3));\n",
              "      fill: #FFFFFF;\n",
              "    }\n",
              "  </style>\n",
              "\n",
              "    <script>\n",
              "      const buttonEl =\n",
              "        document.querySelector('#df-dd0c38f6-73d8-465c-930d-b148e851f6bc button.colab-df-convert');\n",
              "      buttonEl.style.display =\n",
              "        google.colab.kernel.accessAllowed ? 'block' : 'none';\n",
              "\n",
              "      async function convertToInteractive(key) {\n",
              "        const element = document.querySelector('#df-dd0c38f6-73d8-465c-930d-b148e851f6bc');\n",
              "        const dataTable =\n",
              "          await google.colab.kernel.invokeFunction('convertToInteractive',\n",
              "                                                    [key], {});\n",
              "        if (!dataTable) return;\n",
              "\n",
              "        const docLinkHtml = 'Like what you see? Visit the ' +\n",
              "          '<a target=\"_blank\" href=https://colab.research.google.com/notebooks/data_table.ipynb>data table notebook</a>'\n",
              "          + ' to learn more about interactive tables.';\n",
              "        element.innerHTML = '';\n",
              "        dataTable['output_type'] = 'display_data';\n",
              "        await google.colab.output.renderOutput(dataTable, element);\n",
              "        const docLink = document.createElement('div');\n",
              "        docLink.innerHTML = docLinkHtml;\n",
              "        element.appendChild(docLink);\n",
              "      }\n",
              "    </script>\n",
              "  </div>\n",
              "\n",
              "    </div>\n",
              "  </div>\n"
            ]
          },
          "metadata": {},
          "execution_count": 22
        }
      ],
      "source": [
        "new_df.head(1)"
      ]
    },
    {
      "cell_type": "code",
      "execution_count": null,
      "metadata": {
        "id": "wjYAbVnK3wiN"
      },
      "outputs": [],
      "source": [
        "#!pip install contractions\n"
      ]
    },
    {
      "cell_type": "code",
      "execution_count": null,
      "metadata": {
        "id": "tsPHdtpm_iIT"
      },
      "outputs": [],
      "source": [
        "max_text_len=30\n",
        "max_len_summary=10"
      ]
    },
    {
      "cell_type": "code",
      "source": [
        "import nltk\n",
        "nltk.download('stopwords')\n",
        "stop_words = set(stopwords.words('english'))\n",
        "\n",
        "def text_cleaner(text,num):\n",
        "    newString = text.lower()\n",
        "    #newString = BeautifulSoup(newString, \"lxml\").text\n",
        "    newString = re.sub(r'\\([^)]*\\)', '', newString)\n",
        "    newString = re.sub('\"','', newString)\n",
        "    #newString = ' '.join([contraction_mapping[t] if t in contraction_mapping else t for t in newString.split(\" \")])\n",
        "    newString = re.sub(r\"'s\\b\",\"\",newString)\n",
        "    newString = re.sub(\"[^a-zA-Z]\", \" \", newString)\n",
        "    newString = re.sub('[m]{2,}', 'mm', newString)\n",
        "    if(num==0):\n",
        "        tokens = [w for w in newString.split() if not w in stop_words]\n",
        "    else:\n",
        "        tokens=newString.split()\n",
        "    long_words=[]\n",
        "    for i in tokens:\n",
        "        if len(i)>1:                                                 #removing short word\n",
        "            long_words.append(i)\n",
        "    return (\" \".join(long_words)).strip()"
      ],
      "metadata": {
        "id": "qtKYxbT0XuOq",
        "outputId": "9c01a897-f647-4afc-c0c0-1235f9667b81",
        "colab": {
          "base_uri": "https://localhost:8080/"
        }
      },
      "execution_count": null,
      "outputs": [
        {
          "output_type": "stream",
          "name": "stderr",
          "text": [
            "[nltk_data] Downloading package stopwords to /root/nltk_data...\n",
            "[nltk_data]   Package stopwords is already up-to-date!\n"
          ]
        }
      ]
    },
    {
      "cell_type": "code",
      "source": [
        "#call the function\n",
        "cleaned_text = []\n",
        "for t in df['Text']:\n",
        "    cleaned_text.append(text_cleaner(t,0))"
      ],
      "metadata": {
        "id": "ZJ3JfEN-XxHT"
      },
      "execution_count": null,
      "outputs": []
    },
    {
      "cell_type": "code",
      "source": [
        "cleaned_text[:5]"
      ],
      "metadata": {
        "id": "tCk7aFQ0XzZG",
        "outputId": "e0394856-3bf4-4e1d-948c-ef8c0f1a5a89",
        "colab": {
          "base_uri": "https://localhost:8080/"
        }
      },
      "execution_count": null,
      "outputs": [
        {
          "output_type": "execute_result",
          "data": {
            "text/plain": [
              "['bought several vitality canned dog food products found good quality product looks like stew processed meat smells better labrador finicky appreciates product better',\n",
              " 'product arrived labeled jumbo salted peanuts peanuts actually small sized unsalted sure error vendor intended represent product jumbo',\n",
              " 'confection around centuries light pillowy citrus gelatin nuts case filberts cut tiny squares liberally coated powdered sugar tiny mouthful heaven chewy flavorful highly recommend yummy treat familiar story lewis lion witch wardrobe treat seduces edmund selling brother sisters witch',\n",
              " 'looking secret ingredient robitussin believe found got addition root beer extract ordered made cherry soda flavor medicinal',\n",
              " 'great taffy great price wide assortment yummy taffy delivery quick taffy lover deal']"
            ]
          },
          "metadata": {},
          "execution_count": 27
        }
      ]
    },
    {
      "cell_type": "code",
      "source": [
        "df['Summary'] = df['Summary'].astype(str)"
      ],
      "metadata": {
        "id": "OtwB866UX1-M"
      },
      "execution_count": null,
      "outputs": []
    },
    {
      "cell_type": "code",
      "source": [
        "#call the function\n",
        "cleaned_summary = []\n",
        "for t in df['Summary']:\n",
        "    cleaned_summary.append(text_cleaner(t,1))"
      ],
      "metadata": {
        "id": "86WCr2L9X4FC"
      },
      "execution_count": null,
      "outputs": []
    },
    {
      "cell_type": "code",
      "source": [
        "cleaned_summary[:10]"
      ],
      "metadata": {
        "id": "cWFKz-C-X5xR",
        "outputId": "1c9089b6-6d3f-4208-f2d8-80a1231bba54",
        "colab": {
          "base_uri": "https://localhost:8080/"
        }
      },
      "execution_count": null,
      "outputs": [
        {
          "output_type": "execute_result",
          "data": {
            "text/plain": [
              "['good quality dog food',\n",
              " 'not as advertised',\n",
              " 'delight says it all',\n",
              " 'cough medicine',\n",
              " 'great taffy',\n",
              " 'nice taffy',\n",
              " 'great just as good as the expensive brands',\n",
              " 'wonderful tasty taffy',\n",
              " 'yay barley',\n",
              " 'healthy dog food']"
            ]
          },
          "metadata": {},
          "execution_count": 30
        }
      ]
    },
    {
      "cell_type": "code",
      "source": [
        "df['cleaned_text']=cleaned_text\n",
        "df['cleaned_summary']=cleaned_summary"
      ],
      "metadata": {
        "id": "qycix1SDX8YB"
      },
      "execution_count": null,
      "outputs": []
    },
    {
      "cell_type": "code",
      "source": [
        "df.replace('', np.nan, inplace=True)\n",
        "df.dropna(axis=0,inplace=True)"
      ],
      "metadata": {
        "id": "wLFEtJmUX_KO"
      },
      "execution_count": null,
      "outputs": []
    },
    {
      "cell_type": "code",
      "source": [
        "import matplotlib.pyplot as plt\n",
        "\n",
        "text_word_count = []\n",
        "summary_word_count = []\n",
        "\n",
        "# populate the lists with sentence lengths\n",
        "for i in df['cleaned_text']:\n",
        "      text_word_count.append(len(i.split()))\n",
        "\n",
        "for i in df['cleaned_summary']:\n",
        "      summary_word_count.append(len(i.split()))\n",
        "\n",
        "length_df = pd.DataFrame({'text':text_word_count, 'summary':summary_word_count})\n",
        "\n",
        "length_df.hist(bins = 30)\n",
        "plt.show()"
      ],
      "metadata": {
        "id": "S8zI6F9oYC_C",
        "outputId": "a8dba589-20b2-488c-fa5b-eb8c7a9a2c6b",
        "colab": {
          "base_uri": "https://localhost:8080/",
          "height": 452
        }
      },
      "execution_count": null,
      "outputs": [
        {
          "output_type": "display_data",
          "data": {
            "text/plain": [
              "<Figure size 640x480 with 2 Axes>"
            ],
            "image/png": "[encoded data removed]"
          },
          "metadata": {}
        }
      ]
    },
    {
      "cell_type": "code",
      "source": [
        "cnt=0\n",
        "for i in df['cleaned_summary']:\n",
        "    if(len(i.split())<=8):\n",
        "        cnt=cnt+1\n",
        "print(cnt/len(df['cleaned_summary']))"
      ],
      "metadata": {
        "id": "eQV9JsCGYFva",
        "outputId": "4d7f4b90-3306-414d-d42c-3d1786a40d7e",
        "colab": {
          "base_uri": "https://localhost:8080/"
        }
      },
      "execution_count": null,
      "outputs": [
        {
          "output_type": "stream",
          "name": "stdout",
          "text": [
            "0.9446629635189912\n"
          ]
        }
      ]
    },
    {
      "cell_type": "code",
      "source": [
        "cleaned_text =np.array(df['cleaned_text'])\n",
        "cleaned_summary=np.array(df['cleaned_summary'])\n",
        "\n",
        "short_text=[]\n",
        "short_summary=[]\n",
        "\n",
        "for i in range(len(cleaned_text)):\n",
        "    if(len(cleaned_summary[i].split())<=max_len_summary and len(cleaned_text[i].split())<=max_text_len):\n",
        "        short_text.append(cleaned_text[i])\n",
        "        short_summary.append(cleaned_summary[i])\n",
        "\n",
        "df=pd.DataFrame({'text':short_text,'summary':short_summary})"
      ],
      "metadata": {
        "id": "HBOgHSAyYH1R"
      },
      "execution_count": null,
      "outputs": []
    },
    {
      "cell_type": "code",
      "source": [
        "df['summary'] = df['summary'].apply(lambda x : 'sostok '+ x + ' eostok')"
      ],
      "metadata": {
        "id": "61GoF4EMYJuB"
      },
      "execution_count": null,
      "outputs": []
    },
    {
      "cell_type": "code",
      "execution_count": null,
      "metadata": {
        "id": "ALhIQrqvDVpg"
      },
      "outputs": [],
      "source": [
        "from sklearn.model_selection import train_test_split\n",
        "x_tr,x_val,y_tr,y_val=train_test_split(np.array(df['text']),np.array(df['summary']),test_size=0.1,random_state=0,shuffle=True)"
      ]
    },
    {
      "cell_type": "code",
      "source": [
        "from keras.preprocessing.text import Tokenizer\n",
        "from keras.preprocessing.sequence import pad_sequences\n",
        "\n",
        "#prepare a tokenizer for reviews on training data\n",
        "x_tokenizer = Tokenizer()\n",
        "x_tokenizer.fit_on_texts(list(x_tr))"
      ],
      "metadata": {
        "id": "7KkHr3mAYQ8J"
      },
      "execution_count": null,
      "outputs": []
    },
    {
      "cell_type": "code",
      "source": [
        "thresh=4\n",
        "\n",
        "cnt=0\n",
        "tot_cnt=0\n",
        "freq=0\n",
        "tot_freq=0\n",
        "\n",
        "for key,value in x_tokenizer.word_counts.items():\n",
        "    tot_cnt=tot_cnt+1\n",
        "    tot_freq=tot_freq+value\n",
        "    if(value<thresh):\n",
        "        cnt=cnt+1\n",
        "        freq=freq+value\n",
        "\n",
        "print(\"% of rare words in vocabulary:\",(cnt/tot_cnt)*100)\n",
        "print(\"Total Coverage of rare words:\",(freq/tot_freq)*100)"
      ],
      "metadata": {
        "id": "xTZaAZ33YTuJ",
        "outputId": "a921b6d4-250c-4a04-ee9c-7b101d48929c",
        "colab": {
          "base_uri": "https://localhost:8080/"
        }
      },
      "execution_count": null,
      "outputs": [
        {
          "output_type": "stream",
          "name": "stdout",
          "text": [
            "% of rare words in vocabulary: 62.53703317337784\n",
            "Total Coverage of rare words: 2.473014833312864\n"
          ]
        }
      ]
    },
    {
      "cell_type": "code",
      "execution_count": null,
      "metadata": {
        "id": "7zBMGNiOplHZ"
      },
      "outputs": [],
      "source": [
        "#prepare a tokenizer for reviews on training data\n",
        "x_tokenizer = Tokenizer(num_words=tot_cnt-cnt)\n",
        "x_tokenizer.fit_on_texts(list(x_tr))\n",
        "\n",
        "#convert text sequences into integer sequences\n",
        "x_tr_seq    =   x_tokenizer.texts_to_sequences(x_tr)\n",
        "x_val_seq   =   x_tokenizer.texts_to_sequences(x_val)\n",
        "\n",
        "#padding zero upto maximum length\n",
        "x_tr    =   pad_sequences(x_tr_seq,  maxlen=max_text_len, padding='post')\n",
        "x_val   =   pad_sequences(x_val_seq, maxlen=max_text_len, padding='post')\n",
        "\n",
        "#size of vocabulary ( +1 for padding token)\n",
        "x_voc   =  x_tokenizer.num_words + 1\n"
      ]
    },
    {
      "cell_type": "code",
      "source": [
        "x_voc"
      ],
      "metadata": {
        "id": "LozNsq2KYZrK",
        "outputId": "a495476e-4508-4b0c-b6d0-ce042898882b",
        "colab": {
          "base_uri": "https://localhost:8080/"
        }
      },
      "execution_count": null,
      "outputs": [
        {
          "output_type": "execute_result",
          "data": {
            "text/plain": [
              "8979"
            ]
          },
          "metadata": {},
          "execution_count": 41
        }
      ]
    },
    {
      "cell_type": "code",
      "source": [
        "#prepare a tokenizer for reviews on training data\n",
        "y_tokenizer = Tokenizer()\n",
        "y_tokenizer.fit_on_texts(list(y_tr))"
      ],
      "metadata": {
        "id": "DQv_nDo4YkQx"
      },
      "execution_count": null,
      "outputs": []
    },
    {
      "cell_type": "markdown",
      "source": [
        "Reducing the x_voc_size could help us to remove the number of parameters in the embedding layers.\n",
        "Taking the threshold of the rare words can help us remvoe the number of parameters.\n",
        "Else we have to change the dataset to something smaller"
      ],
      "metadata": {
        "id": "BNCXaHN0TwpO"
      }
    },
    {
      "cell_type": "code",
      "source": [
        "thresh=6\n",
        "\n",
        "cnt=0\n",
        "tot_cnt=0\n",
        "freq=0\n",
        "tot_freq=0\n",
        "\n",
        "for key,value in y_tokenizer.word_counts.items():\n",
        "    tot_cnt=tot_cnt+1\n",
        "    tot_freq=tot_freq+value\n",
        "    if(value<thresh):\n",
        "        cnt=cnt+1\n",
        "        freq=freq+value\n",
        "\n",
        "print(\"% of rare words in vocabulary:\",(cnt/tot_cnt)*100)\n",
        "print(\"Total Coverage of rare words:\",(freq/tot_freq)*100)"
      ],
      "metadata": {
        "id": "7A36kWwYGkKj",
        "outputId": "6ae4e6fd-6a9e-4b7e-d2e6-0984dd1d7cef",
        "colab": {
          "base_uri": "https://localhost:8080/"
        }
      },
      "execution_count": null,
      "outputs": [
        {
          "output_type": "stream",
          "name": "stdout",
          "text": [
            "% of rare words in vocabulary: 76.36733383281602\n",
            "Total Coverage of rare words: 4.8315313680911265\n"
          ]
        }
      ]
    },
    {
      "cell_type": "markdown",
      "source": [
        "End of the tokenization method for x and begining of the tokenization of y\n",
        "for y only one method is used so far and based on the performance of the x tokenization. One of the method is used."
      ],
      "metadata": {
        "id": "5tMtMSCUIgzE"
      }
    },
    {
      "cell_type": "code",
      "execution_count": null,
      "metadata": {
        "id": "UkQr1e0A_3Gx"
      },
      "outputs": [],
      "source": [
        "#prepare a tokenizer for reviews on training data\n",
        "y_tokenizer = Tokenizer(num_words=tot_cnt-cnt)\n",
        "y_tokenizer.fit_on_texts(list(y_tr))\n",
        "\n",
        "#convert text sequences into integer sequences\n",
        "y_tr_seq    =   y_tokenizer.texts_to_sequences(y_tr)\n",
        "y_val_seq   =   y_tokenizer.texts_to_sequences(y_val)\n",
        "\n",
        "#padding zero upto maximum length\n",
        "y_tr    =   pad_sequences(y_tr_seq, maxlen=max_len_summary, padding='post')\n",
        "y_val   =   pad_sequences(y_val_seq, maxlen=max_len_summary, padding='post')\n",
        "\n",
        "#size of vocabulary\n",
        "y_voc  =   y_tokenizer.num_words +1"
      ]
    },
    {
      "cell_type": "code",
      "source": [
        "y_tokenizer.word_counts['sostok'],len(y_tr)"
      ],
      "metadata": {
        "id": "yC71QokUUGQj",
        "outputId": "7a64947e-9605-46f4-f27c-132170997db0",
        "colab": {
          "base_uri": "https://localhost:8080/"
        }
      },
      "execution_count": null,
      "outputs": [
        {
          "output_type": "execute_result",
          "data": {
            "text/plain": [
              "(48524, 48524)"
            ]
          },
          "metadata": {},
          "execution_count": 45
        }
      ]
    },
    {
      "cell_type": "code",
      "source": [
        "type(y_tr)"
      ],
      "metadata": {
        "id": "MIoNfavWYt9i",
        "outputId": "3816d02e-78c9-4828-920c-69e286a9a000",
        "colab": {
          "base_uri": "https://localhost:8080/"
        }
      },
      "execution_count": null,
      "outputs": [
        {
          "output_type": "execute_result",
          "data": {
            "text/plain": [
              "numpy.ndarray"
            ]
          },
          "metadata": {},
          "execution_count": 46
        }
      ]
    },
    {
      "cell_type": "code",
      "source": [
        "ind=[]\n",
        "for i in range(len(y_tr)):\n",
        "    cnt=0\n",
        "    for j in y_tr[i]:\n",
        "        if j!=0:\n",
        "            cnt=cnt+1\n",
        "    if(cnt==2):\n",
        "        ind.append(i)\n",
        "\n",
        "y_tr=np.delete(y_tr,ind, axis=0)\n",
        "x_tr=np.delete(x_tr,ind, axis=0)"
      ],
      "metadata": {
        "id": "SxyC8mfZYwJB"
      },
      "execution_count": null,
      "outputs": []
    },
    {
      "cell_type": "code",
      "execution_count": null,
      "metadata": {
        "id": "0dxdnQjhAWku"
      },
      "outputs": [],
      "source": [
        "ind=[]\n",
        "for i in range(len(y_val)):\n",
        "    cnt=0\n",
        "    for j in y_val[i]:\n",
        "        if j!=0:\n",
        "            cnt=cnt+1\n",
        "    if(cnt==2):\n",
        "        ind.append(i)\n",
        "\n",
        "y_val=np.delete(y_val,ind, axis=0)\n",
        "x_val=np.delete(x_val,ind, axis=0)"
      ]
    },
    {
      "cell_type": "code",
      "source": [
        "from keras import backend as K\n",
        "K.clear_session()\n",
        "latent_dim = 300\n",
        "embedding_dim=100 #Keeping latent dimension to 300 and introducing embedding dimension of 100 to reduce the number of parameters of the model\n",
        "#condider chaging the latent_dim to smaller value such as 100 or 300\n",
        "#also adding a seperate embedding_dim can help to reduce the compleixity of the model"
      ],
      "metadata": {
        "id": "xcfx-7dbyKKL"
      },
      "execution_count": null,
      "outputs": []
    },
    {
      "cell_type": "code",
      "source": [
        "#encoder\n",
        "encoder_inputs = Input(shape=(max_text_len,))\n",
        "enc_emb = Embedding(x_voc, embedding_dim,trainable=True)(encoder_inputs)"
      ],
      "metadata": {
        "id": "Tr9oPMfPylXU"
      },
      "execution_count": null,
      "outputs": []
    },
    {
      "cell_type": "code",
      "source": [
        "#LSTM 1\n",
        "encoder_lstm1 = LSTM(latent_dim,return_sequences=True,return_state=True,dropout=0.4,recurrent_dropout=0.4)\n",
        "encoder_output1, state_h1, state_c1 = encoder_lstm1(enc_emb)\n",
        "\n",
        "#LSTM2\n",
        "encoder_lstm2 = LSTM(latent_dim,return_sequences=True,return_state=True,dropout=0.4,recurrent_dropout=0.4)\n",
        "encoder_output2, state_h2, state_c2 = encoder_lstm2(encoder_output1)\n",
        "\n",
        "encoder_lstm3=LSTM(latent_dim, return_state=True, return_sequences=True,dropout=0.4,recurrent_dropout=0.4)\n",
        "encoder_outputs, state_h, state_c= encoder_lstm3(encoder_output2)"
      ],
      "metadata": {
        "id": "bd1syzsnytTN",
        "outputId": "624177f7-ef63-4d8a-bc25-20442030efb8",
        "colab": {
          "base_uri": "https://localhost:8080/"
        }
      },
      "execution_count": null,
      "outputs": [
        {
          "output_type": "stream",
          "name": "stderr",
          "text": [
            "WARNING:tensorflow:Layer lstm will not use cuDNN kernels since it doesn't meet the criteria. It will use a generic GPU kernel as fallback when running on GPU.\n",
            "WARNING:tensorflow:Layer lstm_1 will not use cuDNN kernels since it doesn't meet the criteria. It will use a generic GPU kernel as fallback when running on GPU.\n",
            "WARNING:tensorflow:Layer lstm_2 will not use cuDNN kernels since it doesn't meet the criteria. It will use a generic GPU kernel as fallback when running on GPU.\n"
          ]
        }
      ]
    },
    {
      "cell_type": "code",
      "source": [
        "#decoder\n",
        "decoder_inputs = Input(shape=(None,))\n",
        "dec_emb_layer = Embedding(y_voc, embedding_dim,trainable=True)\n",
        "dec_emb = dec_emb_layer(decoder_inputs)"
      ],
      "metadata": {
        "id": "O8B51Oi9y8ij"
      },
      "execution_count": null,
      "outputs": []
    },
    {
      "cell_type": "code",
      "source": [
        "#LSTM using encoder_states as initial state\n",
        "decoder_lstm = LSTM(latent_dim, return_sequences=True, return_state=True,dropout=0.4,recurrent_dropout=0.2)\n",
        "decoder_outputs,decoder_fwd_state, decoder_back_state = decoder_lstm(dec_emb,initial_state=[state_h, state_c])\n"
      ],
      "metadata": {
        "id": "8TnPLg3j09GZ",
        "outputId": "236b130b-439d-44a7-8906-8ec84b32b2f8",
        "colab": {
          "base_uri": "https://localhost:8080/"
        }
      },
      "execution_count": null,
      "outputs": [
        {
          "output_type": "stream",
          "name": "stderr",
          "text": [
            "WARNING:tensorflow:Layer lstm_3 will not use cuDNN kernels since it doesn't meet the criteria. It will use a generic GPU kernel as fallback when running on GPU.\n"
          ]
        }
      ]
    },
    {
      "cell_type": "code",
      "source": [
        "#pip install attention_keras\n",
        "import tensorflow as tf\n",
        "from tensorflow.python.keras import backend as K\n",
        "\n",
        "logger = tf.get_logger()\n",
        "\n",
        "class AttentionLayer(tf.keras.layers.Layer):\n",
        "    \"\"\"\n",
        "    This class implements Bahdanau attention (https://arxiv.org/pdf/1409.0473.pdf).\n",
        "    There are three sets of weights introduced W_a, U_a, and V_a\n",
        "     \"\"\"\n",
        "\n",
        "    def __init__(self, **kwargs):\n",
        "        super(AttentionLayer, self).__init__(**kwargs)\n",
        "\n",
        "    def build(self, input_shape):\n",
        "        assert isinstance(input_shape, list)\n",
        "        # Create a trainable weight variable for this layer.\n",
        "\n",
        "        self.W_a = self.add_weight(name='W_a',\n",
        "                                   shape=tf.TensorShape((input_shape[0][2], input_shape[0][2])),\n",
        "                                   initializer='uniform',\n",
        "                                   trainable=True)\n",
        "        self.U_a = self.add_weight(name='U_a',\n",
        "                                   shape=tf.TensorShape((input_shape[1][2], input_shape[0][2])),\n",
        "                                   initializer='uniform',\n",
        "                                   trainable=True)\n",
        "        self.V_a = self.add_weight(name='V_a',\n",
        "                                   shape=tf.TensorShape((input_shape[0][2], 1)),\n",
        "                                   initializer='uniform',\n",
        "                                   trainable=True)\n",
        "\n",
        "        super(AttentionLayer, self).build(input_shape)  # Be sure to call this at the end\n",
        "\n",
        "    def call(self, inputs,verbose=False):\n",
        "        \"\"\"\n",
        "        inputs: [encoder_output_sequence, decoder_output_sequence]\n",
        "        \"\"\"\n",
        "        assert type(inputs) == list\n",
        "        encoder_out_seq, decoder_out_seq = inputs\n",
        "\n",
        "        logger.debug(f\"encoder_out_seq.shape = {encoder_out_seq.shape}\")\n",
        "        logger.debug(f\"decoder_out_seq.shape = {decoder_out_seq.shape}\")\n",
        "\n",
        "        def energy_step(inputs, states):\n",
        "            \"\"\" Step function for computing energy for a single decoder state\n",
        "            inputs: (batchsize * 1 * de_in_dim)\n",
        "            states: (batchsize * 1 * de_latent_dim)\n",
        "            \"\"\"\n",
        "\n",
        "            logger.debug(\"Running energy computation step\")\n",
        "\n",
        "            if not isinstance(states, (list, tuple)):\n",
        "                raise TypeError(f\"States must be an iterable. Got {states} of type {type(states)}\")\n",
        "\n",
        "            encoder_full_seq = states[-1]\n",
        "\n",
        "            \"\"\" Computing S.Wa where S=[s0, s1, ..., si]\"\"\"\n",
        "            # <= batch size * en_seq_len * latent_dim\n",
        "            W_a_dot_s = K.dot(encoder_full_seq, self.W_a)\n",
        "\n",
        "            \"\"\" Computing hj.Ua \"\"\"\n",
        "            U_a_dot_h = K.expand_dims(K.dot(inputs, self.U_a), 1)  # <= batch_size, 1, latent_dim\n",
        "\n",
        "            logger.debug(f\"U_a_dot_h.shape = {U_a_dot_h.shape}\")\n",
        "\n",
        "            \"\"\" tanh(S.Wa + hj.Ua) \"\"\"\n",
        "            # <= batch_size*en_seq_len, latent_dim\n",
        "            Ws_plus_Uh = K.tanh(W_a_dot_s + U_a_dot_h)\n",
        "\n",
        "            logger.debug(f\"Ws_plus_Uh.shape = {Ws_plus_Uh.shape}\")\n",
        "\n",
        "            \"\"\" softmax(va.tanh(S.Wa + hj.Ua)) \"\"\"\n",
        "            # <= batch_size, en_seq_len\n",
        "            e_i = K.squeeze(K.dot(Ws_plus_Uh, self.V_a), axis=-1)\n",
        "            # <= batch_size, en_seq_len\n",
        "            e_i = K.softmax(e_i)\n",
        "\n",
        "            logger.debug(f\"ei.shape = {e_i.shape}\")\n",
        "\n",
        "            return e_i, [e_i]\n",
        "\n",
        "        def context_step(inputs, states):\n",
        "            \"\"\" Step function for computing ci using ei \"\"\"\n",
        "\n",
        "            logger.debug(\"Running attention vector computation step\")\n",
        "\n",
        "            if not isinstance(states, (list, tuple)):\n",
        "                raise TypeError(f\"States must be an iterable. Got {states} of type {type(states)}\")\n",
        "\n",
        "            encoder_full_seq = states[-1]\n",
        "\n",
        "            # <= batch_size, hidden_size\n",
        "            c_i = K.sum(encoder_full_seq * K.expand_dims(inputs, -1), axis=1)\n",
        "\n",
        "            logger.debug(f\"ci.shape = {c_i.shape}\")\n",
        "\n",
        "            return c_i, [c_i]\n",
        "\n",
        "        # we don't maintain states between steps when computing attention\n",
        "        # attention is stateless, so we're passing a fake state for RNN step function\n",
        "        fake_state_c = K.sum(encoder_out_seq, axis=1)\n",
        "        fake_state_e = K.sum(encoder_out_seq, axis=2)  # <= (batch_size, enc_seq_len, latent_dim\n",
        "\n",
        "        \"\"\" Computing energy outputs \"\"\"\n",
        "        # e_outputs => (batch_size, de_seq_len, en_seq_len)\n",
        "        last_out, e_outputs, _ = K.rnn(\n",
        "            energy_step, decoder_out_seq, [fake_state_e], constants=[encoder_out_seq]\n",
        "        )\n",
        "\n",
        "        \"\"\" Computing context vectors \"\"\"\n",
        "        last_out, c_outputs, _ = K.rnn(\n",
        "            context_step, e_outputs, [fake_state_c], constants=[encoder_out_seq]\n",
        "        )\n",
        "\n",
        "        return c_outputs, e_outputs\n",
        "\n",
        "    def compute_output_shape(self, input_shape):\n",
        "        \"\"\" Outputs produced by the layer \"\"\"\n",
        "        return [\n",
        "            tf.TensorShape((input_shape[1][0], input_shape[1][1], input_shape[1][2])),\n",
        "            tf.TensorShape((input_shape[1][0], input_shape[1][1], input_shape[0][1]))\n",
        "        ]"
      ],
      "metadata": {
        "id": "yeuUPKUdy-oP"
      },
      "execution_count": null,
      "outputs": []
    },
    {
      "cell_type": "code",
      "source": [
        "attn_layer = AttentionLayer(name='attention_layer')\n",
        "attn_out, attn_states = attn_layer([encoder_outputs, decoder_outputs])"
      ],
      "metadata": {
        "id": "ynWTOFS8zBRS"
      },
      "execution_count": null,
      "outputs": []
    },
    {
      "cell_type": "code",
      "source": [
        "# Concat attention output and decoder LSTM output\n",
        "decoder_concat_input = Concatenate(axis=-1, name='concat_layer')([decoder_outputs, attn_out])"
      ],
      "metadata": {
        "id": "Eq8bkpu8L02C"
      },
      "execution_count": null,
      "outputs": []
    },
    {
      "cell_type": "code",
      "source": [
        "#Dense layer\n",
        "decoder_dense = TimeDistributed(Dense(y_voc, activation='softmax'))\n",
        "decoder_outputs = decoder_dense(decoder_concat_input)"
      ],
      "metadata": {
        "id": "a6MACDv9L289"
      },
      "execution_count": null,
      "outputs": []
    },
    {
      "cell_type": "code",
      "source": [
        "# Define the model\n",
        "model = Model([encoder_inputs, decoder_inputs], decoder_outputs)\n",
        "model.summary()"
      ],
      "metadata": {
        "id": "rl5mDPbPL5TJ",
        "outputId": "526ce08d-2b4c-4f2d-bc24-91b51eb1bcdf",
        "colab": {
          "base_uri": "https://localhost:8080/"
        }
      },
      "execution_count": null,
      "outputs": [
        {
          "output_type": "stream",
          "name": "stdout",
          "text": [
            "Model: \"model\"\n",
            "__________________________________________________________________________________________________\n",
            " Layer (type)                Output Shape                 Param #   Connected to                  \n",
            "==================================================================================================\n",
            " input_1 (InputLayer)        [(None, 30)]                 0         []                            \n",
            "                                                                                                  \n",
            " embedding (Embedding)       (None, 30, 100)              897900    ['input_1[0][0]']             \n",
            "                                                                                                  \n",
            " lstm (LSTM)                 [(None, 30, 300),            481200    ['embedding[0][0]']           \n",
            "                              (None, 300),                                                        \n",
            "                              (None, 300)]                                                        \n",
            "                                                                                                  \n",
            " input_2 (InputLayer)        [(None, None)]               0         []                            \n",
            "                                                                                                  \n",
            " lstm_1 (LSTM)               [(None, 30, 300),            721200    ['lstm[0][0]']                \n",
            "                              (None, 300),                                                        \n",
            "                              (None, 300)]                                                        \n",
            "                                                                                                  \n",
            " embedding_1 (Embedding)     (None, None, 100)            220900    ['input_2[0][0]']             \n",
            "                                                                                                  \n",
            " lstm_2 (LSTM)               [(None, 30, 300),            721200    ['lstm_1[0][0]']              \n",
            "                              (None, 300),                                                        \n",
            "                              (None, 300)]                                                        \n",
            "                                                                                                  \n",
            " lstm_3 (LSTM)               [(None, None, 300),          481200    ['embedding_1[0][0]',         \n",
            "                              (None, 300),                           'lstm_2[0][1]',              \n",
            "                              (None, 300)]                           'lstm_2[0][2]']              \n",
            "                                                                                                  \n",
            " attention_layer (Attention  ((None, None, 300),          180300    ['lstm_2[0][0]',              \n",
            " Layer)                       (None, None, 30))                      'lstm_3[0][0]']              \n",
            "                                                                                                  \n",
            " concat_layer (Concatenate)  (None, None, 600)            0         ['lstm_3[0][0]',              \n",
            "                                                                     'attention_layer[0][0]']     \n",
            "                                                                                                  \n",
            " time_distributed (TimeDist  (None, None, 2209)           1327609   ['concat_layer[0][0]']        \n",
            " ributed)                                                                                         \n",
            "                                                                                                  \n",
            "==================================================================================================\n",
            "Total params: 5031509 (19.19 MB)\n",
            "Trainable params: 5031509 (19.19 MB)\n",
            "Non-trainable params: 0 (0.00 Byte)\n",
            "__________________________________________________________________________________________________\n"
          ]
        }
      ]
    },
    {
      "cell_type": "code",
      "source": [
        "model.compile(optimizer='Adam', loss='sparse_categorical_crossentropy', metrics =['accuracy'])\n"
      ],
      "metadata": {
        "id": "G-bze79GL9dD"
      },
      "execution_count": null,
      "outputs": []
    },
    {
      "cell_type": "code",
      "source": [
        "#using Early stoppage to stop the training of the model once the validation increasers\n",
        "\n",
        "es = EarlyStopping(monitor='val_loss', mode='min', verbose=1,patience=2)"
      ],
      "metadata": {
        "id": "4u1XQ-RMME44"
      },
      "execution_count": null,
      "outputs": []
    },
    {
      "cell_type": "code",
      "source": [
        "'''history = model.fit(\n",
        "    [x_tr, y_tr[:, :-1]],\n",
        "    y_tr.reshape(y_tr.shape[0], y_tr.shape[1], 1)[:, 1:],\n",
        "    epochs=20,\n",
        "    callbacks=[es, tf.keras.callbacks.EarlyStopping(monitor=\"val_accuracy\", patience=3)],\n",
        "    batch_size=256,\n",
        "    validation_data=([x_val, y_val[:, :-1]], y_val.reshape(y_val.shape[0], y_val.shape[1], 1)[:, 1:]),\n",
        ")'''\n",
        "history=model.fit(\n",
        "    [x_tr,y_tr[:,:-1]],\n",
        "    y_tr.reshape(y_tr.shape[0],y_tr.shape[1], 1)[:,1:] ,\n",
        "    epochs=25,callbacks=[es],\n",
        "    batch_size=256,\n",
        "    validation_data=([x_val,y_val[:,:-1]], y_val.reshape(y_val.shape[0],y_val.shape[1], 1)[:,1:]))\n",
        "\n"
      ],
      "metadata": {
        "id": "AB7mMFImP_Rp",
        "outputId": "e6c27681-450c-4113-949d-ca7003d360c0",
        "colab": {
          "base_uri": "https://localhost:8080/"
        }
      },
      "execution_count": null,
      "outputs": [
        {
          "output_type": "stream",
          "name": "stdout",
          "text": [
            "Epoch 1/25\n",
            "186/186 [==============================] - 121s 645ms/step - loss: 2.0381 - accuracy: 0.6762 - val_loss: 1.9294 - val_accuracy: 0.6872\n",
            "Epoch 2/25\n",
            "186/186 [==============================] - 104s 562ms/step - loss: 1.9270 - accuracy: 0.6832 - val_loss: 1.8339 - val_accuracy: 0.6936\n",
            "Epoch 3/25\n",
            "186/186 [==============================] - 102s 552ms/step - loss: 1.8160 - accuracy: 0.6903 - val_loss: 1.7538 - val_accuracy: 0.6997\n",
            "Epoch 4/25\n",
            "186/186 [==============================] - 102s 549ms/step - loss: 1.7328 - accuracy: 0.6958 - val_loss: 1.7121 - val_accuracy: 0.7040\n",
            "Epoch 5/25\n",
            "186/186 [==============================] - 99s 531ms/step - loss: 1.6678 - accuracy: 0.7003 - val_loss: 1.6772 - val_accuracy: 0.7069\n",
            "Epoch 6/25\n",
            "186/186 [==============================] - 104s 559ms/step - loss: 1.6103 - accuracy: 0.7044 - val_loss: 1.6553 - val_accuracy: 0.7096\n",
            "Epoch 7/25\n",
            "186/186 [==============================] - 99s 531ms/step - loss: 1.5612 - accuracy: 0.7084 - val_loss: 1.6358 - val_accuracy: 0.7105\n",
            "Epoch 8/25\n",
            "186/186 [==============================] - 100s 539ms/step - loss: 1.5129 - accuracy: 0.7121 - val_loss: 1.6235 - val_accuracy: 0.7121\n",
            "Epoch 9/25\n",
            "186/186 [==============================] - 99s 532ms/step - loss: 1.4680 - accuracy: 0.7155 - val_loss: 1.6086 - val_accuracy: 0.7134\n",
            "Epoch 10/25\n",
            "186/186 [==============================] - 101s 541ms/step - loss: 1.4251 - accuracy: 0.7196 - val_loss: 1.6039 - val_accuracy: 0.7154\n",
            "Epoch 11/25\n",
            "186/186 [==============================] - 100s 538ms/step - loss: 1.3816 - accuracy: 0.7236 - val_loss: 1.5968 - val_accuracy: 0.7163\n",
            "Epoch 12/25\n",
            "186/186 [==============================] - 98s 527ms/step - loss: 1.3429 - accuracy: 0.7273 - val_loss: 1.5929 - val_accuracy: 0.7170\n",
            "Epoch 13/25\n",
            "186/186 [==============================] - 100s 537ms/step - loss: 1.3047 - accuracy: 0.7316 - val_loss: 1.5912 - val_accuracy: 0.7164\n",
            "Epoch 14/25\n",
            "186/186 [==============================] - 98s 528ms/step - loss: 1.2687 - accuracy: 0.7357 - val_loss: 1.5842 - val_accuracy: 0.7198\n",
            "Epoch 15/25\n",
            "186/186 [==============================] - 103s 555ms/step - loss: 1.2331 - accuracy: 0.7399 - val_loss: 1.5851 - val_accuracy: 0.7209\n",
            "Epoch 16/25\n",
            "186/186 [==============================] - 98s 530ms/step - loss: 1.2017 - accuracy: 0.7440 - val_loss: 1.5854 - val_accuracy: 0.7211\n",
            "Epoch 16: early stopping\n"
          ]
        }
      ]
    },
    {
      "cell_type": "code",
      "source": [
        "'''history=model.fit(\n",
        "    [x_tr,y_tr[:,:-1]],\n",
        "    y_tr.reshape(y_tr.shape[0],y_tr.shape[1], 1)[:,1:]\n",
        "    ,epochs=20,callbacks=[es],\n",
        "    batch_size=256,\n",
        "    validation_data=([x_val,y_val[:,:-1]], y_val.reshape(y_val.shape[0],y_val.shape[1], 1)[:,1:]))'''"
      ],
      "metadata": {
        "id": "BjQO24-rTUtO"
      },
      "execution_count": null,
      "outputs": []
    },
    {
      "cell_type": "code",
      "source": [
        "print(\"Training accuracy:\", history.history[\"accuracy\"][-1])\n",
        "print(\"Validation accuracy:\", history.history[\"val_accuracy\"][-1])\n"
      ],
      "metadata": {
        "id": "QoLHE_kGS27q",
        "outputId": "91bf5ff3-697b-4d4b-dfe9-9ceaf74c2095",
        "colab": {
          "base_uri": "https://localhost:8080/"
        }
      },
      "execution_count": null,
      "outputs": [
        {
          "output_type": "stream",
          "name": "stdout",
          "text": [
            "Training accuracy: 0.7440202832221985\n",
            "Validation accuracy: 0.7210544943809509\n"
          ]
        }
      ]
    },
    {
      "cell_type": "code",
      "source": [
        "from matplotlib import pyplot\n",
        "pyplot.plot(history.history['loss'], label='train')\n",
        "pyplot.plot(history.history['val_loss'], label='test')\n",
        "pyplot.legend()\n",
        "pyplot.show()"
      ],
      "metadata": {
        "id": "-j2J850YnMkb",
        "colab": {
          "base_uri": "https://localhost:8080/",
          "height": 430
        },
        "outputId": "952b236e-bb9f-4890-84f0-7587432c1f88"
      },
      "execution_count": null,
      "outputs": [
        {
          "output_type": "display_data",
          "data": {
            "text/plain": [
              "<Figure size 640x480 with 1 Axes>"
            ],
            "image/png": "[encoded data removed]"
          },
          "metadata": {}
        }
      ]
    },
    {
      "cell_type": "code",
      "source": [
        "reverse_target_word_index=y_tokenizer.index_word\n",
        "reverse_source_word_index=x_tokenizer.index_word\n",
        "target_word_index=y_tokenizer.word_index"
      ],
      "metadata": {
        "id": "0wCNWai4MfLk"
      },
      "execution_count": null,
      "outputs": []
    },
    {
      "cell_type": "code",
      "source": [
        "# encoder inference\n",
        "encoder_model = Model(inputs=encoder_inputs,outputs=[encoder_outputs, state_h, state_c])"
      ],
      "metadata": {
        "id": "spB5_p9TQHBR"
      },
      "execution_count": null,
      "outputs": []
    },
    {
      "cell_type": "markdown",
      "source": [],
      "metadata": {
        "id": "KwN2D4WHOmiI"
      }
    },
    {
      "cell_type": "code",
      "source": [
        "# decoder inference\n",
        "# Below tensors will hold the states of the previous time step\n",
        "decoder_state_input_h = Input(shape=(latent_dim,))\n",
        "decoder_state_input_c = Input(shape=(latent_dim,))\n",
        "decoder_hidden_state_input = Input(shape=(max_text_len,latent_dim))"
      ],
      "metadata": {
        "id": "PXnUx3rMMHWO"
      },
      "execution_count": null,
      "outputs": []
    },
    {
      "cell_type": "code",
      "source": [
        "# Get the embeddings of the decoder sequence\n",
        "dec_emb2= dec_emb_layer(decoder_inputs)"
      ],
      "metadata": {
        "id": "-_ycxlwCQN4l"
      },
      "execution_count": null,
      "outputs": []
    },
    {
      "cell_type": "code",
      "source": [
        "# To predict the next word in the sequence, set the initial states to the states from the previous time step\n",
        "decoder_outputs2, state_h2, state_c2 = decoder_lstm(dec_emb2, initial_state=[decoder_state_input_h, decoder_state_input_c])\n",
        "\n"
      ],
      "metadata": {
        "id": "12eIKgifQPs6"
      },
      "execution_count": null,
      "outputs": []
    },
    {
      "cell_type": "code",
      "source": [
        "#attention inference\n",
        "attn_out_inf, attn_states_inf = attn_layer([decoder_hidden_state_input, decoder_outputs2])\n",
        "decoder_inf_concat = Concatenate(axis=-1, name='concat')([decoder_outputs2, attn_out_inf])"
      ],
      "metadata": {
        "id": "OaPFhd5GQSA3"
      },
      "execution_count": null,
      "outputs": []
    },
    {
      "cell_type": "code",
      "source": [
        "# A dense softmax layer to generate prob dist. over the target vocabulary\n",
        "decoder_outputs2 = decoder_dense(decoder_inf_concat)"
      ],
      "metadata": {
        "id": "xL7OPbJTQToK"
      },
      "execution_count": null,
      "outputs": []
    },
    {
      "cell_type": "code",
      "source": [
        "# Final decoder model\n",
        "decoder_model = Model(\n",
        "[decoder_inputs] + [decoder_hidden_state_input,decoder_state_input_h, decoder_state_input_c],\n",
        "[decoder_outputs2] + [state_h2, state_c2])"
      ],
      "metadata": {
        "id": "E7oNks7hQVhn"
      },
      "execution_count": null,
      "outputs": []
    },
    {
      "cell_type": "code",
      "source": [
        "def decode_sequence(input_seq):\n",
        "    # Encode the input as state vectors.\n",
        "    e_out, e_h, e_c = encoder_model.predict(input_seq)\n",
        "\n",
        "    # Generate empty target sequence of length 1.\n",
        "    target_seq = np.zeros((1,1))\n",
        "\n",
        "    # Populate the first word of target sequence with the start word.\n",
        "    target_seq[0, 0] = target_word_index['sostok']\n",
        "\n",
        "    stop_condition = False\n",
        "    decoded_sentence = ''\n",
        "    while not stop_condition:\n",
        "\n",
        "        output_tokens, h, c = decoder_model.predict([target_seq] + [e_out, e_h, e_c])\n",
        "\n",
        "        # Sample a token\n",
        "        sampled_token_index = np.argmax(output_tokens[0, -1, :])\n",
        "        sampled_token = reverse_target_word_index[sampled_token_index]\n",
        "\n",
        "        if(sampled_token!='eostok'):\n",
        "            decoded_sentence += ' '+sampled_token\n",
        "\n",
        "        # Exit condition: either hit max length or find stop word.\n",
        "        if (sampled_token == 'eostok'  or len(decoded_sentence.split()) >= (max_len_summary-1)):\n",
        "            stop_condition = True\n",
        "\n",
        "        # Update the target sequence (of length 1).\n",
        "        target_seq = np.zeros((1,1))\n",
        "        target_seq[0, 0] = sampled_token_index\n",
        "\n",
        "        # Update internal states\n",
        "        e_h, e_c = h, c\n",
        "\n",
        "    return decoded_sentence"
      ],
      "metadata": {
        "id": "VEIowtHKQYYB"
      },
      "execution_count": null,
      "outputs": []
    },
    {
      "cell_type": "code",
      "source": [
        "def seq2summary(input_seq):\n",
        "    newString=''\n",
        "    for i in input_seq:\n",
        "        if((i!=0 and i!=target_word_index['sostok']) and i!=target_word_index['eostok']):\n",
        "            newString=newString+reverse_target_word_index[i]+' '\n",
        "    return newString\n",
        "\n",
        "def seq2text(input_seq):\n",
        "    newString=''\n",
        "    for i in input_seq:\n",
        "        if(i!=0):\n",
        "            newString=newString+reverse_source_word_index[i]+' '\n",
        "    return newString"
      ],
      "metadata": {
        "id": "yZjUs3Z7QazS"
      },
      "execution_count": null,
      "outputs": []
    },
    {
      "cell_type": "code",
      "source": [
        "for i in range(0,100):\n",
        "    print(\"Review:\",seq2text(x_tr[i]))\n",
        "    print(\"Original summary:\",seq2summary(y_tr[i]))\n",
        "    print(\"Predicted summary:\",decode_sequence(x_tr[i].reshape(1,max_text_len)))\n",
        "    print(\"\\n\")"
      ],
      "metadata": {
        "id": "VXiWENd-Qci9",
        "colab": {
          "base_uri": "https://localhost:8080/"
        },
        "outputId": "0be90465-ef39-4473-80a8-6017fd35c9b7"
      },
      "execution_count": null,
      "outputs": [
        {
          "output_type": "stream",
          "name": "stdout",
          "text": [
            "Review: purchased favorite grandson difficult find glad amazon offers able get large selection packages flavors rich flavor little high calorie good issue \n",
            "Original summary: white chocolate mix \n",
            "1/1 [==============================] - 0s 64ms/step\n",
            "1/1 [==============================] - 0s 20ms/step\n",
            "1/1 [==============================] - 0s 19ms/step\n",
            "1/1 [==============================] - 0s 19ms/step\n",
            "Predicted summary:  great taste\n",
            "\n",
            "\n",
            "Review: firm believer nescafe best available instant decided try like coffee strong need lot stuff classic bad nescafe better \n",
            "Original summary: stick to \n",
            "1/1 [==============================] - 0s 36ms/step\n",
            "1/1 [==============================] - 0s 19ms/step\n",
            "1/1 [==============================] - 0s 22ms/step\n",
            "1/1 [==============================] - 0s 21ms/step\n",
            "Predicted summary:  great taste\n",
            "\n",
            "\n",
            "Review: hot chocolate really delicious use two spoons milk couple spoons sugar natural sweetener tastes great drink two mugs every day service really great ordered sunday delivered monday complaints \n",
            "Original summary: navitas is good \n",
            "1/1 [==============================] - 0s 39ms/step\n",
            "1/1 [==============================] - 0s 23ms/step\n",
            "1/1 [==============================] - 0s 19ms/step\n",
            "1/1 [==============================] - 0s 19ms/step\n",
            "1/1 [==============================] - 0s 19ms/step\n",
            "Predicted summary:  great hot chocolate\n",
            "\n",
            "\n",
            "Review: expected get paid cookies soooooo good care much \n",
            "Original summary: yummie \n",
            "1/1 [==============================] - 0s 39ms/step\n",
            "1/1 [==============================] - 0s 27ms/step\n",
            "1/1 [==============================] - 0s 21ms/step\n",
            "Predicted summary:  yummy\n",
            "\n",
            "\n",
            "Review: wanted licorice teeny tiny rock hard pellets tasted one awful ended throwing boxes bin love licorice \n",
            "Original summary: yuck \n",
            "1/1 [==============================] - 0s 39ms/step\n",
            "1/1 [==============================] - 0s 20ms/step\n",
            "1/1 [==============================] - 0s 19ms/step\n",
            "1/1 [==============================] - 0s 19ms/step\n",
            "Predicted summary:  not bad\n",
            "\n",
            "\n",
            "Review: bought use party favors child birthday went great everyone loved love pez \n",
            "Original summary: great party favor \n",
            "1/1 [==============================] - 0s 37ms/step\n",
            "1/1 [==============================] - 0s 19ms/step\n",
            "1/1 [==============================] - 0s 20ms/step\n",
            "1/1 [==============================] - 0s 21ms/step\n",
            "Predicted summary:  great gift\n",
            "\n",
            "\n",
            "Review: ordered many boxes citrus fizz one places get citrus reasonable price never problem find enjoy fizz morning much cup coffee \n",
            "Original summary: good stuff \n",
            "1/1 [==============================] - 0s 41ms/step\n",
            "1/1 [==============================] - 0s 20ms/step\n",
            "1/1 [==============================] - 0s 19ms/step\n",
            "1/1 [==============================] - 0s 22ms/step\n",
            "Predicted summary:  great product\n",
            "\n",
            "\n",
            "Review: eating couple years yet another terrific product kashi yummy wheat cereal touch sweet great natural cinnamon flavor eat full hours hours like kashi cereals \n",
            "Original summary: super great taste and great nutrition \n",
            "1/1 [==============================] - 0s 42ms/step\n",
            "1/1 [==============================] - 0s 20ms/step\n",
            "1/1 [==============================] - 0s 20ms/step\n",
            "1/1 [==============================] - 0s 20ms/step\n",
            "1/1 [==============================] - 0s 19ms/step\n",
            "1/1 [==============================] - 0s 23ms/step\n",
            "1/1 [==============================] - 0s 24ms/step\n",
            "Predicted summary:  best gluten free bread mix\n",
            "\n",
            "\n",
            "Review: used buy locally apparently lipton selling grocery stores anymore knows get amazon automatic refill satisfied \n",
            "Original summary: my husband favorite tea \n",
            "1/1 [==============================] - 0s 40ms/step\n",
            "1/1 [==============================] - 0s 19ms/step\n",
            "1/1 [==============================] - 0s 20ms/step\n",
            "1/1 [==============================] - 0s 19ms/step\n",
            "Predicted summary:  great product\n",
            "\n",
            "\n",
            "Review: indoor cats initially wary third time served ate relish ever since outdoor cats took right away \n",
            "Original summary: it took but \n",
            "1/1 [==============================] - 0s 38ms/step\n",
            "1/1 [==============================] - 0s 21ms/step\n",
            "1/1 [==============================] - 0s 22ms/step\n",
            "1/1 [==============================] - 0s 21ms/step\n",
            "1/1 [==============================] - 0s 21ms/step\n",
            "Predicted summary:  cats love it\n",
            "\n",
            "\n",
            "Review: love bars chocolate woman love flavor price good hurray kellogg amazon price \n",
            "Original summary: my favorites \n",
            "1/1 [==============================] - 0s 39ms/step\n",
            "1/1 [==============================] - 0s 22ms/step\n",
            "1/1 [==============================] - 0s 25ms/step\n",
            "1/1 [==============================] - 0s 19ms/step\n",
            "Predicted summary:  great taste\n",
            "\n",
            "\n",
            "Review: wonderful gift wife pregnant first child wanted get something make feel special enjoyed treats especially chocolates would definitely recommend gift friend \n",
            "Original summary: great gift for my wife \n",
            "1/1 [==============================] - 0s 48ms/step\n",
            "1/1 [==============================] - 0s 20ms/step\n",
            "1/1 [==============================] - 0s 22ms/step\n",
            "1/1 [==============================] - 0s 22ms/step\n",
            "Predicted summary:  great gift\n",
            "\n",
            "\n",
            "Review: excited try low carb treat realize contain artificial sweeteners terrible aftertaste almond cocoa flavors overpowered fake sweeteners \n",
            "Original summary: tastes fake \n",
            "1/1 [==============================] - 0s 46ms/step\n",
            "1/1 [==============================] - 0s 21ms/step\n",
            "1/1 [==============================] - 0s 23ms/step\n",
            "1/1 [==============================] - 0s 21ms/step\n",
            "Predicted summary:  pretty good\n",
            "\n",
            "\n",
            "Review: gave neighbor like chunks beverage like br ya like coconut juice maybe way br likes waste least \n",
            "Original summary: coconut juice \n",
            "1/1 [==============================] - 0s 45ms/step\n",
            "1/1 [==============================] - 0s 22ms/step\n",
            "1/1 [==============================] - 0s 21ms/step\n",
            "1/1 [==============================] - 0s 23ms/step\n",
            "Predicted summary:  not bad\n",
            "\n",
            "\n",
            "Review: sauce awesome sweeter side spectrum defiantly worth try grew bbq sauce still love day \n",
            "Original summary: one of the greatest \n",
            "1/1 [==============================] - 0s 42ms/step\n",
            "1/1 [==============================] - 0s 19ms/step\n",
            "1/1 [==============================] - 0s 19ms/step\n",
            "1/1 [==============================] - 0s 19ms/step\n",
            "Predicted summary:  great sauce\n",
            "\n",
            "\n",
            "Review: least th box awesome stuff used coffee shop never used anything mochas chemical taste like brand white chocolate goo always mixes perfectly nothing left bottom shipping super fast price right \n",
            "Original summary: great product great company \n",
            "1/1 [==============================] - 0s 37ms/step\n",
            "1/1 [==============================] - 0s 20ms/step\n",
            "1/1 [==============================] - 0s 19ms/step\n",
            "1/1 [==============================] - 0s 19ms/step\n",
            "Predicted summary:  good product\n",
            "\n",
            "\n",
            "Review: hope really healthy yr old seems love tried package already gone recommend \n",
            "Original summary: my kid loves this stuff \n",
            "1/1 [==============================] - 0s 37ms/step\n",
            "1/1 [==============================] - 0s 22ms/step\n",
            "1/1 [==============================] - 0s 22ms/step\n",
            "Predicted summary:  great\n",
            "\n",
            "\n",
            "Review: favorite flavor ramen far able find stores since kid great able find online awesome flavor br br sometimes hot sometimes flavorful always delicious \n",
            "Original summary: thought this was discontinued \n",
            "1/1 [==============================] - 0s 44ms/step\n",
            "1/1 [==============================] - 0s 20ms/step\n",
            "1/1 [==============================] - 0s 22ms/step\n",
            "1/1 [==============================] - 0s 24ms/step\n",
            "Predicted summary:  great product\n",
            "\n",
            "\n",
            "Review: great price gummy treat best gummy bears far come generous quantity per bag \n",
            "Original summary: delicious \n",
            "1/1 [==============================] - 0s 44ms/step\n",
            "1/1 [==============================] - 0s 20ms/step\n",
            "1/1 [==============================] - 0s 23ms/step\n",
            "1/1 [==============================] - 0s 23ms/step\n",
            "1/1 [==============================] - 0s 21ms/step\n",
            "Predicted summary:  love these chips\n",
            "\n",
            "\n",
            "Review: great taste freshness go lot pepper use pre ground stuff definitely recommend great pepper crusted salmon recipes count good pepper \n",
            "Original summary: great item \n",
            "1/1 [==============================] - 0s 40ms/step\n",
            "1/1 [==============================] - 0s 20ms/step\n",
            "1/1 [==============================] - 0s 23ms/step\n",
            "Predicted summary:  great\n",
            "\n",
            "\n",
            "Review: used two cakes raved wide mouth top allows easy access cup measuring cup less mess neat cocoa plus \n",
            "Original summary: good stuff \n",
            "1/1 [==============================] - 0s 41ms/step\n",
            "1/1 [==============================] - 0s 20ms/step\n",
            "1/1 [==============================] - 0s 21ms/step\n",
            "1/1 [==============================] - 0s 21ms/step\n",
            "Predicted summary:  great product\n",
            "\n",
            "\n",
            "Review: awesome product must try sushi tastes like candy heaven food half fun experience making candy must \n",
            "Original summary: yum yum \n",
            "1/1 [==============================] - 0s 44ms/step\n",
            "1/1 [==============================] - 0s 21ms/step\n",
            "1/1 [==============================] - 0s 21ms/step\n",
            "1/1 [==============================] - 0s 25ms/step\n",
            "Predicted summary:  great product\n",
            "\n",
            "\n",
            "Review: bakery organic honey nut absolutely wonderful boxed cereal family prefer mainstream product organic always bonus \n",
            "Original summary: better than expected \n",
            "1/1 [==============================] - 0s 44ms/step\n",
            "1/1 [==============================] - 0s 20ms/step\n",
            "1/1 [==============================] - 0s 20ms/step\n",
            "1/1 [==============================] - 0s 24ms/step\n",
            "Predicted summary:  great tasting\n",
            "\n",
            "\n",
            "Review: wet food kitties like wellness expensive comparison grocery store brands quality superior believe price worth amazon best prices found \n",
            "Original summary: best price ve found \n",
            "1/1 [==============================] - 0s 41ms/step\n",
            "1/1 [==============================] - 0s 20ms/step\n",
            "1/1 [==============================] - 0s 22ms/step\n",
            "1/1 [==============================] - 0s 21ms/step\n",
            "Predicted summary:  great product\n",
            "\n",
            "\n",
            "Review: gourmet coffee stuff disappointing based upon previous good reviews suspect coffee cups received may changed manufacturing wolfgang puck decaf received watery tasteless aroma brewing keurig never \n",
            "Original summary: tasteless and watery \n",
            "1/1 [==============================] - 0s 40ms/step\n",
            "1/1 [==============================] - 0s 21ms/step\n",
            "1/1 [==============================] - 0s 20ms/step\n",
            "Predicted summary:  tasteless\n",
            "\n",
            "\n",
            "Review: wanted add order march came dingo stix per package thats free still priced buy get one free great deal dogs love everything dingo far \n",
            "Original summary: more free \n",
            "1/1 [==============================] - 0s 41ms/step\n",
            "1/1 [==============================] - 0s 20ms/step\n",
            "1/1 [==============================] - 0s 20ms/step\n",
            "1/1 [==============================] - 0s 22ms/step\n",
            "Predicted summary:  great product\n",
            "\n",
            "\n",
            "Review: cupcake picks exactly wanted shipped quicker expected worked perfect graduation perfect \n",
            "Original summary: perfect \n",
            "1/1 [==============================] - 0s 44ms/step\n",
            "1/1 [==============================] - 0s 20ms/step\n",
            "1/1 [==============================] - 0s 20ms/step\n",
            "Predicted summary:  great\n",
            "\n",
            "\n",
            "Review: popular dogs treat pets eat great natural \n",
            "Original summary: liver treats \n",
            "1/1 [==============================] - 0s 41ms/step\n",
            "1/1 [==============================] - 0s 21ms/step\n",
            "1/1 [==============================] - 0s 21ms/step\n",
            "1/1 [==============================] - 0s 19ms/step\n",
            "1/1 [==============================] - 0s 20ms/step\n",
            "Predicted summary:  dogs love it\n",
            "\n",
            "\n",
            "Review: one teas drink daily basis good flavor basic enough part daily routine love \n",
            "Original summary: great staple \n",
            "1/1 [==============================] - 0s 38ms/step\n",
            "1/1 [==============================] - 0s 26ms/step\n",
            "1/1 [==============================] - 0s 21ms/step\n",
            "1/1 [==============================] - 0s 23ms/step\n",
            "Predicted summary:  great tea\n",
            "\n",
            "\n",
            "Review: delicious recommend tastes good alone lemon lime little sweetner etc price good also eligible free shipping \n",
            "Original summary: you like green tea you ll love this one \n",
            "1/1 [==============================] - 0s 41ms/step\n",
            "1/1 [==============================] - 0s 23ms/step\n",
            "1/1 [==============================] - 0s 20ms/step\n",
            "1/1 [==============================] - 0s 21ms/step\n",
            "Predicted summary:  great product\n",
            "\n",
            "\n",
            "Review: like cracked pepper definitely good eats overpowering right \n",
            "Original summary: mm pepper \n",
            "1/1 [==============================] - 0s 41ms/step\n",
            "1/1 [==============================] - 0s 23ms/step\n",
            "1/1 [==============================] - 0s 19ms/step\n",
            "1/1 [==============================] - 0s 21ms/step\n",
            "Predicted summary:  very good\n",
            "\n",
            "\n",
            "Review: recently discovered salt vinegar almonds delicious individual size perfect go also purchased cans home almonds heart healthy snack try limit day taste would like vinegar flavor \n",
            "Original summary: best almonds ever \n",
            "1/1 [==============================] - 0s 39ms/step\n",
            "1/1 [==============================] - 0s 20ms/step\n",
            "1/1 [==============================] - 0s 21ms/step\n",
            "1/1 [==============================] - 0s 21ms/step\n",
            "Predicted summary:  delicious almonds\n",
            "\n",
            "\n",
            "Review: vanilla flavor barely noticeable acidic taste expected breakfast bed hawaiian hazelnut much better choices \n",
            "Original summary: disappointed \n",
            "1/1 [==============================] - 0s 51ms/step\n",
            "1/1 [==============================] - 0s 20ms/step\n",
            "1/1 [==============================] - 0s 20ms/step\n",
            "Predicted summary:  weak\n",
            "\n",
            "\n",
            "Review: discovered kind fruit nut bars recently favorite good taste texture tends get hard bit stale nevertheless would recommend especially someone gluten free case enough options \n",
            "Original summary: very good snack bar \n",
            "1/1 [==============================] - 0s 41ms/step\n",
            "1/1 [==============================] - 0s 19ms/step\n",
            "1/1 [==============================] - 0s 19ms/step\n",
            "Predicted summary:  delicious\n",
            "\n",
            "\n",
            "Review: powder tea granulated sugar make sweet looking healthy sweet luck would say product delicious put scoop way drinking traditional green tea \n",
            "Original summary: has sugar in it \n",
            "1/1 [==============================] - 0s 42ms/step\n",
            "1/1 [==============================] - 0s 21ms/step\n",
            "1/1 [==============================] - 0s 21ms/step\n",
            "1/1 [==============================] - 0s 22ms/step\n",
            "Predicted summary:  great product\n",
            "\n",
            "\n",
            "Review: kettle chip crisp crunchy good although somewhat greasy coated flavoring causing mouth burn expected chip rosemary flavoring leaves greasy gritty residue fingers two three chips \n",
            "Original summary: flavor too strong coating too messy \n",
            "1/1 [==============================] - 0s 43ms/step\n",
            "1/1 [==============================] - 0s 24ms/step\n",
            "1/1 [==============================] - 0s 19ms/step\n",
            "1/1 [==============================] - 0s 18ms/step\n",
            "1/1 [==============================] - 0s 33ms/step\n",
            "Predicted summary:  not the best\n",
            "\n",
            "\n",
            "Review: liked popchips specially taste low calorie fact br also serve bags keeps fresh pack br need need snack \n",
            "Original summary: pretty good snack \n",
            "1/1 [==============================] - 0s 63ms/step\n",
            "1/1 [==============================] - 0s 31ms/step\n",
            "1/1 [==============================] - 0s 29ms/step\n",
            "1/1 [==============================] - 0s 30ms/step\n",
            "1/1 [==============================] - 0s 29ms/step\n",
            "Predicted summary:  love these chips\n",
            "\n",
            "\n",
            "Review: great tasting herbal tea like hot black tea tea also supposed good immune system bonus \n",
            "Original summary: love this tea \n",
            "1/1 [==============================] - 0s 57ms/step\n",
            "1/1 [==============================] - 0s 30ms/step\n",
            "1/1 [==============================] - 0s 30ms/step\n",
            "1/1 [==============================] - 0s 31ms/step\n",
            "Predicted summary:  great tea\n",
            "\n",
            "\n",
            "Review: better expected peppermint flavor lacks mint smell taste good purchase price \n",
            "Original summary: good buy \n",
            "1/1 [==============================] - 0s 61ms/step\n",
            "1/1 [==============================] - 0s 31ms/step\n",
            "1/1 [==============================] - 0s 31ms/step\n",
            "1/1 [==============================] - 0s 33ms/step\n",
            "1/1 [==============================] - 0s 29ms/step\n",
            "1/1 [==============================] - 0s 30ms/step\n",
            "1/1 [==============================] - 0s 29ms/step\n",
            "1/1 [==============================] - 0s 28ms/step\n",
            "Predicted summary:  not as good as the original\n",
            "\n",
            "\n",
            "Review: german shepherds love daily greenies jumps bed every day remind get butt produce treat \n",
            "Original summary: greenies \n",
            "1/1 [==============================] - 0s 59ms/step\n",
            "1/1 [==============================] - 0s 34ms/step\n",
            "1/1 [==============================] - 0s 29ms/step\n",
            "1/1 [==============================] - 0s 34ms/step\n",
            "1/1 [==============================] - 0s 28ms/step\n",
            "Predicted summary:  greenies dental chews\n",
            "\n",
            "\n",
            "Review: please send salmon baby eat please send chicken happybaby organic baby food received month br br \n",
            "Original summary: what baby does not like \n",
            "1/1 [==============================] - 0s 64ms/step\n",
            "1/1 [==============================] - 0s 30ms/step\n",
            "1/1 [==============================] - 0s 32ms/step\n",
            "1/1 [==============================] - 0s 28ms/step\n",
            "1/1 [==============================] - 0s 29ms/step\n",
            "Predicted summary:  cats love it\n",
            "\n",
            "\n",
            "Review: candies addicting miami available certain neighborhood tub perfect disappointed like coconut caramel \n",
            "Original summary: delicious \n",
            "1/1 [==============================] - 0s 60ms/step\n",
            "1/1 [==============================] - 0s 42ms/step\n",
            "1/1 [==============================] - 0s 33ms/step\n",
            "Predicted summary:  delicious\n",
            "\n",
            "\n",
            "Review: anytime shout mr greenie four dogs come running ages dogs love seem help breath tarter amazon absolute best prices \n",
            "Original summary: what my dogs have to say \n",
            "1/1 [==============================] - 0s 62ms/step\n",
            "1/1 [==============================] - 0s 32ms/step\n",
            "1/1 [==============================] - 0s 29ms/step\n",
            "1/1 [==============================] - 0s 29ms/step\n",
            "1/1 [==============================] - 0s 30ms/step\n",
            "Predicted summary:  great training treats\n",
            "\n",
            "\n",
            "Review: small neighborhood bar enjoy novelty fresh hot pork rinds served beverages \n",
            "Original summary: pork rinds \n",
            "1/1 [==============================] - 0s 56ms/step\n",
            "1/1 [==============================] - 0s 30ms/step\n",
            "1/1 [==============================] - 0s 29ms/step\n",
            "1/1 [==============================] - 0s 28ms/step\n",
            "Predicted summary:  best ever\n",
            "\n",
            "\n",
            "Review: dog gets bored easily food tried every different kind food get appetite going merrick wing trick mix dry food happy gets excited mealtime noticed difference coat energy level \n",
            "Original summary: pleased the picky \n",
            "1/1 [==============================] - 0s 59ms/step\n",
            "1/1 [==============================] - 0s 31ms/step\n",
            "1/1 [==============================] - 0s 52ms/step\n",
            "1/1 [==============================] - 0s 32ms/step\n",
            "1/1 [==============================] - 0s 31ms/step\n",
            "1/1 [==============================] - 0s 30ms/step\n",
            "1/1 [==============================] - 0s 32ms/step\n",
            "Predicted summary:  my dog loves this food\n",
            "\n",
            "\n",
            "Review: rich velvety smooth want goat milk cheese expensive sooo worth \n",
            "Original summary: heavenly \n",
            "1/1 [==============================] - 0s 62ms/step\n",
            "1/1 [==============================] - 0s 32ms/step\n",
            "1/1 [==============================] - 0s 29ms/step\n",
            "1/1 [==============================] - 0s 32ms/step\n",
            "Predicted summary:  great product\n",
            "\n",
            "\n",
            "Review: candy tastes like apple juice vitamin chews yummy green like apple flavor hard candies actually green brownish yellow love \n",
            "Original summary: tastes good and natural \n",
            "1/1 [==============================] - 0s 61ms/step\n",
            "1/1 [==============================] - 0s 43ms/step\n",
            "1/1 [==============================] - 0s 30ms/step\n",
            "1/1 [==============================] - 0s 30ms/step\n",
            "1/1 [==============================] - 0s 31ms/step\n",
            "1/1 [==============================] - 0s 30ms/step\n",
            "1/1 [==============================] - 0s 30ms/step\n",
            "Predicted summary:  good but not too sweet\n",
            "\n",
            "\n",
            "Review: never tried himalayan salt really like think strong normal white table salt tastier continue buy \n",
            "Original summary: good salt \n",
            "1/1 [==============================] - 0s 39ms/step\n",
            "1/1 [==============================] - 0s 19ms/step\n",
            "1/1 [==============================] - 0s 22ms/step\n",
            "1/1 [==============================] - 0s 20ms/step\n",
            "Predicted summary:  great salt\n",
            "\n",
            "\n",
            "Review: received chips gift basket absolutely loved searched high low unable find saw immediately ordered case chips light crispy flavorful good love dip chili plain try hooked \n",
            "Original summary: the best chips ever \n",
            "1/1 [==============================] - 0s 41ms/step\n",
            "1/1 [==============================] - 0s 22ms/step\n",
            "1/1 [==============================] - 0s 21ms/step\n",
            "1/1 [==============================] - 0s 20ms/step\n",
            "Predicted summary:  great chips\n",
            "\n",
            "\n",
            "Review: tea found really helps calm anxiety tastes better calming teas make sleepy many local stores carry one amazon best price anyway subscribe save deal \n",
            "Original summary: the only calming tea that works for me \n",
            "1/1 [==============================] - 0s 40ms/step\n",
            "1/1 [==============================] - 0s 22ms/step\n",
            "1/1 [==============================] - 0s 23ms/step\n",
            "1/1 [==============================] - 0s 19ms/step\n",
            "Predicted summary:  great tea\n",
            "\n",
            "\n",
            "Review: delish strong tasty cup joe price used buy coffee time costco knew good \n",
            "Original summary: great deal \n",
            "1/1 [==============================] - 0s 41ms/step\n",
            "1/1 [==============================] - 0s 21ms/step\n",
            "1/1 [==============================] - 0s 23ms/step\n",
            "1/1 [==============================] - 0s 24ms/step\n",
            "Predicted summary:  great taste\n",
            "\n",
            "\n",
            "Review: drinking twining tea years used made england plant north carolina american trade tea excellent drink decaf health reasons find tasty regular tea \n",
            "Original summary: twinings good cup of tea \n",
            "1/1 [==============================] - 0s 41ms/step\n",
            "1/1 [==============================] - 0s 22ms/step\n",
            "1/1 [==============================] - 0s 19ms/step\n",
            "1/1 [==============================] - 0s 23ms/step\n",
            "Predicted summary:  great tea\n",
            "\n",
            "\n",
            "Review: van houtte creme brulee great tasting smooth coffee enjoy much \n",
            "Original summary: great cup of coffee \n",
            "1/1 [==============================] - 0s 40ms/step\n",
            "1/1 [==============================] - 0s 21ms/step\n",
            "1/1 [==============================] - 0s 20ms/step\n",
            "1/1 [==============================] - 0s 22ms/step\n",
            "Predicted summary:  great coffee\n",
            "\n",
            "\n",
            "Review: item bought sent support animal shelter california item got timely manner helped help animals nice thank \n",
            "Original summary: cat food \n",
            "1/1 [==============================] - 0s 42ms/step\n",
            "1/1 [==============================] - 0s 19ms/step\n",
            "1/1 [==============================] - 0s 19ms/step\n",
            "1/1 [==============================] - 0s 18ms/step\n",
            "Predicted summary:  cat food\n",
            "\n",
            "\n",
            "Review: good cereal know else want say definately good stuff \n",
            "Original summary: crunchy healthy \n",
            "1/1 [==============================] - 0s 44ms/step\n",
            "1/1 [==============================] - 0s 20ms/step\n",
            "1/1 [==============================] - 0s 19ms/step\n",
            "1/1 [==============================] - 0s 19ms/step\n",
            "Predicted summary:  great cereal\n",
            "\n",
            "\n",
            "Review: excellent product trans fat baked oven greasy fat baked \n",
            "Original summary: smart puffs cheddar \n",
            "1/1 [==============================] - 0s 39ms/step\n",
            "1/1 [==============================] - 0s 22ms/step\n",
            "1/1 [==============================] - 0s 23ms/step\n",
            "1/1 [==============================] - 0s 21ms/step\n",
            "Predicted summary:  great product\n",
            "\n",
            "\n",
            "Review: best gum ever find particular gum anymore costco best bet br problems order \n",
            "Original summary: best gum ever \n",
            "1/1 [==============================] - 0s 40ms/step\n",
            "1/1 [==============================] - 0s 23ms/step\n",
            "1/1 [==============================] - 0s 19ms/step\n",
            "1/1 [==============================] - 0s 19ms/step\n",
            "1/1 [==============================] - 0s 21ms/step\n",
            "Predicted summary:  best gum ever\n",
            "\n",
            "\n",
            "Review: love lifesaver sugar free wintergreen bags didnt like taste lack sugar since knew buying flavors orange basically baby taste pineapple flavor isnt bad stick wintergreen \n",
            "Original summary: liked them not so much \n",
            "1/1 [==============================] - 0s 40ms/step\n",
            "1/1 [==============================] - 0s 21ms/step\n",
            "1/1 [==============================] - 0s 20ms/step\n",
            "1/1 [==============================] - 0s 23ms/step\n",
            "1/1 [==============================] - 0s 22ms/step\n",
            "Predicted summary:  not so good\n",
            "\n",
            "\n",
            "Review: one packet good cups full pot directions state put water coffe weak \n",
            "Original summary: not strong enough \n",
            "1/1 [==============================] - 0s 44ms/step\n",
            "1/1 [==============================] - 0s 21ms/step\n",
            "1/1 [==============================] - 0s 20ms/step\n",
            "1/1 [==============================] - 0s 21ms/step\n",
            "Predicted summary:  good coffee\n",
            "\n",
            "\n",
            "Review: smell divine even unwrap dark gem rich tasting without sweet dark chocolate often tastes bitter right balance decent sized bar rich enough satisfies chocolate monster two people \n",
            "Original summary: wonderful rich chocolate \n",
            "1/1 [==============================] - 0s 48ms/step\n",
            "1/1 [==============================] - 0s 23ms/step\n",
            "1/1 [==============================] - 0s 23ms/step\n",
            "1/1 [==============================] - 0s 20ms/step\n",
            "Predicted summary:  chocolate heaven\n",
            "\n",
            "\n",
            "Review: westie oliver loves treats really enjoys running agility treats real br br check blog \n",
            "Original summary: looking to super your dog \n",
            "1/1 [==============================] - 0s 42ms/step\n",
            "1/1 [==============================] - 0s 20ms/step\n",
            "1/1 [==============================] - 0s 20ms/step\n",
            "1/1 [==============================] - 0s 22ms/step\n",
            "1/1 [==============================] - 0s 24ms/step\n",
            "1/1 [==============================] - 0s 22ms/step\n",
            "Predicted summary:  my dog loves these\n",
            "\n",
            "\n",
            "Review: boyfriend made rice loved buy locally live small town looked online actually found cheaper amazon manufacturer stuff wonderful \n",
            "Original summary: love this stuff \n",
            "1/1 [==============================] - 0s 43ms/step\n",
            "1/1 [==============================] - 0s 21ms/step\n",
            "1/1 [==============================] - 0s 20ms/step\n",
            "1/1 [==============================] - 0s 20ms/step\n",
            "Predicted summary:  great rice\n",
            "\n",
            "\n",
            "Review: good cup hot chocolate couple marshmellows make daughter every time visits nearly loves \n",
            "Original summary: good drink \n",
            "1/1 [==============================] - 0s 49ms/step\n",
            "1/1 [==============================] - 0s 21ms/step\n",
            "1/1 [==============================] - 0s 20ms/step\n",
            "1/1 [==============================] - 0s 20ms/step\n",
            "1/1 [==============================] - 0s 28ms/step\n",
            "Predicted summary:  great hot cocoa\n",
            "\n",
            "\n",
            "Review: baby loves bring anywhere since glass need anything since suck love fact organic \n",
            "Original summary: yummy easy \n",
            "1/1 [==============================] - 0s 42ms/step\n",
            "1/1 [==============================] - 0s 21ms/step\n",
            "1/1 [==============================] - 0s 22ms/step\n",
            "Predicted summary:  great\n",
            "\n",
            "\n",
            "Review: favorite flavor primal strips like others ordered one last since sounded weird great lime flavor strong texture good lowest calories line excellent guilt snack \n",
            "Original summary: great snack and of protein in calories \n",
            "1/1 [==============================] - 0s 39ms/step\n",
            "1/1 [==============================] - 0s 25ms/step\n",
            "1/1 [==============================] - 0s 23ms/step\n",
            "1/1 [==============================] - 0s 20ms/step\n",
            "Predicted summary:  love these\n",
            "\n",
            "\n",
            "Review: shipping price expensive amazon instead \n",
            "Original summary: get this if \n",
            "1/1 [==============================] - 0s 47ms/step\n",
            "1/1 [==============================] - 0s 28ms/step\n",
            "1/1 [==============================] - 0s 20ms/step\n",
            "1/1 [==============================] - 0s 19ms/step\n",
            "Predicted summary:  good price\n",
            "\n",
            "\n",
            "Review: ambrosia love love love cup tazo zen green tea lemongrass spearmint right low caffeine increases concentration getting ready test enjoying afternoon cup lemongrass spearmint lemon honey \n",
            "Original summary: with fresh lemon and honey \n",
            "1/1 [==============================] - 0s 40ms/step\n",
            "1/1 [==============================] - 0s 22ms/step\n",
            "1/1 [==============================] - 0s 20ms/step\n",
            "Predicted summary:  delicious\n",
            "\n",
            "\n",
            "Review: hands favorite potato chips light flaky hint vinegar make simply irresistible \n",
            "Original summary: my favorite chip \n",
            "1/1 [==============================] - 0s 41ms/step\n",
            "1/1 [==============================] - 0s 20ms/step\n",
            "1/1 [==============================] - 0s 24ms/step\n",
            "1/1 [==============================] - 0s 24ms/step\n",
            "1/1 [==============================] - 0s 19ms/step\n",
            "Predicted summary:  best kettle chips\n",
            "\n",
            "\n",
            "Review: kind bar made look varieties could find healthful delicious sweet chocoholic dream \n",
            "Original summary: kind chocolate cherry cashew \n",
            "1/1 [==============================] - 0s 43ms/step\n",
            "1/1 [==============================] - 0s 20ms/step\n",
            "1/1 [==============================] - 0s 20ms/step\n",
            "1/1 [==============================] - 0s 21ms/step\n",
            "Predicted summary:  great taste\n",
            "\n",
            "\n",
            "Review: nutty delicious well packaged put couple tbls fruit shake every morning get enjoy flavor clean energy satisfaction hunger thanks hemp \n",
            "Original summary: everyday food \n",
            "1/1 [==============================] - 0s 42ms/step\n",
            "1/1 [==============================] - 0s 21ms/step\n",
            "1/1 [==============================] - 0s 19ms/step\n",
            "1/1 [==============================] - 0s 19ms/step\n",
            "1/1 [==============================] - 0s 19ms/step\n",
            "Predicted summary:  love this stuff\n",
            "\n",
            "\n",
            "Review: tea horrible taste threw trash thank heavens found another ginger tea amazon truly wonderful ginger tea \n",
            "Original summary: bad taste \n",
            "1/1 [==============================] - 0s 42ms/step\n",
            "1/1 [==============================] - 0s 20ms/step\n",
            "1/1 [==============================] - 0s 20ms/step\n",
            "1/1 [==============================] - 0s 24ms/step\n",
            "1/1 [==============================] - 0s 20ms/step\n",
            "Predicted summary:  not the best\n",
            "\n",
            "\n",
            "Review: beaba multiportion freezer tray perfect freezing baby food made baby food two children simple way getting done quick easy plus easy push frozen portions freezing tray flexible \n",
            "Original summary: perfect for baby food \n",
            "1/1 [==============================] - 0s 43ms/step\n",
            "1/1 [==============================] - 0s 23ms/step\n",
            "1/1 [==============================] - 0s 19ms/step\n",
            "1/1 [==============================] - 0s 21ms/step\n",
            "Predicted summary:  great product\n",
            "\n",
            "\n",
            "Review: ordered keep dorm opened box order try bit dry side glass cold milk delicious rather small many box filling taste good \n",
            "Original summary: filling cookies \n",
            "1/1 [==============================] - 0s 41ms/step\n",
            "1/1 [==============================] - 0s 22ms/step\n",
            "1/1 [==============================] - 0s 21ms/step\n",
            "1/1 [==============================] - 0s 21ms/step\n",
            "Predicted summary:  great cookies\n",
            "\n",
            "\n",
            "Review: think reading reviews expecting something better whole foods apple sweetened variety actually think whole foods variety taste better however organic convenient pouches would probably get \n",
            "Original summary: had higher expectations \n",
            "1/1 [==============================] - 0s 42ms/step\n",
            "1/1 [==============================] - 0s 21ms/step\n",
            "1/1 [==============================] - 0s 24ms/step\n",
            "1/1 [==============================] - 0s 23ms/step\n",
            "Predicted summary:  good product\n",
            "\n",
            "\n",
            "Review: coffee delight br pretty picky selection coffee one meets requirements br br bravo bravo bravo \n",
            "Original summary: it the best \n",
            "1/1 [==============================] - 0s 41ms/step\n",
            "1/1 [==============================] - 0s 21ms/step\n",
            "1/1 [==============================] - 0s 21ms/step\n",
            "1/1 [==============================] - 0s 24ms/step\n",
            "Predicted summary:  good coffee\n",
            "\n",
            "\n",
            "Review: excellent candy would buy melts never buy summer hot months \n",
            "Original summary: candy would buy again but not in the summer \n",
            "1/1 [==============================] - 0s 45ms/step\n",
            "1/1 [==============================] - 0s 20ms/step\n",
            "1/1 [==============================] - 0s 20ms/step\n",
            "Predicted summary:  delicious\n",
            "\n",
            "\n",
            "Review: love product sold stores arizona sure \n",
            "Original summary: walnut purchase \n",
            "1/1 [==============================] - 0s 42ms/step\n",
            "1/1 [==============================] - 0s 22ms/step\n",
            "1/1 [==============================] - 0s 20ms/step\n",
            "1/1 [==============================] - 0s 20ms/step\n",
            "Predicted summary:  great product\n",
            "\n",
            "\n",
            "Review: href http www amazon com gp product chex calorie snack mix caramel ounce packages br yummy calorie pack snack entire family hooked \n",
            "Original summary: yummy snack \n",
            "1/1 [==============================] - 0s 44ms/step\n",
            "1/1 [==============================] - 0s 20ms/step\n",
            "1/1 [==============================] - 0s 22ms/step\n",
            "1/1 [==============================] - 0s 21ms/step\n",
            "Predicted summary:  great snack\n",
            "\n",
            "\n",
            "Review: dog loves greenies clean teeth wonderful great snack small dog cut half last longer pleased found amazon price sell plus free shipping love amazon \n",
            "Original summary: great \n",
            "1/1 [==============================] - 0s 41ms/step\n",
            "1/1 [==============================] - 0s 19ms/step\n",
            "1/1 [==============================] - 0s 21ms/step\n",
            "1/1 [==============================] - 0s 21ms/step\n",
            "Predicted summary:  great product\n",
            "\n",
            "\n",
            "Review: great product new brand fallen love products soft one reviewer states replace pill pocket hard stores best place buy \n",
            "Original summary: soft and yummy \n",
            "1/1 [==============================] - 0s 42ms/step\n",
            "1/1 [==============================] - 0s 23ms/step\n",
            "1/1 [==============================] - 0s 20ms/step\n",
            "1/1 [==============================] - 0s 22ms/step\n",
            "Predicted summary:  great product\n",
            "\n",
            "\n",
            "Review: shipping fast expiration date got feb expiration april eat much seaweed short time returned wants go trouble well stuffed freezer hope still eatable get order food online order \n",
            "Original summary: almost expired \n",
            "1/1 [==============================] - 0s 61ms/step\n",
            "1/1 [==============================] - 0s 33ms/step\n",
            "1/1 [==============================] - 0s 37ms/step\n",
            "1/1 [==============================] - 0s 30ms/step\n",
            "Predicted summary:  expiration date\n",
            "\n",
            "\n",
            "Review: could coat pill pure hamburger dog could figure eat burger somehow pill ends floor swear begs eats whole thing one bite \n",
            "Original summary: fooled you you picky dog \n",
            "1/1 [==============================] - 0s 57ms/step\n",
            "1/1 [==============================] - 0s 31ms/step\n",
            "1/1 [==============================] - 0s 33ms/step\n",
            "1/1 [==============================] - 0s 43ms/step\n",
            "1/1 [==============================] - 0s 31ms/step\n",
            "Predicted summary:  great dog food\n",
            "\n",
            "\n",
            "Review: ordered swanson premium chunk chicken breast water white meat ounce cans family absolutely loved without doubt best canned chicken ever closest fresh ever tasted \n",
            "Original summary: next to fresh \n",
            "1/1 [==============================] - 0s 56ms/step\n",
            "1/1 [==============================] - 0s 32ms/step\n",
            "1/1 [==============================] - 0s 30ms/step\n",
            "1/1 [==============================] - 0s 29ms/step\n",
            "Predicted summary:  great product\n",
            "\n",
            "\n",
            "Review: first batch lost mail second batch promptly sent amount grains small need lot several months grains two tablespoons size already given away kefir drinkers brazil \n",
            "Original summary: great service and grains \n",
            "1/1 [==============================] - 0s 59ms/step\n",
            "1/1 [==============================] - 0s 28ms/step\n",
            "1/1 [==============================] - 0s 28ms/step\n",
            "1/1 [==============================] - 0s 29ms/step\n",
            "Predicted summary:  great product\n",
            "\n",
            "\n",
            "Review: love pasta mix regular pasta meal half half love lower calories fiber content \n",
            "Original summary: great pasta \n",
            "1/1 [==============================] - 0s 53ms/step\n",
            "1/1 [==============================] - 0s 30ms/step\n",
            "1/1 [==============================] - 0s 33ms/step\n",
            "1/1 [==============================] - 0s 29ms/step\n",
            "Predicted summary:  great pasta\n",
            "\n",
            "\n",
            "Review: cat even touch sniffed looked tried bury tried three different occasions thinking maybe belly upset day never would eat got case guess donate local animal shelter \n",
            "Original summary: cat hated it \n",
            "1/1 [==============================] - 0s 56ms/step\n",
            "1/1 [==============================] - 0s 30ms/step\n",
            "1/1 [==============================] - 0s 30ms/step\n",
            "1/1 [==============================] - 0s 29ms/step\n",
            "Predicted summary:  cat food\n",
            "\n",
            "\n",
            "Review: dogs love greenies healthy chewing snack dogs pleased purchase greenies great price paid tub tiny greenies package sells least product continue purchase product amazon com \n",
            "Original summary: greenies at great price \n",
            "1/1 [==============================] - 0s 68ms/step\n",
            "1/1 [==============================] - 0s 29ms/step\n",
            "1/1 [==============================] - 0s 30ms/step\n",
            "1/1 [==============================] - 0s 35ms/step\n",
            "Predicted summary:  great product\n",
            "\n",
            "\n",
            "Review: rd reorder popcorn quickly become family favorite snack neighbor kids complain parents come popcorn like gotta love super fast shipping portion packs way go \n",
            "Original summary: of the \n",
            "1/1 [==============================] - 0s 62ms/step\n",
            "1/1 [==============================] - 0s 32ms/step\n",
            "1/1 [==============================] - 0s 31ms/step\n",
            "1/1 [==============================] - 0s 29ms/step\n",
            "Predicted summary:  great popcorn\n",
            "\n",
            "\n",
            "Review: ordered gummi rings pink candy buffet gummi rings appear light pink white image actually red white color heads looking pink candy \n",
            "Original summary: is deceiving \n",
            "1/1 [==============================] - 0s 58ms/step\n",
            "1/1 [==============================] - 0s 32ms/step\n",
            "1/1 [==============================] - 0s 27ms/step\n",
            "1/1 [==============================] - 0s 28ms/step\n",
            "Predicted summary:  money tree\n",
            "\n",
            "\n",
            "Review: received product time described like hot sauces assortment highly recommended \n",
            "Original summary: insanely good \n",
            "1/1 [==============================] - 0s 54ms/step\n",
            "1/1 [==============================] - 0s 29ms/step\n",
            "1/1 [==============================] - 0s 31ms/step\n",
            "Predicted summary:  hot\n",
            "\n",
            "\n",
            "Review: wonderful vanilla baking bottle nice touch adds effect gift good product great taste \n",
            "Original summary: mexican vanilla \n",
            "1/1 [==============================] - 0s 56ms/step\n"
          ]
        }
      ]
    },
    {
      "cell_type": "code",
      "source": [],
      "metadata": {
        "id": "SxbhLrbwQcYP"
      },
      "execution_count": null,
      "outputs": []
    }
  ],
  "metadata": {
    "colab": {
      "provenance": [],
      "gpuType": "T4",
      "include_colab_link": true
    },
    "kernelspec": {
      "display_name": "Python 3",
      "name": "python3"
    },
    "language_info": {
      "name": "python"
    },
    "accelerator": "GPU"
  },
  "nbformat": 4,
  "nbformat_minor": 0
}