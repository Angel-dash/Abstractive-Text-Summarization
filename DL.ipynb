{
  "cells": [
    {
      "cell_type": "markdown",
      "metadata": {
        "colab_type": "text",
        "id": "view-in-github"
      },
      "source": [
        "<a href=\"https://colab.research.google.com/github/Angel-dash/Abstractive-Text-Summarization/blob/main/DL.ipynb\" target=\"_parent\"><img src=\"https://colab.research.google.com/assets/colab-badge.svg\" alt=\"Open In Colab\"/></a>\n"
      ]
    },
    {
      "cell_type": "markdown",
      "metadata": {
        "id": "kqAfNPhkHgS_"
      },
      "source": []
    },
    {
      "cell_type": "code",
      "execution_count": 1,
      "metadata": {
        "colab": {
          "base_uri": "https://localhost:8080/"
        },
        "id": "MMJKxxgXOPT0",
        "outputId": "250b5117-4ccc-4ab6-9754-29f4950739f1"
      },
      "outputs": [],
      "source": [
        "#from google.colab import drive\n",
        "#drive.mount('/content/drive')\n"
      ]
    },
    {
      "cell_type": "code",
      "execution_count": 2,
      "metadata": {
        "colab": {
          "base_uri": "https://localhost:8080/"
        },
        "id": "NL040gAPOe6t",
        "outputId": "82f033c0-133e-498b-f306-b40f964380df"
      },
      "outputs": [
        {
          "name": "stdout",
          "output_type": "stream",
          "text": [
            "Archive:  /content/drive/MyDrive/MiniProjectdata/data.zip\n",
            "  inflating: cnn_dailymail/test.csv  \n",
            "  inflating: cnn_dailymail/train.csv  \n",
            "  inflating: cnn_dailymail/validation.csv  \n"
          ]
        }
      ],
      "source": [
        "#!unzip /content/drive/MyDrive/MiniProjectdata/data.zip\n"
      ]
    },
    {
      "cell_type": "code",
      "execution_count": 9,
      "metadata": {
        "colab": {
          "base_uri": "https://localhost:8080/"
        },
        "id": "fHunr2RhP2pd",
        "outputId": "435af571-84d0-45a8-d811-f92c8a671563"
      },
      "outputs": [
        {
          "name": "stderr",
          "output_type": "stream",
          "text": [
            "[nltk_data] Downloading package stopwords to\n",
            "[nltk_data]     C:\\Users\\User\\AppData\\Roaming\\nltk_data...\n",
            "[nltk_data]   Unzipping corpora\\stopwords.zip.\n"
          ]
        },
        {
          "data": {
            "text/plain": [
              "True"
            ]
          },
          "execution_count": 9,
          "metadata": {},
          "output_type": "execute_result"
        }
      ],
      "source": [
        "import numpy as np\n",
        "import pandas as pd\n",
        "import re\n",
        "import tensorflow\n",
        "import nltk\n",
        "from bs4 import BeautifulSoup\n",
        "from tensorflow.keras.preprocessing.text import Tokenizer\n",
        "from tensorflow.keras.preprocessing.sequence import pad_sequences\n",
        "from nltk.corpus import stopwords\n",
        "from tensorflow.keras.layers import Input, LSTM, Embedding, Dense, Concatenate, TimeDistributed, Bidirectional\n",
        "from tensorflow.keras.models import Model\n",
        "from tensorflow.keras.callbacks import EarlyStopping\n",
        "import warnings\n",
        "pd.set_option(\"display.max_colwidth\", 200)\n",
        "warnings.filterwarnings(\"ignore\")\n",
        "import textwrap\n",
        "nltk.download('stopwords')"
      ]
    },
    {
      "cell_type": "code",
      "execution_count": 15,
      "metadata": {
        "id": "_4YwYIe7hQmt"
      },
      "outputs": [],
      "source": [
        "data_train=pd.read_csv('./data/test.csv')\n",
        "data_test=pd.read_csv('./data/test.csv')\n",
        "data_validation=pd.read_csv('./data/validation.csv')"
      ]
    },
    {
      "cell_type": "markdown",
      "metadata": {
        "id": "zQJdiWCJoIaM"
      },
      "source": [
        "Data preprocessing\n"
      ]
    },
    {
      "cell_type": "code",
      "execution_count": 16,
      "metadata": {
        "id": "uhS4-P39kULT"
      },
      "outputs": [],
      "source": [
        "data = pd.concat([data_train, data_test, data_validation ])\n",
        "df = data"
      ]
    },
    {
      "cell_type": "code",
      "execution_count": 19,
      "metadata": {
        "id": "ibu0t1QjvoVk"
      },
      "outputs": [],
      "source": [
        "new_df=df.sample(50000,replace=True)"
      ]
    },
    {
      "cell_type": "code",
      "execution_count": 20,
      "metadata": {
        "colab": {
          "base_uri": "https://localhost:8080/",
          "height": 300
        },
        "id": "bjaSvOGej9gg",
        "outputId": "7584b83c-775c-4569-be6a-ba35f9b0243b"
      },
      "outputs": [
        {
          "data": {
            "text/html": [
              "<div>\n",
              "<style scoped>\n",
              "    .dataframe tbody tr th:only-of-type {\n",
              "        vertical-align: middle;\n",
              "    }\n",
              "\n",
              "    .dataframe tbody tr th {\n",
              "        vertical-align: top;\n",
              "    }\n",
              "\n",
              "    .dataframe thead th {\n",
              "        text-align: right;\n",
              "    }\n",
              "</style>\n",
              "<table border=\"1\" class=\"dataframe\">\n",
              "  <thead>\n",
              "    <tr style=\"text-align: right;\">\n",
              "      <th></th>\n",
              "      <th>id</th>\n",
              "      <th>article</th>\n",
              "      <th>highlights</th>\n",
              "    </tr>\n",
              "  </thead>\n",
              "  <tbody>\n",
              "    <tr>\n",
              "      <th>9095</th>\n",
              "      <td>532af494c6d152a7b29deea9d8089ec6f83dc997</td>\n",
              "      <td>A mother has described how she heard a doctor asking her husband about switching off her life-support as she lay in a medically-induced coma after collapsing from a rare condition. Jenny Bone, who...</td>\n",
              "      <td>Jenny Bone has recovered after husband John refused to end her life .\\nMrs Bone fell in to a coma after falling ill with Guillain-Barre Syndrome .\\nNerve condition meant she appeared unconsciousne...</td>\n",
              "    </tr>\n",
              "    <tr>\n",
              "      <th>7656</th>\n",
              "      <td>691fd676dc40ff633067e8f255c26d6a31b9f631</td>\n",
              "      <td>Thibaut Courtois believes Chelsea's win at West Ham was the sort which showed they can be Premier League champions. Chelsea followed up last Sunday's Capital One Cup final victory over Tottenham w...</td>\n",
              "      <td>Chelsea beat West Ham 1-0 at Upton Park on Wednesday night .\\nEden Hazard scored the game's only goal with a first-half header .\\nThe Blues retained five-point lead over Manchester City at the top...</td>\n",
              "    </tr>\n",
              "    <tr>\n",
              "      <th>3702</th>\n",
              "      <td>656f43d5890e147dbc6fef1d96e033e142bd5a34</td>\n",
              "      <td>Manchester United striker Wayne Rooney has revealed he gets annoyed when fans chant his name at him in the street in an interview with Ant and Dec's 'little' counterparts on Saturday Night Takeawa...</td>\n",
              "      <td>Wayne Rooney is set to appear on Ant and Dec's Saturday Night Takeaway .\\nThe England captain jokes around in interview with Little Ant and Dec .\\nManchester United forward admits that public atte...</td>\n",
              "    </tr>\n",
              "  </tbody>\n",
              "</table>\n",
              "</div>"
            ],
            "text/plain": [
              "                                            id  \\\n",
              "9095  532af494c6d152a7b29deea9d8089ec6f83dc997   \n",
              "7656  691fd676dc40ff633067e8f255c26d6a31b9f631   \n",
              "3702  656f43d5890e147dbc6fef1d96e033e142bd5a34   \n",
              "\n",
              "                                                                                                                                                                                                      article  \\\n",
              "9095  A mother has described how she heard a doctor asking her husband about switching off her life-support as she lay in a medically-induced coma after collapsing from a rare condition. Jenny Bone, who...   \n",
              "7656  Thibaut Courtois believes Chelsea's win at West Ham was the sort which showed they can be Premier League champions. Chelsea followed up last Sunday's Capital One Cup final victory over Tottenham w...   \n",
              "3702  Manchester United striker Wayne Rooney has revealed he gets annoyed when fans chant his name at him in the street in an interview with Ant and Dec's 'little' counterparts on Saturday Night Takeawa...   \n",
              "\n",
              "                                                                                                                                                                                                   highlights  \n",
              "9095  Jenny Bone has recovered after husband John refused to end her life .\\nMrs Bone fell in to a coma after falling ill with Guillain-Barre Syndrome .\\nNerve condition meant she appeared unconsciousne...  \n",
              "7656  Chelsea beat West Ham 1-0 at Upton Park on Wednesday night .\\nEden Hazard scored the game's only goal with a first-half header .\\nThe Blues retained five-point lead over Manchester City at the top...  \n",
              "3702  Wayne Rooney is set to appear on Ant and Dec's Saturday Night Takeaway .\\nThe England captain jokes around in interview with Little Ant and Dec .\\nManchester United forward admits that public atte...  "
            ]
          },
          "execution_count": 20,
          "metadata": {},
          "output_type": "execute_result"
        }
      ],
      "source": [
        "new_df.head(3)"
      ]
    },
    {
      "cell_type": "code",
      "execution_count": 21,
      "metadata": {
        "colab": {
          "base_uri": "https://localhost:8080/"
        },
        "id": "B4gMsVvVmV_b",
        "outputId": "546b779d-029e-473a-ffcb-86dcd39474ff"
      },
      "outputs": [
        {
          "data": {
            "text/plain": [
              "(50000, 3)"
            ]
          },
          "execution_count": 21,
          "metadata": {},
          "output_type": "execute_result"
        }
      ],
      "source": [
        "new_df.shape"
      ]
    },
    {
      "cell_type": "code",
      "execution_count": 22,
      "metadata": {
        "colab": {
          "base_uri": "https://localhost:8080/"
        },
        "id": "3dPq1VoEmYMF",
        "outputId": "f151a6bc-8911-4883-c7bb-73bb91517b60"
      },
      "outputs": [
        {
          "name": "stdout",
          "output_type": "stream",
          "text": [
            "****Article****\n",
            "['One in three 11-year-olds is still overweight or obese - but an expert has warned that the country’s fat youngsters are now ‘getting fatter’ Britain now has 140,000 ‘super-fat’ children who will need gastric bands as adults if they do not slim down, according to a leading expert. The number of seriously overweight children has soared in recent years as Ministers have failed to tackle the problem, said Professor Paul Gately. Official statistics suggest childhood obesity rates have plateaued in recent years – although one in three 11-year-olds is still overweight or obese. But Prof Gately, who treats obese patients, said the figures disguised the fact that the country’s fat youngsters were now ‘getting fatter’. Speaking at an event to discuss whether people were too worried about childhood obesity, he said the problem was ‘much worse’ than many feared. Overall rates had stabilised, but only because middle-class families had started heeding advice to eat healthily and take more exercise, he said. He added: ‘Unfortunately, those children who are already obese are getting fatter. So more deprived communities are getting more obese.’ He continued: ‘We have 140,000 children in the UK who are so obese that if they were adults they would be immediately eligible for surgery.’ Society had to ‘think very carefully about that’, he told a meeting at the Policy Exchange think-tank in London, because ‘obese children tend to become obese adults’. Under recently published guidelines, adults should be considered for weight-loss surgery if they have a body mass index (BMI) of 30 or more and ‘very poorly controlled’ type 2 diabetes. A BMI of 30 is equivalent to a 5ft 6in woman weighing 13st 9lb, or a 5ft 11in man of 15st 6lb. Any patient with type 2 diabetes and a BMI over 35 should also be considered for weight-reduction surgery, according to the National Institute for Health and Care Excellence. Britain now has 140,000 ‘super-fat’ children who will need gastric bands as adults if they do not slim down . Teenagers rarely have fat-loss surgery, with only 60 such operations taking place last year. However, as The Mail on Sunday revealed last month, patients are getting younger, with a 12-year-old boy recently going under the knife. Prof Gately, an exercise and obesity specialist at Leeds Metropolitan University, believes successive governments squandered billions on scattergun attempts to protect all children from obesity – when only some were actually ‘at risk’. Arguing many obese people were victims of circumstance, he claimed the current Government’s policy of emphasising ‘personal responsibility’ over weight led to people feeling blamed, which was counterproductive. rofessor Paul Gately (pictured) says the number of seriously overweight children has soared in recent years as Ministers have failed to tackle the problem . And he accused local councils of spending only minuscule amounts on obesity prevention or on helping those affected, even though the problems ‘dwarfed’ other public health issues that had money lavished on them, such as sexually transmitted infections. Tam Fry, of the National Obesity Forum, said: ‘If we only had a real policy for preventing children from getting fat in the first place, we would not have ridiculous figures like this.’ Mr Fry said he believed more teenagers should undergo fat-loss surgery, adding that gastric bands were proven to help patients lose weight and keep it off. But weight-loss motivator Steve Miller countered: ‘Why should parents expect the taxpayer to pay for their child to go on the operating table, because they have been so irresponsible as to let them get so fat?’ He added: ‘Gastric bands don’t treat the underlying reasons why a child is obese, which could be caused by emotional problems or self-esteem issues.’ Former Tory Health Secretary Andrew Lansley, who also spoke at the Policy Exchange event, said the Government’s health initiatives had helped make food healthier – cutting salt and fat levels, and reducing the nation’s intake by billions of calories a day. And he said it was right to stress personal responsibility because it was important that people realised they could take action to cut their weight.']\n",
            "****Highlights****\n",
            "[\"Britain now has 140,000 'super-fat' children who will need gastric bands .\\nNumber of seriously overweight children has soared in recent years .\\nOne in three 11-year-olds are classed as overweight or obese in the UK .\\nExpert has warned that fat youngsters are now 'getting fatter'\"]\n"
          ]
        }
      ],
      "source": [
        "sample=new_df.sample()\n",
        "print(\"****Article****\")\n",
        "print(sample.article.values)\n",
        "print('****Highlights****')\n",
        "print(sample.highlights.values)"
      ]
    },
    {
      "cell_type": "markdown",
      "metadata": {
        "id": "A8f0fplPn7FV"
      },
      "source": [
        "Checking for Null values\n"
      ]
    },
    {
      "cell_type": "code",
      "execution_count": 23,
      "metadata": {
        "colab": {
          "base_uri": "https://localhost:8080/"
        },
        "id": "-rj60r4FmswB",
        "outputId": "91b42079-8441-4ff0-b9fd-d3058a29f7c2"
      },
      "outputs": [
        {
          "data": {
            "text/plain": [
              "id            0\n",
              "article       0\n",
              "highlights    0\n",
              "dtype: int64"
            ]
          },
          "execution_count": 23,
          "metadata": {},
          "output_type": "execute_result"
        }
      ],
      "source": [
        "new_df.isna().sum()"
      ]
    },
    {
      "cell_type": "markdown",
      "metadata": {
        "id": "uGY2KQtMoDkM"
      },
      "source": [
        "Checking for duplicates\n"
      ]
    },
    {
      "cell_type": "code",
      "execution_count": 24,
      "metadata": {
        "colab": {
          "base_uri": "https://localhost:8080/"
        },
        "id": "kHMVZot0n4uD",
        "outputId": "c2893d24-cc0c-44d0-a7ae-74e8829731cc"
      },
      "outputs": [
        {
          "data": {
            "text/plain": [
              "29152"
            ]
          },
          "execution_count": 24,
          "metadata": {},
          "output_type": "execute_result"
        }
      ],
      "source": [
        "new_df.duplicated(subset=['article','highlights']).sum()"
      ]
    },
    {
      "cell_type": "code",
      "execution_count": 25,
      "metadata": {
        "colab": {
          "base_uri": "https://localhost:8080/"
        },
        "id": "QVHFFfmwoZZT",
        "outputId": "4834a7b0-7e77-46b9-c605-29c853d7d045"
      },
      "outputs": [
        {
          "data": {
            "text/plain": [
              "(20848, 3)"
            ]
          },
          "execution_count": 25,
          "metadata": {},
          "output_type": "execute_result"
        }
      ],
      "source": [
        "new_df=new_df.drop_duplicates(subset=['article','highlights'])\n",
        "new_df.shape"
      ]
    },
    {
      "cell_type": "code",
      "execution_count": 26,
      "metadata": {
        "colab": {
          "base_uri": "https://localhost:8080/"
        },
        "id": "vDaWneCvo12o",
        "outputId": "6aa1b7ac-6ecb-4fc1-98c5-d83307bfd444"
      },
      "outputs": [
        {
          "data": {
            "text/plain": [
              "0"
            ]
          },
          "execution_count": 26,
          "metadata": {},
          "output_type": "execute_result"
        }
      ],
      "source": [
        "new_df.duplicated(subset=['article','highlights']).sum()"
      ]
    },
    {
      "cell_type": "code",
      "execution_count": 27,
      "metadata": {
        "colab": {
          "base_uri": "https://localhost:8080/"
        },
        "id": "T2EEiOeFKUgB",
        "outputId": "fe708da7-ce3f-4f66-c6bf-55aa32aa9983"
      },
      "outputs": [
        {
          "data": {
            "text/plain": [
              "9095     A mother has described how she heard a doctor asking her husband about switching off her life-support as she lay in a medically-induced coma after collapsing from a rare condition. Jenny Bone, who...\n",
              "7656     Thibaut Courtois believes Chelsea's win at West Ham was the sort which showed they can be Premier League champions. Chelsea followed up last Sunday's Capital One Cup final victory over Tottenham w...\n",
              "3702     Manchester United striker Wayne Rooney has revealed he gets annoyed when fans chant his name at him in the street in an interview with Ant and Dec's 'little' counterparts on Saturday Night Takeawa...\n",
              "1240     A nine-year-old boy found a message in a bottle while exploring a wooded beach of a small lake island on a family vacation - and then realized it was addressed to his grandfather. Nolan Rogers had...\n",
              "5624     In cities that are as well-known for their burgeoning fashion scene as they are their must-see monuments and ever-evolving culture, it's perhaps no surprise that hotel staff are as well-dressed as...\n",
              "10319    The majority of people taking antidepressants may not actually have depression, a new study claims. Researchers discovered more than two-thirds (69 per cent) of people taking antidepressants did n...\n",
              "9956     A wealthy couple falsely claimed £42,000 in benefits despite sending their children to a £32,000 private school and having nearly £50,000 in their bank account, a court was told  today. Sarah Gran...\n",
              "1570     Bobbi Kristina Brown's relatives have denied report that they are  part of a reality TV show which shows them coming to terms with the singer being in an induced coma in hospital. A source had pre...\n",
              "6959     A charity fundraiser was left in tears after the manager of a supermarket asked him to leave the store because of his St Trinian's inspired outfit. Roger Cousin said he had dressed up in girl's sc...\n",
              "9769     There was a mild tremor felt in the room when Louis van Gaal banged a fist on the table to reinforce his point after Manchester United had lost 1-0 at Stamford Bridge. The eruption follows next se...\n",
              "Name: article, dtype: object"
            ]
          },
          "execution_count": 27,
          "metadata": {},
          "output_type": "execute_result"
        }
      ],
      "source": [
        "new_df['article'][:10]"
      ]
    },
    {
      "cell_type": "code",
      "execution_count": 28,
      "metadata": {
        "colab": {
          "base_uri": "https://localhost:8080/",
          "height": 467
        },
        "id": "yzd9n9H5LaX0",
        "outputId": "6385a5cc-82b4-4ba1-b7da-9ea920611ed5"
      },
      "outputs": [
        {
          "data": {
            "text/html": [
              "<div>\n",
              "<style scoped>\n",
              "    .dataframe tbody tr th:only-of-type {\n",
              "        vertical-align: middle;\n",
              "    }\n",
              "\n",
              "    .dataframe tbody tr th {\n",
              "        vertical-align: top;\n",
              "    }\n",
              "\n",
              "    .dataframe thead th {\n",
              "        text-align: right;\n",
              "    }\n",
              "</style>\n",
              "<table border=\"1\" class=\"dataframe\">\n",
              "  <thead>\n",
              "    <tr style=\"text-align: right;\">\n",
              "      <th></th>\n",
              "      <th>id</th>\n",
              "      <th>article</th>\n",
              "      <th>highlights</th>\n",
              "    </tr>\n",
              "  </thead>\n",
              "  <tbody>\n",
              "    <tr>\n",
              "      <th>9095</th>\n",
              "      <td>532af494c6d152a7b29deea9d8089ec6f83dc997</td>\n",
              "      <td>a mother has described how she heard a doctor asking her husband about switching off her life-support as she lay in a medically-induced coma after collapsing from a rare condition. jenny bone, who...</td>\n",
              "      <td>jenny bone has recovered after husband john refused to end her life .\\nmrs bone fell in to a coma after falling ill with guillain-barre syndrome .\\nnerve condition meant she appeared unconsciousne...</td>\n",
              "    </tr>\n",
              "    <tr>\n",
              "      <th>7656</th>\n",
              "      <td>691fd676dc40ff633067e8f255c26d6a31b9f631</td>\n",
              "      <td>thibaut courtois believes chelsea's win at west ham was the sort which showed they can be premier league champions. chelsea followed up last sunday's capital one cup final victory over tottenham w...</td>\n",
              "      <td>chelsea beat west ham 1-0 at upton park on wednesday night .\\neden hazard scored the game's only goal with a first-half header .\\nthe blues retained five-point lead over manchester city at the top...</td>\n",
              "    </tr>\n",
              "    <tr>\n",
              "      <th>3702</th>\n",
              "      <td>656f43d5890e147dbc6fef1d96e033e142bd5a34</td>\n",
              "      <td>manchester united striker wayne rooney has revealed he gets annoyed when fans chant his name at him in the street in an interview with ant and dec's 'little' counterparts on saturday night takeawa...</td>\n",
              "      <td>wayne rooney is set to appear on ant and dec's saturday night takeaway .\\nthe england captain jokes around in interview with little ant and dec .\\nmanchester united forward admits that public atte...</td>\n",
              "    </tr>\n",
              "    <tr>\n",
              "      <th>1240</th>\n",
              "      <td>29bc011843cbdb17759ee679af54d753b2d9a119</td>\n",
              "      <td>a nine-year-old boy found a message in a bottle while exploring a wooded beach of a small lake island on a family vacation - and then realized it was addressed to his grandfather. nolan rogers had...</td>\n",
              "      <td>nolan rogers found the letter while fishing with his family on lake murray in south carolina .\\nhis mother quickly recognized the handwriting as her friend diane bryant's .\\nbryant wrote the lette...</td>\n",
              "    </tr>\n",
              "    <tr>\n",
              "      <th>5624</th>\n",
              "      <td>1f25f86d975211c64655e6e8802651fc6e66a83b</td>\n",
              "      <td>in cities that are as well-known for their burgeoning fashion scene as they are their must-see monuments and ever-evolving culture, it's perhaps no surprise that hotel staff are as well-dressed as...</td>\n",
              "      <td>hotels around the world are now hiring top designs to craft their uniforms .\\nnarcisco rodriguez designed dresses for park hyatt new york hotel staff .\\nat toronto's shangri la hotel, sunny fong w...</td>\n",
              "    </tr>\n",
              "  </tbody>\n",
              "</table>\n",
              "</div>"
            ],
            "text/plain": [
              "                                            id  \\\n",
              "9095  532af494c6d152a7b29deea9d8089ec6f83dc997   \n",
              "7656  691fd676dc40ff633067e8f255c26d6a31b9f631   \n",
              "3702  656f43d5890e147dbc6fef1d96e033e142bd5a34   \n",
              "1240  29bc011843cbdb17759ee679af54d753b2d9a119   \n",
              "5624  1f25f86d975211c64655e6e8802651fc6e66a83b   \n",
              "\n",
              "                                                                                                                                                                                                      article  \\\n",
              "9095  a mother has described how she heard a doctor asking her husband about switching off her life-support as she lay in a medically-induced coma after collapsing from a rare condition. jenny bone, who...   \n",
              "7656  thibaut courtois believes chelsea's win at west ham was the sort which showed they can be premier league champions. chelsea followed up last sunday's capital one cup final victory over tottenham w...   \n",
              "3702  manchester united striker wayne rooney has revealed he gets annoyed when fans chant his name at him in the street in an interview with ant and dec's 'little' counterparts on saturday night takeawa...   \n",
              "1240  a nine-year-old boy found a message in a bottle while exploring a wooded beach of a small lake island on a family vacation - and then realized it was addressed to his grandfather. nolan rogers had...   \n",
              "5624  in cities that are as well-known for their burgeoning fashion scene as they are their must-see monuments and ever-evolving culture, it's perhaps no surprise that hotel staff are as well-dressed as...   \n",
              "\n",
              "                                                                                                                                                                                                   highlights  \n",
              "9095  jenny bone has recovered after husband john refused to end her life .\\nmrs bone fell in to a coma after falling ill with guillain-barre syndrome .\\nnerve condition meant she appeared unconsciousne...  \n",
              "7656  chelsea beat west ham 1-0 at upton park on wednesday night .\\neden hazard scored the game's only goal with a first-half header .\\nthe blues retained five-point lead over manchester city at the top...  \n",
              "3702  wayne rooney is set to appear on ant and dec's saturday night takeaway .\\nthe england captain jokes around in interview with little ant and dec .\\nmanchester united forward admits that public atte...  \n",
              "1240  nolan rogers found the letter while fishing with his family on lake murray in south carolina .\\nhis mother quickly recognized the handwriting as her friend diane bryant's .\\nbryant wrote the lette...  \n",
              "5624  hotels around the world are now hiring top designs to craft their uniforms .\\nnarcisco rodriguez designed dresses for park hyatt new york hotel staff .\\nat toronto's shangri la hotel, sunny fong w...  "
            ]
          },
          "execution_count": 28,
          "metadata": {},
          "output_type": "execute_result"
        }
      ],
      "source": [
        "new_df['article'] = new_df['article'].str.lower()\n",
        "new_df['highlights'] = new_df['highlights'].str.lower()\n",
        "\n",
        "new_df.head()"
      ]
    },
    {
      "cell_type": "code",
      "execution_count": 29,
      "metadata": {
        "id": "-BWqXLjOS7DS"
      },
      "outputs": [],
      "source": [
        "new_df['article']=new_df['article'].str.lower()\n",
        "\n",
        "new_df['highlights']=new_df['highlights'].str.lower()"
      ]
    },
    {
      "cell_type": "markdown",
      "metadata": {
        "id": "60oRsNGfvm5_"
      },
      "source": [
        "Converting to lower case\n"
      ]
    },
    {
      "cell_type": "code",
      "execution_count": 30,
      "metadata": {
        "colab": {
          "base_uri": "https://localhost:8080/",
          "height": 467
        },
        "id": "H0xN7npXoA3o",
        "outputId": "479c69a4-449e-4a5a-cd18-8b099a73f024"
      },
      "outputs": [
        {
          "data": {
            "text/html": [
              "<div>\n",
              "<style scoped>\n",
              "    .dataframe tbody tr th:only-of-type {\n",
              "        vertical-align: middle;\n",
              "    }\n",
              "\n",
              "    .dataframe tbody tr th {\n",
              "        vertical-align: top;\n",
              "    }\n",
              "\n",
              "    .dataframe thead th {\n",
              "        text-align: right;\n",
              "    }\n",
              "</style>\n",
              "<table border=\"1\" class=\"dataframe\">\n",
              "  <thead>\n",
              "    <tr style=\"text-align: right;\">\n",
              "      <th></th>\n",
              "      <th>id</th>\n",
              "      <th>article</th>\n",
              "      <th>highlights</th>\n",
              "    </tr>\n",
              "  </thead>\n",
              "  <tbody>\n",
              "    <tr>\n",
              "      <th>9095</th>\n",
              "      <td>532af494c6d152a7b29deea9d8089ec6f83dc997</td>\n",
              "      <td>a mother has described how she heard a doctor asking her husband about switching off her life-support as she lay in a medically-induced coma after collapsing from a rare condition. jenny bone, who...</td>\n",
              "      <td>jenny bone has recovered after husband john refused to end her life .\\nmrs bone fell in to a coma after falling ill with guillain-barre syndrome .\\nnerve condition meant she appeared unconsciousne...</td>\n",
              "    </tr>\n",
              "    <tr>\n",
              "      <th>7656</th>\n",
              "      <td>691fd676dc40ff633067e8f255c26d6a31b9f631</td>\n",
              "      <td>thibaut courtois believes chelsea's win at west ham was the sort which showed they can be premier league champions. chelsea followed up last sunday's capital one cup final victory over tottenham w...</td>\n",
              "      <td>chelsea beat west ham 1-0 at upton park on wednesday night .\\neden hazard scored the game's only goal with a first-half header .\\nthe blues retained five-point lead over manchester city at the top...</td>\n",
              "    </tr>\n",
              "    <tr>\n",
              "      <th>3702</th>\n",
              "      <td>656f43d5890e147dbc6fef1d96e033e142bd5a34</td>\n",
              "      <td>manchester united striker wayne rooney has revealed he gets annoyed when fans chant his name at him in the street in an interview with ant and dec's 'little' counterparts on saturday night takeawa...</td>\n",
              "      <td>wayne rooney is set to appear on ant and dec's saturday night takeaway .\\nthe england captain jokes around in interview with little ant and dec .\\nmanchester united forward admits that public atte...</td>\n",
              "    </tr>\n",
              "    <tr>\n",
              "      <th>1240</th>\n",
              "      <td>29bc011843cbdb17759ee679af54d753b2d9a119</td>\n",
              "      <td>a nine-year-old boy found a message in a bottle while exploring a wooded beach of a small lake island on a family vacation - and then realized it was addressed to his grandfather. nolan rogers had...</td>\n",
              "      <td>nolan rogers found the letter while fishing with his family on lake murray in south carolina .\\nhis mother quickly recognized the handwriting as her friend diane bryant's .\\nbryant wrote the lette...</td>\n",
              "    </tr>\n",
              "    <tr>\n",
              "      <th>5624</th>\n",
              "      <td>1f25f86d975211c64655e6e8802651fc6e66a83b</td>\n",
              "      <td>in cities that are as well-known for their burgeoning fashion scene as they are their must-see monuments and ever-evolving culture, it's perhaps no surprise that hotel staff are as well-dressed as...</td>\n",
              "      <td>hotels around the world are now hiring top designs to craft their uniforms .\\nnarcisco rodriguez designed dresses for park hyatt new york hotel staff .\\nat toronto's shangri la hotel, sunny fong w...</td>\n",
              "    </tr>\n",
              "  </tbody>\n",
              "</table>\n",
              "</div>"
            ],
            "text/plain": [
              "                                            id  \\\n",
              "9095  532af494c6d152a7b29deea9d8089ec6f83dc997   \n",
              "7656  691fd676dc40ff633067e8f255c26d6a31b9f631   \n",
              "3702  656f43d5890e147dbc6fef1d96e033e142bd5a34   \n",
              "1240  29bc011843cbdb17759ee679af54d753b2d9a119   \n",
              "5624  1f25f86d975211c64655e6e8802651fc6e66a83b   \n",
              "\n",
              "                                                                                                                                                                                                      article  \\\n",
              "9095  a mother has described how she heard a doctor asking her husband about switching off her life-support as she lay in a medically-induced coma after collapsing from a rare condition. jenny bone, who...   \n",
              "7656  thibaut courtois believes chelsea's win at west ham was the sort which showed they can be premier league champions. chelsea followed up last sunday's capital one cup final victory over tottenham w...   \n",
              "3702  manchester united striker wayne rooney has revealed he gets annoyed when fans chant his name at him in the street in an interview with ant and dec's 'little' counterparts on saturday night takeawa...   \n",
              "1240  a nine-year-old boy found a message in a bottle while exploring a wooded beach of a small lake island on a family vacation - and then realized it was addressed to his grandfather. nolan rogers had...   \n",
              "5624  in cities that are as well-known for their burgeoning fashion scene as they are their must-see monuments and ever-evolving culture, it's perhaps no surprise that hotel staff are as well-dressed as...   \n",
              "\n",
              "                                                                                                                                                                                                   highlights  \n",
              "9095  jenny bone has recovered after husband john refused to end her life .\\nmrs bone fell in to a coma after falling ill with guillain-barre syndrome .\\nnerve condition meant she appeared unconsciousne...  \n",
              "7656  chelsea beat west ham 1-0 at upton park on wednesday night .\\neden hazard scored the game's only goal with a first-half header .\\nthe blues retained five-point lead over manchester city at the top...  \n",
              "3702  wayne rooney is set to appear on ant and dec's saturday night takeaway .\\nthe england captain jokes around in interview with little ant and dec .\\nmanchester united forward admits that public atte...  \n",
              "1240  nolan rogers found the letter while fishing with his family on lake murray in south carolina .\\nhis mother quickly recognized the handwriting as her friend diane bryant's .\\nbryant wrote the lette...  \n",
              "5624  hotels around the world are now hiring top designs to craft their uniforms .\\nnarcisco rodriguez designed dresses for park hyatt new york hotel staff .\\nat toronto's shangri la hotel, sunny fong w...  "
            ]
          },
          "execution_count": 30,
          "metadata": {},
          "output_type": "execute_result"
        }
      ],
      "source": [
        "new_df.head()"
      ]
    },
    {
      "cell_type": "code",
      "execution_count": 31,
      "metadata": {
        "id": "XQn0v0i6vwme"
      },
      "outputs": [],
      "source": [
        "#removing html tags\n",
        "import re\n",
        "def remove_html_tags(text):\n",
        "    if isinstance(text, str):\n",
        "        pattern = re.compile('<.*?>')\n",
        "        return pattern.sub(r'', text)\n",
        "    else:\n",
        "        return text"
      ]
    },
    {
      "cell_type": "code",
      "execution_count": 32,
      "metadata": {
        "id": "KVJUffPswJw3"
      },
      "outputs": [],
      "source": [
        "new_df['article'] = new_df['article'].apply(remove_html_tags)\n",
        "\n",
        "new_df['highlights'] = new_df['highlights'].apply(remove_html_tags)"
      ]
    },
    {
      "cell_type": "code",
      "execution_count": 33,
      "metadata": {
        "colab": {
          "base_uri": "https://localhost:8080/",
          "height": 467
        },
        "id": "r6JZJuYywQCY",
        "outputId": "449653a6-a454-428b-ddba-597e665c0031"
      },
      "outputs": [
        {
          "data": {
            "text/html": [
              "<div>\n",
              "<style scoped>\n",
              "    .dataframe tbody tr th:only-of-type {\n",
              "        vertical-align: middle;\n",
              "    }\n",
              "\n",
              "    .dataframe tbody tr th {\n",
              "        vertical-align: top;\n",
              "    }\n",
              "\n",
              "    .dataframe thead th {\n",
              "        text-align: right;\n",
              "    }\n",
              "</style>\n",
              "<table border=\"1\" class=\"dataframe\">\n",
              "  <thead>\n",
              "    <tr style=\"text-align: right;\">\n",
              "      <th></th>\n",
              "      <th>id</th>\n",
              "      <th>article</th>\n",
              "      <th>highlights</th>\n",
              "    </tr>\n",
              "  </thead>\n",
              "  <tbody>\n",
              "    <tr>\n",
              "      <th>9095</th>\n",
              "      <td>532af494c6d152a7b29deea9d8089ec6f83dc997</td>\n",
              "      <td>a mother has described how she heard a doctor asking her husband about switching off her life-support as she lay in a medically-induced coma after collapsing from a rare condition. jenny bone, who...</td>\n",
              "      <td>jenny bone has recovered after husband john refused to end her life .\\nmrs bone fell in to a coma after falling ill with guillain-barre syndrome .\\nnerve condition meant she appeared unconsciousne...</td>\n",
              "    </tr>\n",
              "    <tr>\n",
              "      <th>7656</th>\n",
              "      <td>691fd676dc40ff633067e8f255c26d6a31b9f631</td>\n",
              "      <td>thibaut courtois believes chelsea's win at west ham was the sort which showed they can be premier league champions. chelsea followed up last sunday's capital one cup final victory over tottenham w...</td>\n",
              "      <td>chelsea beat west ham 1-0 at upton park on wednesday night .\\neden hazard scored the game's only goal with a first-half header .\\nthe blues retained five-point lead over manchester city at the top...</td>\n",
              "    </tr>\n",
              "    <tr>\n",
              "      <th>3702</th>\n",
              "      <td>656f43d5890e147dbc6fef1d96e033e142bd5a34</td>\n",
              "      <td>manchester united striker wayne rooney has revealed he gets annoyed when fans chant his name at him in the street in an interview with ant and dec's 'little' counterparts on saturday night takeawa...</td>\n",
              "      <td>wayne rooney is set to appear on ant and dec's saturday night takeaway .\\nthe england captain jokes around in interview with little ant and dec .\\nmanchester united forward admits that public atte...</td>\n",
              "    </tr>\n",
              "    <tr>\n",
              "      <th>1240</th>\n",
              "      <td>29bc011843cbdb17759ee679af54d753b2d9a119</td>\n",
              "      <td>a nine-year-old boy found a message in a bottle while exploring a wooded beach of a small lake island on a family vacation - and then realized it was addressed to his grandfather. nolan rogers had...</td>\n",
              "      <td>nolan rogers found the letter while fishing with his family on lake murray in south carolina .\\nhis mother quickly recognized the handwriting as her friend diane bryant's .\\nbryant wrote the lette...</td>\n",
              "    </tr>\n",
              "    <tr>\n",
              "      <th>5624</th>\n",
              "      <td>1f25f86d975211c64655e6e8802651fc6e66a83b</td>\n",
              "      <td>in cities that are as well-known for their burgeoning fashion scene as they are their must-see monuments and ever-evolving culture, it's perhaps no surprise that hotel staff are as well-dressed as...</td>\n",
              "      <td>hotels around the world are now hiring top designs to craft their uniforms .\\nnarcisco rodriguez designed dresses for park hyatt new york hotel staff .\\nat toronto's shangri la hotel, sunny fong w...</td>\n",
              "    </tr>\n",
              "  </tbody>\n",
              "</table>\n",
              "</div>"
            ],
            "text/plain": [
              "                                            id  \\\n",
              "9095  532af494c6d152a7b29deea9d8089ec6f83dc997   \n",
              "7656  691fd676dc40ff633067e8f255c26d6a31b9f631   \n",
              "3702  656f43d5890e147dbc6fef1d96e033e142bd5a34   \n",
              "1240  29bc011843cbdb17759ee679af54d753b2d9a119   \n",
              "5624  1f25f86d975211c64655e6e8802651fc6e66a83b   \n",
              "\n",
              "                                                                                                                                                                                                      article  \\\n",
              "9095  a mother has described how she heard a doctor asking her husband about switching off her life-support as she lay in a medically-induced coma after collapsing from a rare condition. jenny bone, who...   \n",
              "7656  thibaut courtois believes chelsea's win at west ham was the sort which showed they can be premier league champions. chelsea followed up last sunday's capital one cup final victory over tottenham w...   \n",
              "3702  manchester united striker wayne rooney has revealed he gets annoyed when fans chant his name at him in the street in an interview with ant and dec's 'little' counterparts on saturday night takeawa...   \n",
              "1240  a nine-year-old boy found a message in a bottle while exploring a wooded beach of a small lake island on a family vacation - and then realized it was addressed to his grandfather. nolan rogers had...   \n",
              "5624  in cities that are as well-known for their burgeoning fashion scene as they are their must-see monuments and ever-evolving culture, it's perhaps no surprise that hotel staff are as well-dressed as...   \n",
              "\n",
              "                                                                                                                                                                                                   highlights  \n",
              "9095  jenny bone has recovered after husband john refused to end her life .\\nmrs bone fell in to a coma after falling ill with guillain-barre syndrome .\\nnerve condition meant she appeared unconsciousne...  \n",
              "7656  chelsea beat west ham 1-0 at upton park on wednesday night .\\neden hazard scored the game's only goal with a first-half header .\\nthe blues retained five-point lead over manchester city at the top...  \n",
              "3702  wayne rooney is set to appear on ant and dec's saturday night takeaway .\\nthe england captain jokes around in interview with little ant and dec .\\nmanchester united forward admits that public atte...  \n",
              "1240  nolan rogers found the letter while fishing with his family on lake murray in south carolina .\\nhis mother quickly recognized the handwriting as her friend diane bryant's .\\nbryant wrote the lette...  \n",
              "5624  hotels around the world are now hiring top designs to craft their uniforms .\\nnarcisco rodriguez designed dresses for park hyatt new york hotel staff .\\nat toronto's shangri la hotel, sunny fong w...  "
            ]
          },
          "execution_count": 33,
          "metadata": {},
          "output_type": "execute_result"
        }
      ],
      "source": [
        "new_df.head()"
      ]
    },
    {
      "cell_type": "code",
      "execution_count": 34,
      "metadata": {
        "id": "TaKdy7PHwUtP"
      },
      "outputs": [],
      "source": [
        "#removing punchuation\n",
        "\n",
        "\n",
        "import string\n",
        "string.punctuation\n",
        "exclude = string.punctuation\n",
        "def remove_punc(text):\n",
        "    if isinstance(text, str):\n",
        "        return ''.join(ch for ch in text if ch not in exclude)\n",
        "    else:\n",
        "        return str(text)  # Convert non-string data to string"
      ]
    },
    {
      "cell_type": "code",
      "execution_count": 35,
      "metadata": {
        "id": "s-EUZ33swfy1"
      },
      "outputs": [],
      "source": [
        "new_df['article'] = new_df['article'].apply(remove_punc)\n",
        "\n",
        "new_df['highlights'] = new_df['highlights'].apply(remove_punc)"
      ]
    },
    {
      "cell_type": "code",
      "execution_count": 36,
      "metadata": {
        "colab": {
          "base_uri": "https://localhost:8080/"
        },
        "id": "N2jk9WjfwkZI",
        "outputId": "37e0da93-d25b-4a99-862f-6785835e2c78"
      },
      "outputs": [
        {
          "name": "stdout",
          "output_type": "stream",
          "text": [
            "['i', 'me', 'my', 'myself', 'we', 'our', 'ours', 'ourselves', 'you', \"you're\", \"you've\", \"you'll\", \"you'd\", 'your', 'yours', 'yourself', 'yourselves', 'he', 'him', 'his', 'himself', 'she', \"she's\", 'her', 'hers', 'herself', 'it', \"it's\", 'its', 'itself', 'they', 'them', 'their', 'theirs', 'themselves', 'what', 'which', 'who', 'whom', 'this', 'that', \"that'll\", 'these', 'those', 'am', 'is', 'are', 'was', 'were', 'be', 'been', 'being', 'have', 'has', 'had', 'having', 'do', 'does', 'did', 'doing', 'a', 'an', 'the', 'and', 'but', 'if', 'or', 'because', 'as', 'until', 'while', 'of', 'at', 'by', 'for', 'with', 'about', 'against', 'between', 'into', 'through', 'during', 'before', 'after', 'above', 'below', 'to', 'from', 'up', 'down', 'in', 'out', 'on', 'off', 'over', 'under', 'again', 'further', 'then', 'once', 'here', 'there', 'when', 'where', 'why', 'how', 'all', 'any', 'both', 'each', 'few', 'more', 'most', 'other', 'some', 'such', 'no', 'nor', 'not', 'only', 'own', 'same', 'so', 'than', 'too', 'very', 's', 't', 'can', 'will', 'just', 'don', \"don't\", 'should', \"should've\", 'now', 'd', 'll', 'm', 'o', 're', 've', 'y', 'ain', 'aren', \"aren't\", 'couldn', \"couldn't\", 'didn', \"didn't\", 'doesn', \"doesn't\", 'hadn', \"hadn't\", 'hasn', \"hasn't\", 'haven', \"haven't\", 'isn', \"isn't\", 'ma', 'mightn', \"mightn't\", 'mustn', \"mustn't\", 'needn', \"needn't\", 'shan', \"shan't\", 'shouldn', \"shouldn't\", 'wasn', \"wasn't\", 'weren', \"weren't\", 'won', \"won't\", 'wouldn', \"wouldn't\"]\n"
          ]
        },
        {
          "name": "stderr",
          "output_type": "stream",
          "text": [
            "[nltk_data] Downloading package stopwords to\n",
            "[nltk_data]     C:\\Users\\User\\AppData\\Roaming\\nltk_data...\n",
            "[nltk_data]   Package stopwords is already up-to-date!\n"
          ]
        }
      ],
      "source": [
        "from nltk.corpus import stopwords\n",
        "nltk.download('stopwords')\n",
        "stopwords = nltk.corpus.stopwords.words('english')\n",
        "\n",
        "print(stopwords)"
      ]
    },
    {
      "cell_type": "code",
      "execution_count": 37,
      "metadata": {
        "colab": {
          "base_uri": "https://localhost:8080/"
        },
        "id": "JGR138QarO3c",
        "outputId": "839211c2-f094-4fa0-c289-2b11fdf91185"
      },
      "outputs": [
        {
          "name": "stderr",
          "output_type": "stream",
          "text": [
            "[nltk_data] Downloading package stopwords to\n",
            "[nltk_data]     C:\\Users\\User\\AppData\\Roaming\\nltk_data...\n",
            "[nltk_data]   Package stopwords is already up-to-date!\n"
          ]
        }
      ],
      "source": [
        "import nltk\n",
        "nltk.download('stopwords')\n",
        "from nltk.corpus import stopwords\n",
        "\n",
        "stop_words = stopwords.words('english')\n",
        "new_df['article'] = new_df['article'].apply(lambda x: ' '.join([word for word in x.split() if word not in (stop_words)]))\n",
        "new_df['highlights'] = new_df['highlights'].apply(lambda x: ' '.join([word for word in x.split() if word not in (stop_words)]))"
      ]
    },
    {
      "cell_type": "code",
      "execution_count": 38,
      "metadata": {
        "colab": {
          "base_uri": "https://localhost:8080/",
          "height": 133
        },
        "id": "ZFWR4dg1sQlH",
        "outputId": "18885d77-3759-46c6-b72e-874fa969da21"
      },
      "outputs": [
        {
          "data": {
            "text/html": [
              "<div>\n",
              "<style scoped>\n",
              "    .dataframe tbody tr th:only-of-type {\n",
              "        vertical-align: middle;\n",
              "    }\n",
              "\n",
              "    .dataframe tbody tr th {\n",
              "        vertical-align: top;\n",
              "    }\n",
              "\n",
              "    .dataframe thead th {\n",
              "        text-align: right;\n",
              "    }\n",
              "</style>\n",
              "<table border=\"1\" class=\"dataframe\">\n",
              "  <thead>\n",
              "    <tr style=\"text-align: right;\">\n",
              "      <th></th>\n",
              "      <th>id</th>\n",
              "      <th>article</th>\n",
              "      <th>highlights</th>\n",
              "    </tr>\n",
              "  </thead>\n",
              "  <tbody>\n",
              "    <tr>\n",
              "      <th>0</th>\n",
              "      <td>92c514c913c0bdfe25341af9fd72b29db544099b</td>\n",
              "      <td>Ever noticed how plane seats appear to be getting smaller and smaller? With increasing numbers of people taking to the skies, some experts are questioning if having such packed out planes is putti...</td>\n",
              "      <td>Experts question if  packed out planes are putting passengers at risk .\\nU.S consumer advisory group says minimum space must be stipulated .\\nSafety tests conducted on planes with more leg room th...</td>\n",
              "    </tr>\n",
              "  </tbody>\n",
              "</table>\n",
              "</div>"
            ],
            "text/plain": [
              "                                         id  \\\n",
              "0  92c514c913c0bdfe25341af9fd72b29db544099b   \n",
              "\n",
              "                                                                                                                                                                                                   article  \\\n",
              "0  Ever noticed how plane seats appear to be getting smaller and smaller? With increasing numbers of people taking to the skies, some experts are questioning if having such packed out planes is putti...   \n",
              "\n",
              "                                                                                                                                                                                                highlights  \n",
              "0  Experts question if  packed out planes are putting passengers at risk .\\nU.S consumer advisory group says minimum space must be stipulated .\\nSafety tests conducted on planes with more leg room th...  "
            ]
          },
          "execution_count": 38,
          "metadata": {},
          "output_type": "execute_result"
        }
      ],
      "source": [
        "data_train.head(1)"
      ]
    },
    {
      "cell_type": "code",
      "execution_count": 39,
      "metadata": {
        "colab": {
          "base_uri": "https://localhost:8080/",
          "height": 133
        },
        "id": "53UvDl_TxJUo",
        "outputId": "2035e5c8-a6cc-4340-86b4-699a6b035b3e"
      },
      "outputs": [
        {
          "data": {
            "text/html": [
              "<div>\n",
              "<style scoped>\n",
              "    .dataframe tbody tr th:only-of-type {\n",
              "        vertical-align: middle;\n",
              "    }\n",
              "\n",
              "    .dataframe tbody tr th {\n",
              "        vertical-align: top;\n",
              "    }\n",
              "\n",
              "    .dataframe thead th {\n",
              "        text-align: right;\n",
              "    }\n",
              "</style>\n",
              "<table border=\"1\" class=\"dataframe\">\n",
              "  <thead>\n",
              "    <tr style=\"text-align: right;\">\n",
              "      <th></th>\n",
              "      <th>id</th>\n",
              "      <th>article</th>\n",
              "      <th>highlights</th>\n",
              "    </tr>\n",
              "  </thead>\n",
              "  <tbody>\n",
              "    <tr>\n",
              "      <th>9095</th>\n",
              "      <td>532af494c6d152a7b29deea9d8089ec6f83dc997</td>\n",
              "      <td>mother described heard doctor asking husband switching lifesupport lay medicallyinduced coma collapsing rare condition jenny bone feared catastrophic brain damage going cardiac arrest lay listenin...</td>\n",
              "      <td>jenny bone recovered husband john refused end life mrs bone fell coma falling ill guillainbarre syndrome nerve condition meant appeared unconsciousness brain dead heard doctors ask husband permiss...</td>\n",
              "    </tr>\n",
              "  </tbody>\n",
              "</table>\n",
              "</div>"
            ],
            "text/plain": [
              "                                            id  \\\n",
              "9095  532af494c6d152a7b29deea9d8089ec6f83dc997   \n",
              "\n",
              "                                                                                                                                                                                                      article  \\\n",
              "9095  mother described heard doctor asking husband switching lifesupport lay medicallyinduced coma collapsing rare condition jenny bone feared catastrophic brain damage going cardiac arrest lay listenin...   \n",
              "\n",
              "                                                                                                                                                                                                   highlights  \n",
              "9095  jenny bone recovered husband john refused end life mrs bone fell coma falling ill guillainbarre syndrome nerve condition meant appeared unconsciousness brain dead heard doctors ask husband permiss...  "
            ]
          },
          "execution_count": 39,
          "metadata": {},
          "output_type": "execute_result"
        }
      ],
      "source": [
        "new_df.head(1)"
      ]
    },
    {
      "cell_type": "code",
      "execution_count": 27,
      "metadata": {
        "id": "wjYAbVnK3wiN"
      },
      "outputs": [],
      "source": [
        "#!pip install contractions\n"
      ]
    },
    {
      "cell_type": "code",
      "execution_count": 40,
      "metadata": {
        "id": "tsPHdtpm_iIT"
      },
      "outputs": [],
      "source": [
        "max_len_text=80\n",
        "max_len_summary=10"
      ]
    },
    {
      "cell_type": "code",
      "execution_count": 42,
      "metadata": {
        "id": "ALhIQrqvDVpg"
      },
      "outputs": [],
      "source": [
        "from sklearn.model_selection import train_test_split\n",
        "x_tr,x_val,y_tr,y_val=train_test_split(df['article'],df['highlights'],test_size=0.1,random_state=0,shuffle=True)"
      ]
    },
    {
      "cell_type": "code",
      "execution_count": 43,
      "metadata": {
        "id": "7zBMGNiOplHZ"
      },
      "outputs": [],
      "source": [
        "#prepare a tokenizer for reviews on training data\n",
        "x_tokenizer = Tokenizer()\n",
        "x_tokenizer.fit_on_texts(list(x_tr))\n",
        "\n",
        "#convert text sequences into integer sequences\n",
        "x_tr    =   x_tokenizer.texts_to_sequences(x_tr)\n",
        "x_val   =   x_tokenizer.texts_to_sequences(x_val)\n",
        "\n",
        "#padding zero upto maximum length\n",
        "x_tr    =   pad_sequences(x_tr,  maxlen=max_len_text, padding='post')\n",
        "x_val   =   pad_sequences(x_val, maxlen=max_len_text, padding='post')\n",
        "\n",
        "x_voc_size   =  len(x_tokenizer.word_index) +1"
      ]
    },
    {
      "cell_type": "code",
      "execution_count": 44,
      "metadata": {
        "id": "UkQr1e0A_3Gx"
      },
      "outputs": [],
      "source": [
        "#preparing a tokenizer for summary on training data\n",
        "y_tokenizer = Tokenizer()\n",
        "y_tokenizer.fit_on_texts(list(y_tr))\n",
        "\n",
        "#convert summary sequences into integer sequences\n",
        "y_tr    =   y_tokenizer.texts_to_sequences(y_tr)\n",
        "y_val   =   y_tokenizer.texts_to_sequences(y_val)\n",
        "\n",
        "#padding zero upto maximum length\n",
        "y_tr    =   pad_sequences(y_tr, maxlen=max_len_summary, padding='post')\n",
        "y_val   =   pad_sequences(y_val, maxlen=max_len_summary, padding='post')\n",
        "\n",
        "y_voc_size  =   len(y_tokenizer.word_index) +1"
      ]
    },
    {
      "cell_type": "markdown",
      "metadata": {
        "id": "NWxcEWsNARSW"
      },
      "source": [
        "LSTM model building\n"
      ]
    },
    {
      "cell_type": "code",
      "execution_count": 45,
      "metadata": {
        "id": "0dxdnQjhAWku"
      },
      "outputs": [
        {
          "name": "stdout",
          "output_type": "stream",
          "text": [
            "WARNING:tensorflow:From c:\\Users\\User\\AppData\\Local\\Programs\\Python\\Python311\\Lib\\site-packages\\keras\\src\\backend.py:277: The name tf.reset_default_graph is deprecated. Please use tf.compat.v1.reset_default_graph instead.\n",
            "\n"
          ]
        }
      ],
      "source": [
        "from keras import backend as K\n",
        "K.clear_session()\n",
        "latent_dim = 500"
      ]
    },
    {
      "cell_type": "code",
      "execution_count": 46,
      "metadata": {
        "id": "xcfx-7dbyKKL"
      },
      "outputs": [],
      "source": [
        "#encoder\n",
        "encoder_inputs = Input(shape=(max_len_text,))\n",
        "enc_emb = Embedding(x_voc_size, latent_dim,trainable=True)(encoder_inputs)"
      ]
    },
    {
      "cell_type": "code",
      "execution_count": 47,
      "metadata": {
        "id": "Tr9oPMfPylXU"
      },
      "outputs": [],
      "source": [
        "#LSTM 1\n",
        "encoder_lstm1 = LSTM(latent_dim,return_sequences=True,return_state=True)\n",
        "encoder_output1, state_h1, state_c1 = encoder_lstm1(enc_emb)\n",
        "\n",
        "#LSTM2\n",
        "encoder_lstm2 = LSTM(latent_dim,return_sequences=True,return_state=True)\n",
        "encoder_output2, state_h2, state_c2 = encoder_lstm2(encoder_output1)\n",
        "\n",
        "encoder_lstm3=LSTM(latent_dim, return_state=True, return_sequences=True)\n",
        "encoder_outputs, state_h, state_c= encoder_lstm3(encoder_output2)"
      ]
    },
    {
      "cell_type": "code",
      "execution_count": 48,
      "metadata": {
        "id": "bd1syzsnytTN"
      },
      "outputs": [],
      "source": [
        "#decoder\n",
        "decoder_inputs = Input(shape=(None,))\n",
        "dec_emb_layer = Embedding(y_voc_size, latent_dim,trainable=True)\n",
        "dec_emb = dec_emb_layer(decoder_inputs)"
      ]
    },
    {
      "cell_type": "code",
      "execution_count": 49,
      "metadata": {
        "id": "O8B51Oi9y8ij"
      },
      "outputs": [],
      "source": [
        "#LSTM using encoder_states as initial state\n",
        "decoder_lstm = LSTM(latent_dim, return_sequences=True, return_state=True)\n",
        "decoder_outputs,decoder_fwd_state, decoder_back_state = decoder_lstm(dec_emb,initial_state=[state_h, state_c])\n"
      ]
    },
    {
      "cell_type": "code",
      "execution_count": 54,
      "metadata": {
        "colab": {
          "base_uri": "https://localhost:8080/",
          "height": 140
        },
        "id": "yeuUPKUdy-oP",
        "outputId": "f2c065af-f812-4544-cd55-65a088b37652"
      },
      "outputs": [],
      "source": [
        "#Attention Layer\n",
        "from src.layers.attention import AttentionLayer\n",
        "attn_layer = AttentionLayer(name='attention_layer')\n",
        "attn_out, attn_states = attn_layer([encoder_outputs, decoder_outputs])"
      ]
    },
    {
      "cell_type": "code",
      "execution_count": 55,
      "metadata": {
        "id": "ynWTOFS8zBRS"
      },
      "outputs": [],
      "source": [
        "# Concat attention output and decoder LSTM output \n",
        "decoder_concat_input = Concatenate(axis=-1, name='concat_layer')([decoder_outputs, attn_out])"
      ]
    },
    {
      "cell_type": "code",
      "execution_count": 56,
      "metadata": {},
      "outputs": [],
      "source": [
        "#Dense layer\n",
        "decoder_dense = TimeDistributed(Dense(y_voc_size, activation='softmax')) \n",
        "decoder_outputs = decoder_dense(decoder_concat_input) "
      ]
    },
    {
      "cell_type": "code",
      "execution_count": 57,
      "metadata": {},
      "outputs": [
        {
          "name": "stdout",
          "output_type": "stream",
          "text": [
            "Model: \"model\"\n",
            "__________________________________________________________________________________________________\n",
            " Layer (type)                Output Shape                 Param #   Connected to                  \n",
            "==================================================================================================\n",
            " input_1 (InputLayer)        [(None, 80)]                 0         []                            \n",
            "                                                                                                  \n",
            " embedding (Embedding)       (None, 80, 500)              1006210   ['input_1[0][0]']             \n",
            "                                                          00                                      \n",
            "                                                                                                  \n",
            " lstm (LSTM)                 [(None, 80, 500),            2002000   ['embedding[0][0]']           \n",
            "                              (None, 500),                                                        \n",
            "                              (None, 500)]                                                        \n",
            "                                                                                                  \n",
            " input_2 (InputLayer)        [(None, None)]               0         []                            \n",
            "                                                                                                  \n",
            " lstm_1 (LSTM)               [(None, 80, 500),            2002000   ['lstm[0][0]']                \n",
            "                              (None, 500),                                                        \n",
            "                              (None, 500)]                                                        \n",
            "                                                                                                  \n",
            " embedding_1 (Embedding)     (None, None, 500)            3300550   ['input_2[0][0]']             \n",
            "                                                          0                                       \n",
            "                                                                                                  \n",
            " lstm_2 (LSTM)               [(None, 80, 500),            2002000   ['lstm_1[0][0]']              \n",
            "                              (None, 500),                                                        \n",
            "                              (None, 500)]                                                        \n",
            "                                                                                                  \n",
            " lstm_3 (LSTM)               [(None, None, 500),          2002000   ['embedding_1[0][0]',         \n",
            "                              (None, 500),                           'lstm_2[0][1]',              \n",
            "                              (None, 500)]                           'lstm_2[0][2]']              \n",
            "                                                                                                  \n",
            " attention_layer (Attention  ((None, None, 500),          500500    ['lstm_2[0][0]',              \n",
            " Layer)                       (None, None, 80))                      'lstm_3[0][0]']              \n",
            "                                                                                                  \n",
            " concat_layer (Concatenate)  (None, None, 1000)           0         ['lstm_3[0][0]',              \n",
            "                                                                     'attention_layer[0][0]']     \n",
            "                                                                                                  \n",
            " time_distributed (TimeDist  (None, None, 66011)          6607701   ['concat_layer[0][0]']        \n",
            " ributed)                                                 1                                       \n",
            "                                                                                                  \n",
            "==================================================================================================\n",
            "Total params: 208212011 (794.27 MB)\n",
            "Trainable params: 208212011 (794.27 MB)\n",
            "Non-trainable params: 0 (0.00 Byte)\n",
            "__________________________________________________________________________________________________\n"
          ]
        }
      ],
      "source": [
        "# Define the model\n",
        "model = Model([encoder_inputs, decoder_inputs], decoder_outputs) \n",
        "model.summary()"
      ]
    },
    {
      "cell_type": "code",
      "execution_count": 58,
      "metadata": {},
      "outputs": [
        {
          "name": "stdout",
          "output_type": "stream",
          "text": [
            "WARNING:tensorflow:From c:\\Users\\User\\AppData\\Local\\Programs\\Python\\Python311\\Lib\\site-packages\\keras\\src\\optimizers\\__init__.py:309: The name tf.train.Optimizer is deprecated. Please use tf.compat.v1.train.Optimizer instead.\n",
            "\n"
          ]
        }
      ],
      "source": [
        "model.compile(optimizer='rmsprop', loss='sparse_categorical_crossentropy')"
      ]
    },
    {
      "cell_type": "code",
      "execution_count": 59,
      "metadata": {},
      "outputs": [],
      "source": [
        "#using Early stoppage to stop the training of the model once the validation increasers\n",
        "\n",
        "es = EarlyStopping(monitor='val_loss', mode='min', verbose=1)"
      ]
    },
    {
      "cell_type": "code",
      "execution_count": 60,
      "metadata": {},
      "outputs": [
        {
          "name": "stdout",
          "output_type": "stream",
          "text": [
            "Epoch 1/50\n",
            "WARNING:tensorflow:From c:\\Users\\User\\AppData\\Local\\Programs\\Python\\Python311\\Lib\\site-packages\\keras\\src\\utils\\tf_utils.py:492: The name tf.ragged.RaggedTensorValue is deprecated. Please use tf.compat.v1.ragged.RaggedTensorValue instead.\n",
            "\n",
            " 3/64 [>.............................] - ETA: 4:34:07 - loss: 11.0955"
          ]
        }
      ],
      "source": [
        "history=model.fit([x_tr,y_tr[:,:-1]], y_tr.reshape(y_tr.shape[0],y_tr.shape[1], 1)[:,1:] ,epochs=50,callbacks=[es],batch_size=512, validation_data=([x_val,y_val[:,:-1]], y_val.reshape(y_val.shape[0],y_val.shape[1], 1)[:,1:]))"
      ]
    },
    {
      "cell_type": "code",
      "execution_count": null,
      "metadata": {},
      "outputs": [],
      "source": [
        "from matplotlib import pyplot \n",
        "pyplot.plot(history.history['loss'], label='train') \n",
        "pyplot.plot(history.history['val_loss'], label='test') \n",
        "pyplot.legend() pyplot.show()"
      ]
    },
    {
      "cell_type": "code",
      "execution_count": null,
      "metadata": {},
      "outputs": [],
      "source": [
        "# encoder inference\n",
        "encoder_model = Model(inputs=encoder_inputs,outputs=[encoder_outputs, state_h, state_c])"
      ]
    },
    {
      "cell_type": "code",
      "execution_count": null,
      "metadata": {},
      "outputs": [],
      "source": [
        "# decoder inference\n",
        "# Below tensors will hold the states of the previous time step\n",
        "decoder_state_input_h = Input(shape=(latent_dim,))\n",
        "decoder_state_input_c = Input(shape=(latent_dim,))\n",
        "decoder_hidden_state_input = Input(shape=(max_len_text,latent_dim))"
      ]
    },
    {
      "cell_type": "code",
      "execution_count": null,
      "metadata": {},
      "outputs": [],
      "source": [
        "\n",
        "# Get the embeddings of the decoder sequence\n",
        "dec_emb2= dec_emb_layer(decoder_inputs)"
      ]
    },
    {
      "cell_type": "code",
      "execution_count": null,
      "metadata": {},
      "outputs": [],
      "source": [
        "# To predict the next word in the sequence, set the initial states to the states from the previous time step\n",
        "decoder_outputs2, state_h2, state_c2 = decoder_lstm(dec_emb2, initial_state=[decoder_state_input_h, decoder_state_input_c])\n",
        "\n"
      ]
    },
    {
      "cell_type": "code",
      "execution_count": null,
      "metadata": {},
      "outputs": [],
      "source": [
        "#attention inference\n",
        "attn_out_inf, attn_states_inf = attn_layer([decoder_hidden_state_input, decoder_outputs2])\n",
        "decoder_inf_concat = Concatenate(axis=-1, name='concat')([decoder_outputs2, attn_out_inf])"
      ]
    },
    {
      "cell_type": "code",
      "execution_count": null,
      "metadata": {},
      "outputs": [],
      "source": [
        "# A dense softmax layer to generate prob dist. over the target vocabulary\n",
        "decoder_outputs2 = decoder_dense(decoder_inf_concat)"
      ]
    },
    {
      "cell_type": "code",
      "execution_count": null,
      "metadata": {},
      "outputs": [],
      "source": [
        "# Final decoder model\n",
        "decoder_model = Model(\n",
        "[decoder_inputs] + [decoder_hidden_state_input,decoder_state_input_h, decoder_state_input_c],\n",
        "[decoder_outputs2] + [state_h2, state_c2])"
      ]
    },
    {
      "cell_type": "code",
      "execution_count": null,
      "metadata": {},
      "outputs": [],
      "source": [
        "def decode_sequence(input_seq):\n",
        "    # Encode the input as state vectors.\n",
        "    e_out, e_h, e_c = encoder_model.predict(input_seq)\n",
        "\n",
        "    # Generate empty target sequence of length 1.\n",
        "    target_seq = np.zeros((1,1))\n",
        "\n",
        "    # Chose the 'start' word as the first word of the target sequence\n",
        "    target_seq[0, 0] = target_word_index['start']\n",
        "\n",
        "    stop_condition = False\n",
        "    decoded_sentence = ''\n",
        "    while not stop_condition:\n",
        "        output_tokens, h, c = decoder_model.predict([target_seq] + [e_out, e_h, e_c])\n",
        "\n",
        "        # Sample a token\n",
        "        sampled_token_index = np.argmax(output_tokens[0, -1, :])\n",
        "        sampled_token = reverse_target_word_index[sampled_token_index]\n",
        "\n",
        "        if(sampled_token!='end'):\n",
        "            decoded_sentence += ' '+sampled_token\n",
        "\n",
        "            # Exit condition: either hit max length or find stop word.\n",
        "            if (sampled_token == 'end' or len(decoded_sentence.split()) >= (max_len_summary-1)):\n",
        "                stop_condition = True\n",
        "\n",
        "        # Update the target sequence (of length 1).\n",
        "        target_seq = np.zeros((1,1))\n",
        "        target_seq[0, 0] = sampled_token_index\n",
        "\n",
        "        # Update internal states\n",
        "        e_h, e_c = h, c\n",
        "\n",
        "    return decoded_sentence"
      ]
    },
    {
      "cell_type": "code",
      "execution_count": null,
      "metadata": {},
      "outputs": [],
      "source": [
        "def seq2summary(input_seq):\n",
        "    newString=''\n",
        "    for i in input_seq:\n",
        "      if((i!=0 and i!=target_word_index['start']) and i!=target_word_index['end']):\n",
        "        newString=newString+reverse_target_word_index[i]+' '\n",
        "    return newString\n",
        "\n",
        "def seq2text(input_seq):\n",
        "    newString=''\n",
        "    for i in input_seq:\n",
        "      if(i!=0):\n",
        "        newString=newString+reverse_source_word_index[i]+' '\n",
        "    return newString"
      ]
    },
    {
      "cell_type": "code",
      "execution_count": null,
      "metadata": {},
      "outputs": [],
      "source": [
        "for i in range(len(x_val)):\n",
        "  print(\"Review:\",seq2text(x_val[i]))\n",
        "  print(\"Original summary:\",seq2summary(y_val[i]))\n",
        "  print(\"Predicted summary:\",decode_sequence(x_val[i].reshape(1,max_len_text)))\n",
        "  print(\"\\n\")"
      ]
    }
  ],
  "metadata": {
    "colab": {
      "authorship_tag": "ABX9TyPIMUIXjd9OuRqx0acEtUMY",
      "include_colab_link": true,
      "provenance": []
    },
    "kernelspec": {
      "display_name": "Python 3",
      "name": "python3"
    },
    "language_info": {
      "codemirror_mode": {
        "name": "ipython",
        "version": 3
      },
      "file_extension": ".py",
      "mimetype": "text/x-python",
      "name": "python",
      "nbconvert_exporter": "python",
      "pygments_lexer": "ipython3",
      "version": "3.11.4"
    }
  },
  "nbformat": 4,
  "nbformat_minor": 0
}
