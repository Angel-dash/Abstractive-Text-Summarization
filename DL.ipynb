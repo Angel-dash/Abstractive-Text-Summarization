{
  "cells": [
    {
      "cell_type": "markdown",
      "metadata": {
        "id": "view-in-github",
        "colab_type": "text"
      },
      "source": [
        "<a href=\"https://colab.research.google.com/github/Angel-dash/Abstractive-Text-Summarization/blob/main/DL.ipynb\" target=\"_parent\"><img src=\"https://colab.research.google.com/assets/colab-badge.svg\" alt=\"Open In Colab\"/></a>"
      ]
    },
    {
      "cell_type": "markdown",
      "metadata": {
        "id": "kqAfNPhkHgS_"
      },
      "source": [
        "Uncomment the code below if you are running on google colab\n",
        "If you are running the code on the google colab then you must have the data set on your google drive. Link to the dataset where you can download it form https://drive.google.com/file/d/1CAK0Cj1kNgoZ0FRxwwCflbh-1-hKDPoK/view?usp=sharing\n",
        "\n"
      ]
    },
    {
      "cell_type": "code",
      "execution_count": 1,
      "metadata": {
        "colab": {
          "base_uri": "https://localhost:8080/"
        },
        "id": "MMJKxxgXOPT0",
        "outputId": "61f3399f-0530-4777-d3ba-9c13a4818f9c"
      },
      "outputs": [
        {
          "output_type": "stream",
          "name": "stdout",
          "text": [
            "Mounted at /content/drive\n"
          ]
        }
      ],
      "source": [
        "from google.colab import drive\n",
        "drive.mount('/content/drive', force_remount = True)\n"
      ]
    },
    {
      "cell_type": "code",
      "execution_count": 2,
      "metadata": {
        "colab": {
          "base_uri": "https://localhost:8080/"
        },
        "id": "NL040gAPOe6t",
        "outputId": "44ed5ebf-db6d-46ea-a278-080ed187ceef"
      },
      "outputs": [
        {
          "output_type": "stream",
          "name": "stdout",
          "text": [
            "Archive:  /content/drive/MyDrive/MiniProjectdata/data.zip\n",
            "  inflating: cnn_dailymail/test.csv  \n",
            "  inflating: cnn_dailymail/train.csv  \n",
            "  inflating: cnn_dailymail/validation.csv  \n"
          ]
        }
      ],
      "source": [
        "#!unzip /content/drive/MyDrive/DL/data.zip # Comment out for niranjan's\n",
        "!unzip /content/drive/MyDrive/MiniProjectdata/data.zip #comment out for Angel's\n",
        "\n"
      ]
    },
    {
      "cell_type": "code",
      "execution_count": 3,
      "metadata": {
        "id": "fHunr2RhP2pd",
        "colab": {
          "base_uri": "https://localhost:8080/"
        },
        "outputId": "887ec34c-b24c-4425-8971-4b69c9f7dfda"
      },
      "outputs": [
        {
          "output_type": "stream",
          "name": "stderr",
          "text": [
            "[nltk_data] Downloading package stopwords to /root/nltk_data...\n",
            "[nltk_data]   Unzipping corpora/stopwords.zip.\n"
          ]
        },
        {
          "output_type": "execute_result",
          "data": {
            "text/plain": [
              "True"
            ]
          },
          "metadata": {},
          "execution_count": 3
        }
      ],
      "source": [
        "import numpy as np\n",
        "import pandas as pd\n",
        "import re\n",
        "from bs4 import BeautifulSoup\n",
        "from tensorflow.keras.preprocessing.text import Tokenizer\n",
        "from tensorflow.keras.preprocessing.sequence import pad_sequences\n",
        "from nltk.corpus import stopwords\n",
        "from tensorflow.keras.layers import Input, LSTM, Embedding, Dense, Concatenate, TimeDistributed, Bidirectional\n",
        "from tensorflow.keras.models import Model\n",
        "from tensorflow.keras.callbacks import EarlyStopping\n",
        "import warnings\n",
        "pd.set_option(\"display.max_colwidth\", 200)\n",
        "warnings.filterwarnings(\"ignore\")\n",
        "import textwrap\n",
        "import nltk\n",
        "nltk.download('stopwords')"
      ]
    },
    {
      "cell_type": "code",
      "execution_count": 4,
      "metadata": {
        "id": "_4YwYIe7hQmt"
      },
      "outputs": [],
      "source": [
        "data_train=pd.read_csv('/content/cnn_dailymail/train.csv')\n",
        "data_test=pd.read_csv('/content/cnn_dailymail/test.csv')\n",
        "data_validation=pd.read_csv('/content/cnn_dailymail/validation.csv')"
      ]
    },
    {
      "cell_type": "markdown",
      "metadata": {
        "id": "zQJdiWCJoIaM"
      },
      "source": [
        "Data preprocessing"
      ]
    },
    {
      "cell_type": "code",
      "execution_count": 5,
      "metadata": {
        "id": "uhS4-P39kULT"
      },
      "outputs": [],
      "source": [
        "data = pd.concat([data_train, data_test, data_validation ])\n",
        "df = data"
      ]
    },
    {
      "cell_type": "code",
      "execution_count": 6,
      "metadata": {
        "id": "ibu0t1QjvoVk"
      },
      "outputs": [],
      "source": [
        "new_df=df.sample(25000)"
      ]
    },
    {
      "cell_type": "code",
      "execution_count": 7,
      "metadata": {
        "id": "bjaSvOGej9gg",
        "colab": {
          "base_uri": "https://localhost:8080/",
          "height": 300
        },
        "outputId": "51d702cc-24c4-4fbe-8699-d99dae285dfe"
      },
      "outputs": [
        {
          "output_type": "execute_result",
          "data": {
            "text/plain": [
              "                                              id  \\\n",
              "3964    610347c5750650839564adf3408f8bdb40862ec6   \n",
              "115523  2111c2fe3fb55db3140f54eb3be7190530255770   \n",
              "54656   9ad1ce2bc9a877afb3340fd0270b137a6906a8a5   \n",
              "\n",
              "                                                                                                                                                                                                        article  \\\n",
              "3964    Comedian John Oliver couldn’t resist ridiculing Starbucks CEO Howard Schultz over the introduction last week of his controversial ‘Race Together’ initiative. Schultz and the coffee chain have face...   \n",
              "115523  Background noise from the TV is a common sound in many households, but a new study suggests it might damage more than just the electricity bill. U.S. researchers have found that the drone of a TV ...   \n",
              "54656   By . Helen Pow . PUBLISHED: . 12:07 EST, 16 August 2013 . | . UPDATED: . 13:30 EST, 16 August 2013 . Bigamy: David Jin Lee, 26, of Williamsburg, is married to a Norfolk-based sailor and another wo...   \n",
              "\n",
              "                                                                                                                                                                                                     highlights  \n",
              "3964    Comedian John Oliver couldn't resist ridiculing Starbucks CEO Howard Schultz on Sunday over his 'Race Together' initiative .\\nBritish comedian said a conversation about race is 'clearly important ...  \n",
              "115523  Children learn to speak from listening to their parents talking to them .\\nWhen the TV is on in the background, parents talk to their children less .\\nThis means it can harm their language develop...  \n",
              "54656   Virginia man David Jin Lee, 26, is married to a Norfolk-based sailor and another woman, with whom he has a child, in Fairfax .\\nHe told the sailor he was in the CIA to explain his mysterious absen...  "
            ],
            "text/html": [
              "\n",
              "  <div id=\"df-2e64fd7a-2d0c-43c5-9390-5cd931ed1ca3\" class=\"colab-df-container\">\n",
              "    <div>\n",
              "<style scoped>\n",
              "    .dataframe tbody tr th:only-of-type {\n",
              "        vertical-align: middle;\n",
              "    }\n",
              "\n",
              "    .dataframe tbody tr th {\n",
              "        vertical-align: top;\n",
              "    }\n",
              "\n",
              "    .dataframe thead th {\n",
              "        text-align: right;\n",
              "    }\n",
              "</style>\n",
              "<table border=\"1\" class=\"dataframe\">\n",
              "  <thead>\n",
              "    <tr style=\"text-align: right;\">\n",
              "      <th></th>\n",
              "      <th>id</th>\n",
              "      <th>article</th>\n",
              "      <th>highlights</th>\n",
              "    </tr>\n",
              "  </thead>\n",
              "  <tbody>\n",
              "    <tr>\n",
              "      <th>3964</th>\n",
              "      <td>610347c5750650839564adf3408f8bdb40862ec6</td>\n",
              "      <td>Comedian John Oliver couldn’t resist ridiculing Starbucks CEO Howard Schultz over the introduction last week of his controversial ‘Race Together’ initiative. Schultz and the coffee chain have face...</td>\n",
              "      <td>Comedian John Oliver couldn't resist ridiculing Starbucks CEO Howard Schultz on Sunday over his 'Race Together' initiative .\\nBritish comedian said a conversation about race is 'clearly important ...</td>\n",
              "    </tr>\n",
              "    <tr>\n",
              "      <th>115523</th>\n",
              "      <td>2111c2fe3fb55db3140f54eb3be7190530255770</td>\n",
              "      <td>Background noise from the TV is a common sound in many households, but a new study suggests it might damage more than just the electricity bill. U.S. researchers have found that the drone of a TV ...</td>\n",
              "      <td>Children learn to speak from listening to their parents talking to them .\\nWhen the TV is on in the background, parents talk to their children less .\\nThis means it can harm their language develop...</td>\n",
              "    </tr>\n",
              "    <tr>\n",
              "      <th>54656</th>\n",
              "      <td>9ad1ce2bc9a877afb3340fd0270b137a6906a8a5</td>\n",
              "      <td>By . Helen Pow . PUBLISHED: . 12:07 EST, 16 August 2013 . | . UPDATED: . 13:30 EST, 16 August 2013 . Bigamy: David Jin Lee, 26, of Williamsburg, is married to a Norfolk-based sailor and another wo...</td>\n",
              "      <td>Virginia man David Jin Lee, 26, is married to a Norfolk-based sailor and another woman, with whom he has a child, in Fairfax .\\nHe told the sailor he was in the CIA to explain his mysterious absen...</td>\n",
              "    </tr>\n",
              "  </tbody>\n",
              "</table>\n",
              "</div>\n",
              "    <div class=\"colab-df-buttons\">\n",
              "\n",
              "  <div class=\"colab-df-container\">\n",
              "    <button class=\"colab-df-convert\" onclick=\"convertToInteractive('df-2e64fd7a-2d0c-43c5-9390-5cd931ed1ca3')\"\n",
              "            title=\"Convert this dataframe to an interactive table.\"\n",
              "            style=\"display:none;\">\n",
              "\n",
              "  <svg xmlns=\"http://www.w3.org/2000/svg\" height=\"24px\" viewBox=\"0 -960 960 960\">\n",
              "    <path d=\"M120-120v-720h720v720H120Zm60-500h600v-160H180v160Zm220 220h160v-160H400v160Zm0 220h160v-160H400v160ZM180-400h160v-160H180v160Zm440 0h160v-160H620v160ZM180-180h160v-160H180v160Zm440 0h160v-160H620v160Z\"/>\n",
              "  </svg>\n",
              "    </button>\n",
              "\n",
              "  <style>\n",
              "    .colab-df-container {\n",
              "      display:flex;\n",
              "      gap: 12px;\n",
              "    }\n",
              "\n",
              "    .colab-df-convert {\n",
              "      background-color: #E8F0FE;\n",
              "      border: none;\n",
              "      border-radius: 50%;\n",
              "      cursor: pointer;\n",
              "      display: none;\n",
              "      fill: #1967D2;\n",
              "      height: 32px;\n",
              "      padding: 0 0 0 0;\n",
              "      width: 32px;\n",
              "    }\n",
              "\n",
              "    .colab-df-convert:hover {\n",
              "      background-color: #E2EBFA;\n",
              "      box-shadow: 0px 1px 2px rgba(60, 64, 67, 0.3), 0px 1px 3px 1px rgba(60, 64, 67, 0.15);\n",
              "      fill: #174EA6;\n",
              "    }\n",
              "\n",
              "    .colab-df-buttons div {\n",
              "      margin-bottom: 4px;\n",
              "    }\n",
              "\n",
              "    [theme=dark] .colab-df-convert {\n",
              "      background-color: #3B4455;\n",
              "      fill: #D2E3FC;\n",
              "    }\n",
              "\n",
              "    [theme=dark] .colab-df-convert:hover {\n",
              "      background-color: #434B5C;\n",
              "      box-shadow: 0px 1px 3px 1px rgba(0, 0, 0, 0.15);\n",
              "      filter: drop-shadow(0px 1px 2px rgba(0, 0, 0, 0.3));\n",
              "      fill: #FFFFFF;\n",
              "    }\n",
              "  </style>\n",
              "\n",
              "    <script>\n",
              "      const buttonEl =\n",
              "        document.querySelector('#df-2e64fd7a-2d0c-43c5-9390-5cd931ed1ca3 button.colab-df-convert');\n",
              "      buttonEl.style.display =\n",
              "        google.colab.kernel.accessAllowed ? 'block' : 'none';\n",
              "\n",
              "      async function convertToInteractive(key) {\n",
              "        const element = document.querySelector('#df-2e64fd7a-2d0c-43c5-9390-5cd931ed1ca3');\n",
              "        const dataTable =\n",
              "          await google.colab.kernel.invokeFunction('convertToInteractive',\n",
              "                                                    [key], {});\n",
              "        if (!dataTable) return;\n",
              "\n",
              "        const docLinkHtml = 'Like what you see? Visit the ' +\n",
              "          '<a target=\"_blank\" href=https://colab.research.google.com/notebooks/data_table.ipynb>data table notebook</a>'\n",
              "          + ' to learn more about interactive tables.';\n",
              "        element.innerHTML = '';\n",
              "        dataTable['output_type'] = 'display_data';\n",
              "        await google.colab.output.renderOutput(dataTable, element);\n",
              "        const docLink = document.createElement('div');\n",
              "        docLink.innerHTML = docLinkHtml;\n",
              "        element.appendChild(docLink);\n",
              "      }\n",
              "    </script>\n",
              "  </div>\n",
              "\n",
              "\n",
              "<div id=\"df-91e52f7f-817d-4e0b-81ac-45a0d7300f37\">\n",
              "  <button class=\"colab-df-quickchart\" onclick=\"quickchart('df-91e52f7f-817d-4e0b-81ac-45a0d7300f37')\"\n",
              "            title=\"Suggest charts\"\n",
              "            style=\"display:none;\">\n",
              "\n",
              "<svg xmlns=\"http://www.w3.org/2000/svg\" height=\"24px\"viewBox=\"0 0 24 24\"\n",
              "     width=\"24px\">\n",
              "    <g>\n",
              "        <path d=\"M19 3H5c-1.1 0-2 .9-2 2v14c0 1.1.9 2 2 2h14c1.1 0 2-.9 2-2V5c0-1.1-.9-2-2-2zM9 17H7v-7h2v7zm4 0h-2V7h2v10zm4 0h-2v-4h2v4z\"/>\n",
              "    </g>\n",
              "</svg>\n",
              "  </button>\n",
              "\n",
              "<style>\n",
              "  .colab-df-quickchart {\n",
              "      --bg-color: #E8F0FE;\n",
              "      --fill-color: #1967D2;\n",
              "      --hover-bg-color: #E2EBFA;\n",
              "      --hover-fill-color: #174EA6;\n",
              "      --disabled-fill-color: #AAA;\n",
              "      --disabled-bg-color: #DDD;\n",
              "  }\n",
              "\n",
              "  [theme=dark] .colab-df-quickchart {\n",
              "      --bg-color: #3B4455;\n",
              "      --fill-color: #D2E3FC;\n",
              "      --hover-bg-color: #434B5C;\n",
              "      --hover-fill-color: #FFFFFF;\n",
              "      --disabled-bg-color: #3B4455;\n",
              "      --disabled-fill-color: #666;\n",
              "  }\n",
              "\n",
              "  .colab-df-quickchart {\n",
              "    background-color: var(--bg-color);\n",
              "    border: none;\n",
              "    border-radius: 50%;\n",
              "    cursor: pointer;\n",
              "    display: none;\n",
              "    fill: var(--fill-color);\n",
              "    height: 32px;\n",
              "    padding: 0;\n",
              "    width: 32px;\n",
              "  }\n",
              "\n",
              "  .colab-df-quickchart:hover {\n",
              "    background-color: var(--hover-bg-color);\n",
              "    box-shadow: 0 1px 2px rgba(60, 64, 67, 0.3), 0 1px 3px 1px rgba(60, 64, 67, 0.15);\n",
              "    fill: var(--button-hover-fill-color);\n",
              "  }\n",
              "\n",
              "  .colab-df-quickchart-complete:disabled,\n",
              "  .colab-df-quickchart-complete:disabled:hover {\n",
              "    background-color: var(--disabled-bg-color);\n",
              "    fill: var(--disabled-fill-color);\n",
              "    box-shadow: none;\n",
              "  }\n",
              "\n",
              "  .colab-df-spinner {\n",
              "    border: 2px solid var(--fill-color);\n",
              "    border-color: transparent;\n",
              "    border-bottom-color: var(--fill-color);\n",
              "    animation:\n",
              "      spin 1s steps(1) infinite;\n",
              "  }\n",
              "\n",
              "  @keyframes spin {\n",
              "    0% {\n",
              "      border-color: transparent;\n",
              "      border-bottom-color: var(--fill-color);\n",
              "      border-left-color: var(--fill-color);\n",
              "    }\n",
              "    20% {\n",
              "      border-color: transparent;\n",
              "      border-left-color: var(--fill-color);\n",
              "      border-top-color: var(--fill-color);\n",
              "    }\n",
              "    30% {\n",
              "      border-color: transparent;\n",
              "      border-left-color: var(--fill-color);\n",
              "      border-top-color: var(--fill-color);\n",
              "      border-right-color: var(--fill-color);\n",
              "    }\n",
              "    40% {\n",
              "      border-color: transparent;\n",
              "      border-right-color: var(--fill-color);\n",
              "      border-top-color: var(--fill-color);\n",
              "    }\n",
              "    60% {\n",
              "      border-color: transparent;\n",
              "      border-right-color: var(--fill-color);\n",
              "    }\n",
              "    80% {\n",
              "      border-color: transparent;\n",
              "      border-right-color: var(--fill-color);\n",
              "      border-bottom-color: var(--fill-color);\n",
              "    }\n",
              "    90% {\n",
              "      border-color: transparent;\n",
              "      border-bottom-color: var(--fill-color);\n",
              "    }\n",
              "  }\n",
              "</style>\n",
              "\n",
              "  <script>\n",
              "    async function quickchart(key) {\n",
              "      const quickchartButtonEl =\n",
              "        document.querySelector('#' + key + ' button');\n",
              "      quickchartButtonEl.disabled = true;  // To prevent multiple clicks.\n",
              "      quickchartButtonEl.classList.add('colab-df-spinner');\n",
              "      try {\n",
              "        const charts = await google.colab.kernel.invokeFunction(\n",
              "            'suggestCharts', [key], {});\n",
              "      } catch (error) {\n",
              "        console.error('Error during call to suggestCharts:', error);\n",
              "      }\n",
              "      quickchartButtonEl.classList.remove('colab-df-spinner');\n",
              "      quickchartButtonEl.classList.add('colab-df-quickchart-complete');\n",
              "    }\n",
              "    (() => {\n",
              "      let quickchartButtonEl =\n",
              "        document.querySelector('#df-91e52f7f-817d-4e0b-81ac-45a0d7300f37 button');\n",
              "      quickchartButtonEl.style.display =\n",
              "        google.colab.kernel.accessAllowed ? 'block' : 'none';\n",
              "    })();\n",
              "  </script>\n",
              "</div>\n",
              "    </div>\n",
              "  </div>\n"
            ]
          },
          "metadata": {},
          "execution_count": 7
        }
      ],
      "source": [
        "new_df.head(3)"
      ]
    },
    {
      "cell_type": "code",
      "execution_count": 8,
      "metadata": {
        "id": "B4gMsVvVmV_b",
        "colab": {
          "base_uri": "https://localhost:8080/"
        },
        "outputId": "9b64f7ed-f823-470e-a55a-49bfaeb21cf2"
      },
      "outputs": [
        {
          "output_type": "execute_result",
          "data": {
            "text/plain": [
              "(25000, 3)"
            ]
          },
          "metadata": {},
          "execution_count": 8
        }
      ],
      "source": [
        "new_df.shape"
      ]
    },
    {
      "cell_type": "code",
      "execution_count": 9,
      "metadata": {
        "id": "3dPq1VoEmYMF",
        "colab": {
          "base_uri": "https://localhost:8080/"
        },
        "outputId": "1627a467-b372-4cea-a79e-607cbb91918f"
      },
      "outputs": [
        {
          "output_type": "stream",
          "name": "stdout",
          "text": [
            "****Article****\n",
            "[\"By . Daily Mail Reporter . PUBLISHED: . 00:55 EST, 22 June 2012 . | . UPDATED: . 13:12 EST, 22 June 2012 . Guests at a luxury Afghan hotel fled in terror as five armed Taliban suicide bombers burst in and sparked a brutal 12-hour gun battle. Eight people were shot dead as scores of hostages were taken at the exclusive Spozhmai resort, on the outskirts of Kabul and overlooking Qargha Lake. The Islamic extremists said the venue was a 'centre for prostitution' and 'debauchery'. It is yet another bold attack showing a potent insurgency remains after more than 10 years of war. Scroll down for video . Smoke rises from the Spozhmai hotel near Kabul, Afghanistan after suicide bombers attacked it, took hostages and staged an hours-long gun battle with Afghan security forces . Five militants armed with rocket-propelled grenades, suicide bomb vests and machine guns attacked the hotel around midnight last night . Many terrified guests jumped into the lake to escape the carnage . Eight people were shot dead as scores of hostages were taken at the exclusive resort, on the outskirts of Kabul and overlooking Qargha Lake . Five militants armed with rocket-propelled grenades, suicide bomb vests and machine guns attacked the hotel around midnight last night. They burst into a party and shot dead hotel guards. Four civilians, three hotel guards and a policeman were killed in the battle. All five attackers were also killed. The attack, quickly claimed by the Afghan Taliban, again showed the ability of insurgents to stage high-profile raids. It came even as NATO nations prepare to withdraw most of their combat troops by the end of 2014 and leave Afghans to lead the fight. Afghans look at the dead bodies of two victims of the attack . Afghan policemen arrive at the scene. Up to 300 people had been inside the hotel when the attack began . A man cries after losing relatives during the assault on the hotel . Many terrified guests jumped into the lake in the darkness to escape the carnage, Afghan officials and residents said.\\xa0 Up to 300 people had been inside the hotel when the attack began. Sediq Sediqqi, Afghan Interior Ministry spokesman, said: 'Insurgent Taliban were using civilians as human shields to protect themselves. 'And even this morning around 50 locals were still held as hostages.' Earlier, . elite Afghan quick-response police backed by NATO troops freed at least . 35 hostages in an operation that only began in earnest after sunrise to . help security forces avoid civilian deaths in night-time confusion. In position: An Afghan National Army soldier looks over the hotel which was attacked by Taliban soldiers . Creeping: An Afghan National Army soldier takes positions on a hill near the Spozhmai Hotel as others wait . Battle: A NATO helicopter arrived (pictured) after bombers attacked the Spozhmai hotel at Qargha Lake late on Thursday night and continued into the morning . NATO attack helicopters could be seen over the single-storey hotel building and a balcony popular with guests for its sunset views, while a pall of smoke rose into air. The Taliban complained wealthy Afghans and foreigners used the hotel, about six miles from the centre of Kabul, for 'prostitution' and 'wild parties' ahead of today's religious day holiday. Launching their annual offensive this spring, the Taliban threatened to attack more government officials and rich Afghans. Bullet holes pepper the hotel's brickwork, along with smashed windows . But the hotel assault was one of few in which multiple hostages were taken since the start of the war, now in its 11th year. General Mohammad Zahir, head of the Kabul police investigation unit, said: 'This is a crime against humanity because they targeted children, women and civilians picnicking at the lake. 'There wasn't even a single soldier around there.' Television pictures showed several people wading out of the lake onto a balcony and clambering over a wall to safety. Surrounded: Afghan special forces outside the Spozhmai hotel at Lake Qargha . Terror: An Afghan policeman reflected in a mirror at the hotel (left), and the dead body of a militant (right) Deadly: Afghan National Army soldiers arrive where bombers were armed with machines guns, rocket-propelled grenades and vests laden with explosives . Soldiers and police fanned out around the hotel at dawn, arriving in cars and armoured Humvee vehicles and taking cover behind trees flanking the lake and a nearby golf course. Police said they wanted to stage a rescue without resorting to a frontal attack that could kill the hotel guests who had been taken hostage. Qargha Lake is one of Kabul's few options for weekend getaways. Restaurants and hotels that dot the shore are popular with Afghan government officials and businessmen, particularly on Thursday nights. Guests at the Spozhmai must pass through security checks before entering the hotel, where tables with umbrellas overlook the water, but security is relatively light for a city vulnerable to militant attacks. Violence across Afghanistan has surged in recent days, with three U.S. soldiers and more than a dozen civilians killed in successive attacks, mostly in the country's east where NATO-led forces have focused their efforts during the summer fighting months. Fears: Afghan security officials stand guard on a road leading to the hotel . NATO commanders, halfway into the process of transferring security responsibility to Afghan forces, are racing through training for the Afghan army and police, including holding basic literacy classes for recruits. Several well-planned assaults in Kabul in the past year have raised questions about whether the Taliban and their al Qaeda-linked Haqqani network allies have shifted tactics to embrace high-profile attacks targeting landmarks, foreigners and Afghanistan's elite, extending a guerrilla war once primarily waged in the countryside. Afghan insurgents attacked Kabul's heavily protected diplomatic and government district on April 15 in an assault, eventually quelled by Afghan special forces guided by Western mentors, similar to one in September 2011. Militants also killed eight people in an attack on the upscale Intercontinental hotel in Kabul in June 2011. President Hamid Karzai told a special session of parliament yesterday that attacks by insurgents against Afghan police and soldiers were increasing as most foreign combat troops prepare to leave Afghanistan by the end of 2014.\"]\n",
            "****Highlights****\n",
            "['Exclusive Spozhmai resort, north of Afghan capital, raided late last night .\\nMilitants used rocket-propelled grenades, suicide vests and machine guns .\\nBurst into a party and shot dead three guards watching over the venue .\\nGuests fled by jumping out of windows and swimming across lake .\\nFour civilians, a policeman and all five attacked also killed in the battle .']\n"
          ]
        }
      ],
      "source": [
        "sample=new_df.sample()\n",
        "print(\"****Article****\")\n",
        "print(sample.article.values)\n",
        "print('****Highlights****')\n",
        "print(sample.highlights.values)"
      ]
    },
    {
      "cell_type": "markdown",
      "metadata": {
        "id": "A8f0fplPn7FV"
      },
      "source": [
        "Checking for Null values\n"
      ]
    },
    {
      "cell_type": "code",
      "execution_count": 10,
      "metadata": {
        "id": "-rj60r4FmswB",
        "colab": {
          "base_uri": "https://localhost:8080/"
        },
        "outputId": "d1a02ed4-2d6a-4d36-9d07-de8e46265e8d"
      },
      "outputs": [
        {
          "output_type": "execute_result",
          "data": {
            "text/plain": [
              "id            0\n",
              "article       0\n",
              "highlights    0\n",
              "dtype: int64"
            ]
          },
          "metadata": {},
          "execution_count": 10
        }
      ],
      "source": [
        "new_df.isna().sum()"
      ]
    },
    {
      "cell_type": "markdown",
      "metadata": {
        "id": "uGY2KQtMoDkM"
      },
      "source": [
        "Checking for duplicates\n"
      ]
    },
    {
      "cell_type": "code",
      "execution_count": 11,
      "metadata": {
        "id": "kHMVZot0n4uD",
        "colab": {
          "base_uri": "https://localhost:8080/"
        },
        "outputId": "c6d915fb-7ae7-4935-dbda-abd09fa8cb11"
      },
      "outputs": [
        {
          "output_type": "execute_result",
          "data": {
            "text/plain": [
              "22"
            ]
          },
          "metadata": {},
          "execution_count": 11
        }
      ],
      "source": [
        "new_df.duplicated(subset=['article','highlights']).sum()"
      ]
    },
    {
      "cell_type": "code",
      "execution_count": 12,
      "metadata": {
        "id": "QVHFFfmwoZZT",
        "colab": {
          "base_uri": "https://localhost:8080/"
        },
        "outputId": "3d8549d6-b3be-402d-8fa6-a28084ba866f"
      },
      "outputs": [
        {
          "output_type": "execute_result",
          "data": {
            "text/plain": [
              "(24978, 3)"
            ]
          },
          "metadata": {},
          "execution_count": 12
        }
      ],
      "source": [
        "new_df=new_df.drop_duplicates(subset=['article','highlights'])\n",
        "new_df.shape"
      ]
    },
    {
      "cell_type": "code",
      "execution_count": 13,
      "metadata": {
        "id": "vDaWneCvo12o",
        "colab": {
          "base_uri": "https://localhost:8080/"
        },
        "outputId": "43df4dfd-52c7-487c-d410-e02920c339a4"
      },
      "outputs": [
        {
          "output_type": "execute_result",
          "data": {
            "text/plain": [
              "0"
            ]
          },
          "metadata": {},
          "execution_count": 13
        }
      ],
      "source": [
        "new_df.duplicated(subset=['article','highlights']).sum()"
      ]
    },
    {
      "cell_type": "code",
      "execution_count": 14,
      "metadata": {
        "id": "T2EEiOeFKUgB",
        "colab": {
          "base_uri": "https://localhost:8080/"
        },
        "outputId": "2daa72e7-a2a2-4fdb-cb14-0fae72422a6d"
      },
      "outputs": [
        {
          "output_type": "execute_result",
          "data": {
            "text/plain": [
              "3964      Comedian John Oliver couldn’t resist ridiculing Starbucks CEO Howard Schultz over the introduction last week of his controversial ‘Race Together’ initiative. Schultz and the coffee chain have face...\n",
              "115523    Background noise from the TV is a common sound in many households, but a new study suggests it might damage more than just the electricity bill. U.S. researchers have found that the drone of a TV ...\n",
              "54656     By . Helen Pow . PUBLISHED: . 12:07 EST, 16 August 2013 . | . UPDATED: . 13:30 EST, 16 August 2013 . Bigamy: David Jin Lee, 26, of Williamsburg, is married to a Norfolk-based sailor and another wo...\n",
              "9014      By . Hayley O'keeffe . PUBLISHED: . 00:55 EST, 18 October 2013 . | . UPDATED: . 00:57 EST, 18 October 2013 . An Australian tourist and three Tibetans died in an avalanche on Mount Everest on Wedne...\n",
              "230403    A mass for family and close friends of Oscar de la Renta will be held on November 3 in New York . Oscar de la Renta, the renowned . fashion designer who died last Monday at the age of 82, will be ...\n",
              "128115    By . Nick Enoch . PUBLISHED: . 07:34 EST, 10 December 2013 . | . UPDATED: . 09:23 EST, 10 December 2013 . Incredible footage of a mass pile-up, involving around 40 cars on a snow-covered highway, ...\n",
              "30791     By . Daily Mail Reporter . PUBLISHED: . 19:35 EST, 14 July 2013 . | . UPDATED: . 19:37 EST, 14 July 2013 . With everything you can eat and drink thrown in, all-inclusive deals are promoted as the ...\n",
              "150774    Twenty years after she drowned her young sons and incited racial tensions in her little South Carolina town by blaming a fictional black carjacker, Susan Smith's world is as fractured as ever. A s...\n",
              "89824     By . Stewart Maclean . PUBLISHED: . 14:06 EST, 27 March 2012 . | . UPDATED: . 11:00 EST, 28 March 2012 . Somalia arrest: British citizen Clive Dennis was held at Mogadishu's Aden Adde airport on s...\n",
              "98245     Tottenham fans should get down to White Hart Lane on a Thursday night. They should make an atmosphere, make it unplayable for the visitors and replicate the feel of those Champions League nights. ...\n",
              "Name: article, dtype: object"
            ]
          },
          "metadata": {},
          "execution_count": 14
        }
      ],
      "source": [
        "new_df['article'][:10]"
      ]
    },
    {
      "cell_type": "code",
      "execution_count": 15,
      "metadata": {
        "id": "yzd9n9H5LaX0",
        "colab": {
          "base_uri": "https://localhost:8080/",
          "height": 467
        },
        "outputId": "c25b94a5-d050-4ceb-f415-850f0c9bd1e0"
      },
      "outputs": [
        {
          "output_type": "execute_result",
          "data": {
            "text/plain": [
              "                                              id  \\\n",
              "3964    610347c5750650839564adf3408f8bdb40862ec6   \n",
              "115523  2111c2fe3fb55db3140f54eb3be7190530255770   \n",
              "54656   9ad1ce2bc9a877afb3340fd0270b137a6906a8a5   \n",
              "9014    197b7085ec9a041a1237adc32761294cc08f1894   \n",
              "230403  b65d5e73d82c1904ccd035571f034b8e719cf7e5   \n",
              "\n",
              "                                                                                                                                                                                                        article  \\\n",
              "3964    comedian john oliver couldn’t resist ridiculing starbucks ceo howard schultz over the introduction last week of his controversial ‘race together’ initiative. schultz and the coffee chain have face...   \n",
              "115523  background noise from the tv is a common sound in many households, but a new study suggests it might damage more than just the electricity bill. u.s. researchers have found that the drone of a tv ...   \n",
              "54656   by . helen pow . published: . 12:07 est, 16 august 2013 . | . updated: . 13:30 est, 16 august 2013 . bigamy: david jin lee, 26, of williamsburg, is married to a norfolk-based sailor and another wo...   \n",
              "9014    by . hayley o'keeffe . published: . 00:55 est, 18 october 2013 . | . updated: . 00:57 est, 18 october 2013 . an australian tourist and three tibetans died in an avalanche on mount everest on wedne...   \n",
              "230403  a mass for family and close friends of oscar de la renta will be held on november 3 in new york . oscar de la renta, the renowned . fashion designer who died last monday at the age of 82, will be ...   \n",
              "\n",
              "                                                                                                                                                                                                     highlights  \n",
              "3964    comedian john oliver couldn't resist ridiculing starbucks ceo howard schultz on sunday over his 'race together' initiative .\\nbritish comedian said a conversation about race is 'clearly important ...  \n",
              "115523  children learn to speak from listening to their parents talking to them .\\nwhen the tv is on in the background, parents talk to their children less .\\nthis means it can harm their language develop...  \n",
              "54656   virginia man david jin lee, 26, is married to a norfolk-based sailor and another woman, with whom he has a child, in fairfax .\\nhe told the sailor he was in the cia to explain his mysterious absen...  \n",
              "9014                         dean higgins, 60, rescued wife after avalanche on tuesday .\\npair trekked down the mountain for eight hours .\\nmr higgins later died from altitude sickness according to reports .  \n",
              "230403  mass will be held at the church of st. ignatius loyola in manhattan .\\ncongregation will be made up of close family and friends .\\nglobally renowned designer died on monday at the age of 82 .\\nwas...  "
            ],
            "text/html": [
              "\n",
              "  <div id=\"df-56325053-3fe9-492f-8ff9-68e2ea3192d8\" class=\"colab-df-container\">\n",
              "    <div>\n",
              "<style scoped>\n",
              "    .dataframe tbody tr th:only-of-type {\n",
              "        vertical-align: middle;\n",
              "    }\n",
              "\n",
              "    .dataframe tbody tr th {\n",
              "        vertical-align: top;\n",
              "    }\n",
              "\n",
              "    .dataframe thead th {\n",
              "        text-align: right;\n",
              "    }\n",
              "</style>\n",
              "<table border=\"1\" class=\"dataframe\">\n",
              "  <thead>\n",
              "    <tr style=\"text-align: right;\">\n",
              "      <th></th>\n",
              "      <th>id</th>\n",
              "      <th>article</th>\n",
              "      <th>highlights</th>\n",
              "    </tr>\n",
              "  </thead>\n",
              "  <tbody>\n",
              "    <tr>\n",
              "      <th>3964</th>\n",
              "      <td>610347c5750650839564adf3408f8bdb40862ec6</td>\n",
              "      <td>comedian john oliver couldn’t resist ridiculing starbucks ceo howard schultz over the introduction last week of his controversial ‘race together’ initiative. schultz and the coffee chain have face...</td>\n",
              "      <td>comedian john oliver couldn't resist ridiculing starbucks ceo howard schultz on sunday over his 'race together' initiative .\\nbritish comedian said a conversation about race is 'clearly important ...</td>\n",
              "    </tr>\n",
              "    <tr>\n",
              "      <th>115523</th>\n",
              "      <td>2111c2fe3fb55db3140f54eb3be7190530255770</td>\n",
              "      <td>background noise from the tv is a common sound in many households, but a new study suggests it might damage more than just the electricity bill. u.s. researchers have found that the drone of a tv ...</td>\n",
              "      <td>children learn to speak from listening to their parents talking to them .\\nwhen the tv is on in the background, parents talk to their children less .\\nthis means it can harm their language develop...</td>\n",
              "    </tr>\n",
              "    <tr>\n",
              "      <th>54656</th>\n",
              "      <td>9ad1ce2bc9a877afb3340fd0270b137a6906a8a5</td>\n",
              "      <td>by . helen pow . published: . 12:07 est, 16 august 2013 . | . updated: . 13:30 est, 16 august 2013 . bigamy: david jin lee, 26, of williamsburg, is married to a norfolk-based sailor and another wo...</td>\n",
              "      <td>virginia man david jin lee, 26, is married to a norfolk-based sailor and another woman, with whom he has a child, in fairfax .\\nhe told the sailor he was in the cia to explain his mysterious absen...</td>\n",
              "    </tr>\n",
              "    <tr>\n",
              "      <th>9014</th>\n",
              "      <td>197b7085ec9a041a1237adc32761294cc08f1894</td>\n",
              "      <td>by . hayley o'keeffe . published: . 00:55 est, 18 october 2013 . | . updated: . 00:57 est, 18 october 2013 . an australian tourist and three tibetans died in an avalanche on mount everest on wedne...</td>\n",
              "      <td>dean higgins, 60, rescued wife after avalanche on tuesday .\\npair trekked down the mountain for eight hours .\\nmr higgins later died from altitude sickness according to reports .</td>\n",
              "    </tr>\n",
              "    <tr>\n",
              "      <th>230403</th>\n",
              "      <td>b65d5e73d82c1904ccd035571f034b8e719cf7e5</td>\n",
              "      <td>a mass for family and close friends of oscar de la renta will be held on november 3 in new york . oscar de la renta, the renowned . fashion designer who died last monday at the age of 82, will be ...</td>\n",
              "      <td>mass will be held at the church of st. ignatius loyola in manhattan .\\ncongregation will be made up of close family and friends .\\nglobally renowned designer died on monday at the age of 82 .\\nwas...</td>\n",
              "    </tr>\n",
              "  </tbody>\n",
              "</table>\n",
              "</div>\n",
              "    <div class=\"colab-df-buttons\">\n",
              "\n",
              "  <div class=\"colab-df-container\">\n",
              "    <button class=\"colab-df-convert\" onclick=\"convertToInteractive('df-56325053-3fe9-492f-8ff9-68e2ea3192d8')\"\n",
              "            title=\"Convert this dataframe to an interactive table.\"\n",
              "            style=\"display:none;\">\n",
              "\n",
              "  <svg xmlns=\"http://www.w3.org/2000/svg\" height=\"24px\" viewBox=\"0 -960 960 960\">\n",
              "    <path d=\"M120-120v-720h720v720H120Zm60-500h600v-160H180v160Zm220 220h160v-160H400v160Zm0 220h160v-160H400v160ZM180-400h160v-160H180v160Zm440 0h160v-160H620v160ZM180-180h160v-160H180v160Zm440 0h160v-160H620v160Z\"/>\n",
              "  </svg>\n",
              "    </button>\n",
              "\n",
              "  <style>\n",
              "    .colab-df-container {\n",
              "      display:flex;\n",
              "      gap: 12px;\n",
              "    }\n",
              "\n",
              "    .colab-df-convert {\n",
              "      background-color: #E8F0FE;\n",
              "      border: none;\n",
              "      border-radius: 50%;\n",
              "      cursor: pointer;\n",
              "      display: none;\n",
              "      fill: #1967D2;\n",
              "      height: 32px;\n",
              "      padding: 0 0 0 0;\n",
              "      width: 32px;\n",
              "    }\n",
              "\n",
              "    .colab-df-convert:hover {\n",
              "      background-color: #E2EBFA;\n",
              "      box-shadow: 0px 1px 2px rgba(60, 64, 67, 0.3), 0px 1px 3px 1px rgba(60, 64, 67, 0.15);\n",
              "      fill: #174EA6;\n",
              "    }\n",
              "\n",
              "    .colab-df-buttons div {\n",
              "      margin-bottom: 4px;\n",
              "    }\n",
              "\n",
              "    [theme=dark] .colab-df-convert {\n",
              "      background-color: #3B4455;\n",
              "      fill: #D2E3FC;\n",
              "    }\n",
              "\n",
              "    [theme=dark] .colab-df-convert:hover {\n",
              "      background-color: #434B5C;\n",
              "      box-shadow: 0px 1px 3px 1px rgba(0, 0, 0, 0.15);\n",
              "      filter: drop-shadow(0px 1px 2px rgba(0, 0, 0, 0.3));\n",
              "      fill: #FFFFFF;\n",
              "    }\n",
              "  </style>\n",
              "\n",
              "    <script>\n",
              "      const buttonEl =\n",
              "        document.querySelector('#df-56325053-3fe9-492f-8ff9-68e2ea3192d8 button.colab-df-convert');\n",
              "      buttonEl.style.display =\n",
              "        google.colab.kernel.accessAllowed ? 'block' : 'none';\n",
              "\n",
              "      async function convertToInteractive(key) {\n",
              "        const element = document.querySelector('#df-56325053-3fe9-492f-8ff9-68e2ea3192d8');\n",
              "        const dataTable =\n",
              "          await google.colab.kernel.invokeFunction('convertToInteractive',\n",
              "                                                    [key], {});\n",
              "        if (!dataTable) return;\n",
              "\n",
              "        const docLinkHtml = 'Like what you see? Visit the ' +\n",
              "          '<a target=\"_blank\" href=https://colab.research.google.com/notebooks/data_table.ipynb>data table notebook</a>'\n",
              "          + ' to learn more about interactive tables.';\n",
              "        element.innerHTML = '';\n",
              "        dataTable['output_type'] = 'display_data';\n",
              "        await google.colab.output.renderOutput(dataTable, element);\n",
              "        const docLink = document.createElement('div');\n",
              "        docLink.innerHTML = docLinkHtml;\n",
              "        element.appendChild(docLink);\n",
              "      }\n",
              "    </script>\n",
              "  </div>\n",
              "\n",
              "\n",
              "<div id=\"df-707bb6f5-fa50-473e-af47-d08e16b6e6e5\">\n",
              "  <button class=\"colab-df-quickchart\" onclick=\"quickchart('df-707bb6f5-fa50-473e-af47-d08e16b6e6e5')\"\n",
              "            title=\"Suggest charts\"\n",
              "            style=\"display:none;\">\n",
              "\n",
              "<svg xmlns=\"http://www.w3.org/2000/svg\" height=\"24px\"viewBox=\"0 0 24 24\"\n",
              "     width=\"24px\">\n",
              "    <g>\n",
              "        <path d=\"M19 3H5c-1.1 0-2 .9-2 2v14c0 1.1.9 2 2 2h14c1.1 0 2-.9 2-2V5c0-1.1-.9-2-2-2zM9 17H7v-7h2v7zm4 0h-2V7h2v10zm4 0h-2v-4h2v4z\"/>\n",
              "    </g>\n",
              "</svg>\n",
              "  </button>\n",
              "\n",
              "<style>\n",
              "  .colab-df-quickchart {\n",
              "      --bg-color: #E8F0FE;\n",
              "      --fill-color: #1967D2;\n",
              "      --hover-bg-color: #E2EBFA;\n",
              "      --hover-fill-color: #174EA6;\n",
              "      --disabled-fill-color: #AAA;\n",
              "      --disabled-bg-color: #DDD;\n",
              "  }\n",
              "\n",
              "  [theme=dark] .colab-df-quickchart {\n",
              "      --bg-color: #3B4455;\n",
              "      --fill-color: #D2E3FC;\n",
              "      --hover-bg-color: #434B5C;\n",
              "      --hover-fill-color: #FFFFFF;\n",
              "      --disabled-bg-color: #3B4455;\n",
              "      --disabled-fill-color: #666;\n",
              "  }\n",
              "\n",
              "  .colab-df-quickchart {\n",
              "    background-color: var(--bg-color);\n",
              "    border: none;\n",
              "    border-radius: 50%;\n",
              "    cursor: pointer;\n",
              "    display: none;\n",
              "    fill: var(--fill-color);\n",
              "    height: 32px;\n",
              "    padding: 0;\n",
              "    width: 32px;\n",
              "  }\n",
              "\n",
              "  .colab-df-quickchart:hover {\n",
              "    background-color: var(--hover-bg-color);\n",
              "    box-shadow: 0 1px 2px rgba(60, 64, 67, 0.3), 0 1px 3px 1px rgba(60, 64, 67, 0.15);\n",
              "    fill: var(--button-hover-fill-color);\n",
              "  }\n",
              "\n",
              "  .colab-df-quickchart-complete:disabled,\n",
              "  .colab-df-quickchart-complete:disabled:hover {\n",
              "    background-color: var(--disabled-bg-color);\n",
              "    fill: var(--disabled-fill-color);\n",
              "    box-shadow: none;\n",
              "  }\n",
              "\n",
              "  .colab-df-spinner {\n",
              "    border: 2px solid var(--fill-color);\n",
              "    border-color: transparent;\n",
              "    border-bottom-color: var(--fill-color);\n",
              "    animation:\n",
              "      spin 1s steps(1) infinite;\n",
              "  }\n",
              "\n",
              "  @keyframes spin {\n",
              "    0% {\n",
              "      border-color: transparent;\n",
              "      border-bottom-color: var(--fill-color);\n",
              "      border-left-color: var(--fill-color);\n",
              "    }\n",
              "    20% {\n",
              "      border-color: transparent;\n",
              "      border-left-color: var(--fill-color);\n",
              "      border-top-color: var(--fill-color);\n",
              "    }\n",
              "    30% {\n",
              "      border-color: transparent;\n",
              "      border-left-color: var(--fill-color);\n",
              "      border-top-color: var(--fill-color);\n",
              "      border-right-color: var(--fill-color);\n",
              "    }\n",
              "    40% {\n",
              "      border-color: transparent;\n",
              "      border-right-color: var(--fill-color);\n",
              "      border-top-color: var(--fill-color);\n",
              "    }\n",
              "    60% {\n",
              "      border-color: transparent;\n",
              "      border-right-color: var(--fill-color);\n",
              "    }\n",
              "    80% {\n",
              "      border-color: transparent;\n",
              "      border-right-color: var(--fill-color);\n",
              "      border-bottom-color: var(--fill-color);\n",
              "    }\n",
              "    90% {\n",
              "      border-color: transparent;\n",
              "      border-bottom-color: var(--fill-color);\n",
              "    }\n",
              "  }\n",
              "</style>\n",
              "\n",
              "  <script>\n",
              "    async function quickchart(key) {\n",
              "      const quickchartButtonEl =\n",
              "        document.querySelector('#' + key + ' button');\n",
              "      quickchartButtonEl.disabled = true;  // To prevent multiple clicks.\n",
              "      quickchartButtonEl.classList.add('colab-df-spinner');\n",
              "      try {\n",
              "        const charts = await google.colab.kernel.invokeFunction(\n",
              "            'suggestCharts', [key], {});\n",
              "      } catch (error) {\n",
              "        console.error('Error during call to suggestCharts:', error);\n",
              "      }\n",
              "      quickchartButtonEl.classList.remove('colab-df-spinner');\n",
              "      quickchartButtonEl.classList.add('colab-df-quickchart-complete');\n",
              "    }\n",
              "    (() => {\n",
              "      let quickchartButtonEl =\n",
              "        document.querySelector('#df-707bb6f5-fa50-473e-af47-d08e16b6e6e5 button');\n",
              "      quickchartButtonEl.style.display =\n",
              "        google.colab.kernel.accessAllowed ? 'block' : 'none';\n",
              "    })();\n",
              "  </script>\n",
              "</div>\n",
              "    </div>\n",
              "  </div>\n"
            ]
          },
          "metadata": {},
          "execution_count": 15
        }
      ],
      "source": [
        "new_df['article'] = new_df['article'].str.lower()\n",
        "new_df['highlights'] = new_df['highlights'].str.lower()\n",
        "\n",
        "new_df.head()"
      ]
    },
    {
      "cell_type": "code",
      "execution_count": 16,
      "metadata": {
        "id": "-BWqXLjOS7DS"
      },
      "outputs": [],
      "source": [
        "new_df['article']=new_df['article'].str.lower()\n",
        "\n",
        "new_df['highlights']=new_df['highlights'].str.lower()"
      ]
    },
    {
      "cell_type": "markdown",
      "metadata": {
        "id": "60oRsNGfvm5_"
      },
      "source": [
        "Converting to lower case"
      ]
    },
    {
      "cell_type": "code",
      "execution_count": 17,
      "metadata": {
        "id": "H0xN7npXoA3o",
        "colab": {
          "base_uri": "https://localhost:8080/",
          "height": 467
        },
        "outputId": "70e9b9c5-0a35-4d0d-cd97-5d73b39f650e"
      },
      "outputs": [
        {
          "output_type": "execute_result",
          "data": {
            "text/plain": [
              "                                              id  \\\n",
              "3964    610347c5750650839564adf3408f8bdb40862ec6   \n",
              "115523  2111c2fe3fb55db3140f54eb3be7190530255770   \n",
              "54656   9ad1ce2bc9a877afb3340fd0270b137a6906a8a5   \n",
              "9014    197b7085ec9a041a1237adc32761294cc08f1894   \n",
              "230403  b65d5e73d82c1904ccd035571f034b8e719cf7e5   \n",
              "\n",
              "                                                                                                                                                                                                        article  \\\n",
              "3964    comedian john oliver couldn’t resist ridiculing starbucks ceo howard schultz over the introduction last week of his controversial ‘race together’ initiative. schultz and the coffee chain have face...   \n",
              "115523  background noise from the tv is a common sound in many households, but a new study suggests it might damage more than just the electricity bill. u.s. researchers have found that the drone of a tv ...   \n",
              "54656   by . helen pow . published: . 12:07 est, 16 august 2013 . | . updated: . 13:30 est, 16 august 2013 . bigamy: david jin lee, 26, of williamsburg, is married to a norfolk-based sailor and another wo...   \n",
              "9014    by . hayley o'keeffe . published: . 00:55 est, 18 october 2013 . | . updated: . 00:57 est, 18 october 2013 . an australian tourist and three tibetans died in an avalanche on mount everest on wedne...   \n",
              "230403  a mass for family and close friends of oscar de la renta will be held on november 3 in new york . oscar de la renta, the renowned . fashion designer who died last monday at the age of 82, will be ...   \n",
              "\n",
              "                                                                                                                                                                                                     highlights  \n",
              "3964    comedian john oliver couldn't resist ridiculing starbucks ceo howard schultz on sunday over his 'race together' initiative .\\nbritish comedian said a conversation about race is 'clearly important ...  \n",
              "115523  children learn to speak from listening to their parents talking to them .\\nwhen the tv is on in the background, parents talk to their children less .\\nthis means it can harm their language develop...  \n",
              "54656   virginia man david jin lee, 26, is married to a norfolk-based sailor and another woman, with whom he has a child, in fairfax .\\nhe told the sailor he was in the cia to explain his mysterious absen...  \n",
              "9014                         dean higgins, 60, rescued wife after avalanche on tuesday .\\npair trekked down the mountain for eight hours .\\nmr higgins later died from altitude sickness according to reports .  \n",
              "230403  mass will be held at the church of st. ignatius loyola in manhattan .\\ncongregation will be made up of close family and friends .\\nglobally renowned designer died on monday at the age of 82 .\\nwas...  "
            ],
            "text/html": [
              "\n",
              "  <div id=\"df-de9c6815-1778-4f9e-98b4-e4b69d74c533\" class=\"colab-df-container\">\n",
              "    <div>\n",
              "<style scoped>\n",
              "    .dataframe tbody tr th:only-of-type {\n",
              "        vertical-align: middle;\n",
              "    }\n",
              "\n",
              "    .dataframe tbody tr th {\n",
              "        vertical-align: top;\n",
              "    }\n",
              "\n",
              "    .dataframe thead th {\n",
              "        text-align: right;\n",
              "    }\n",
              "</style>\n",
              "<table border=\"1\" class=\"dataframe\">\n",
              "  <thead>\n",
              "    <tr style=\"text-align: right;\">\n",
              "      <th></th>\n",
              "      <th>id</th>\n",
              "      <th>article</th>\n",
              "      <th>highlights</th>\n",
              "    </tr>\n",
              "  </thead>\n",
              "  <tbody>\n",
              "    <tr>\n",
              "      <th>3964</th>\n",
              "      <td>610347c5750650839564adf3408f8bdb40862ec6</td>\n",
              "      <td>comedian john oliver couldn’t resist ridiculing starbucks ceo howard schultz over the introduction last week of his controversial ‘race together’ initiative. schultz and the coffee chain have face...</td>\n",
              "      <td>comedian john oliver couldn't resist ridiculing starbucks ceo howard schultz on sunday over his 'race together' initiative .\\nbritish comedian said a conversation about race is 'clearly important ...</td>\n",
              "    </tr>\n",
              "    <tr>\n",
              "      <th>115523</th>\n",
              "      <td>2111c2fe3fb55db3140f54eb3be7190530255770</td>\n",
              "      <td>background noise from the tv is a common sound in many households, but a new study suggests it might damage more than just the electricity bill. u.s. researchers have found that the drone of a tv ...</td>\n",
              "      <td>children learn to speak from listening to their parents talking to them .\\nwhen the tv is on in the background, parents talk to their children less .\\nthis means it can harm their language develop...</td>\n",
              "    </tr>\n",
              "    <tr>\n",
              "      <th>54656</th>\n",
              "      <td>9ad1ce2bc9a877afb3340fd0270b137a6906a8a5</td>\n",
              "      <td>by . helen pow . published: . 12:07 est, 16 august 2013 . | . updated: . 13:30 est, 16 august 2013 . bigamy: david jin lee, 26, of williamsburg, is married to a norfolk-based sailor and another wo...</td>\n",
              "      <td>virginia man david jin lee, 26, is married to a norfolk-based sailor and another woman, with whom he has a child, in fairfax .\\nhe told the sailor he was in the cia to explain his mysterious absen...</td>\n",
              "    </tr>\n",
              "    <tr>\n",
              "      <th>9014</th>\n",
              "      <td>197b7085ec9a041a1237adc32761294cc08f1894</td>\n",
              "      <td>by . hayley o'keeffe . published: . 00:55 est, 18 october 2013 . | . updated: . 00:57 est, 18 october 2013 . an australian tourist and three tibetans died in an avalanche on mount everest on wedne...</td>\n",
              "      <td>dean higgins, 60, rescued wife after avalanche on tuesday .\\npair trekked down the mountain for eight hours .\\nmr higgins later died from altitude sickness according to reports .</td>\n",
              "    </tr>\n",
              "    <tr>\n",
              "      <th>230403</th>\n",
              "      <td>b65d5e73d82c1904ccd035571f034b8e719cf7e5</td>\n",
              "      <td>a mass for family and close friends of oscar de la renta will be held on november 3 in new york . oscar de la renta, the renowned . fashion designer who died last monday at the age of 82, will be ...</td>\n",
              "      <td>mass will be held at the church of st. ignatius loyola in manhattan .\\ncongregation will be made up of close family and friends .\\nglobally renowned designer died on monday at the age of 82 .\\nwas...</td>\n",
              "    </tr>\n",
              "  </tbody>\n",
              "</table>\n",
              "</div>\n",
              "    <div class=\"colab-df-buttons\">\n",
              "\n",
              "  <div class=\"colab-df-container\">\n",
              "    <button class=\"colab-df-convert\" onclick=\"convertToInteractive('df-de9c6815-1778-4f9e-98b4-e4b69d74c533')\"\n",
              "            title=\"Convert this dataframe to an interactive table.\"\n",
              "            style=\"display:none;\">\n",
              "\n",
              "  <svg xmlns=\"http://www.w3.org/2000/svg\" height=\"24px\" viewBox=\"0 -960 960 960\">\n",
              "    <path d=\"M120-120v-720h720v720H120Zm60-500h600v-160H180v160Zm220 220h160v-160H400v160Zm0 220h160v-160H400v160ZM180-400h160v-160H180v160Zm440 0h160v-160H620v160ZM180-180h160v-160H180v160Zm440 0h160v-160H620v160Z\"/>\n",
              "  </svg>\n",
              "    </button>\n",
              "\n",
              "  <style>\n",
              "    .colab-df-container {\n",
              "      display:flex;\n",
              "      gap: 12px;\n",
              "    }\n",
              "\n",
              "    .colab-df-convert {\n",
              "      background-color: #E8F0FE;\n",
              "      border: none;\n",
              "      border-radius: 50%;\n",
              "      cursor: pointer;\n",
              "      display: none;\n",
              "      fill: #1967D2;\n",
              "      height: 32px;\n",
              "      padding: 0 0 0 0;\n",
              "      width: 32px;\n",
              "    }\n",
              "\n",
              "    .colab-df-convert:hover {\n",
              "      background-color: #E2EBFA;\n",
              "      box-shadow: 0px 1px 2px rgba(60, 64, 67, 0.3), 0px 1px 3px 1px rgba(60, 64, 67, 0.15);\n",
              "      fill: #174EA6;\n",
              "    }\n",
              "\n",
              "    .colab-df-buttons div {\n",
              "      margin-bottom: 4px;\n",
              "    }\n",
              "\n",
              "    [theme=dark] .colab-df-convert {\n",
              "      background-color: #3B4455;\n",
              "      fill: #D2E3FC;\n",
              "    }\n",
              "\n",
              "    [theme=dark] .colab-df-convert:hover {\n",
              "      background-color: #434B5C;\n",
              "      box-shadow: 0px 1px 3px 1px rgba(0, 0, 0, 0.15);\n",
              "      filter: drop-shadow(0px 1px 2px rgba(0, 0, 0, 0.3));\n",
              "      fill: #FFFFFF;\n",
              "    }\n",
              "  </style>\n",
              "\n",
              "    <script>\n",
              "      const buttonEl =\n",
              "        document.querySelector('#df-de9c6815-1778-4f9e-98b4-e4b69d74c533 button.colab-df-convert');\n",
              "      buttonEl.style.display =\n",
              "        google.colab.kernel.accessAllowed ? 'block' : 'none';\n",
              "\n",
              "      async function convertToInteractive(key) {\n",
              "        const element = document.querySelector('#df-de9c6815-1778-4f9e-98b4-e4b69d74c533');\n",
              "        const dataTable =\n",
              "          await google.colab.kernel.invokeFunction('convertToInteractive',\n",
              "                                                    [key], {});\n",
              "        if (!dataTable) return;\n",
              "\n",
              "        const docLinkHtml = 'Like what you see? Visit the ' +\n",
              "          '<a target=\"_blank\" href=https://colab.research.google.com/notebooks/data_table.ipynb>data table notebook</a>'\n",
              "          + ' to learn more about interactive tables.';\n",
              "        element.innerHTML = '';\n",
              "        dataTable['output_type'] = 'display_data';\n",
              "        await google.colab.output.renderOutput(dataTable, element);\n",
              "        const docLink = document.createElement('div');\n",
              "        docLink.innerHTML = docLinkHtml;\n",
              "        element.appendChild(docLink);\n",
              "      }\n",
              "    </script>\n",
              "  </div>\n",
              "\n",
              "\n",
              "<div id=\"df-0c918937-6ad9-47fa-8388-8a3129166601\">\n",
              "  <button class=\"colab-df-quickchart\" onclick=\"quickchart('df-0c918937-6ad9-47fa-8388-8a3129166601')\"\n",
              "            title=\"Suggest charts\"\n",
              "            style=\"display:none;\">\n",
              "\n",
              "<svg xmlns=\"http://www.w3.org/2000/svg\" height=\"24px\"viewBox=\"0 0 24 24\"\n",
              "     width=\"24px\">\n",
              "    <g>\n",
              "        <path d=\"M19 3H5c-1.1 0-2 .9-2 2v14c0 1.1.9 2 2 2h14c1.1 0 2-.9 2-2V5c0-1.1-.9-2-2-2zM9 17H7v-7h2v7zm4 0h-2V7h2v10zm4 0h-2v-4h2v4z\"/>\n",
              "    </g>\n",
              "</svg>\n",
              "  </button>\n",
              "\n",
              "<style>\n",
              "  .colab-df-quickchart {\n",
              "      --bg-color: #E8F0FE;\n",
              "      --fill-color: #1967D2;\n",
              "      --hover-bg-color: #E2EBFA;\n",
              "      --hover-fill-color: #174EA6;\n",
              "      --disabled-fill-color: #AAA;\n",
              "      --disabled-bg-color: #DDD;\n",
              "  }\n",
              "\n",
              "  [theme=dark] .colab-df-quickchart {\n",
              "      --bg-color: #3B4455;\n",
              "      --fill-color: #D2E3FC;\n",
              "      --hover-bg-color: #434B5C;\n",
              "      --hover-fill-color: #FFFFFF;\n",
              "      --disabled-bg-color: #3B4455;\n",
              "      --disabled-fill-color: #666;\n",
              "  }\n",
              "\n",
              "  .colab-df-quickchart {\n",
              "    background-color: var(--bg-color);\n",
              "    border: none;\n",
              "    border-radius: 50%;\n",
              "    cursor: pointer;\n",
              "    display: none;\n",
              "    fill: var(--fill-color);\n",
              "    height: 32px;\n",
              "    padding: 0;\n",
              "    width: 32px;\n",
              "  }\n",
              "\n",
              "  .colab-df-quickchart:hover {\n",
              "    background-color: var(--hover-bg-color);\n",
              "    box-shadow: 0 1px 2px rgba(60, 64, 67, 0.3), 0 1px 3px 1px rgba(60, 64, 67, 0.15);\n",
              "    fill: var(--button-hover-fill-color);\n",
              "  }\n",
              "\n",
              "  .colab-df-quickchart-complete:disabled,\n",
              "  .colab-df-quickchart-complete:disabled:hover {\n",
              "    background-color: var(--disabled-bg-color);\n",
              "    fill: var(--disabled-fill-color);\n",
              "    box-shadow: none;\n",
              "  }\n",
              "\n",
              "  .colab-df-spinner {\n",
              "    border: 2px solid var(--fill-color);\n",
              "    border-color: transparent;\n",
              "    border-bottom-color: var(--fill-color);\n",
              "    animation:\n",
              "      spin 1s steps(1) infinite;\n",
              "  }\n",
              "\n",
              "  @keyframes spin {\n",
              "    0% {\n",
              "      border-color: transparent;\n",
              "      border-bottom-color: var(--fill-color);\n",
              "      border-left-color: var(--fill-color);\n",
              "    }\n",
              "    20% {\n",
              "      border-color: transparent;\n",
              "      border-left-color: var(--fill-color);\n",
              "      border-top-color: var(--fill-color);\n",
              "    }\n",
              "    30% {\n",
              "      border-color: transparent;\n",
              "      border-left-color: var(--fill-color);\n",
              "      border-top-color: var(--fill-color);\n",
              "      border-right-color: var(--fill-color);\n",
              "    }\n",
              "    40% {\n",
              "      border-color: transparent;\n",
              "      border-right-color: var(--fill-color);\n",
              "      border-top-color: var(--fill-color);\n",
              "    }\n",
              "    60% {\n",
              "      border-color: transparent;\n",
              "      border-right-color: var(--fill-color);\n",
              "    }\n",
              "    80% {\n",
              "      border-color: transparent;\n",
              "      border-right-color: var(--fill-color);\n",
              "      border-bottom-color: var(--fill-color);\n",
              "    }\n",
              "    90% {\n",
              "      border-color: transparent;\n",
              "      border-bottom-color: var(--fill-color);\n",
              "    }\n",
              "  }\n",
              "</style>\n",
              "\n",
              "  <script>\n",
              "    async function quickchart(key) {\n",
              "      const quickchartButtonEl =\n",
              "        document.querySelector('#' + key + ' button');\n",
              "      quickchartButtonEl.disabled = true;  // To prevent multiple clicks.\n",
              "      quickchartButtonEl.classList.add('colab-df-spinner');\n",
              "      try {\n",
              "        const charts = await google.colab.kernel.invokeFunction(\n",
              "            'suggestCharts', [key], {});\n",
              "      } catch (error) {\n",
              "        console.error('Error during call to suggestCharts:', error);\n",
              "      }\n",
              "      quickchartButtonEl.classList.remove('colab-df-spinner');\n",
              "      quickchartButtonEl.classList.add('colab-df-quickchart-complete');\n",
              "    }\n",
              "    (() => {\n",
              "      let quickchartButtonEl =\n",
              "        document.querySelector('#df-0c918937-6ad9-47fa-8388-8a3129166601 button');\n",
              "      quickchartButtonEl.style.display =\n",
              "        google.colab.kernel.accessAllowed ? 'block' : 'none';\n",
              "    })();\n",
              "  </script>\n",
              "</div>\n",
              "    </div>\n",
              "  </div>\n"
            ]
          },
          "metadata": {},
          "execution_count": 17
        }
      ],
      "source": [
        "new_df.head()"
      ]
    },
    {
      "cell_type": "code",
      "execution_count": 18,
      "metadata": {
        "id": "XQn0v0i6vwme"
      },
      "outputs": [],
      "source": [
        "#removing html tags\n",
        "import re\n",
        "def remove_html_tags(text):\n",
        "    if isinstance(text, str):\n",
        "        pattern = re.compile('<.*?>')\n",
        "        return pattern.sub(r'', text)\n",
        "    else:\n",
        "        return text"
      ]
    },
    {
      "cell_type": "code",
      "execution_count": 19,
      "metadata": {
        "id": "KVJUffPswJw3"
      },
      "outputs": [],
      "source": [
        "new_df['article'] = new_df['article'].apply(remove_html_tags)\n",
        "\n",
        "new_df['highlights'] = new_df['highlights'].apply(remove_html_tags)"
      ]
    },
    {
      "cell_type": "code",
      "execution_count": 20,
      "metadata": {
        "id": "r6JZJuYywQCY",
        "colab": {
          "base_uri": "https://localhost:8080/",
          "height": 467
        },
        "outputId": "00744ec8-68a7-4dc2-ed05-01807702758d"
      },
      "outputs": [
        {
          "output_type": "execute_result",
          "data": {
            "text/plain": [
              "                                              id  \\\n",
              "3964    610347c5750650839564adf3408f8bdb40862ec6   \n",
              "115523  2111c2fe3fb55db3140f54eb3be7190530255770   \n",
              "54656   9ad1ce2bc9a877afb3340fd0270b137a6906a8a5   \n",
              "9014    197b7085ec9a041a1237adc32761294cc08f1894   \n",
              "230403  b65d5e73d82c1904ccd035571f034b8e719cf7e5   \n",
              "\n",
              "                                                                                                                                                                                                        article  \\\n",
              "3964    comedian john oliver couldn’t resist ridiculing starbucks ceo howard schultz over the introduction last week of his controversial ‘race together’ initiative. schultz and the coffee chain have face...   \n",
              "115523  background noise from the tv is a common sound in many households, but a new study suggests it might damage more than just the electricity bill. u.s. researchers have found that the drone of a tv ...   \n",
              "54656   by . helen pow . published: . 12:07 est, 16 august 2013 . | . updated: . 13:30 est, 16 august 2013 . bigamy: david jin lee, 26, of williamsburg, is married to a norfolk-based sailor and another wo...   \n",
              "9014    by . hayley o'keeffe . published: . 00:55 est, 18 october 2013 . | . updated: . 00:57 est, 18 october 2013 . an australian tourist and three tibetans died in an avalanche on mount everest on wedne...   \n",
              "230403  a mass for family and close friends of oscar de la renta will be held on november 3 in new york . oscar de la renta, the renowned . fashion designer who died last monday at the age of 82, will be ...   \n",
              "\n",
              "                                                                                                                                                                                                     highlights  \n",
              "3964    comedian john oliver couldn't resist ridiculing starbucks ceo howard schultz on sunday over his 'race together' initiative .\\nbritish comedian said a conversation about race is 'clearly important ...  \n",
              "115523  children learn to speak from listening to their parents talking to them .\\nwhen the tv is on in the background, parents talk to their children less .\\nthis means it can harm their language develop...  \n",
              "54656   virginia man david jin lee, 26, is married to a norfolk-based sailor and another woman, with whom he has a child, in fairfax .\\nhe told the sailor he was in the cia to explain his mysterious absen...  \n",
              "9014                         dean higgins, 60, rescued wife after avalanche on tuesday .\\npair trekked down the mountain for eight hours .\\nmr higgins later died from altitude sickness according to reports .  \n",
              "230403  mass will be held at the church of st. ignatius loyola in manhattan .\\ncongregation will be made up of close family and friends .\\nglobally renowned designer died on monday at the age of 82 .\\nwas...  "
            ],
            "text/html": [
              "\n",
              "  <div id=\"df-ceafbbb3-bdcf-4cc7-8e2d-8fc99fabf1cc\" class=\"colab-df-container\">\n",
              "    <div>\n",
              "<style scoped>\n",
              "    .dataframe tbody tr th:only-of-type {\n",
              "        vertical-align: middle;\n",
              "    }\n",
              "\n",
              "    .dataframe tbody tr th {\n",
              "        vertical-align: top;\n",
              "    }\n",
              "\n",
              "    .dataframe thead th {\n",
              "        text-align: right;\n",
              "    }\n",
              "</style>\n",
              "<table border=\"1\" class=\"dataframe\">\n",
              "  <thead>\n",
              "    <tr style=\"text-align: right;\">\n",
              "      <th></th>\n",
              "      <th>id</th>\n",
              "      <th>article</th>\n",
              "      <th>highlights</th>\n",
              "    </tr>\n",
              "  </thead>\n",
              "  <tbody>\n",
              "    <tr>\n",
              "      <th>3964</th>\n",
              "      <td>610347c5750650839564adf3408f8bdb40862ec6</td>\n",
              "      <td>comedian john oliver couldn’t resist ridiculing starbucks ceo howard schultz over the introduction last week of his controversial ‘race together’ initiative. schultz and the coffee chain have face...</td>\n",
              "      <td>comedian john oliver couldn't resist ridiculing starbucks ceo howard schultz on sunday over his 'race together' initiative .\\nbritish comedian said a conversation about race is 'clearly important ...</td>\n",
              "    </tr>\n",
              "    <tr>\n",
              "      <th>115523</th>\n",
              "      <td>2111c2fe3fb55db3140f54eb3be7190530255770</td>\n",
              "      <td>background noise from the tv is a common sound in many households, but a new study suggests it might damage more than just the electricity bill. u.s. researchers have found that the drone of a tv ...</td>\n",
              "      <td>children learn to speak from listening to their parents talking to them .\\nwhen the tv is on in the background, parents talk to their children less .\\nthis means it can harm their language develop...</td>\n",
              "    </tr>\n",
              "    <tr>\n",
              "      <th>54656</th>\n",
              "      <td>9ad1ce2bc9a877afb3340fd0270b137a6906a8a5</td>\n",
              "      <td>by . helen pow . published: . 12:07 est, 16 august 2013 . | . updated: . 13:30 est, 16 august 2013 . bigamy: david jin lee, 26, of williamsburg, is married to a norfolk-based sailor and another wo...</td>\n",
              "      <td>virginia man david jin lee, 26, is married to a norfolk-based sailor and another woman, with whom he has a child, in fairfax .\\nhe told the sailor he was in the cia to explain his mysterious absen...</td>\n",
              "    </tr>\n",
              "    <tr>\n",
              "      <th>9014</th>\n",
              "      <td>197b7085ec9a041a1237adc32761294cc08f1894</td>\n",
              "      <td>by . hayley o'keeffe . published: . 00:55 est, 18 october 2013 . | . updated: . 00:57 est, 18 october 2013 . an australian tourist and three tibetans died in an avalanche on mount everest on wedne...</td>\n",
              "      <td>dean higgins, 60, rescued wife after avalanche on tuesday .\\npair trekked down the mountain for eight hours .\\nmr higgins later died from altitude sickness according to reports .</td>\n",
              "    </tr>\n",
              "    <tr>\n",
              "      <th>230403</th>\n",
              "      <td>b65d5e73d82c1904ccd035571f034b8e719cf7e5</td>\n",
              "      <td>a mass for family and close friends of oscar de la renta will be held on november 3 in new york . oscar de la renta, the renowned . fashion designer who died last monday at the age of 82, will be ...</td>\n",
              "      <td>mass will be held at the church of st. ignatius loyola in manhattan .\\ncongregation will be made up of close family and friends .\\nglobally renowned designer died on monday at the age of 82 .\\nwas...</td>\n",
              "    </tr>\n",
              "  </tbody>\n",
              "</table>\n",
              "</div>\n",
              "    <div class=\"colab-df-buttons\">\n",
              "\n",
              "  <div class=\"colab-df-container\">\n",
              "    <button class=\"colab-df-convert\" onclick=\"convertToInteractive('df-ceafbbb3-bdcf-4cc7-8e2d-8fc99fabf1cc')\"\n",
              "            title=\"Convert this dataframe to an interactive table.\"\n",
              "            style=\"display:none;\">\n",
              "\n",
              "  <svg xmlns=\"http://www.w3.org/2000/svg\" height=\"24px\" viewBox=\"0 -960 960 960\">\n",
              "    <path d=\"M120-120v-720h720v720H120Zm60-500h600v-160H180v160Zm220 220h160v-160H400v160Zm0 220h160v-160H400v160ZM180-400h160v-160H180v160Zm440 0h160v-160H620v160ZM180-180h160v-160H180v160Zm440 0h160v-160H620v160Z\"/>\n",
              "  </svg>\n",
              "    </button>\n",
              "\n",
              "  <style>\n",
              "    .colab-df-container {\n",
              "      display:flex;\n",
              "      gap: 12px;\n",
              "    }\n",
              "\n",
              "    .colab-df-convert {\n",
              "      background-color: #E8F0FE;\n",
              "      border: none;\n",
              "      border-radius: 50%;\n",
              "      cursor: pointer;\n",
              "      display: none;\n",
              "      fill: #1967D2;\n",
              "      height: 32px;\n",
              "      padding: 0 0 0 0;\n",
              "      width: 32px;\n",
              "    }\n",
              "\n",
              "    .colab-df-convert:hover {\n",
              "      background-color: #E2EBFA;\n",
              "      box-shadow: 0px 1px 2px rgba(60, 64, 67, 0.3), 0px 1px 3px 1px rgba(60, 64, 67, 0.15);\n",
              "      fill: #174EA6;\n",
              "    }\n",
              "\n",
              "    .colab-df-buttons div {\n",
              "      margin-bottom: 4px;\n",
              "    }\n",
              "\n",
              "    [theme=dark] .colab-df-convert {\n",
              "      background-color: #3B4455;\n",
              "      fill: #D2E3FC;\n",
              "    }\n",
              "\n",
              "    [theme=dark] .colab-df-convert:hover {\n",
              "      background-color: #434B5C;\n",
              "      box-shadow: 0px 1px 3px 1px rgba(0, 0, 0, 0.15);\n",
              "      filter: drop-shadow(0px 1px 2px rgba(0, 0, 0, 0.3));\n",
              "      fill: #FFFFFF;\n",
              "    }\n",
              "  </style>\n",
              "\n",
              "    <script>\n",
              "      const buttonEl =\n",
              "        document.querySelector('#df-ceafbbb3-bdcf-4cc7-8e2d-8fc99fabf1cc button.colab-df-convert');\n",
              "      buttonEl.style.display =\n",
              "        google.colab.kernel.accessAllowed ? 'block' : 'none';\n",
              "\n",
              "      async function convertToInteractive(key) {\n",
              "        const element = document.querySelector('#df-ceafbbb3-bdcf-4cc7-8e2d-8fc99fabf1cc');\n",
              "        const dataTable =\n",
              "          await google.colab.kernel.invokeFunction('convertToInteractive',\n",
              "                                                    [key], {});\n",
              "        if (!dataTable) return;\n",
              "\n",
              "        const docLinkHtml = 'Like what you see? Visit the ' +\n",
              "          '<a target=\"_blank\" href=https://colab.research.google.com/notebooks/data_table.ipynb>data table notebook</a>'\n",
              "          + ' to learn more about interactive tables.';\n",
              "        element.innerHTML = '';\n",
              "        dataTable['output_type'] = 'display_data';\n",
              "        await google.colab.output.renderOutput(dataTable, element);\n",
              "        const docLink = document.createElement('div');\n",
              "        docLink.innerHTML = docLinkHtml;\n",
              "        element.appendChild(docLink);\n",
              "      }\n",
              "    </script>\n",
              "  </div>\n",
              "\n",
              "\n",
              "<div id=\"df-3f2aa69d-7d0e-4b23-8adc-192d899287bb\">\n",
              "  <button class=\"colab-df-quickchart\" onclick=\"quickchart('df-3f2aa69d-7d0e-4b23-8adc-192d899287bb')\"\n",
              "            title=\"Suggest charts\"\n",
              "            style=\"display:none;\">\n",
              "\n",
              "<svg xmlns=\"http://www.w3.org/2000/svg\" height=\"24px\"viewBox=\"0 0 24 24\"\n",
              "     width=\"24px\">\n",
              "    <g>\n",
              "        <path d=\"M19 3H5c-1.1 0-2 .9-2 2v14c0 1.1.9 2 2 2h14c1.1 0 2-.9 2-2V5c0-1.1-.9-2-2-2zM9 17H7v-7h2v7zm4 0h-2V7h2v10zm4 0h-2v-4h2v4z\"/>\n",
              "    </g>\n",
              "</svg>\n",
              "  </button>\n",
              "\n",
              "<style>\n",
              "  .colab-df-quickchart {\n",
              "      --bg-color: #E8F0FE;\n",
              "      --fill-color: #1967D2;\n",
              "      --hover-bg-color: #E2EBFA;\n",
              "      --hover-fill-color: #174EA6;\n",
              "      --disabled-fill-color: #AAA;\n",
              "      --disabled-bg-color: #DDD;\n",
              "  }\n",
              "\n",
              "  [theme=dark] .colab-df-quickchart {\n",
              "      --bg-color: #3B4455;\n",
              "      --fill-color: #D2E3FC;\n",
              "      --hover-bg-color: #434B5C;\n",
              "      --hover-fill-color: #FFFFFF;\n",
              "      --disabled-bg-color: #3B4455;\n",
              "      --disabled-fill-color: #666;\n",
              "  }\n",
              "\n",
              "  .colab-df-quickchart {\n",
              "    background-color: var(--bg-color);\n",
              "    border: none;\n",
              "    border-radius: 50%;\n",
              "    cursor: pointer;\n",
              "    display: none;\n",
              "    fill: var(--fill-color);\n",
              "    height: 32px;\n",
              "    padding: 0;\n",
              "    width: 32px;\n",
              "  }\n",
              "\n",
              "  .colab-df-quickchart:hover {\n",
              "    background-color: var(--hover-bg-color);\n",
              "    box-shadow: 0 1px 2px rgba(60, 64, 67, 0.3), 0 1px 3px 1px rgba(60, 64, 67, 0.15);\n",
              "    fill: var(--button-hover-fill-color);\n",
              "  }\n",
              "\n",
              "  .colab-df-quickchart-complete:disabled,\n",
              "  .colab-df-quickchart-complete:disabled:hover {\n",
              "    background-color: var(--disabled-bg-color);\n",
              "    fill: var(--disabled-fill-color);\n",
              "    box-shadow: none;\n",
              "  }\n",
              "\n",
              "  .colab-df-spinner {\n",
              "    border: 2px solid var(--fill-color);\n",
              "    border-color: transparent;\n",
              "    border-bottom-color: var(--fill-color);\n",
              "    animation:\n",
              "      spin 1s steps(1) infinite;\n",
              "  }\n",
              "\n",
              "  @keyframes spin {\n",
              "    0% {\n",
              "      border-color: transparent;\n",
              "      border-bottom-color: var(--fill-color);\n",
              "      border-left-color: var(--fill-color);\n",
              "    }\n",
              "    20% {\n",
              "      border-color: transparent;\n",
              "      border-left-color: var(--fill-color);\n",
              "      border-top-color: var(--fill-color);\n",
              "    }\n",
              "    30% {\n",
              "      border-color: transparent;\n",
              "      border-left-color: var(--fill-color);\n",
              "      border-top-color: var(--fill-color);\n",
              "      border-right-color: var(--fill-color);\n",
              "    }\n",
              "    40% {\n",
              "      border-color: transparent;\n",
              "      border-right-color: var(--fill-color);\n",
              "      border-top-color: var(--fill-color);\n",
              "    }\n",
              "    60% {\n",
              "      border-color: transparent;\n",
              "      border-right-color: var(--fill-color);\n",
              "    }\n",
              "    80% {\n",
              "      border-color: transparent;\n",
              "      border-right-color: var(--fill-color);\n",
              "      border-bottom-color: var(--fill-color);\n",
              "    }\n",
              "    90% {\n",
              "      border-color: transparent;\n",
              "      border-bottom-color: var(--fill-color);\n",
              "    }\n",
              "  }\n",
              "</style>\n",
              "\n",
              "  <script>\n",
              "    async function quickchart(key) {\n",
              "      const quickchartButtonEl =\n",
              "        document.querySelector('#' + key + ' button');\n",
              "      quickchartButtonEl.disabled = true;  // To prevent multiple clicks.\n",
              "      quickchartButtonEl.classList.add('colab-df-spinner');\n",
              "      try {\n",
              "        const charts = await google.colab.kernel.invokeFunction(\n",
              "            'suggestCharts', [key], {});\n",
              "      } catch (error) {\n",
              "        console.error('Error during call to suggestCharts:', error);\n",
              "      }\n",
              "      quickchartButtonEl.classList.remove('colab-df-spinner');\n",
              "      quickchartButtonEl.classList.add('colab-df-quickchart-complete');\n",
              "    }\n",
              "    (() => {\n",
              "      let quickchartButtonEl =\n",
              "        document.querySelector('#df-3f2aa69d-7d0e-4b23-8adc-192d899287bb button');\n",
              "      quickchartButtonEl.style.display =\n",
              "        google.colab.kernel.accessAllowed ? 'block' : 'none';\n",
              "    })();\n",
              "  </script>\n",
              "</div>\n",
              "    </div>\n",
              "  </div>\n"
            ]
          },
          "metadata": {},
          "execution_count": 20
        }
      ],
      "source": [
        "new_df.head()"
      ]
    },
    {
      "cell_type": "code",
      "execution_count": 21,
      "metadata": {
        "id": "TaKdy7PHwUtP"
      },
      "outputs": [],
      "source": [
        "#removing punchuation\n",
        "\n",
        "\n",
        "import string\n",
        "string.punctuation\n",
        "exclude = string.punctuation\n",
        "def remove_punc(text):\n",
        "    if isinstance(text, str):\n",
        "        return ''.join(ch for ch in text if ch not in exclude)\n",
        "    else:\n",
        "        return str(text)  # Convert non-string data to string"
      ]
    },
    {
      "cell_type": "code",
      "execution_count": 22,
      "metadata": {
        "id": "s-EUZ33swfy1"
      },
      "outputs": [],
      "source": [
        "new_df['article'] = new_df['article'].apply(remove_punc)\n",
        "\n",
        "new_df['highlights'] = new_df['highlights'].apply(remove_punc)"
      ]
    },
    {
      "cell_type": "code",
      "execution_count": 23,
      "metadata": {
        "id": "N2jk9WjfwkZI",
        "colab": {
          "base_uri": "https://localhost:8080/"
        },
        "outputId": "5520dfaa-3bbd-48a3-b83d-446c9b991dd8"
      },
      "outputs": [
        {
          "output_type": "stream",
          "name": "stdout",
          "text": [
            "['i', 'me', 'my', 'myself', 'we', 'our', 'ours', 'ourselves', 'you', \"you're\", \"you've\", \"you'll\", \"you'd\", 'your', 'yours', 'yourself', 'yourselves', 'he', 'him', 'his', 'himself', 'she', \"she's\", 'her', 'hers', 'herself', 'it', \"it's\", 'its', 'itself', 'they', 'them', 'their', 'theirs', 'themselves', 'what', 'which', 'who', 'whom', 'this', 'that', \"that'll\", 'these', 'those', 'am', 'is', 'are', 'was', 'were', 'be', 'been', 'being', 'have', 'has', 'had', 'having', 'do', 'does', 'did', 'doing', 'a', 'an', 'the', 'and', 'but', 'if', 'or', 'because', 'as', 'until', 'while', 'of', 'at', 'by', 'for', 'with', 'about', 'against', 'between', 'into', 'through', 'during', 'before', 'after', 'above', 'below', 'to', 'from', 'up', 'down', 'in', 'out', 'on', 'off', 'over', 'under', 'again', 'further', 'then', 'once', 'here', 'there', 'when', 'where', 'why', 'how', 'all', 'any', 'both', 'each', 'few', 'more', 'most', 'other', 'some', 'such', 'no', 'nor', 'not', 'only', 'own', 'same', 'so', 'than', 'too', 'very', 's', 't', 'can', 'will', 'just', 'don', \"don't\", 'should', \"should've\", 'now', 'd', 'll', 'm', 'o', 're', 've', 'y', 'ain', 'aren', \"aren't\", 'couldn', \"couldn't\", 'didn', \"didn't\", 'doesn', \"doesn't\", 'hadn', \"hadn't\", 'hasn', \"hasn't\", 'haven', \"haven't\", 'isn', \"isn't\", 'ma', 'mightn', \"mightn't\", 'mustn', \"mustn't\", 'needn', \"needn't\", 'shan', \"shan't\", 'shouldn', \"shouldn't\", 'wasn', \"wasn't\", 'weren', \"weren't\", 'won', \"won't\", 'wouldn', \"wouldn't\"]\n"
          ]
        },
        {
          "output_type": "stream",
          "name": "stderr",
          "text": [
            "[nltk_data] Downloading package stopwords to /root/nltk_data...\n",
            "[nltk_data]   Package stopwords is already up-to-date!\n"
          ]
        }
      ],
      "source": [
        "from nltk.corpus import stopwords\n",
        "nltk.download('stopwords')\n",
        "stopwords = nltk.corpus.stopwords.words('english')\n",
        "\n",
        "print(stopwords)"
      ]
    },
    {
      "cell_type": "code",
      "execution_count": 24,
      "metadata": {
        "id": "JGR138QarO3c",
        "colab": {
          "base_uri": "https://localhost:8080/"
        },
        "outputId": "f2f6b1be-fcc3-4720-b4d9-b9e05cc6101b"
      },
      "outputs": [
        {
          "output_type": "stream",
          "name": "stderr",
          "text": [
            "[nltk_data] Downloading package stopwords to /root/nltk_data...\n",
            "[nltk_data]   Package stopwords is already up-to-date!\n"
          ]
        }
      ],
      "source": [
        "import nltk\n",
        "nltk.download('stopwords')\n",
        "from nltk.corpus import stopwords\n",
        "\n",
        "stop_words = stopwords.words('english')\n",
        "new_df['article'] = new_df['article'].apply(lambda x: ' '.join([word for word in x.split() if word not in (stop_words)]))\n",
        "new_df['highlights'] = new_df['highlights'].apply(lambda x: ' '.join([word for word in x.split() if word not in (stop_words)]))"
      ]
    },
    {
      "cell_type": "code",
      "execution_count": 25,
      "metadata": {
        "id": "ZFWR4dg1sQlH",
        "colab": {
          "base_uri": "https://localhost:8080/",
          "height": 133
        },
        "outputId": "77db94c0-2658-4f8d-f46b-c4b22dbc5549"
      },
      "outputs": [
        {
          "output_type": "execute_result",
          "data": {
            "text/plain": [
              "                                         id  \\\n",
              "0  0001d1afc246a7964130f43ae940af6bc6c57f01   \n",
              "\n",
              "                                                                                                                                                                                                   article  \\\n",
              "0  By . Associated Press . PUBLISHED: . 14:11 EST, 25 October 2013 . | . UPDATED: . 15:36 EST, 25 October 2013 . The bishop of the Fargo Catholic Diocese in North Dakota has exposed potentially hundr...   \n",
              "\n",
              "                                                                                                                                                                                                highlights  \n",
              "0  Bishop John Folda, of North Dakota, is taking time off after being diagnosed .\\nHe contracted the infection through contaminated food in Italy .\\nChurch members in Fargo, Grand Forks and Jamestown...  "
            ],
            "text/html": [
              "\n",
              "  <div id=\"df-a81276b3-6b91-422f-aad0-8f1c0c88c6f3\" class=\"colab-df-container\">\n",
              "    <div>\n",
              "<style scoped>\n",
              "    .dataframe tbody tr th:only-of-type {\n",
              "        vertical-align: middle;\n",
              "    }\n",
              "\n",
              "    .dataframe tbody tr th {\n",
              "        vertical-align: top;\n",
              "    }\n",
              "\n",
              "    .dataframe thead th {\n",
              "        text-align: right;\n",
              "    }\n",
              "</style>\n",
              "<table border=\"1\" class=\"dataframe\">\n",
              "  <thead>\n",
              "    <tr style=\"text-align: right;\">\n",
              "      <th></th>\n",
              "      <th>id</th>\n",
              "      <th>article</th>\n",
              "      <th>highlights</th>\n",
              "    </tr>\n",
              "  </thead>\n",
              "  <tbody>\n",
              "    <tr>\n",
              "      <th>0</th>\n",
              "      <td>0001d1afc246a7964130f43ae940af6bc6c57f01</td>\n",
              "      <td>By . Associated Press . PUBLISHED: . 14:11 EST, 25 October 2013 . | . UPDATED: . 15:36 EST, 25 October 2013 . The bishop of the Fargo Catholic Diocese in North Dakota has exposed potentially hundr...</td>\n",
              "      <td>Bishop John Folda, of North Dakota, is taking time off after being diagnosed .\\nHe contracted the infection through contaminated food in Italy .\\nChurch members in Fargo, Grand Forks and Jamestown...</td>\n",
              "    </tr>\n",
              "  </tbody>\n",
              "</table>\n",
              "</div>\n",
              "    <div class=\"colab-df-buttons\">\n",
              "\n",
              "  <div class=\"colab-df-container\">\n",
              "    <button class=\"colab-df-convert\" onclick=\"convertToInteractive('df-a81276b3-6b91-422f-aad0-8f1c0c88c6f3')\"\n",
              "            title=\"Convert this dataframe to an interactive table.\"\n",
              "            style=\"display:none;\">\n",
              "\n",
              "  <svg xmlns=\"http://www.w3.org/2000/svg\" height=\"24px\" viewBox=\"0 -960 960 960\">\n",
              "    <path d=\"M120-120v-720h720v720H120Zm60-500h600v-160H180v160Zm220 220h160v-160H400v160Zm0 220h160v-160H400v160ZM180-400h160v-160H180v160Zm440 0h160v-160H620v160ZM180-180h160v-160H180v160Zm440 0h160v-160H620v160Z\"/>\n",
              "  </svg>\n",
              "    </button>\n",
              "\n",
              "  <style>\n",
              "    .colab-df-container {\n",
              "      display:flex;\n",
              "      gap: 12px;\n",
              "    }\n",
              "\n",
              "    .colab-df-convert {\n",
              "      background-color: #E8F0FE;\n",
              "      border: none;\n",
              "      border-radius: 50%;\n",
              "      cursor: pointer;\n",
              "      display: none;\n",
              "      fill: #1967D2;\n",
              "      height: 32px;\n",
              "      padding: 0 0 0 0;\n",
              "      width: 32px;\n",
              "    }\n",
              "\n",
              "    .colab-df-convert:hover {\n",
              "      background-color: #E2EBFA;\n",
              "      box-shadow: 0px 1px 2px rgba(60, 64, 67, 0.3), 0px 1px 3px 1px rgba(60, 64, 67, 0.15);\n",
              "      fill: #174EA6;\n",
              "    }\n",
              "\n",
              "    .colab-df-buttons div {\n",
              "      margin-bottom: 4px;\n",
              "    }\n",
              "\n",
              "    [theme=dark] .colab-df-convert {\n",
              "      background-color: #3B4455;\n",
              "      fill: #D2E3FC;\n",
              "    }\n",
              "\n",
              "    [theme=dark] .colab-df-convert:hover {\n",
              "      background-color: #434B5C;\n",
              "      box-shadow: 0px 1px 3px 1px rgba(0, 0, 0, 0.15);\n",
              "      filter: drop-shadow(0px 1px 2px rgba(0, 0, 0, 0.3));\n",
              "      fill: #FFFFFF;\n",
              "    }\n",
              "  </style>\n",
              "\n",
              "    <script>\n",
              "      const buttonEl =\n",
              "        document.querySelector('#df-a81276b3-6b91-422f-aad0-8f1c0c88c6f3 button.colab-df-convert');\n",
              "      buttonEl.style.display =\n",
              "        google.colab.kernel.accessAllowed ? 'block' : 'none';\n",
              "\n",
              "      async function convertToInteractive(key) {\n",
              "        const element = document.querySelector('#df-a81276b3-6b91-422f-aad0-8f1c0c88c6f3');\n",
              "        const dataTable =\n",
              "          await google.colab.kernel.invokeFunction('convertToInteractive',\n",
              "                                                    [key], {});\n",
              "        if (!dataTable) return;\n",
              "\n",
              "        const docLinkHtml = 'Like what you see? Visit the ' +\n",
              "          '<a target=\"_blank\" href=https://colab.research.google.com/notebooks/data_table.ipynb>data table notebook</a>'\n",
              "          + ' to learn more about interactive tables.';\n",
              "        element.innerHTML = '';\n",
              "        dataTable['output_type'] = 'display_data';\n",
              "        await google.colab.output.renderOutput(dataTable, element);\n",
              "        const docLink = document.createElement('div');\n",
              "        docLink.innerHTML = docLinkHtml;\n",
              "        element.appendChild(docLink);\n",
              "      }\n",
              "    </script>\n",
              "  </div>\n",
              "\n",
              "    </div>\n",
              "  </div>\n"
            ]
          },
          "metadata": {},
          "execution_count": 25
        }
      ],
      "source": [
        "data_train.head(1)"
      ]
    },
    {
      "cell_type": "code",
      "execution_count": 26,
      "metadata": {
        "id": "53UvDl_TxJUo",
        "colab": {
          "base_uri": "https://localhost:8080/",
          "height": 133
        },
        "outputId": "89ef3d94-bc56-4f73-a9b3-c702928077af"
      },
      "outputs": [
        {
          "output_type": "execute_result",
          "data": {
            "text/plain": [
              "                                            id  \\\n",
              "3964  610347c5750650839564adf3408f8bdb40862ec6   \n",
              "\n",
              "                                                                                                                                                                                                      article  \\\n",
              "3964  comedian john oliver couldn’t resist ridiculing starbucks ceo howard schultz introduction last week controversial ‘race together’ initiative schultz coffee chain faced avalanche bad publicity publ...   \n",
              "\n",
              "                                                                                                                                                                                                   highlights  \n",
              "3964  comedian john oliver couldnt resist ridiculing starbucks ceo howard schultz sunday race together initiative british comedian said conversation race clearly important time place length time takes w...  "
            ],
            "text/html": [
              "\n",
              "  <div id=\"df-7257e53f-e80a-4ea8-a186-72996bdd4530\" class=\"colab-df-container\">\n",
              "    <div>\n",
              "<style scoped>\n",
              "    .dataframe tbody tr th:only-of-type {\n",
              "        vertical-align: middle;\n",
              "    }\n",
              "\n",
              "    .dataframe tbody tr th {\n",
              "        vertical-align: top;\n",
              "    }\n",
              "\n",
              "    .dataframe thead th {\n",
              "        text-align: right;\n",
              "    }\n",
              "</style>\n",
              "<table border=\"1\" class=\"dataframe\">\n",
              "  <thead>\n",
              "    <tr style=\"text-align: right;\">\n",
              "      <th></th>\n",
              "      <th>id</th>\n",
              "      <th>article</th>\n",
              "      <th>highlights</th>\n",
              "    </tr>\n",
              "  </thead>\n",
              "  <tbody>\n",
              "    <tr>\n",
              "      <th>3964</th>\n",
              "      <td>610347c5750650839564adf3408f8bdb40862ec6</td>\n",
              "      <td>comedian john oliver couldn’t resist ridiculing starbucks ceo howard schultz introduction last week controversial ‘race together’ initiative schultz coffee chain faced avalanche bad publicity publ...</td>\n",
              "      <td>comedian john oliver couldnt resist ridiculing starbucks ceo howard schultz sunday race together initiative british comedian said conversation race clearly important time place length time takes w...</td>\n",
              "    </tr>\n",
              "  </tbody>\n",
              "</table>\n",
              "</div>\n",
              "    <div class=\"colab-df-buttons\">\n",
              "\n",
              "  <div class=\"colab-df-container\">\n",
              "    <button class=\"colab-df-convert\" onclick=\"convertToInteractive('df-7257e53f-e80a-4ea8-a186-72996bdd4530')\"\n",
              "            title=\"Convert this dataframe to an interactive table.\"\n",
              "            style=\"display:none;\">\n",
              "\n",
              "  <svg xmlns=\"http://www.w3.org/2000/svg\" height=\"24px\" viewBox=\"0 -960 960 960\">\n",
              "    <path d=\"M120-120v-720h720v720H120Zm60-500h600v-160H180v160Zm220 220h160v-160H400v160Zm0 220h160v-160H400v160ZM180-400h160v-160H180v160Zm440 0h160v-160H620v160ZM180-180h160v-160H180v160Zm440 0h160v-160H620v160Z\"/>\n",
              "  </svg>\n",
              "    </button>\n",
              "\n",
              "  <style>\n",
              "    .colab-df-container {\n",
              "      display:flex;\n",
              "      gap: 12px;\n",
              "    }\n",
              "\n",
              "    .colab-df-convert {\n",
              "      background-color: #E8F0FE;\n",
              "      border: none;\n",
              "      border-radius: 50%;\n",
              "      cursor: pointer;\n",
              "      display: none;\n",
              "      fill: #1967D2;\n",
              "      height: 32px;\n",
              "      padding: 0 0 0 0;\n",
              "      width: 32px;\n",
              "    }\n",
              "\n",
              "    .colab-df-convert:hover {\n",
              "      background-color: #E2EBFA;\n",
              "      box-shadow: 0px 1px 2px rgba(60, 64, 67, 0.3), 0px 1px 3px 1px rgba(60, 64, 67, 0.15);\n",
              "      fill: #174EA6;\n",
              "    }\n",
              "\n",
              "    .colab-df-buttons div {\n",
              "      margin-bottom: 4px;\n",
              "    }\n",
              "\n",
              "    [theme=dark] .colab-df-convert {\n",
              "      background-color: #3B4455;\n",
              "      fill: #D2E3FC;\n",
              "    }\n",
              "\n",
              "    [theme=dark] .colab-df-convert:hover {\n",
              "      background-color: #434B5C;\n",
              "      box-shadow: 0px 1px 3px 1px rgba(0, 0, 0, 0.15);\n",
              "      filter: drop-shadow(0px 1px 2px rgba(0, 0, 0, 0.3));\n",
              "      fill: #FFFFFF;\n",
              "    }\n",
              "  </style>\n",
              "\n",
              "    <script>\n",
              "      const buttonEl =\n",
              "        document.querySelector('#df-7257e53f-e80a-4ea8-a186-72996bdd4530 button.colab-df-convert');\n",
              "      buttonEl.style.display =\n",
              "        google.colab.kernel.accessAllowed ? 'block' : 'none';\n",
              "\n",
              "      async function convertToInteractive(key) {\n",
              "        const element = document.querySelector('#df-7257e53f-e80a-4ea8-a186-72996bdd4530');\n",
              "        const dataTable =\n",
              "          await google.colab.kernel.invokeFunction('convertToInteractive',\n",
              "                                                    [key], {});\n",
              "        if (!dataTable) return;\n",
              "\n",
              "        const docLinkHtml = 'Like what you see? Visit the ' +\n",
              "          '<a target=\"_blank\" href=https://colab.research.google.com/notebooks/data_table.ipynb>data table notebook</a>'\n",
              "          + ' to learn more about interactive tables.';\n",
              "        element.innerHTML = '';\n",
              "        dataTable['output_type'] = 'display_data';\n",
              "        await google.colab.output.renderOutput(dataTable, element);\n",
              "        const docLink = document.createElement('div');\n",
              "        docLink.innerHTML = docLinkHtml;\n",
              "        element.appendChild(docLink);\n",
              "      }\n",
              "    </script>\n",
              "  </div>\n",
              "\n",
              "    </div>\n",
              "  </div>\n"
            ]
          },
          "metadata": {},
          "execution_count": 26
        }
      ],
      "source": [
        "new_df.head(1)"
      ]
    },
    {
      "cell_type": "code",
      "execution_count": 27,
      "metadata": {
        "id": "wjYAbVnK3wiN"
      },
      "outputs": [],
      "source": [
        "#!pip install contractions\n"
      ]
    },
    {
      "cell_type": "code",
      "execution_count": null,
      "metadata": {
        "id": "tsPHdtpm_iIT"
      },
      "outputs": [],
      "source": [
        "max_len_text=30\n",
        "max_len_summary=10"
      ]
    },
    {
      "cell_type": "code",
      "execution_count": 29,
      "metadata": {
        "id": "ALhIQrqvDVpg"
      },
      "outputs": [],
      "source": [
        "from sklearn.model_selection import train_test_split\n",
        "x_tr,x_val,y_tr,y_val=train_test_split(df['article'],df['highlights'],test_size=0.1,random_state=0,shuffle=True)"
      ]
    },
    {
      "cell_type": "code",
      "execution_count": 30,
      "metadata": {
        "id": "7zBMGNiOplHZ"
      },
      "outputs": [],
      "source": [
        "#prepare a tokenizer for reviews on training data\n",
        "x_tokenizer = Tokenizer()\n",
        "x_tokenizer.fit_on_texts(list(x_tr))\n",
        "\n",
        "#convert text sequences into integer sequences\n",
        "x_tr    =   x_tokenizer.texts_to_sequences(x_tr)\n",
        "x_val   =   x_tokenizer.texts_to_sequences(x_val)\n",
        "\n",
        "#padding zero upto maximum length\n",
        "x_tr    =   pad_sequences(x_tr,  maxlen=max_len_text, padding='post')\n",
        "x_val   =   pad_sequences(x_val, maxlen=max_len_text, padding='post')\n",
        "\n",
        "x_voc_size   =  len(x_tokenizer.word_index) +1"
      ]
    },
    {
      "cell_type": "code",
      "execution_count": 31,
      "metadata": {
        "id": "UkQr1e0A_3Gx"
      },
      "outputs": [],
      "source": [
        "#preparing a tokenizer for summary on training data\n",
        "y_tokenizer = Tokenizer()\n",
        "y_tokenizer.fit_on_texts(list(y_tr))\n",
        "\n",
        "#convert summary sequences into integer sequences\n",
        "y_tr    =   y_tokenizer.texts_to_sequences(y_tr)\n",
        "y_val   =   y_tokenizer.texts_to_sequences(y_val)\n",
        "\n",
        "#padding zero upto maximum length\n",
        "y_tr    =   pad_sequences(y_tr, maxlen=max_len_summary, padding='post')\n",
        "y_val   =   pad_sequences(y_val, maxlen=max_len_summary, padding='post')\n",
        "\n",
        "y_voc_size  =   len(y_tokenizer.word_index) +1"
      ]
    },
    {
      "cell_type": "markdown",
      "metadata": {
        "id": "NWxcEWsNARSW"
      },
      "source": [
        "LSTM model building"
      ]
    },
    {
      "cell_type": "code",
      "execution_count": 32,
      "metadata": {
        "id": "0dxdnQjhAWku"
      },
      "outputs": [],
      "source": [
        "from keras import backend as K\n",
        "K.clear_session()\n",
        "latent_dim = 100\n",
        "#condider chaging the latent_dim to smaller value such as 100 or 300\n",
        "#also adding a seperate embedding_dim can help to reduce the compleixity of the model"
      ]
    },
    {
      "cell_type": "code",
      "source": [
        "#encoder\n",
        "encoder_inputs = Input(shape=(max_len_text,))\n",
        "enc_emb = Embedding(x_voc_size, latent_dim,trainable=True)(encoder_inputs)"
      ],
      "metadata": {
        "id": "xcfx-7dbyKKL"
      },
      "execution_count": 33,
      "outputs": []
    },
    {
      "cell_type": "code",
      "source": [
        "#LSTM 1\n",
        "encoder_lstm1 = LSTM(latent_dim,return_sequences=True,return_state=True)\n",
        "encoder_output1, state_h1, state_c1 = encoder_lstm1(enc_emb)\n",
        "\n",
        "#LSTM2\n",
        "encoder_lstm2 = LSTM(latent_dim,return_sequences=True,return_state=True)\n",
        "encoder_output2, state_h2, state_c2 = encoder_lstm2(encoder_output1)\n",
        "\n",
        "encoder_lstm3=LSTM(latent_dim, return_state=True, return_sequences=True)\n",
        "encoder_outputs, state_h, state_c= encoder_lstm3(encoder_output2)"
      ],
      "metadata": {
        "id": "Tr9oPMfPylXU"
      },
      "execution_count": 34,
      "outputs": []
    },
    {
      "cell_type": "code",
      "source": [
        "#decoder\n",
        "decoder_inputs = Input(shape=(None,))\n",
        "dec_emb_layer = Embedding(y_voc_size, latent_dim,trainable=True)\n",
        "dec_emb = dec_emb_layer(decoder_inputs)"
      ],
      "metadata": {
        "id": "bd1syzsnytTN"
      },
      "execution_count": 35,
      "outputs": []
    },
    {
      "cell_type": "code",
      "source": [
        "#LSTM using encoder_states as initial state\n",
        "decoder_lstm = LSTM(latent_dim, return_sequences=True, return_state=True)\n",
        "decoder_outputs,decoder_fwd_state, decoder_back_state = decoder_lstm(dec_emb,initial_state=[state_h, state_c])\n"
      ],
      "metadata": {
        "id": "O8B51Oi9y8ij"
      },
      "execution_count": 36,
      "outputs": []
    },
    {
      "cell_type": "code",
      "source": [
        "#pip install attention_keras\n",
        "import tensorflow as tf\n",
        "from tensorflow.python.keras import backend as K\n",
        "\n",
        "logger = tf.get_logger()\n",
        "\n",
        "class AttentionLayer(tf.keras.layers.Layer):\n",
        "    \"\"\"\n",
        "    This class implements Bahdanau attention (https://arxiv.org/pdf/1409.0473.pdf).\n",
        "    There are three sets of weights introduced W_a, U_a, and V_a\n",
        "     \"\"\"\n",
        "\n",
        "    def __init__(self, **kwargs):\n",
        "        super(AttentionLayer, self).__init__(**kwargs)\n",
        "\n",
        "    def build(self, input_shape):\n",
        "        assert isinstance(input_shape, list)\n",
        "        # Create a trainable weight variable for this layer.\n",
        "\n",
        "        self.W_a = self.add_weight(name='W_a',\n",
        "                                   shape=tf.TensorShape((input_shape[0][2], input_shape[0][2])),\n",
        "                                   initializer='uniform',\n",
        "                                   trainable=True)\n",
        "        self.U_a = self.add_weight(name='U_a',\n",
        "                                   shape=tf.TensorShape((input_shape[1][2], input_shape[0][2])),\n",
        "                                   initializer='uniform',\n",
        "                                   trainable=True)\n",
        "        self.V_a = self.add_weight(name='V_a',\n",
        "                                   shape=tf.TensorShape((input_shape[0][2], 1)),\n",
        "                                   initializer='uniform',\n",
        "                                   trainable=True)\n",
        "\n",
        "        super(AttentionLayer, self).build(input_shape)  # Be sure to call this at the end\n",
        "\n",
        "    def call(self, inputs):\n",
        "        \"\"\"\n",
        "        inputs: [encoder_output_sequence, decoder_output_sequence]\n",
        "        \"\"\"\n",
        "        assert type(inputs) == list\n",
        "        encoder_out_seq, decoder_out_seq = inputs\n",
        "\n",
        "        logger.debug(f\"encoder_out_seq.shape = {encoder_out_seq.shape}\")\n",
        "        logger.debug(f\"decoder_out_seq.shape = {decoder_out_seq.shape}\")\n",
        "\n",
        "        def energy_step(inputs, states):\n",
        "            \"\"\" Step function for computing energy for a single decoder state\n",
        "            inputs: (batchsize * 1 * de_in_dim)\n",
        "            states: (batchsize * 1 * de_latent_dim)\n",
        "            \"\"\"\n",
        "\n",
        "            logger.debug(\"Running energy computation step\")\n",
        "\n",
        "            if not isinstance(states, (list, tuple)):\n",
        "                raise TypeError(f\"States must be an iterable. Got {states} of type {type(states)}\")\n",
        "\n",
        "            encoder_full_seq = states[-1]\n",
        "\n",
        "            \"\"\" Computing S.Wa where S=[s0, s1, ..., si]\"\"\"\n",
        "            # <= batch size * en_seq_len * latent_dim\n",
        "            W_a_dot_s = K.dot(encoder_full_seq, self.W_a)\n",
        "\n",
        "            \"\"\" Computing hj.Ua \"\"\"\n",
        "            U_a_dot_h = K.expand_dims(K.dot(inputs, self.U_a), 1)  # <= batch_size, 1, latent_dim\n",
        "\n",
        "            logger.debug(f\"U_a_dot_h.shape = {U_a_dot_h.shape}\")\n",
        "\n",
        "            \"\"\" tanh(S.Wa + hj.Ua) \"\"\"\n",
        "            # <= batch_size*en_seq_len, latent_dim\n",
        "            Ws_plus_Uh = K.tanh(W_a_dot_s + U_a_dot_h)\n",
        "\n",
        "            logger.debug(f\"Ws_plus_Uh.shape = {Ws_plus_Uh.shape}\")\n",
        "\n",
        "            \"\"\" softmax(va.tanh(S.Wa + hj.Ua)) \"\"\"\n",
        "            # <= batch_size, en_seq_len\n",
        "            e_i = K.squeeze(K.dot(Ws_plus_Uh, self.V_a), axis=-1)\n",
        "            # <= batch_size, en_seq_len\n",
        "            e_i = K.softmax(e_i)\n",
        "\n",
        "            logger.debug(f\"ei.shape = {e_i.shape}\")\n",
        "\n",
        "            return e_i, [e_i]\n",
        "\n",
        "        def context_step(inputs, states):\n",
        "            \"\"\" Step function for computing ci using ei \"\"\"\n",
        "\n",
        "            logger.debug(\"Running attention vector computation step\")\n",
        "\n",
        "            if not isinstance(states, (list, tuple)):\n",
        "                raise TypeError(f\"States must be an iterable. Got {states} of type {type(states)}\")\n",
        "\n",
        "            encoder_full_seq = states[-1]\n",
        "\n",
        "            # <= batch_size, hidden_size\n",
        "            c_i = K.sum(encoder_full_seq * K.expand_dims(inputs, -1), axis=1)\n",
        "\n",
        "            logger.debug(f\"ci.shape = {c_i.shape}\")\n",
        "\n",
        "            return c_i, [c_i]\n",
        "\n",
        "        # we don't maintain states between steps when computing attention\n",
        "        # attention is stateless, so we're passing a fake state for RNN step function\n",
        "        fake_state_c = K.sum(encoder_out_seq, axis=1)\n",
        "        fake_state_e = K.sum(encoder_out_seq, axis=2)  # <= (batch_size, enc_seq_len, latent_dim\n",
        "\n",
        "        \"\"\" Computing energy outputs \"\"\"\n",
        "        # e_outputs => (batch_size, de_seq_len, en_seq_len)\n",
        "        last_out, e_outputs, _ = K.rnn(\n",
        "            energy_step, decoder_out_seq, [fake_state_e], constants=[encoder_out_seq]\n",
        "        )\n",
        "\n",
        "        \"\"\" Computing context vectors \"\"\"\n",
        "        last_out, c_outputs, _ = K.rnn(\n",
        "            context_step, e_outputs, [fake_state_c], constants=[encoder_out_seq]\n",
        "        )\n",
        "\n",
        "        return c_outputs, e_outputs\n",
        "\n",
        "    def compute_output_shape(self, input_shape):\n",
        "        \"\"\" Outputs produced by the layer \"\"\"\n",
        "        return [\n",
        "            tf.TensorShape((input_shape[1][0], input_shape[1][1], input_shape[1][2])),\n",
        "            tf.TensorShape((input_shape[1][0], input_shape[1][1], input_shape[0][1]))\n",
        "        ]"
      ],
      "metadata": {
        "id": "8TnPLg3j09GZ"
      },
      "execution_count": 37,
      "outputs": []
    },
    {
      "cell_type": "code",
      "source": [
        "attn_layer = AttentionLayer(name='attention_layer')\n",
        "attn_out, attn_states = attn_layer([encoder_outputs, decoder_outputs])"
      ],
      "metadata": {
        "id": "yeuUPKUdy-oP"
      },
      "execution_count": 38,
      "outputs": []
    },
    {
      "cell_type": "code",
      "source": [
        "# Concat attention output and decoder LSTM output\n",
        "decoder_concat_input = Concatenate(axis=-1, name='concat_layer')([decoder_outputs, attn_out])"
      ],
      "metadata": {
        "id": "ynWTOFS8zBRS"
      },
      "execution_count": 39,
      "outputs": []
    },
    {
      "cell_type": "code",
      "source": [
        "#Dense layer\n",
        "decoder_dense = TimeDistributed(Dense(y_voc_size, activation='softmax'))\n",
        "decoder_outputs = decoder_dense(decoder_concat_input)"
      ],
      "metadata": {
        "id": "Eq8bkpu8L02C"
      },
      "execution_count": 40,
      "outputs": []
    },
    {
      "cell_type": "code",
      "source": [
        "# Define the model\n",
        "model = Model([encoder_inputs, decoder_inputs], decoder_outputs)\n",
        "model.summary()"
      ],
      "metadata": {
        "id": "a6MACDv9L289",
        "colab": {
          "base_uri": "https://localhost:8080/"
        },
        "outputId": "d98ea8ba-92a2-4485-a472-9cd970a90efb"
      },
      "execution_count": 41,
      "outputs": [
        {
          "output_type": "stream",
          "name": "stdout",
          "text": [
            "Model: \"model\"\n",
            "__________________________________________________________________________________________________\n",
            " Layer (type)                   Output Shape         Param #     Connected to                     \n",
            "==================================================================================================\n",
            " input_1 (InputLayer)           [(None, 80)]         0           []                               \n",
            "                                                                                                  \n",
            " embedding (Embedding)          (None, 80, 100)      79060900    ['input_1[0][0]']                \n",
            "                                                                                                  \n",
            " lstm (LSTM)                    [(None, 80, 100),    80400       ['embedding[0][0]']              \n",
            "                                 (None, 100),                                                     \n",
            "                                 (None, 100)]                                                     \n",
            "                                                                                                  \n",
            " input_2 (InputLayer)           [(None, None)]       0           []                               \n",
            "                                                                                                  \n",
            " lstm_1 (LSTM)                  [(None, 80, 100),    80400       ['lstm[0][0]']                   \n",
            "                                 (None, 100),                                                     \n",
            "                                 (None, 100)]                                                     \n",
            "                                                                                                  \n",
            " embedding_1 (Embedding)        (None, None, 100)    23337400    ['input_2[0][0]']                \n",
            "                                                                                                  \n",
            " lstm_2 (LSTM)                  [(None, 80, 100),    80400       ['lstm_1[0][0]']                 \n",
            "                                 (None, 100),                                                     \n",
            "                                 (None, 100)]                                                     \n",
            "                                                                                                  \n",
            " lstm_3 (LSTM)                  [(None, None, 100),  80400       ['embedding_1[0][0]',            \n",
            "                                 (None, 100),                     'lstm_2[0][1]',                 \n",
            "                                 (None, 100)]                     'lstm_2[0][2]']                 \n",
            "                                                                                                  \n",
            " attention_layer (AttentionLaye  ((None, None, 100),  20100      ['lstm_2[0][0]',                 \n",
            " r)                              (None, None, 80))                'lstm_3[0][0]']                 \n",
            "                                                                                                  \n",
            " concat_layer (Concatenate)     (None, None, 200)    0           ['lstm_3[0][0]',                 \n",
            "                                                                  'attention_layer[0][0]']        \n",
            "                                                                                                  \n",
            " time_distributed (TimeDistribu  (None, None, 233374  46908174   ['concat_layer[0][0]']           \n",
            " ted)                           )                                                                 \n",
            "                                                                                                  \n",
            "==================================================================================================\n",
            "Total params: 149,648,174\n",
            "Trainable params: 149,648,174\n",
            "Non-trainable params: 0\n",
            "__________________________________________________________________________________________________\n"
          ]
        }
      ]
    },
    {
      "cell_type": "code",
      "source": [
        "model.compile(optimizer='rmsprop', loss='sparse_categorical_crossentropy')"
      ],
      "metadata": {
        "id": "rl5mDPbPL5TJ"
      },
      "execution_count": 42,
      "outputs": []
    },
    {
      "cell_type": "code",
      "source": [
        "#using Early stoppage to stop the training of the model once the validation increasers\n",
        "\n",
        "es = EarlyStopping(monitor='val_loss', mode='min', verbose=1)"
      ],
      "metadata": {
        "id": "G-bze79GL9dD"
      },
      "execution_count": 43,
      "outputs": []
    },
    {
      "cell_type": "code",
      "source": [
        "history=model.fit([x_tr,y_tr[:,:-1]], y_tr.reshape(y_tr.shape[0],y_tr.shape[1], 1)[:,1:] ,epochs=20,callbacks=[es],batch_size=128, validation_data=([x_val,y_val[:,:-1]], y_val.reshape(y_val.shape[0],y_val.shape[1], 1)[:,1:]))"
      ],
      "metadata": {
        "id": "4u1XQ-RMME44",
        "colab": {
          "base_uri": "https://localhost:8080/"
        },
        "outputId": "fd66c7ee-bcc2-4fc8-adab-8b3c90122be8"
      },
      "execution_count": null,
      "outputs": [
        {
          "output_type": "stream",
          "name": "stdout",
          "text": [
            "Epoch 1/20\n",
            "  51/2194 [..............................] - ETA: 15:10:31 - loss: 10.8025"
          ]
        }
      ]
    },
    {
      "cell_type": "code",
      "source": [
        "from matplotlib import pyplot\n",
        "pyplot.plot(history.history['loss'], label='train')\n",
        "pyplot.plot(history.history['val_loss'], label='test')\n",
        "pyplot.legend()\n",
        "pyplot.show()"
      ],
      "metadata": {
        "id": "AB7mMFImP_Rp"
      },
      "execution_count": null,
      "outputs": []
    },
    {
      "cell_type": "code",
      "source": [
        "# encoder inference\n",
        "encoder_model = Model(inputs=encoder_inputs,outputs=[encoder_outputs, state_h, state_c])"
      ],
      "metadata": {
        "id": "spB5_p9TQHBR"
      },
      "execution_count": null,
      "outputs": []
    },
    {
      "cell_type": "markdown",
      "source": [],
      "metadata": {
        "id": "KwN2D4WHOmiI"
      }
    },
    {
      "cell_type": "code",
      "source": [
        "# decoder inference\n",
        "# Below tensors will hold the states of the previous time step\n",
        "decoder_state_input_h = Input(shape=(latent_dim,))\n",
        "decoder_state_input_c = Input(shape=(latent_dim,))\n",
        "decoder_hidden_state_input = Input(shape=(max_len_text,latent_dim))"
      ],
      "metadata": {
        "id": "PXnUx3rMMHWO"
      },
      "execution_count": null,
      "outputs": []
    },
    {
      "cell_type": "code",
      "source": [
        "# Get the embeddings of the decoder sequence\n",
        "dec_emb2= dec_emb_layer(decoder_inputs)"
      ],
      "metadata": {
        "id": "-_ycxlwCQN4l"
      },
      "execution_count": null,
      "outputs": []
    },
    {
      "cell_type": "code",
      "source": [
        "# To predict the next word in the sequence, set the initial states to the states from the previous time step\n",
        "decoder_outputs2, state_h2, state_c2 = decoder_lstm(dec_emb2, initial_state=[decoder_state_input_h, decoder_state_input_c])\n",
        "\n"
      ],
      "metadata": {
        "id": "12eIKgifQPs6"
      },
      "execution_count": null,
      "outputs": []
    },
    {
      "cell_type": "code",
      "source": [
        "#attention inference\n",
        "attn_out_inf, attn_states_inf = attn_layer([decoder_hidden_state_input, decoder_outputs2])\n",
        "decoder_inf_concat = Concatenate(axis=-1, name='concat')([decoder_outputs2, attn_out_inf])"
      ],
      "metadata": {
        "id": "OaPFhd5GQSA3"
      },
      "execution_count": null,
      "outputs": []
    },
    {
      "cell_type": "code",
      "source": [
        "# A dense softmax layer to generate prob dist. over the target vocabulary\n",
        "decoder_outputs2 = decoder_dense(decoder_inf_concat)"
      ],
      "metadata": {
        "id": "xL7OPbJTQToK"
      },
      "execution_count": null,
      "outputs": []
    },
    {
      "cell_type": "code",
      "source": [
        "# Final decoder model\n",
        "decoder_model = Model(\n",
        "[decoder_inputs] + [decoder_hidden_state_input,decoder_state_input_h, decoder_state_input_c],\n",
        "[decoder_outputs2] + [state_h2, state_c2])"
      ],
      "metadata": {
        "id": "E7oNks7hQVhn"
      },
      "execution_count": null,
      "outputs": []
    },
    {
      "cell_type": "code",
      "source": [
        "def decode_sequence(input_seq):\n",
        "    # Encode the input as state vectors.\n",
        "    e_out, e_h, e_c = encoder_model.predict(input_seq)\n",
        "\n",
        "    # Generate empty target sequence of length 1.\n",
        "    target_seq = np.zeros((1,1))\n",
        "\n",
        "    # Chose the 'start' word as the first word of the target sequence\n",
        "    target_seq[0, 0] = target_word_index['start']\n",
        "\n",
        "    stop_condition = False\n",
        "    decoded_sentence = ''\n",
        "    while not stop_condition:\n",
        "        output_tokens, h, c = decoder_model.predict([target_seq] + [e_out, e_h, e_c])\n",
        "\n",
        "        # Sample a token\n",
        "        sampled_token_index = np.argmax(output_tokens[0, -1, :])\n",
        "        sampled_token = reverse_target_word_index[sampled_token_index]\n",
        "\n",
        "        if(sampled_token!='end'):\n",
        "            decoded_sentence += ' '+sampled_token\n",
        "\n",
        "            # Exit condition: either hit max length or find stop word.\n",
        "            if (sampled_token == 'end' or len(decoded_sentence.split()) >= (max_len_summary-1)):\n",
        "                stop_condition = True\n",
        "\n",
        "        # Update the target sequence (of length 1).\n",
        "        target_seq = np.zeros((1,1))\n",
        "        target_seq[0, 0] = sampled_token_index\n",
        "\n",
        "        # Update internal states\n",
        "        e_h, e_c = h, c\n",
        "\n",
        "    return decoded_sentence"
      ],
      "metadata": {
        "id": "VEIowtHKQYYB"
      },
      "execution_count": null,
      "outputs": []
    },
    {
      "cell_type": "code",
      "source": [
        "def seq2summary(input_seq):\n",
        "    newString=''\n",
        "    for i in input_seq:\n",
        "      if((i!=0 and i!=target_word_index['start']) and i!=target_word_index['end']):\n",
        "        newString=newString+reverse_target_word_index[i]+' '\n",
        "    return newString\n",
        "\n",
        "def seq2text(input_seq):\n",
        "    newString=''\n",
        "    for i in input_seq:\n",
        "      if(i!=0):\n",
        "        newString=newString+reverse_source_word_index[i]+' '\n",
        "    return newString"
      ],
      "metadata": {
        "id": "yZjUs3Z7QazS"
      },
      "execution_count": null,
      "outputs": []
    },
    {
      "cell_type": "code",
      "source": [
        "for i in range(len(x_val)):\n",
        "  print(\"Review:\",seq2text(x_val[i]))\n",
        "  print(\"Original summary:\",seq2summary(y_val[i]))\n",
        "  print(\"Predicted summary:\",decode_sequence(x_val[i].reshape(1,max_len_text)))\n",
        "  print(\"\\n\")"
      ],
      "metadata": {
        "id": "VXiWENd-Qci9"
      },
      "execution_count": null,
      "outputs": []
    }
  ],
  "metadata": {
    "colab": {
      "provenance": [],
      "include_colab_link": true
    },
    "kernelspec": {
      "display_name": "Python 3",
      "name": "python3"
    },
    "language_info": {
      "name": "python"
    },
    "accelerator": "TPU"
  },
  "nbformat": 4,
  "nbformat_minor": 0
}