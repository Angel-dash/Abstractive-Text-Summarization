{
  "nbformat": 4,
  "nbformat_minor": 0,
  "metadata": {
    "colab": {
      "provenance": [],
      "authorship_tag": "ABX9TyNvmQ9kpOivGm+Df2GjWgw0",
      "include_colab_link": true
    },
    "kernelspec": {
      "name": "python3",
      "display_name": "Python 3"
    },
    "language_info": {
      "name": "python"
    },
    "accelerator": "TPU"
  },
  "cells": [
    {
      "cell_type": "markdown",
      "metadata": {
        "id": "view-in-github",
        "colab_type": "text"
      },
      "source": [
        "<a href=\"https://colab.research.google.com/github/Angel-dash/Abstractive-Text-Summarization/blob/main/DL.ipynb\" target=\"_parent\"><img src=\"https://colab.research.google.com/assets/colab-badge.svg\" alt=\"Open In Colab\"/></a>"
      ]
    },
    {
      "cell_type": "markdown",
      "source": [],
      "metadata": {
        "id": "kqAfNPhkHgS_"
      }
    },
    {
      "cell_type": "code",
      "execution_count": 1,
      "metadata": {
        "colab": {
          "base_uri": "https://localhost:8080/"
        },
        "id": "MMJKxxgXOPT0",
        "outputId": "20216798-fb3d-4cc7-a2c8-1a7fbbe6c8d0"
      },
      "outputs": [
        {
          "output_type": "stream",
          "name": "stdout",
          "text": [
            "Mounted at /content/drive\n"
          ]
        }
      ],
      "source": [
        "from google.colab import drive\n",
        "drive.mount('/content/drive')\n"
      ]
    },
    {
      "cell_type": "code",
      "source": [
        "!unzip /content/drive/MyDrive/MiniProjectdata/data.zip\n"
      ],
      "metadata": {
        "colab": {
          "base_uri": "https://localhost:8080/"
        },
        "id": "NL040gAPOe6t",
        "outputId": "30b82f10-e46a-4fe6-dd04-554789fe7f8c"
      },
      "execution_count": 2,
      "outputs": [
        {
          "output_type": "stream",
          "name": "stdout",
          "text": [
            "Archive:  /content/drive/MyDrive/MiniProjectdata/data.zip\n",
            "  inflating: cnn_dailymail/test.csv  \n",
            "  inflating: cnn_dailymail/train.csv  \n",
            "  inflating: cnn_dailymail/validation.csv  \n"
          ]
        }
      ]
    },
    {
      "cell_type": "code",
      "source": [
        "import numpy as np\n",
        "import pandas as pd\n",
        "import re\n",
        "from bs4 import BeautifulSoup\n",
        "from tensorflow.keras.preprocessing.text import Tokenizer\n",
        "from tensorflow.keras.preprocessing.sequence import pad_sequences\n",
        "from nltk.corpus import stopwords\n",
        "from tensorflow.keras.layers import Input, LSTM, Embedding, Dense, Concatenate, TimeDistributed, Bidirectional\n",
        "from tensorflow.keras.models import Model\n",
        "from tensorflow.keras.callbacks import EarlyStopping\n",
        "import warnings\n",
        "pd.set_option(\"display.max_colwidth\", 200)\n",
        "warnings.filterwarnings(\"ignore\")\n",
        "import textwrap\n",
        "import nltk\n",
        "nltk.download('stopwords')"
      ],
      "metadata": {
        "id": "fHunr2RhP2pd",
        "colab": {
          "base_uri": "https://localhost:8080/"
        },
        "outputId": "5ce146b2-a08f-4959-f7f6-7fd6f23a00d9"
      },
      "execution_count": 29,
      "outputs": [
        {
          "output_type": "stream",
          "name": "stderr",
          "text": [
            "[nltk_data] Downloading package stopwords to /root/nltk_data...\n",
            "[nltk_data]   Unzipping corpora/stopwords.zip.\n"
          ]
        },
        {
          "output_type": "execute_result",
          "data": {
            "text/plain": [
              "True"
            ]
          },
          "metadata": {},
          "execution_count": 29
        }
      ]
    },
    {
      "cell_type": "code",
      "source": [
        "data_train=pd.read_csv('/content/cnn_dailymail/train.csv')\n",
        "data_test=pd.read_csv('/content/cnn_dailymail/test.csv')\n",
        "data_validation=pd.read_csv('/content/cnn_dailymail/validation.csv')"
      ],
      "metadata": {
        "id": "_4YwYIe7hQmt"
      },
      "execution_count": 4,
      "outputs": []
    },
    {
      "cell_type": "markdown",
      "source": [
        "Data preprocessing"
      ],
      "metadata": {
        "id": "zQJdiWCJoIaM"
      }
    },
    {
      "cell_type": "code",
      "source": [
        "data_train.head(3)"
      ],
      "metadata": {
        "colab": {
          "base_uri": "https://localhost:8080/",
          "height": 369
        },
        "id": "bjaSvOGej9gg",
        "outputId": "aca3a75d-49ac-429e-dc85-cff8ccc3ce0b"
      },
      "execution_count": 5,
      "outputs": [
        {
          "output_type": "execute_result",
          "data": {
            "text/plain": [
              "                                         id  \\\n",
              "0  0001d1afc246a7964130f43ae940af6bc6c57f01   \n",
              "1  0002095e55fcbd3a2f366d9bf92a95433dc305ef   \n",
              "2  00027e965c8264c35cc1bc55556db388da82b07f   \n",
              "\n",
              "                                                                                                                                                                                                   article  \\\n",
              "0  By . Associated Press . PUBLISHED: . 14:11 EST, 25 October 2013 . | . UPDATED: . 15:36 EST, 25 October 2013 . The bishop of the Fargo Catholic Diocese in North Dakota has exposed potentially hundr...   \n",
              "1  (CNN) -- Ralph Mata was an internal affairs lieutenant for the Miami-Dade Police Department, working in the division that investigates allegations of wrongdoing by cops. Outside the office, author...   \n",
              "2  A drunk driver who killed a young woman in a head-on crash while checking his mobile phone has been jailed for six years. Craig Eccleston-Todd, 27, was driving home from a night at a pub when he r...   \n",
              "\n",
              "                                                                                                                                                                                                highlights  \n",
              "0  Bishop John Folda, of North Dakota, is taking time off after being diagnosed .\\nHe contracted the infection through contaminated food in Italy .\\nChurch members in Fargo, Grand Forks and Jamestown...  \n",
              "1  Criminal complaint: Cop used his role to help cocaine traffickers .\\nRalph Mata, an internal affairs lieutenant, allegedly helped group get guns .\\nHe also arranged to pay two assassins in a murde...  \n",
              "2  Craig Eccleston-Todd, 27, had drunk at least three pints before driving car .\\nWas using phone when he veered across road in Yarmouth, Isle of Wight .\\nCrashed head-on into 28-year-old Rachel Titl...  "
            ],
            "text/html": [
              "\n",
              "  <div id=\"df-34061126-3d1a-4436-b74c-e6b84daae0fc\" class=\"colab-df-container\">\n",
              "    <div>\n",
              "<style scoped>\n",
              "    .dataframe tbody tr th:only-of-type {\n",
              "        vertical-align: middle;\n",
              "    }\n",
              "\n",
              "    .dataframe tbody tr th {\n",
              "        vertical-align: top;\n",
              "    }\n",
              "\n",
              "    .dataframe thead th {\n",
              "        text-align: right;\n",
              "    }\n",
              "</style>\n",
              "<table border=\"1\" class=\"dataframe\">\n",
              "  <thead>\n",
              "    <tr style=\"text-align: right;\">\n",
              "      <th></th>\n",
              "      <th>id</th>\n",
              "      <th>article</th>\n",
              "      <th>highlights</th>\n",
              "    </tr>\n",
              "  </thead>\n",
              "  <tbody>\n",
              "    <tr>\n",
              "      <th>0</th>\n",
              "      <td>0001d1afc246a7964130f43ae940af6bc6c57f01</td>\n",
              "      <td>By . Associated Press . PUBLISHED: . 14:11 EST, 25 October 2013 . | . UPDATED: . 15:36 EST, 25 October 2013 . The bishop of the Fargo Catholic Diocese in North Dakota has exposed potentially hundr...</td>\n",
              "      <td>Bishop John Folda, of North Dakota, is taking time off after being diagnosed .\\nHe contracted the infection through contaminated food in Italy .\\nChurch members in Fargo, Grand Forks and Jamestown...</td>\n",
              "    </tr>\n",
              "    <tr>\n",
              "      <th>1</th>\n",
              "      <td>0002095e55fcbd3a2f366d9bf92a95433dc305ef</td>\n",
              "      <td>(CNN) -- Ralph Mata was an internal affairs lieutenant for the Miami-Dade Police Department, working in the division that investigates allegations of wrongdoing by cops. Outside the office, author...</td>\n",
              "      <td>Criminal complaint: Cop used his role to help cocaine traffickers .\\nRalph Mata, an internal affairs lieutenant, allegedly helped group get guns .\\nHe also arranged to pay two assassins in a murde...</td>\n",
              "    </tr>\n",
              "    <tr>\n",
              "      <th>2</th>\n",
              "      <td>00027e965c8264c35cc1bc55556db388da82b07f</td>\n",
              "      <td>A drunk driver who killed a young woman in a head-on crash while checking his mobile phone has been jailed for six years. Craig Eccleston-Todd, 27, was driving home from a night at a pub when he r...</td>\n",
              "      <td>Craig Eccleston-Todd, 27, had drunk at least three pints before driving car .\\nWas using phone when he veered across road in Yarmouth, Isle of Wight .\\nCrashed head-on into 28-year-old Rachel Titl...</td>\n",
              "    </tr>\n",
              "  </tbody>\n",
              "</table>\n",
              "</div>\n",
              "    <div class=\"colab-df-buttons\">\n",
              "\n",
              "  <div class=\"colab-df-container\">\n",
              "    <button class=\"colab-df-convert\" onclick=\"convertToInteractive('df-34061126-3d1a-4436-b74c-e6b84daae0fc')\"\n",
              "            title=\"Convert this dataframe to an interactive table.\"\n",
              "            style=\"display:none;\">\n",
              "\n",
              "  <svg xmlns=\"http://www.w3.org/2000/svg\" height=\"24px\" viewBox=\"0 -960 960 960\">\n",
              "    <path d=\"M120-120v-720h720v720H120Zm60-500h600v-160H180v160Zm220 220h160v-160H400v160Zm0 220h160v-160H400v160ZM180-400h160v-160H180v160Zm440 0h160v-160H620v160ZM180-180h160v-160H180v160Zm440 0h160v-160H620v160Z\"/>\n",
              "  </svg>\n",
              "    </button>\n",
              "\n",
              "  <style>\n",
              "    .colab-df-container {\n",
              "      display:flex;\n",
              "      gap: 12px;\n",
              "    }\n",
              "\n",
              "    .colab-df-convert {\n",
              "      background-color: #E8F0FE;\n",
              "      border: none;\n",
              "      border-radius: 50%;\n",
              "      cursor: pointer;\n",
              "      display: none;\n",
              "      fill: #1967D2;\n",
              "      height: 32px;\n",
              "      padding: 0 0 0 0;\n",
              "      width: 32px;\n",
              "    }\n",
              "\n",
              "    .colab-df-convert:hover {\n",
              "      background-color: #E2EBFA;\n",
              "      box-shadow: 0px 1px 2px rgba(60, 64, 67, 0.3), 0px 1px 3px 1px rgba(60, 64, 67, 0.15);\n",
              "      fill: #174EA6;\n",
              "    }\n",
              "\n",
              "    .colab-df-buttons div {\n",
              "      margin-bottom: 4px;\n",
              "    }\n",
              "\n",
              "    [theme=dark] .colab-df-convert {\n",
              "      background-color: #3B4455;\n",
              "      fill: #D2E3FC;\n",
              "    }\n",
              "\n",
              "    [theme=dark] .colab-df-convert:hover {\n",
              "      background-color: #434B5C;\n",
              "      box-shadow: 0px 1px 3px 1px rgba(0, 0, 0, 0.15);\n",
              "      filter: drop-shadow(0px 1px 2px rgba(0, 0, 0, 0.3));\n",
              "      fill: #FFFFFF;\n",
              "    }\n",
              "  </style>\n",
              "\n",
              "    <script>\n",
              "      const buttonEl =\n",
              "        document.querySelector('#df-34061126-3d1a-4436-b74c-e6b84daae0fc button.colab-df-convert');\n",
              "      buttonEl.style.display =\n",
              "        google.colab.kernel.accessAllowed ? 'block' : 'none';\n",
              "\n",
              "      async function convertToInteractive(key) {\n",
              "        const element = document.querySelector('#df-34061126-3d1a-4436-b74c-e6b84daae0fc');\n",
              "        const dataTable =\n",
              "          await google.colab.kernel.invokeFunction('convertToInteractive',\n",
              "                                                    [key], {});\n",
              "        if (!dataTable) return;\n",
              "\n",
              "        const docLinkHtml = 'Like what you see? Visit the ' +\n",
              "          '<a target=\"_blank\" href=https://colab.research.google.com/notebooks/data_table.ipynb>data table notebook</a>'\n",
              "          + ' to learn more about interactive tables.';\n",
              "        element.innerHTML = '';\n",
              "        dataTable['output_type'] = 'display_data';\n",
              "        await google.colab.output.renderOutput(dataTable, element);\n",
              "        const docLink = document.createElement('div');\n",
              "        docLink.innerHTML = docLinkHtml;\n",
              "        element.appendChild(docLink);\n",
              "      }\n",
              "    </script>\n",
              "  </div>\n",
              "\n",
              "\n",
              "<div id=\"df-562fa672-73a4-4e07-b447-a73d1fd615b4\">\n",
              "  <button class=\"colab-df-quickchart\" onclick=\"quickchart('df-562fa672-73a4-4e07-b447-a73d1fd615b4')\"\n",
              "            title=\"Suggest charts\"\n",
              "            style=\"display:none;\">\n",
              "\n",
              "<svg xmlns=\"http://www.w3.org/2000/svg\" height=\"24px\"viewBox=\"0 0 24 24\"\n",
              "     width=\"24px\">\n",
              "    <g>\n",
              "        <path d=\"M19 3H5c-1.1 0-2 .9-2 2v14c0 1.1.9 2 2 2h14c1.1 0 2-.9 2-2V5c0-1.1-.9-2-2-2zM9 17H7v-7h2v7zm4 0h-2V7h2v10zm4 0h-2v-4h2v4z\"/>\n",
              "    </g>\n",
              "</svg>\n",
              "  </button>\n",
              "\n",
              "<style>\n",
              "  .colab-df-quickchart {\n",
              "      --bg-color: #E8F0FE;\n",
              "      --fill-color: #1967D2;\n",
              "      --hover-bg-color: #E2EBFA;\n",
              "      --hover-fill-color: #174EA6;\n",
              "      --disabled-fill-color: #AAA;\n",
              "      --disabled-bg-color: #DDD;\n",
              "  }\n",
              "\n",
              "  [theme=dark] .colab-df-quickchart {\n",
              "      --bg-color: #3B4455;\n",
              "      --fill-color: #D2E3FC;\n",
              "      --hover-bg-color: #434B5C;\n",
              "      --hover-fill-color: #FFFFFF;\n",
              "      --disabled-bg-color: #3B4455;\n",
              "      --disabled-fill-color: #666;\n",
              "  }\n",
              "\n",
              "  .colab-df-quickchart {\n",
              "    background-color: var(--bg-color);\n",
              "    border: none;\n",
              "    border-radius: 50%;\n",
              "    cursor: pointer;\n",
              "    display: none;\n",
              "    fill: var(--fill-color);\n",
              "    height: 32px;\n",
              "    padding: 0;\n",
              "    width: 32px;\n",
              "  }\n",
              "\n",
              "  .colab-df-quickchart:hover {\n",
              "    background-color: var(--hover-bg-color);\n",
              "    box-shadow: 0 1px 2px rgba(60, 64, 67, 0.3), 0 1px 3px 1px rgba(60, 64, 67, 0.15);\n",
              "    fill: var(--button-hover-fill-color);\n",
              "  }\n",
              "\n",
              "  .colab-df-quickchart-complete:disabled,\n",
              "  .colab-df-quickchart-complete:disabled:hover {\n",
              "    background-color: var(--disabled-bg-color);\n",
              "    fill: var(--disabled-fill-color);\n",
              "    box-shadow: none;\n",
              "  }\n",
              "\n",
              "  .colab-df-spinner {\n",
              "    border: 2px solid var(--fill-color);\n",
              "    border-color: transparent;\n",
              "    border-bottom-color: var(--fill-color);\n",
              "    animation:\n",
              "      spin 1s steps(1) infinite;\n",
              "  }\n",
              "\n",
              "  @keyframes spin {\n",
              "    0% {\n",
              "      border-color: transparent;\n",
              "      border-bottom-color: var(--fill-color);\n",
              "      border-left-color: var(--fill-color);\n",
              "    }\n",
              "    20% {\n",
              "      border-color: transparent;\n",
              "      border-left-color: var(--fill-color);\n",
              "      border-top-color: var(--fill-color);\n",
              "    }\n",
              "    30% {\n",
              "      border-color: transparent;\n",
              "      border-left-color: var(--fill-color);\n",
              "      border-top-color: var(--fill-color);\n",
              "      border-right-color: var(--fill-color);\n",
              "    }\n",
              "    40% {\n",
              "      border-color: transparent;\n",
              "      border-right-color: var(--fill-color);\n",
              "      border-top-color: var(--fill-color);\n",
              "    }\n",
              "    60% {\n",
              "      border-color: transparent;\n",
              "      border-right-color: var(--fill-color);\n",
              "    }\n",
              "    80% {\n",
              "      border-color: transparent;\n",
              "      border-right-color: var(--fill-color);\n",
              "      border-bottom-color: var(--fill-color);\n",
              "    }\n",
              "    90% {\n",
              "      border-color: transparent;\n",
              "      border-bottom-color: var(--fill-color);\n",
              "    }\n",
              "  }\n",
              "</style>\n",
              "\n",
              "  <script>\n",
              "    async function quickchart(key) {\n",
              "      const quickchartButtonEl =\n",
              "        document.querySelector('#' + key + ' button');\n",
              "      quickchartButtonEl.disabled = true;  // To prevent multiple clicks.\n",
              "      quickchartButtonEl.classList.add('colab-df-spinner');\n",
              "      try {\n",
              "        const charts = await google.colab.kernel.invokeFunction(\n",
              "            'suggestCharts', [key], {});\n",
              "      } catch (error) {\n",
              "        console.error('Error during call to suggestCharts:', error);\n",
              "      }\n",
              "      quickchartButtonEl.classList.remove('colab-df-spinner');\n",
              "      quickchartButtonEl.classList.add('colab-df-quickchart-complete');\n",
              "    }\n",
              "    (() => {\n",
              "      let quickchartButtonEl =\n",
              "        document.querySelector('#df-562fa672-73a4-4e07-b447-a73d1fd615b4 button');\n",
              "      quickchartButtonEl.style.display =\n",
              "        google.colab.kernel.accessAllowed ? 'block' : 'none';\n",
              "    })();\n",
              "  </script>\n",
              "</div>\n",
              "    </div>\n",
              "  </div>\n"
            ]
          },
          "metadata": {},
          "execution_count": 5
        }
      ]
    },
    {
      "cell_type": "code",
      "source": [
        "data = pd.concat([data_train, data_test, data_validation ])\n",
        "train_df = data"
      ],
      "metadata": {
        "id": "uhS4-P39kULT"
      },
      "execution_count": 6,
      "outputs": []
    },
    {
      "cell_type": "code",
      "source": [
        "train_df.shape"
      ],
      "metadata": {
        "colab": {
          "base_uri": "https://localhost:8080/"
        },
        "id": "B4gMsVvVmV_b",
        "outputId": "4bccf3cc-eccc-492f-dba7-cf96f17b8fb6"
      },
      "execution_count": 7,
      "outputs": [
        {
          "output_type": "execute_result",
          "data": {
            "text/plain": [
              "(311971, 3)"
            ]
          },
          "metadata": {},
          "execution_count": 7
        }
      ]
    },
    {
      "cell_type": "code",
      "source": [
        "sample=data_train.sample()\n",
        "print(\"****Article****\")\n",
        "print(sample.article.values)\n",
        "print('****Highlights****')\n",
        "print(sample.highlights.values)"
      ],
      "metadata": {
        "colab": {
          "base_uri": "https://localhost:8080/"
        },
        "id": "3dPq1VoEmYMF",
        "outputId": "58a2d22f-78cd-452b-e825-7c9d2ca5138a"
      },
      "execution_count": 8,
      "outputs": [
        {
          "output_type": "stream",
          "name": "stdout",
          "text": [
            "****Article****\n",
            "[\"By . Keith Gladdis . PUBLISHED: . 06:19 EST, 27 September 2012 . | . UPDATED: . 17:07 EST, 27 September 2012 . Trial: Justin Lee Collins (pictured today) arrives for the second day of his trial where he was accused of trying to push his ex-girlfriend in front of a taxi . TV star Justin Lee Collins tried to . push his girlfriend in front of a taxi on a night out with his friend, . comedian Alan Carr, a court heard yesterday. Collins, 38, is accused of subjecting . Anna Larke to a campaign of verbal and physical abuse during a . nine-month relationship last year. It is claimed he forced Miss Larke to . sleep facing him and ordered her to throw away DVDs featuring actors she . found attractive and compile a dossier of her former lovers. A jury has been told Miss Larke, 38, . is a recovering alcoholic with a history of depression. Sonia Woodley, . QC, defending at St Alban’s Crown Court, said Miss Larke had told . Collins about three suicide attempts including an occasion when she . threw herself in front of a taxi. But giving evidence yesterday, Miss . Larke insisted Collins had tried to push her in front of the car during a . drunken night out with Carr, his former co-host on The Friday Night . Project. She said: ‘No. He [Collins] tried to push me in front of a car when he was drunk out of his head. ‘I was with him and Alan Carr. We were walking down the street and he was shoving me and pushed me into traffic. ‘He pushed me in front of a car. I was lucky a man who was walking along caught me before I fell in front of the cab.’ Miss Woodley asked: ‘Alan Carr can confirm this can he?’ Former PR girl Miss Larke said: ‘He was drunk too, but yes. I stayed at his house that night. It was quite an evening.’ Miss Larke also denied she had . attempted suicide on two other occasions claiming she had lied to stop . Collins asking questions about her past. She said: ‘He asked me what the worst thing I’d ever done was and I did tell him I’d tried to commit suicide. ‘I told him to stop him from\\xa0 asking me things and writing them down.’ Court: Miss Larke, left, was accused of trying to commit suicide and she told the court that comedian Alan Carr was with her and Collins when Collins tried to push her in front of a car on a drunken night out . Couple: Collins pictured in 2011 with his former girlfriend Miss Larke, 38, after he split from his wife Karen . The court has been told how Collins . left his wife in January 2011 and moved from Bristol to live with Miss . Larke in a flat in Kew, west London. Under cross-examination, Miss Larke . admitted Collins had showered her with gifts including a laptop, digital . camera and diamond ear rings. 'Bruises': Miss Larke claimed she had not shown them to her GP because she didn't want to 'grass up' Collins who was 'the love of [her] life' She also told how Collins had paid for . her to take three months off work as a Christmas present and had taken . her on ‘expensive and luxurious’ holidays. Asked why he had bought the computer, . Miss Larke – who gave evidence from behind a curtain – said: ‘I imagine . it’s because he was very guilty. He also abused my cat, he’s an animal . abuser as well.’ Miss Larke also claimed Collins bought her clothes, . including a $1,000 leather dress from New York, because he wanted to . control what she wore. She said he had abused her for being . overweight calling her a ‘fat, ****ing dog’ and said she was ‘riddled . with cellulite’. The jury of nine women and three men was told Miss . Larke went through menopause at the age of 36 and ‘despised herself’ because she couldn’t give Collins children. Miss Larke said Collins had given her . ‘thousands’ of bruises’ and some could be seen in pictures taken of them . on holiday in Miami last year. Despite numerous visits to her GP, she . said she had not shown the doctor her bruises because she did not want . to get Collins into trouble. A tearful Miss Larke said: ‘Justin was the love of my life. I still loved him. I’m not going to grass up my boyfriend.’ She admitted telling Collins in an . angry phone call after they had split in August 2011 that he was a ‘Z . list celebrity’ who was ‘going nowhere’. Presents: Collins is the former host of the Friday Night Project. The court heard he 'insisted' that his girlfriend 'sleep facing towards him' and today it heard how he showered her with gifts when he felt guilty . Trial: St Albans Crown Court where the court heard yesterday that Collins made his former . girlfriend recount every sexual experience she had ever had for a . notebook he kept as part of a campaign of domestic abuse . The court was also told she had sent him texts after they split saying she could not live without him. Miss Larke said: ‘I couldn’t stop crying. It was like grief. It was like someone had died.’ Finishing her cross-examination, Miss . Woodley accused Miss Larke of being a fantasist. Miss Larke replied: ‘I . would suggest I am absolutely not.’ Collins, of Kew, west London, denies a single charge of harassment by causing her fear of violence. The trial continues. Sorry we are unable to accept comments for legal reasons.\"]\n",
            "****Highlights****\n",
            "[\"Anna Larke, 38, said Collins had given her 'thousands of bruises'\\nShe claims Collins said she was 'riddled with cellulite' and should 'slim down'\\nCollins was accused of tormenting her cat and showering her with gifts when he felt guilty, including diamond earrings, a computer and camera .\"]\n"
          ]
        }
      ]
    },
    {
      "cell_type": "markdown",
      "source": [
        "Checking for Null values\n"
      ],
      "metadata": {
        "id": "A8f0fplPn7FV"
      }
    },
    {
      "cell_type": "code",
      "source": [
        "data_train.isna().sum()"
      ],
      "metadata": {
        "colab": {
          "base_uri": "https://localhost:8080/"
        },
        "id": "-rj60r4FmswB",
        "outputId": "a89efbff-0f9f-494f-d90a-56913ec977a1"
      },
      "execution_count": 9,
      "outputs": [
        {
          "output_type": "execute_result",
          "data": {
            "text/plain": [
              "id            0\n",
              "article       0\n",
              "highlights    0\n",
              "dtype: int64"
            ]
          },
          "metadata": {},
          "execution_count": 9
        }
      ]
    },
    {
      "cell_type": "markdown",
      "source": [
        "Checking for duplicates\n"
      ],
      "metadata": {
        "id": "uGY2KQtMoDkM"
      }
    },
    {
      "cell_type": "code",
      "source": [
        "data_train.duplicated(subset=['article','highlights']).sum()"
      ],
      "metadata": {
        "colab": {
          "base_uri": "https://localhost:8080/"
        },
        "id": "kHMVZot0n4uD",
        "outputId": "2ae30398-ead4-4eae-caf6-fa0c9d8685e9"
      },
      "execution_count": 10,
      "outputs": [
        {
          "output_type": "execute_result",
          "data": {
            "text/plain": [
              "3098"
            ]
          },
          "metadata": {},
          "execution_count": 10
        }
      ]
    },
    {
      "cell_type": "code",
      "source": [
        "data_train=data_train.drop_duplicates(subset=['article','highlights'])\n",
        "data_train.shape"
      ],
      "metadata": {
        "colab": {
          "base_uri": "https://localhost:8080/"
        },
        "id": "QVHFFfmwoZZT",
        "outputId": "2846c20a-bb58-45e4-89fd-f5160c850df3"
      },
      "execution_count": 11,
      "outputs": [
        {
          "output_type": "execute_result",
          "data": {
            "text/plain": [
              "(284015, 3)"
            ]
          },
          "metadata": {},
          "execution_count": 11
        }
      ]
    },
    {
      "cell_type": "code",
      "source": [
        "data_train.duplicated(subset=['article','highlights']).sum()"
      ],
      "metadata": {
        "colab": {
          "base_uri": "https://localhost:8080/"
        },
        "id": "vDaWneCvo12o",
        "outputId": "37587dd1-cce4-45f7-8a35-8570309c8781"
      },
      "execution_count": 12,
      "outputs": [
        {
          "output_type": "execute_result",
          "data": {
            "text/plain": [
              "0"
            ]
          },
          "metadata": {},
          "execution_count": 12
        }
      ]
    },
    {
      "cell_type": "code",
      "source": [
        "data['article'][:10]"
      ],
      "metadata": {
        "colab": {
          "base_uri": "https://localhost:8080/"
        },
        "id": "T2EEiOeFKUgB",
        "outputId": "770c889f-82ab-41ac-8690-2cdb76105d99"
      },
      "execution_count": 43,
      "outputs": [
        {
          "output_type": "execute_result",
          "data": {
            "text/plain": [
              "0    by . associated press . published: . 14:11 est, 25 october 2013 . | . updated: . 15:36 est, 25 october 2013 . the bishop of the fargo catholic diocese in north dakota has exposed potentially hundr...\n",
              "1    (cnn) -- ralph mata was an internal affairs lieutenant for the miami-dade police department, working in the division that investigates allegations of wrongdoing by cops. outside the office, author...\n",
              "2    a drunk driver who killed a young woman in a head-on crash while checking his mobile phone has been jailed for six years. craig eccleston-todd, 27, was driving home from a night at a pub when he r...\n",
              "3    (cnn) -- with a breezy sweep of his pen president vladimir putin wrote a new chapter into crimea's turbulent history, committing the region to a future returned to russian domain. sixty years prio...\n",
              "4    fleetwood are the only team still to have a 100% record in sky bet league one as a 2-0 win over scunthorpe sent graham alexander’s men top of the table. the cod army are playing in the third tier ...\n",
              "5    he's been accused of making many a fashion faux pas while on holiday. but the prime minister seems to be deaf to his critics. yesterday david cameron was seen in the same pair of beige loafers he ...\n",
              "6    by . daily mail reporter . published: . 01:15 est, 30 november 2013 . | . updated: . 01:23 est, 30 november 2013 . more than two decades after magic johnson announced that he had hiv, the basketba...\n",
              "7    by . daily mail reporter . this is the moment a train announcer stunned passengers by announcing over a tannoy as they pulled into a station to beware of pickpockets and gipsies. the london midlan...\n",
              "8    there are a number of job descriptions waiting for darren fletcher when he settles in at west brom but the one he might not have expected is saido berahino’s nanny. fletcher’s unveiling as the dea...\n",
              "9    canberra, australia (cnn) -- at first glance, it doesn't look like much. hidden behind an unmarked door, in a nondescript government office building in the australian capital, it could be mistaken...\n",
              "Name: article, dtype: object"
            ]
          },
          "metadata": {},
          "execution_count": 43
        }
      ]
    },
    {
      "cell_type": "code",
      "source": [
        "data['article'] = data['article'].str.lower()\n",
        "data['highlights'] = data['highlights'].str.lower()\n",
        "\n",
        "print(data)"
      ],
      "metadata": {
        "colab": {
          "base_uri": "https://localhost:8080/"
        },
        "id": "yzd9n9H5LaX0",
        "outputId": "7698046f-006c-4eee-cff1-14e358069136"
      },
      "execution_count": 41,
      "outputs": [
        {
          "output_type": "stream",
          "name": "stdout",
          "text": [
            "                                             id  \\\n",
            "0      0001d1afc246a7964130f43ae940af6bc6c57f01   \n",
            "1      0002095e55fcbd3a2f366d9bf92a95433dc305ef   \n",
            "2      00027e965c8264c35cc1bc55556db388da82b07f   \n",
            "3      0002c17436637c4fe1837c935c04de47adb18e9a   \n",
            "4      0003ad6ef0c37534f80b55b4235108024b407f0b   \n",
            "...                                         ...   \n",
            "13363  e93f721ba4949f21f33549c4a21d55ff456af979   \n",
            "13364  8df19a570ad14119a7d00f3bbe864fedf8c1691d   \n",
            "13365  2fdd5f89aa26e91ceea9b0ef264abfcfc3e6fa2e   \n",
            "13366  530d7b18d7a715b368b0745f9dfebfe353adeda8   \n",
            "13367  42d6f6e10a45ff469fbe3ef7345838aa45dcdd61   \n",
            "\n",
            "                                                                                                                                                                                                       article  \\\n",
            "0      by . associated press . published: . 14:11 est, 25 october 2013 . | . updated: . 15:36 est, 25 october 2013 . the bishop of the fargo catholic diocese in north dakota has exposed potentially hundr...   \n",
            "1      (cnn) -- ralph mata was an internal affairs lieutenant for the miami-dade police department, working in the division that investigates allegations of wrongdoing by cops. outside the office, author...   \n",
            "2      a drunk driver who killed a young woman in a head-on crash while checking his mobile phone has been jailed for six years. craig eccleston-todd, 27, was driving home from a night at a pub when he r...   \n",
            "3      (cnn) -- with a breezy sweep of his pen president vladimir putin wrote a new chapter into crimea's turbulent history, committing the region to a future returned to russian domain. sixty years prio...   \n",
            "4      fleetwood are the only team still to have a 100% record in sky bet league one as a 2-0 win over scunthorpe sent graham alexander’s men top of the table. the cod army are playing in the third tier ...   \n",
            "...                                                                                                                                                                                                        ...   \n",
            "13363  all shops will be allowed to offer ‘click and collect’ services for people to collect their parcels from next month. ministers say allowing online shoppers to pick up their purchases at local shop...   \n",
            "13364  mo farah has had his nationality called into question by the spaniard whose european half-marathon record he broke in lisbon on sunday. fabian roncero claimed he still considered himself the recor...   \n",
            "13365  wolves kept their promotion hopes alive with a routine 3-0 win over sheffield wednesday. bakary sako's penalty and benik afobe's 27th goal of the season sent kenny jackett's side on their way as t...   \n",
            "13366  a brown university graduate student  has died after jumping from the 12th floor of a campus building. hyoun ju sohn, a 25-year-old physics doctoral student from south korea, died tuesday around no...   \n",
            "13367  as thousands of young australians look to buy their first home, it may be generation y that suffers the most as skyrocketing property prices preventing them from entering the market. a survey of r...   \n",
            "\n",
            "                                                                                                                                                                                                    highlights  \n",
            "0      bishop john folda, of north dakota, is taking time off after being diagnosed .\\nhe contracted the infection through contaminated food in italy .\\nchurch members in fargo, grand forks and jamestown...  \n",
            "1      criminal complaint: cop used his role to help cocaine traffickers .\\nralph mata, an internal affairs lieutenant, allegedly helped group get guns .\\nhe also arranged to pay two assassins in a murde...  \n",
            "2      craig eccleston-todd, 27, had drunk at least three pints before driving car .\\nwas using phone when he veered across road in yarmouth, isle of wight .\\ncrashed head-on into 28-year-old rachel titl...  \n",
            "3      nina dos santos says europe must be ready to accept sanctions will hurt both sides .\\ntargeting russia's business community would be one way of sapping their support for president putin, she says ...  \n",
            "4      fleetwood top of league one after 2-0 win at scunthorpe .\\npeterborough, bristol city, chesterfield and crawley all drop first points of the season .\\nstand-in striker matt done scores a hat-trick...  \n",
            "...                                                                                                                                                                                                        ...  \n",
            "13363                                                      shops won't have to apply for planning permission for 'click and collect'\\nministers say the service will give a boost to the british high street .  \n",
            "13364  mo farah broke the european half-marathon record in lisbon on sunday .\\nolympic gold medalist had his nationality questioned by the previous record holder fabian roncero .\\nthe spaniard commented ...  \n",
            "13365  wolves are three points off the play-off places with eight games remaining .\\nbakary sako gave the home side the lead from the penalty spot .\\nbenik afobe and karl henry completed the rout in the ...  \n",
            "13366  hyoun ju sohn, a 25-year-old doctoral student, died tuesday .\\nstudent received prestigious scholarship from columbia university .\\ntwelfth floor of sciences library closed after the incident arou...  \n",
            "13367  60% of estate agents believe owning a home is becoming less achievable .\\nresidential property prices jumped an average of 6.8% in the last year .\\ngen y couple katherine ross and hauaru gilbert a...  \n",
            "\n",
            "[311971 rows x 3 columns]\n"
          ]
        }
      ]
    },
    {
      "cell_type": "code",
      "source": [],
      "metadata": {
        "id": "-BWqXLjOS7DS"
      },
      "execution_count": null,
      "outputs": []
    }
  ]
}