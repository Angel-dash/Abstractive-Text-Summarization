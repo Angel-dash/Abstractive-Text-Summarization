{
  "cells": [
    {
      "cell_type": "markdown",
      "metadata": {
        "id": "view-in-github",
        "colab_type": "text"
      },
      "source": [
        "<a href=\"https://colab.research.google.com/github/Angel-dash/Abstractive-Text-Summarization/blob/main/DL.ipynb\" target=\"_parent\"><img src=\"https://colab.research.google.com/assets/colab-badge.svg\" alt=\"Open In Colab\"/></a>"
      ]
    },
    {
      "cell_type": "markdown",
      "metadata": {
        "id": "kqAfNPhkHgS_"
      },
      "source": []
    },
    {
      "cell_type": "code",
      "execution_count": 1,
      "metadata": {
        "colab": {
          "base_uri": "https://localhost:8080/"
        },
        "id": "MMJKxxgXOPT0",
        "outputId": "ce647a19-38a7-401c-f6b5-28ae821d74ef"
      },
      "outputs": [
        {
          "output_type": "stream",
          "name": "stdout",
          "text": [
            "Mounted at /content/drive\n"
          ]
        }
      ],
      "source": [
        "from google.colab import drive\n",
        "drive.mount('/content/drive')\n"
      ]
    },
    {
      "cell_type": "code",
      "execution_count": 2,
      "metadata": {
        "colab": {
          "base_uri": "https://localhost:8080/"
        },
        "id": "NL040gAPOe6t",
        "outputId": "c3de0eed-fdd7-4fd0-c179-4ead62bdb4ef"
      },
      "outputs": [
        {
          "output_type": "stream",
          "name": "stdout",
          "text": [
            "Archive:  /content/drive/MyDrive/MiniProjectdata/data.zip\n",
            "  inflating: cnn_dailymail/test.csv  \n",
            "  inflating: cnn_dailymail/train.csv  \n",
            "  inflating: cnn_dailymail/validation.csv  \n"
          ]
        }
      ],
      "source": [
        "!unzip /content/drive/MyDrive/MiniProjectdata/data.zip\n"
      ]
    },
    {
      "cell_type": "code",
      "execution_count": 3,
      "metadata": {
        "id": "fHunr2RhP2pd",
        "colab": {
          "base_uri": "https://localhost:8080/"
        },
        "outputId": "ca64885d-34a2-4c1b-85aa-1d388a853976"
      },
      "outputs": [
        {
          "output_type": "stream",
          "name": "stderr",
          "text": [
            "[nltk_data] Downloading package stopwords to /root/nltk_data...\n",
            "[nltk_data]   Unzipping corpora/stopwords.zip.\n"
          ]
        },
        {
          "output_type": "execute_result",
          "data": {
            "text/plain": [
              "True"
            ]
          },
          "metadata": {},
          "execution_count": 3
        }
      ],
      "source": [
        "import numpy as np\n",
        "import pandas as pd\n",
        "import re\n",
        "from bs4 import BeautifulSoup\n",
        "from tensorflow.keras.preprocessing.text import Tokenizer\n",
        "from tensorflow.keras.preprocessing.sequence import pad_sequences\n",
        "from nltk.corpus import stopwords\n",
        "from tensorflow.keras.layers import Input, LSTM, Embedding, Dense, Concatenate, TimeDistributed, Bidirectional\n",
        "from tensorflow.keras.models import Model\n",
        "from tensorflow.keras.callbacks import EarlyStopping\n",
        "import warnings\n",
        "pd.set_option(\"display.max_colwidth\", 200)\n",
        "warnings.filterwarnings(\"ignore\")\n",
        "import textwrap\n",
        "import nltk\n",
        "nltk.download('stopwords')"
      ]
    },
    {
      "cell_type": "code",
      "execution_count": 4,
      "metadata": {
        "id": "_4YwYIe7hQmt"
      },
      "outputs": [],
      "source": [
        "data_train=pd.read_csv('/content/cnn_dailymail/train.csv')\n",
        "data_test=pd.read_csv('/content/cnn_dailymail/test.csv')\n",
        "data_validation=pd.read_csv('/content/cnn_dailymail/validation.csv')"
      ]
    },
    {
      "cell_type": "code",
      "source": [
        "new_df=data_train.sample(50000)"
      ],
      "metadata": {
        "id": "ibu0t1QjvoVk"
      },
      "execution_count": 43,
      "outputs": []
    },
    {
      "cell_type": "markdown",
      "metadata": {
        "id": "zQJdiWCJoIaM"
      },
      "source": [
        "Data preprocessing"
      ]
    },
    {
      "cell_type": "code",
      "execution_count": 44,
      "metadata": {
        "id": "bjaSvOGej9gg",
        "colab": {
          "base_uri": "https://localhost:8080/",
          "height": 300
        },
        "outputId": "9de2b1f6-b7ac-419d-c5d0-8144042b3132"
      },
      "outputs": [
        {
          "output_type": "execute_result",
          "data": {
            "text/plain": [
              "                                              id  \\\n",
              "276925  f2c51b0e0127c01f19ddc868ff1d49182d76a52b   \n",
              "238374  c08982086dadf2d7809d986d05568471fe895752   \n",
              "122592  2a71fe1c5039b8461ef97667247d448b15549af0   \n",
              "\n",
              "                                                                                                                                                                                                        article  \\\n",
              "276925  by  sophie jane evans  a disabled chinese boy has been tied up by his family for six years after they struggled to cope with his aggressive behaviour xie guobiao 11 who suffers from a learning dis...   \n",
              "238374  baghdad iraq cnn  iraqi leaders are applauding president obamas plan to withdraw most us troops from the country by august 2010 us troops will cede security measures to iraqi security forces inclu...   \n",
              "122592  heartbeat recognition could soon be used to unlock doors start cars and even pay for your shopping thanks to new wearable software currently under development the nymi is a lightweight wearable wr...   \n",
              "\n",
              "                                                                                                                                                                                                     highlights  \n",
              "276925  xie guobiao 11 has been tied up by family in daohui china since 2008 \\nparents tie rope around his chest every day before attaching it to a pole \\nthey only allow youngster out of the house for wa...  \n",
              "238374  sunni vice president supports withdrawal of most troops by end of august 2010 \\niraqi prime minister nuri almaliki says iraqi security forces are qualified to take over \\nobama said up to 50000 su...  \n",
              "122592  the nymi authenticates user’s identity through the rhythm of their heartbeat \\nthe wristband could replace pin numbers passwords bank cards and keys \\nas soon as it is removed from the wearer’s bo...  "
            ],
            "text/html": [
              "\n",
              "  <div id=\"df-1571391c-8e87-4c2c-bf4d-77a2266b1cfe\" class=\"colab-df-container\">\n",
              "    <div>\n",
              "<style scoped>\n",
              "    .dataframe tbody tr th:only-of-type {\n",
              "        vertical-align: middle;\n",
              "    }\n",
              "\n",
              "    .dataframe tbody tr th {\n",
              "        vertical-align: top;\n",
              "    }\n",
              "\n",
              "    .dataframe thead th {\n",
              "        text-align: right;\n",
              "    }\n",
              "</style>\n",
              "<table border=\"1\" class=\"dataframe\">\n",
              "  <thead>\n",
              "    <tr style=\"text-align: right;\">\n",
              "      <th></th>\n",
              "      <th>id</th>\n",
              "      <th>article</th>\n",
              "      <th>highlights</th>\n",
              "    </tr>\n",
              "  </thead>\n",
              "  <tbody>\n",
              "    <tr>\n",
              "      <th>276925</th>\n",
              "      <td>f2c51b0e0127c01f19ddc868ff1d49182d76a52b</td>\n",
              "      <td>by  sophie jane evans  a disabled chinese boy has been tied up by his family for six years after they struggled to cope with his aggressive behaviour xie guobiao 11 who suffers from a learning dis...</td>\n",
              "      <td>xie guobiao 11 has been tied up by family in daohui china since 2008 \\nparents tie rope around his chest every day before attaching it to a pole \\nthey only allow youngster out of the house for wa...</td>\n",
              "    </tr>\n",
              "    <tr>\n",
              "      <th>238374</th>\n",
              "      <td>c08982086dadf2d7809d986d05568471fe895752</td>\n",
              "      <td>baghdad iraq cnn  iraqi leaders are applauding president obamas plan to withdraw most us troops from the country by august 2010 us troops will cede security measures to iraqi security forces inclu...</td>\n",
              "      <td>sunni vice president supports withdrawal of most troops by end of august 2010 \\niraqi prime minister nuri almaliki says iraqi security forces are qualified to take over \\nobama said up to 50000 su...</td>\n",
              "    </tr>\n",
              "    <tr>\n",
              "      <th>122592</th>\n",
              "      <td>2a71fe1c5039b8461ef97667247d448b15549af0</td>\n",
              "      <td>heartbeat recognition could soon be used to unlock doors start cars and even pay for your shopping thanks to new wearable software currently under development the nymi is a lightweight wearable wr...</td>\n",
              "      <td>the nymi authenticates user’s identity through the rhythm of their heartbeat \\nthe wristband could replace pin numbers passwords bank cards and keys \\nas soon as it is removed from the wearer’s bo...</td>\n",
              "    </tr>\n",
              "  </tbody>\n",
              "</table>\n",
              "</div>\n",
              "    <div class=\"colab-df-buttons\">\n",
              "\n",
              "  <div class=\"colab-df-container\">\n",
              "    <button class=\"colab-df-convert\" onclick=\"convertToInteractive('df-1571391c-8e87-4c2c-bf4d-77a2266b1cfe')\"\n",
              "            title=\"Convert this dataframe to an interactive table.\"\n",
              "            style=\"display:none;\">\n",
              "\n",
              "  <svg xmlns=\"http://www.w3.org/2000/svg\" height=\"24px\" viewBox=\"0 -960 960 960\">\n",
              "    <path d=\"M120-120v-720h720v720H120Zm60-500h600v-160H180v160Zm220 220h160v-160H400v160Zm0 220h160v-160H400v160ZM180-400h160v-160H180v160Zm440 0h160v-160H620v160ZM180-180h160v-160H180v160Zm440 0h160v-160H620v160Z\"/>\n",
              "  </svg>\n",
              "    </button>\n",
              "\n",
              "  <style>\n",
              "    .colab-df-container {\n",
              "      display:flex;\n",
              "      gap: 12px;\n",
              "    }\n",
              "\n",
              "    .colab-df-convert {\n",
              "      background-color: #E8F0FE;\n",
              "      border: none;\n",
              "      border-radius: 50%;\n",
              "      cursor: pointer;\n",
              "      display: none;\n",
              "      fill: #1967D2;\n",
              "      height: 32px;\n",
              "      padding: 0 0 0 0;\n",
              "      width: 32px;\n",
              "    }\n",
              "\n",
              "    .colab-df-convert:hover {\n",
              "      background-color: #E2EBFA;\n",
              "      box-shadow: 0px 1px 2px rgba(60, 64, 67, 0.3), 0px 1px 3px 1px rgba(60, 64, 67, 0.15);\n",
              "      fill: #174EA6;\n",
              "    }\n",
              "\n",
              "    .colab-df-buttons div {\n",
              "      margin-bottom: 4px;\n",
              "    }\n",
              "\n",
              "    [theme=dark] .colab-df-convert {\n",
              "      background-color: #3B4455;\n",
              "      fill: #D2E3FC;\n",
              "    }\n",
              "\n",
              "    [theme=dark] .colab-df-convert:hover {\n",
              "      background-color: #434B5C;\n",
              "      box-shadow: 0px 1px 3px 1px rgba(0, 0, 0, 0.15);\n",
              "      filter: drop-shadow(0px 1px 2px rgba(0, 0, 0, 0.3));\n",
              "      fill: #FFFFFF;\n",
              "    }\n",
              "  </style>\n",
              "\n",
              "    <script>\n",
              "      const buttonEl =\n",
              "        document.querySelector('#df-1571391c-8e87-4c2c-bf4d-77a2266b1cfe button.colab-df-convert');\n",
              "      buttonEl.style.display =\n",
              "        google.colab.kernel.accessAllowed ? 'block' : 'none';\n",
              "\n",
              "      async function convertToInteractive(key) {\n",
              "        const element = document.querySelector('#df-1571391c-8e87-4c2c-bf4d-77a2266b1cfe');\n",
              "        const dataTable =\n",
              "          await google.colab.kernel.invokeFunction('convertToInteractive',\n",
              "                                                    [key], {});\n",
              "        if (!dataTable) return;\n",
              "\n",
              "        const docLinkHtml = 'Like what you see? Visit the ' +\n",
              "          '<a target=\"_blank\" href=https://colab.research.google.com/notebooks/data_table.ipynb>data table notebook</a>'\n",
              "          + ' to learn more about interactive tables.';\n",
              "        element.innerHTML = '';\n",
              "        dataTable['output_type'] = 'display_data';\n",
              "        await google.colab.output.renderOutput(dataTable, element);\n",
              "        const docLink = document.createElement('div');\n",
              "        docLink.innerHTML = docLinkHtml;\n",
              "        element.appendChild(docLink);\n",
              "      }\n",
              "    </script>\n",
              "  </div>\n",
              "\n",
              "\n",
              "<div id=\"df-08263bea-605b-4340-b553-945ffb4fa7d2\">\n",
              "  <button class=\"colab-df-quickchart\" onclick=\"quickchart('df-08263bea-605b-4340-b553-945ffb4fa7d2')\"\n",
              "            title=\"Suggest charts\"\n",
              "            style=\"display:none;\">\n",
              "\n",
              "<svg xmlns=\"http://www.w3.org/2000/svg\" height=\"24px\"viewBox=\"0 0 24 24\"\n",
              "     width=\"24px\">\n",
              "    <g>\n",
              "        <path d=\"M19 3H5c-1.1 0-2 .9-2 2v14c0 1.1.9 2 2 2h14c1.1 0 2-.9 2-2V5c0-1.1-.9-2-2-2zM9 17H7v-7h2v7zm4 0h-2V7h2v10zm4 0h-2v-4h2v4z\"/>\n",
              "    </g>\n",
              "</svg>\n",
              "  </button>\n",
              "\n",
              "<style>\n",
              "  .colab-df-quickchart {\n",
              "      --bg-color: #E8F0FE;\n",
              "      --fill-color: #1967D2;\n",
              "      --hover-bg-color: #E2EBFA;\n",
              "      --hover-fill-color: #174EA6;\n",
              "      --disabled-fill-color: #AAA;\n",
              "      --disabled-bg-color: #DDD;\n",
              "  }\n",
              "\n",
              "  [theme=dark] .colab-df-quickchart {\n",
              "      --bg-color: #3B4455;\n",
              "      --fill-color: #D2E3FC;\n",
              "      --hover-bg-color: #434B5C;\n",
              "      --hover-fill-color: #FFFFFF;\n",
              "      --disabled-bg-color: #3B4455;\n",
              "      --disabled-fill-color: #666;\n",
              "  }\n",
              "\n",
              "  .colab-df-quickchart {\n",
              "    background-color: var(--bg-color);\n",
              "    border: none;\n",
              "    border-radius: 50%;\n",
              "    cursor: pointer;\n",
              "    display: none;\n",
              "    fill: var(--fill-color);\n",
              "    height: 32px;\n",
              "    padding: 0;\n",
              "    width: 32px;\n",
              "  }\n",
              "\n",
              "  .colab-df-quickchart:hover {\n",
              "    background-color: var(--hover-bg-color);\n",
              "    box-shadow: 0 1px 2px rgba(60, 64, 67, 0.3), 0 1px 3px 1px rgba(60, 64, 67, 0.15);\n",
              "    fill: var(--button-hover-fill-color);\n",
              "  }\n",
              "\n",
              "  .colab-df-quickchart-complete:disabled,\n",
              "  .colab-df-quickchart-complete:disabled:hover {\n",
              "    background-color: var(--disabled-bg-color);\n",
              "    fill: var(--disabled-fill-color);\n",
              "    box-shadow: none;\n",
              "  }\n",
              "\n",
              "  .colab-df-spinner {\n",
              "    border: 2px solid var(--fill-color);\n",
              "    border-color: transparent;\n",
              "    border-bottom-color: var(--fill-color);\n",
              "    animation:\n",
              "      spin 1s steps(1) infinite;\n",
              "  }\n",
              "\n",
              "  @keyframes spin {\n",
              "    0% {\n",
              "      border-color: transparent;\n",
              "      border-bottom-color: var(--fill-color);\n",
              "      border-left-color: var(--fill-color);\n",
              "    }\n",
              "    20% {\n",
              "      border-color: transparent;\n",
              "      border-left-color: var(--fill-color);\n",
              "      border-top-color: var(--fill-color);\n",
              "    }\n",
              "    30% {\n",
              "      border-color: transparent;\n",
              "      border-left-color: var(--fill-color);\n",
              "      border-top-color: var(--fill-color);\n",
              "      border-right-color: var(--fill-color);\n",
              "    }\n",
              "    40% {\n",
              "      border-color: transparent;\n",
              "      border-right-color: var(--fill-color);\n",
              "      border-top-color: var(--fill-color);\n",
              "    }\n",
              "    60% {\n",
              "      border-color: transparent;\n",
              "      border-right-color: var(--fill-color);\n",
              "    }\n",
              "    80% {\n",
              "      border-color: transparent;\n",
              "      border-right-color: var(--fill-color);\n",
              "      border-bottom-color: var(--fill-color);\n",
              "    }\n",
              "    90% {\n",
              "      border-color: transparent;\n",
              "      border-bottom-color: var(--fill-color);\n",
              "    }\n",
              "  }\n",
              "</style>\n",
              "\n",
              "  <script>\n",
              "    async function quickchart(key) {\n",
              "      const quickchartButtonEl =\n",
              "        document.querySelector('#' + key + ' button');\n",
              "      quickchartButtonEl.disabled = true;  // To prevent multiple clicks.\n",
              "      quickchartButtonEl.classList.add('colab-df-spinner');\n",
              "      try {\n",
              "        const charts = await google.colab.kernel.invokeFunction(\n",
              "            'suggestCharts', [key], {});\n",
              "      } catch (error) {\n",
              "        console.error('Error during call to suggestCharts:', error);\n",
              "      }\n",
              "      quickchartButtonEl.classList.remove('colab-df-spinner');\n",
              "      quickchartButtonEl.classList.add('colab-df-quickchart-complete');\n",
              "    }\n",
              "    (() => {\n",
              "      let quickchartButtonEl =\n",
              "        document.querySelector('#df-08263bea-605b-4340-b553-945ffb4fa7d2 button');\n",
              "      quickchartButtonEl.style.display =\n",
              "        google.colab.kernel.accessAllowed ? 'block' : 'none';\n",
              "    })();\n",
              "  </script>\n",
              "</div>\n",
              "    </div>\n",
              "  </div>\n"
            ]
          },
          "metadata": {},
          "execution_count": 44
        }
      ],
      "source": [
        "new_df.head(3)"
      ]
    },
    {
      "cell_type": "code",
      "execution_count": 6,
      "metadata": {
        "id": "uhS4-P39kULT"
      },
      "outputs": [],
      "source": [
        "data = pd.concat([data_train, data_test, data_validation ])\n",
        "train_df = data"
      ]
    },
    {
      "cell_type": "code",
      "execution_count": 45,
      "metadata": {
        "id": "B4gMsVvVmV_b",
        "colab": {
          "base_uri": "https://localhost:8080/"
        },
        "outputId": "0b8b4ad7-f9ea-4a68-d873-b0475d255e8b"
      },
      "outputs": [
        {
          "output_type": "execute_result",
          "data": {
            "text/plain": [
              "(50000, 3)"
            ]
          },
          "metadata": {},
          "execution_count": 45
        }
      ],
      "source": [
        "new_df.shape"
      ]
    },
    {
      "cell_type": "code",
      "execution_count": 46,
      "metadata": {
        "id": "3dPq1VoEmYMF",
        "colab": {
          "base_uri": "https://localhost:8080/"
        },
        "outputId": "a541616a-e614-46ee-9a08-aefe7ac63901"
      },
      "outputs": [
        {
          "output_type": "stream",
          "name": "stdout",
          "text": [
            "****Article****\n",
            "['by  chris hastings  published  1602 est 8 september 2012    updated  1704 est 8 september 2012  he has told how as a boy people dismissed him as thick because of his severe dyslexia which only makes it even more remarkable that jamie oliver has just been named as britain’s second biggestselling author since records began – with total book sales of £126\\u2009million the essexborn television chef and school meals campaigner who has sold more than 10\\u2009million cook books is ranked second only to harry potter author j\\u2009k rowling cooking up a fortune jamie oliver pictured with his wife jools has come second in the list of the top 50 most valuable authors compiled by the bookseller  ms rowling’s seven books about the boy wizard have generated sales of more than\\xa0 £2376\\u2009millionthe newly released sales figures have been compiled by the bookseller – the publishing industry’s trade magazine it has drawn up lists of britain’s 50 most successful authors and the country’s 50 biggestselling titles fatheroffour oliver 37 who is famous  for his ‘pukka’ catchphrase and whose bestsellers include the naked  chef and jamie’s 30 minute meals is joined on the bestseller list by  some of his culinary rivals delia smith is in tenth place nigella lawson is ranked 19th and gordon ramsay is towards the bottom of the chart at 45 together the four chefs account for 40 per cent of all the cook books sold\\xa0 in britain since records began in 1998 the success of the chefs is due in no small part to the fact that all four have fronted highprofile\\xa0 tv shows – and other television personalities and celebrities also feature strongly in the list most valuable harry potter author jk rowling topped the list put together by the bookseller  they include top gear presenter jeremy clarkson who is ranked at 24 television gardener and chatshow host alan titchmarsh at 42 and former page 3 girl katie price who is 46th perhaps most surprising is the presence of richard parsons the author of bestselling gcse study guides at no 8 publishers have long known that sex sells and the charts also reflect the runaway success of the fifty shades of grey series of erotic novels which have sold more than 89\\u2009million copies in less than a year e\\u2009l james the british author of the books who was unknown this time last year is now britain’s 26th most successful writer\\xa0 ahead of more established\\xa0 favourites such as wilbur smith and josephine cox fifty shades of grey the first instalment of her trilogy has sold more than 39\\u2009million copies and is currently seventh on the list of bestsellers that puts it narrowly ahead of its sequels fifty shades darker and fifty shades freed which are ranked 13th and 14th but american writer dan brown’s 2003 novel the da vinci code is still the country’s biggestselling book having sold more than 52\\u2009million copies brown himself is the sixth most successful author stieg larsson the swedish author of the millennium series of novels which were published posthumously is ranked at no 36 with sales worth more than £32\\u2009million several of britain’s most celebrated novelists including ian mcewan the author of atonement and birdsong writer sebastian faulks also feature faulks who is ranked 35 has sold 46\\u2009million books since 1998 and is only narrowly ahead of mcewan on 45\\u2009million children’s literature remains a potent sales force as well as rowling the prolific enid blyton – author of noddy the famous five and many other story series – is at no\\u200937 meanwhile tracey beaker creator jacqueline wilson war horse author michael morpurgo and roger hargreaves the creator of the mr men stories are also in\\xa0 the top 50 noticeable by their absence are classic works such as charlotte bronte’s jane eyre and pride and prejudice by jane austen the bookseller believes this is partly because they achieved the bulk of their sales before 1998']\n",
            "****Highlights****\n",
            "['television chef jamie oliver has sold more than 10 million cook books \\noutranked only by harry potter author jk rowling on the booksellers list of the most valuable authors ']\n"
          ]
        }
      ],
      "source": [
        "sample=new_df.sample()\n",
        "print(\"****Article****\")\n",
        "print(sample.article.values)\n",
        "print('****Highlights****')\n",
        "print(sample.highlights.values)"
      ]
    },
    {
      "cell_type": "markdown",
      "metadata": {
        "id": "A8f0fplPn7FV"
      },
      "source": [
        "Checking for Null values\n"
      ]
    },
    {
      "cell_type": "code",
      "execution_count": 47,
      "metadata": {
        "id": "-rj60r4FmswB",
        "colab": {
          "base_uri": "https://localhost:8080/"
        },
        "outputId": "3988eb60-76a2-45a9-e370-c36702997492"
      },
      "outputs": [
        {
          "output_type": "execute_result",
          "data": {
            "text/plain": [
              "id            0\n",
              "article       0\n",
              "highlights    0\n",
              "dtype: int64"
            ]
          },
          "metadata": {},
          "execution_count": 47
        }
      ],
      "source": [
        "new_df.isna().sum()"
      ]
    },
    {
      "cell_type": "markdown",
      "metadata": {
        "id": "uGY2KQtMoDkM"
      },
      "source": [
        "Checking for duplicates\n"
      ]
    },
    {
      "cell_type": "code",
      "execution_count": 48,
      "metadata": {
        "id": "kHMVZot0n4uD",
        "colab": {
          "base_uri": "https://localhost:8080/"
        },
        "outputId": "8064281f-cd52-4f6c-e8ba-8b1956af11f4"
      },
      "outputs": [
        {
          "output_type": "execute_result",
          "data": {
            "text/plain": [
              "0"
            ]
          },
          "metadata": {},
          "execution_count": 48
        }
      ],
      "source": [
        "new_df.duplicated(subset=['article','highlights']).sum()"
      ]
    },
    {
      "cell_type": "code",
      "execution_count": 49,
      "metadata": {
        "id": "QVHFFfmwoZZT",
        "colab": {
          "base_uri": "https://localhost:8080/"
        },
        "outputId": "e0ebb478-d337-4063-da0b-6ba07a12c0ac"
      },
      "outputs": [
        {
          "output_type": "execute_result",
          "data": {
            "text/plain": [
              "(50000, 3)"
            ]
          },
          "metadata": {},
          "execution_count": 49
        }
      ],
      "source": [
        "new_df=new_df.drop_duplicates(subset=['article','highlights'])\n",
        "new_df.shape"
      ]
    },
    {
      "cell_type": "code",
      "execution_count": 50,
      "metadata": {
        "id": "vDaWneCvo12o",
        "colab": {
          "base_uri": "https://localhost:8080/"
        },
        "outputId": "12b35de5-a085-49a2-e358-7dfffc9b231b"
      },
      "outputs": [
        {
          "output_type": "execute_result",
          "data": {
            "text/plain": [
              "0"
            ]
          },
          "metadata": {},
          "execution_count": 50
        }
      ],
      "source": [
        "new_df.duplicated(subset=['article','highlights']).sum()"
      ]
    },
    {
      "cell_type": "code",
      "execution_count": 51,
      "metadata": {
        "id": "T2EEiOeFKUgB",
        "colab": {
          "base_uri": "https://localhost:8080/"
        },
        "outputId": "6fa42439-2da2-49ff-c7df-08105b23bb73"
      },
      "outputs": [
        {
          "output_type": "execute_result",
          "data": {
            "text/plain": [
              "276925    by  sophie jane evans  a disabled chinese boy has been tied up by his family for six years after they struggled to cope with his aggressive behaviour xie guobiao 11 who suffers from a learning dis...\n",
              "238374    baghdad iraq cnn  iraqi leaders are applauding president obamas plan to withdraw most us troops from the country by august 2010 us troops will cede security measures to iraqi security forces inclu...\n",
              "122592    heartbeat recognition could soon be used to unlock doors start cars and even pay for your shopping thanks to new wearable software currently under development the nymi is a lightweight wearable wr...\n",
              "234695    by  daily mail reporter  published  1611 est 29 august 2013    updated  1011 est 30 august 2013  a terrified teenage couple were confronted by armed police on their first holiday abroad  over a ro...\n",
              "185103    by  amanda williams  published  0745 est 28 november 2012    updated  1448 est 28 november 2012  louis walsh has today accepted 500000 euro £403500 in libel damages from the sun in ireland after i...\n",
              "184151    los angeles cnn  the closure of a mountain highway pass in the heart of the nations secondlargest city  an event anticipated to be so calamitous to carloving southern california that its been dubb...\n",
              "181519    cnn  serena williams retained her us open title with a hardfought 75 67 61 victory over victoria azarenka in a gripping final at flushing meadows sunday the world no1 was thoroughly extended by az...\n",
              "40149     the name ferguson will enter americas political vocabulary alongside cities like detroit harlem and south central los angeles  places where black americans rioted in the streets following the viol...\n",
              "63212     well it’s not often that a humble country road sign gets mentioned on the floor of the house of commons but one particular example has been drawn to the attention of no less grand a figure than th...\n",
              "161180    a mother claims to have proof that fairies do exist   after catching one on her home cctv system lucia cordaro 37 is convinced that her security system set up outside her home in chester has captu...\n",
              "Name: article, dtype: object"
            ]
          },
          "metadata": {},
          "execution_count": 51
        }
      ],
      "source": [
        "new_df['article'][:10]"
      ]
    },
    {
      "cell_type": "code",
      "execution_count": 52,
      "metadata": {
        "id": "yzd9n9H5LaX0",
        "colab": {
          "base_uri": "https://localhost:8080/",
          "height": 467
        },
        "outputId": "c15b7c8d-158e-422f-c1a5-c1ebec790405"
      },
      "outputs": [
        {
          "output_type": "execute_result",
          "data": {
            "text/plain": [
              "                                              id  \\\n",
              "276925  f2c51b0e0127c01f19ddc868ff1d49182d76a52b   \n",
              "238374  c08982086dadf2d7809d986d05568471fe895752   \n",
              "122592  2a71fe1c5039b8461ef97667247d448b15549af0   \n",
              "234695  bbd8c5c2e9ea75b506538b7cfa77a721a4a4c2e4   \n",
              "185103  7bca2c8963891ef0bb4ccc45b9f82d37bcc33417   \n",
              "\n",
              "                                                                                                                                                                                                        article  \\\n",
              "276925  by  sophie jane evans  a disabled chinese boy has been tied up by his family for six years after they struggled to cope with his aggressive behaviour xie guobiao 11 who suffers from a learning dis...   \n",
              "238374  baghdad iraq cnn  iraqi leaders are applauding president obamas plan to withdraw most us troops from the country by august 2010 us troops will cede security measures to iraqi security forces inclu...   \n",
              "122592  heartbeat recognition could soon be used to unlock doors start cars and even pay for your shopping thanks to new wearable software currently under development the nymi is a lightweight wearable wr...   \n",
              "234695  by  daily mail reporter  published  1611 est 29 august 2013    updated  1011 est 30 august 2013  a terrified teenage couple were confronted by armed police on their first holiday abroad  over a ro...   \n",
              "185103  by  amanda williams  published  0745 est 28 november 2012    updated  1448 est 28 november 2012  louis walsh has today accepted 500000 euro £403500 in libel damages from the sun in ireland after i...   \n",
              "\n",
              "                                                                                                                                                                                                     highlights  \n",
              "276925  xie guobiao 11 has been tied up by family in daohui china since 2008 \\nparents tie rope around his chest every day before attaching it to a pole \\nthey only allow youngster out of the house for wa...  \n",
              "238374  sunni vice president supports withdrawal of most troops by end of august 2010 \\niraqi prime minister nuri almaliki says iraqi security forces are qualified to take over \\nobama said up to 50000 su...  \n",
              "122592  the nymi authenticates user’s identity through the rhythm of their heartbeat \\nthe wristband could replace pin numbers passwords bank cards and keys \\nas soon as it is removed from the wearer’s bo...  \n",
              "234695                francesca stefanyszyn and ged sykes had no money to pay for damage \\nthey had used the towels to lie on in a krakow park \\nstaff at hotel called police over the lightly mudmarked towels  \n",
              "185103  walsh was falsely accused of groping a man outside a celebrity nightclub in 2011 \\nhe said he would not have wished what happened to him on his worst enemy \\nthe music mogul added he felt vindicat...  "
            ],
            "text/html": [
              "\n",
              "  <div id=\"df-cd6a7e05-489e-4782-953e-36f23222dbae\" class=\"colab-df-container\">\n",
              "    <div>\n",
              "<style scoped>\n",
              "    .dataframe tbody tr th:only-of-type {\n",
              "        vertical-align: middle;\n",
              "    }\n",
              "\n",
              "    .dataframe tbody tr th {\n",
              "        vertical-align: top;\n",
              "    }\n",
              "\n",
              "    .dataframe thead th {\n",
              "        text-align: right;\n",
              "    }\n",
              "</style>\n",
              "<table border=\"1\" class=\"dataframe\">\n",
              "  <thead>\n",
              "    <tr style=\"text-align: right;\">\n",
              "      <th></th>\n",
              "      <th>id</th>\n",
              "      <th>article</th>\n",
              "      <th>highlights</th>\n",
              "    </tr>\n",
              "  </thead>\n",
              "  <tbody>\n",
              "    <tr>\n",
              "      <th>276925</th>\n",
              "      <td>f2c51b0e0127c01f19ddc868ff1d49182d76a52b</td>\n",
              "      <td>by  sophie jane evans  a disabled chinese boy has been tied up by his family for six years after they struggled to cope with his aggressive behaviour xie guobiao 11 who suffers from a learning dis...</td>\n",
              "      <td>xie guobiao 11 has been tied up by family in daohui china since 2008 \\nparents tie rope around his chest every day before attaching it to a pole \\nthey only allow youngster out of the house for wa...</td>\n",
              "    </tr>\n",
              "    <tr>\n",
              "      <th>238374</th>\n",
              "      <td>c08982086dadf2d7809d986d05568471fe895752</td>\n",
              "      <td>baghdad iraq cnn  iraqi leaders are applauding president obamas plan to withdraw most us troops from the country by august 2010 us troops will cede security measures to iraqi security forces inclu...</td>\n",
              "      <td>sunni vice president supports withdrawal of most troops by end of august 2010 \\niraqi prime minister nuri almaliki says iraqi security forces are qualified to take over \\nobama said up to 50000 su...</td>\n",
              "    </tr>\n",
              "    <tr>\n",
              "      <th>122592</th>\n",
              "      <td>2a71fe1c5039b8461ef97667247d448b15549af0</td>\n",
              "      <td>heartbeat recognition could soon be used to unlock doors start cars and even pay for your shopping thanks to new wearable software currently under development the nymi is a lightweight wearable wr...</td>\n",
              "      <td>the nymi authenticates user’s identity through the rhythm of their heartbeat \\nthe wristband could replace pin numbers passwords bank cards and keys \\nas soon as it is removed from the wearer’s bo...</td>\n",
              "    </tr>\n",
              "    <tr>\n",
              "      <th>234695</th>\n",
              "      <td>bbd8c5c2e9ea75b506538b7cfa77a721a4a4c2e4</td>\n",
              "      <td>by  daily mail reporter  published  1611 est 29 august 2013    updated  1011 est 30 august 2013  a terrified teenage couple were confronted by armed police on their first holiday abroad  over a ro...</td>\n",
              "      <td>francesca stefanyszyn and ged sykes had no money to pay for damage \\nthey had used the towels to lie on in a krakow park \\nstaff at hotel called police over the lightly mudmarked towels</td>\n",
              "    </tr>\n",
              "    <tr>\n",
              "      <th>185103</th>\n",
              "      <td>7bca2c8963891ef0bb4ccc45b9f82d37bcc33417</td>\n",
              "      <td>by  amanda williams  published  0745 est 28 november 2012    updated  1448 est 28 november 2012  louis walsh has today accepted 500000 euro £403500 in libel damages from the sun in ireland after i...</td>\n",
              "      <td>walsh was falsely accused of groping a man outside a celebrity nightclub in 2011 \\nhe said he would not have wished what happened to him on his worst enemy \\nthe music mogul added he felt vindicat...</td>\n",
              "    </tr>\n",
              "  </tbody>\n",
              "</table>\n",
              "</div>\n",
              "    <div class=\"colab-df-buttons\">\n",
              "\n",
              "  <div class=\"colab-df-container\">\n",
              "    <button class=\"colab-df-convert\" onclick=\"convertToInteractive('df-cd6a7e05-489e-4782-953e-36f23222dbae')\"\n",
              "            title=\"Convert this dataframe to an interactive table.\"\n",
              "            style=\"display:none;\">\n",
              "\n",
              "  <svg xmlns=\"http://www.w3.org/2000/svg\" height=\"24px\" viewBox=\"0 -960 960 960\">\n",
              "    <path d=\"M120-120v-720h720v720H120Zm60-500h600v-160H180v160Zm220 220h160v-160H400v160Zm0 220h160v-160H400v160ZM180-400h160v-160H180v160Zm440 0h160v-160H620v160ZM180-180h160v-160H180v160Zm440 0h160v-160H620v160Z\"/>\n",
              "  </svg>\n",
              "    </button>\n",
              "\n",
              "  <style>\n",
              "    .colab-df-container {\n",
              "      display:flex;\n",
              "      gap: 12px;\n",
              "    }\n",
              "\n",
              "    .colab-df-convert {\n",
              "      background-color: #E8F0FE;\n",
              "      border: none;\n",
              "      border-radius: 50%;\n",
              "      cursor: pointer;\n",
              "      display: none;\n",
              "      fill: #1967D2;\n",
              "      height: 32px;\n",
              "      padding: 0 0 0 0;\n",
              "      width: 32px;\n",
              "    }\n",
              "\n",
              "    .colab-df-convert:hover {\n",
              "      background-color: #E2EBFA;\n",
              "      box-shadow: 0px 1px 2px rgba(60, 64, 67, 0.3), 0px 1px 3px 1px rgba(60, 64, 67, 0.15);\n",
              "      fill: #174EA6;\n",
              "    }\n",
              "\n",
              "    .colab-df-buttons div {\n",
              "      margin-bottom: 4px;\n",
              "    }\n",
              "\n",
              "    [theme=dark] .colab-df-convert {\n",
              "      background-color: #3B4455;\n",
              "      fill: #D2E3FC;\n",
              "    }\n",
              "\n",
              "    [theme=dark] .colab-df-convert:hover {\n",
              "      background-color: #434B5C;\n",
              "      box-shadow: 0px 1px 3px 1px rgba(0, 0, 0, 0.15);\n",
              "      filter: drop-shadow(0px 1px 2px rgba(0, 0, 0, 0.3));\n",
              "      fill: #FFFFFF;\n",
              "    }\n",
              "  </style>\n",
              "\n",
              "    <script>\n",
              "      const buttonEl =\n",
              "        document.querySelector('#df-cd6a7e05-489e-4782-953e-36f23222dbae button.colab-df-convert');\n",
              "      buttonEl.style.display =\n",
              "        google.colab.kernel.accessAllowed ? 'block' : 'none';\n",
              "\n",
              "      async function convertToInteractive(key) {\n",
              "        const element = document.querySelector('#df-cd6a7e05-489e-4782-953e-36f23222dbae');\n",
              "        const dataTable =\n",
              "          await google.colab.kernel.invokeFunction('convertToInteractive',\n",
              "                                                    [key], {});\n",
              "        if (!dataTable) return;\n",
              "\n",
              "        const docLinkHtml = 'Like what you see? Visit the ' +\n",
              "          '<a target=\"_blank\" href=https://colab.research.google.com/notebooks/data_table.ipynb>data table notebook</a>'\n",
              "          + ' to learn more about interactive tables.';\n",
              "        element.innerHTML = '';\n",
              "        dataTable['output_type'] = 'display_data';\n",
              "        await google.colab.output.renderOutput(dataTable, element);\n",
              "        const docLink = document.createElement('div');\n",
              "        docLink.innerHTML = docLinkHtml;\n",
              "        element.appendChild(docLink);\n",
              "      }\n",
              "    </script>\n",
              "  </div>\n",
              "\n",
              "\n",
              "<div id=\"df-cdb78b5a-8f66-4404-a843-da4cbffd9424\">\n",
              "  <button class=\"colab-df-quickchart\" onclick=\"quickchart('df-cdb78b5a-8f66-4404-a843-da4cbffd9424')\"\n",
              "            title=\"Suggest charts\"\n",
              "            style=\"display:none;\">\n",
              "\n",
              "<svg xmlns=\"http://www.w3.org/2000/svg\" height=\"24px\"viewBox=\"0 0 24 24\"\n",
              "     width=\"24px\">\n",
              "    <g>\n",
              "        <path d=\"M19 3H5c-1.1 0-2 .9-2 2v14c0 1.1.9 2 2 2h14c1.1 0 2-.9 2-2V5c0-1.1-.9-2-2-2zM9 17H7v-7h2v7zm4 0h-2V7h2v10zm4 0h-2v-4h2v4z\"/>\n",
              "    </g>\n",
              "</svg>\n",
              "  </button>\n",
              "\n",
              "<style>\n",
              "  .colab-df-quickchart {\n",
              "      --bg-color: #E8F0FE;\n",
              "      --fill-color: #1967D2;\n",
              "      --hover-bg-color: #E2EBFA;\n",
              "      --hover-fill-color: #174EA6;\n",
              "      --disabled-fill-color: #AAA;\n",
              "      --disabled-bg-color: #DDD;\n",
              "  }\n",
              "\n",
              "  [theme=dark] .colab-df-quickchart {\n",
              "      --bg-color: #3B4455;\n",
              "      --fill-color: #D2E3FC;\n",
              "      --hover-bg-color: #434B5C;\n",
              "      --hover-fill-color: #FFFFFF;\n",
              "      --disabled-bg-color: #3B4455;\n",
              "      --disabled-fill-color: #666;\n",
              "  }\n",
              "\n",
              "  .colab-df-quickchart {\n",
              "    background-color: var(--bg-color);\n",
              "    border: none;\n",
              "    border-radius: 50%;\n",
              "    cursor: pointer;\n",
              "    display: none;\n",
              "    fill: var(--fill-color);\n",
              "    height: 32px;\n",
              "    padding: 0;\n",
              "    width: 32px;\n",
              "  }\n",
              "\n",
              "  .colab-df-quickchart:hover {\n",
              "    background-color: var(--hover-bg-color);\n",
              "    box-shadow: 0 1px 2px rgba(60, 64, 67, 0.3), 0 1px 3px 1px rgba(60, 64, 67, 0.15);\n",
              "    fill: var(--button-hover-fill-color);\n",
              "  }\n",
              "\n",
              "  .colab-df-quickchart-complete:disabled,\n",
              "  .colab-df-quickchart-complete:disabled:hover {\n",
              "    background-color: var(--disabled-bg-color);\n",
              "    fill: var(--disabled-fill-color);\n",
              "    box-shadow: none;\n",
              "  }\n",
              "\n",
              "  .colab-df-spinner {\n",
              "    border: 2px solid var(--fill-color);\n",
              "    border-color: transparent;\n",
              "    border-bottom-color: var(--fill-color);\n",
              "    animation:\n",
              "      spin 1s steps(1) infinite;\n",
              "  }\n",
              "\n",
              "  @keyframes spin {\n",
              "    0% {\n",
              "      border-color: transparent;\n",
              "      border-bottom-color: var(--fill-color);\n",
              "      border-left-color: var(--fill-color);\n",
              "    }\n",
              "    20% {\n",
              "      border-color: transparent;\n",
              "      border-left-color: var(--fill-color);\n",
              "      border-top-color: var(--fill-color);\n",
              "    }\n",
              "    30% {\n",
              "      border-color: transparent;\n",
              "      border-left-color: var(--fill-color);\n",
              "      border-top-color: var(--fill-color);\n",
              "      border-right-color: var(--fill-color);\n",
              "    }\n",
              "    40% {\n",
              "      border-color: transparent;\n",
              "      border-right-color: var(--fill-color);\n",
              "      border-top-color: var(--fill-color);\n",
              "    }\n",
              "    60% {\n",
              "      border-color: transparent;\n",
              "      border-right-color: var(--fill-color);\n",
              "    }\n",
              "    80% {\n",
              "      border-color: transparent;\n",
              "      border-right-color: var(--fill-color);\n",
              "      border-bottom-color: var(--fill-color);\n",
              "    }\n",
              "    90% {\n",
              "      border-color: transparent;\n",
              "      border-bottom-color: var(--fill-color);\n",
              "    }\n",
              "  }\n",
              "</style>\n",
              "\n",
              "  <script>\n",
              "    async function quickchart(key) {\n",
              "      const quickchartButtonEl =\n",
              "        document.querySelector('#' + key + ' button');\n",
              "      quickchartButtonEl.disabled = true;  // To prevent multiple clicks.\n",
              "      quickchartButtonEl.classList.add('colab-df-spinner');\n",
              "      try {\n",
              "        const charts = await google.colab.kernel.invokeFunction(\n",
              "            'suggestCharts', [key], {});\n",
              "      } catch (error) {\n",
              "        console.error('Error during call to suggestCharts:', error);\n",
              "      }\n",
              "      quickchartButtonEl.classList.remove('colab-df-spinner');\n",
              "      quickchartButtonEl.classList.add('colab-df-quickchart-complete');\n",
              "    }\n",
              "    (() => {\n",
              "      let quickchartButtonEl =\n",
              "        document.querySelector('#df-cdb78b5a-8f66-4404-a843-da4cbffd9424 button');\n",
              "      quickchartButtonEl.style.display =\n",
              "        google.colab.kernel.accessAllowed ? 'block' : 'none';\n",
              "    })();\n",
              "  </script>\n",
              "</div>\n",
              "    </div>\n",
              "  </div>\n"
            ]
          },
          "metadata": {},
          "execution_count": 52
        }
      ],
      "source": [
        "new_df['article'] = new_df['article'].str.lower()\n",
        "new_df['highlights'] = new_df['highlights'].str.lower()\n",
        "\n",
        "new_df.head()"
      ]
    },
    {
      "cell_type": "code",
      "execution_count": 53,
      "metadata": {
        "id": "-BWqXLjOS7DS"
      },
      "outputs": [],
      "source": [
        "new_df['article']=new_df['article'].str.lower()\n",
        "\n",
        "new_df['highlights']=new_df['highlights'].str.lower()"
      ]
    },
    {
      "cell_type": "markdown",
      "metadata": {
        "id": "60oRsNGfvm5_"
      },
      "source": [
        "Converting to lower case"
      ]
    },
    {
      "cell_type": "code",
      "execution_count": 54,
      "metadata": {
        "id": "H0xN7npXoA3o",
        "colab": {
          "base_uri": "https://localhost:8080/",
          "height": 467
        },
        "outputId": "6ef58acb-21bb-408d-875d-063107a7fdb1"
      },
      "outputs": [
        {
          "output_type": "execute_result",
          "data": {
            "text/plain": [
              "                                              id  \\\n",
              "276925  f2c51b0e0127c01f19ddc868ff1d49182d76a52b   \n",
              "238374  c08982086dadf2d7809d986d05568471fe895752   \n",
              "122592  2a71fe1c5039b8461ef97667247d448b15549af0   \n",
              "234695  bbd8c5c2e9ea75b506538b7cfa77a721a4a4c2e4   \n",
              "185103  7bca2c8963891ef0bb4ccc45b9f82d37bcc33417   \n",
              "\n",
              "                                                                                                                                                                                                        article  \\\n",
              "276925  by  sophie jane evans  a disabled chinese boy has been tied up by his family for six years after they struggled to cope with his aggressive behaviour xie guobiao 11 who suffers from a learning dis...   \n",
              "238374  baghdad iraq cnn  iraqi leaders are applauding president obamas plan to withdraw most us troops from the country by august 2010 us troops will cede security measures to iraqi security forces inclu...   \n",
              "122592  heartbeat recognition could soon be used to unlock doors start cars and even pay for your shopping thanks to new wearable software currently under development the nymi is a lightweight wearable wr...   \n",
              "234695  by  daily mail reporter  published  1611 est 29 august 2013    updated  1011 est 30 august 2013  a terrified teenage couple were confronted by armed police on their first holiday abroad  over a ro...   \n",
              "185103  by  amanda williams  published  0745 est 28 november 2012    updated  1448 est 28 november 2012  louis walsh has today accepted 500000 euro £403500 in libel damages from the sun in ireland after i...   \n",
              "\n",
              "                                                                                                                                                                                                     highlights  \n",
              "276925  xie guobiao 11 has been tied up by family in daohui china since 2008 \\nparents tie rope around his chest every day before attaching it to a pole \\nthey only allow youngster out of the house for wa...  \n",
              "238374  sunni vice president supports withdrawal of most troops by end of august 2010 \\niraqi prime minister nuri almaliki says iraqi security forces are qualified to take over \\nobama said up to 50000 su...  \n",
              "122592  the nymi authenticates user’s identity through the rhythm of their heartbeat \\nthe wristband could replace pin numbers passwords bank cards and keys \\nas soon as it is removed from the wearer’s bo...  \n",
              "234695                francesca stefanyszyn and ged sykes had no money to pay for damage \\nthey had used the towels to lie on in a krakow park \\nstaff at hotel called police over the lightly mudmarked towels  \n",
              "185103  walsh was falsely accused of groping a man outside a celebrity nightclub in 2011 \\nhe said he would not have wished what happened to him on his worst enemy \\nthe music mogul added he felt vindicat...  "
            ],
            "text/html": [
              "\n",
              "  <div id=\"df-fcad1e2c-99d7-4e2c-8c95-6efda1b68dac\" class=\"colab-df-container\">\n",
              "    <div>\n",
              "<style scoped>\n",
              "    .dataframe tbody tr th:only-of-type {\n",
              "        vertical-align: middle;\n",
              "    }\n",
              "\n",
              "    .dataframe tbody tr th {\n",
              "        vertical-align: top;\n",
              "    }\n",
              "\n",
              "    .dataframe thead th {\n",
              "        text-align: right;\n",
              "    }\n",
              "</style>\n",
              "<table border=\"1\" class=\"dataframe\">\n",
              "  <thead>\n",
              "    <tr style=\"text-align: right;\">\n",
              "      <th></th>\n",
              "      <th>id</th>\n",
              "      <th>article</th>\n",
              "      <th>highlights</th>\n",
              "    </tr>\n",
              "  </thead>\n",
              "  <tbody>\n",
              "    <tr>\n",
              "      <th>276925</th>\n",
              "      <td>f2c51b0e0127c01f19ddc868ff1d49182d76a52b</td>\n",
              "      <td>by  sophie jane evans  a disabled chinese boy has been tied up by his family for six years after they struggled to cope with his aggressive behaviour xie guobiao 11 who suffers from a learning dis...</td>\n",
              "      <td>xie guobiao 11 has been tied up by family in daohui china since 2008 \\nparents tie rope around his chest every day before attaching it to a pole \\nthey only allow youngster out of the house for wa...</td>\n",
              "    </tr>\n",
              "    <tr>\n",
              "      <th>238374</th>\n",
              "      <td>c08982086dadf2d7809d986d05568471fe895752</td>\n",
              "      <td>baghdad iraq cnn  iraqi leaders are applauding president obamas plan to withdraw most us troops from the country by august 2010 us troops will cede security measures to iraqi security forces inclu...</td>\n",
              "      <td>sunni vice president supports withdrawal of most troops by end of august 2010 \\niraqi prime minister nuri almaliki says iraqi security forces are qualified to take over \\nobama said up to 50000 su...</td>\n",
              "    </tr>\n",
              "    <tr>\n",
              "      <th>122592</th>\n",
              "      <td>2a71fe1c5039b8461ef97667247d448b15549af0</td>\n",
              "      <td>heartbeat recognition could soon be used to unlock doors start cars and even pay for your shopping thanks to new wearable software currently under development the nymi is a lightweight wearable wr...</td>\n",
              "      <td>the nymi authenticates user’s identity through the rhythm of their heartbeat \\nthe wristband could replace pin numbers passwords bank cards and keys \\nas soon as it is removed from the wearer’s bo...</td>\n",
              "    </tr>\n",
              "    <tr>\n",
              "      <th>234695</th>\n",
              "      <td>bbd8c5c2e9ea75b506538b7cfa77a721a4a4c2e4</td>\n",
              "      <td>by  daily mail reporter  published  1611 est 29 august 2013    updated  1011 est 30 august 2013  a terrified teenage couple were confronted by armed police on their first holiday abroad  over a ro...</td>\n",
              "      <td>francesca stefanyszyn and ged sykes had no money to pay for damage \\nthey had used the towels to lie on in a krakow park \\nstaff at hotel called police over the lightly mudmarked towels</td>\n",
              "    </tr>\n",
              "    <tr>\n",
              "      <th>185103</th>\n",
              "      <td>7bca2c8963891ef0bb4ccc45b9f82d37bcc33417</td>\n",
              "      <td>by  amanda williams  published  0745 est 28 november 2012    updated  1448 est 28 november 2012  louis walsh has today accepted 500000 euro £403500 in libel damages from the sun in ireland after i...</td>\n",
              "      <td>walsh was falsely accused of groping a man outside a celebrity nightclub in 2011 \\nhe said he would not have wished what happened to him on his worst enemy \\nthe music mogul added he felt vindicat...</td>\n",
              "    </tr>\n",
              "  </tbody>\n",
              "</table>\n",
              "</div>\n",
              "    <div class=\"colab-df-buttons\">\n",
              "\n",
              "  <div class=\"colab-df-container\">\n",
              "    <button class=\"colab-df-convert\" onclick=\"convertToInteractive('df-fcad1e2c-99d7-4e2c-8c95-6efda1b68dac')\"\n",
              "            title=\"Convert this dataframe to an interactive table.\"\n",
              "            style=\"display:none;\">\n",
              "\n",
              "  <svg xmlns=\"http://www.w3.org/2000/svg\" height=\"24px\" viewBox=\"0 -960 960 960\">\n",
              "    <path d=\"M120-120v-720h720v720H120Zm60-500h600v-160H180v160Zm220 220h160v-160H400v160Zm0 220h160v-160H400v160ZM180-400h160v-160H180v160Zm440 0h160v-160H620v160ZM180-180h160v-160H180v160Zm440 0h160v-160H620v160Z\"/>\n",
              "  </svg>\n",
              "    </button>\n",
              "\n",
              "  <style>\n",
              "    .colab-df-container {\n",
              "      display:flex;\n",
              "      gap: 12px;\n",
              "    }\n",
              "\n",
              "    .colab-df-convert {\n",
              "      background-color: #E8F0FE;\n",
              "      border: none;\n",
              "      border-radius: 50%;\n",
              "      cursor: pointer;\n",
              "      display: none;\n",
              "      fill: #1967D2;\n",
              "      height: 32px;\n",
              "      padding: 0 0 0 0;\n",
              "      width: 32px;\n",
              "    }\n",
              "\n",
              "    .colab-df-convert:hover {\n",
              "      background-color: #E2EBFA;\n",
              "      box-shadow: 0px 1px 2px rgba(60, 64, 67, 0.3), 0px 1px 3px 1px rgba(60, 64, 67, 0.15);\n",
              "      fill: #174EA6;\n",
              "    }\n",
              "\n",
              "    .colab-df-buttons div {\n",
              "      margin-bottom: 4px;\n",
              "    }\n",
              "\n",
              "    [theme=dark] .colab-df-convert {\n",
              "      background-color: #3B4455;\n",
              "      fill: #D2E3FC;\n",
              "    }\n",
              "\n",
              "    [theme=dark] .colab-df-convert:hover {\n",
              "      background-color: #434B5C;\n",
              "      box-shadow: 0px 1px 3px 1px rgba(0, 0, 0, 0.15);\n",
              "      filter: drop-shadow(0px 1px 2px rgba(0, 0, 0, 0.3));\n",
              "      fill: #FFFFFF;\n",
              "    }\n",
              "  </style>\n",
              "\n",
              "    <script>\n",
              "      const buttonEl =\n",
              "        document.querySelector('#df-fcad1e2c-99d7-4e2c-8c95-6efda1b68dac button.colab-df-convert');\n",
              "      buttonEl.style.display =\n",
              "        google.colab.kernel.accessAllowed ? 'block' : 'none';\n",
              "\n",
              "      async function convertToInteractive(key) {\n",
              "        const element = document.querySelector('#df-fcad1e2c-99d7-4e2c-8c95-6efda1b68dac');\n",
              "        const dataTable =\n",
              "          await google.colab.kernel.invokeFunction('convertToInteractive',\n",
              "                                                    [key], {});\n",
              "        if (!dataTable) return;\n",
              "\n",
              "        const docLinkHtml = 'Like what you see? Visit the ' +\n",
              "          '<a target=\"_blank\" href=https://colab.research.google.com/notebooks/data_table.ipynb>data table notebook</a>'\n",
              "          + ' to learn more about interactive tables.';\n",
              "        element.innerHTML = '';\n",
              "        dataTable['output_type'] = 'display_data';\n",
              "        await google.colab.output.renderOutput(dataTable, element);\n",
              "        const docLink = document.createElement('div');\n",
              "        docLink.innerHTML = docLinkHtml;\n",
              "        element.appendChild(docLink);\n",
              "      }\n",
              "    </script>\n",
              "  </div>\n",
              "\n",
              "\n",
              "<div id=\"df-0215e4fe-9d87-4eae-b459-e0b67ec91e06\">\n",
              "  <button class=\"colab-df-quickchart\" onclick=\"quickchart('df-0215e4fe-9d87-4eae-b459-e0b67ec91e06')\"\n",
              "            title=\"Suggest charts\"\n",
              "            style=\"display:none;\">\n",
              "\n",
              "<svg xmlns=\"http://www.w3.org/2000/svg\" height=\"24px\"viewBox=\"0 0 24 24\"\n",
              "     width=\"24px\">\n",
              "    <g>\n",
              "        <path d=\"M19 3H5c-1.1 0-2 .9-2 2v14c0 1.1.9 2 2 2h14c1.1 0 2-.9 2-2V5c0-1.1-.9-2-2-2zM9 17H7v-7h2v7zm4 0h-2V7h2v10zm4 0h-2v-4h2v4z\"/>\n",
              "    </g>\n",
              "</svg>\n",
              "  </button>\n",
              "\n",
              "<style>\n",
              "  .colab-df-quickchart {\n",
              "      --bg-color: #E8F0FE;\n",
              "      --fill-color: #1967D2;\n",
              "      --hover-bg-color: #E2EBFA;\n",
              "      --hover-fill-color: #174EA6;\n",
              "      --disabled-fill-color: #AAA;\n",
              "      --disabled-bg-color: #DDD;\n",
              "  }\n",
              "\n",
              "  [theme=dark] .colab-df-quickchart {\n",
              "      --bg-color: #3B4455;\n",
              "      --fill-color: #D2E3FC;\n",
              "      --hover-bg-color: #434B5C;\n",
              "      --hover-fill-color: #FFFFFF;\n",
              "      --disabled-bg-color: #3B4455;\n",
              "      --disabled-fill-color: #666;\n",
              "  }\n",
              "\n",
              "  .colab-df-quickchart {\n",
              "    background-color: var(--bg-color);\n",
              "    border: none;\n",
              "    border-radius: 50%;\n",
              "    cursor: pointer;\n",
              "    display: none;\n",
              "    fill: var(--fill-color);\n",
              "    height: 32px;\n",
              "    padding: 0;\n",
              "    width: 32px;\n",
              "  }\n",
              "\n",
              "  .colab-df-quickchart:hover {\n",
              "    background-color: var(--hover-bg-color);\n",
              "    box-shadow: 0 1px 2px rgba(60, 64, 67, 0.3), 0 1px 3px 1px rgba(60, 64, 67, 0.15);\n",
              "    fill: var(--button-hover-fill-color);\n",
              "  }\n",
              "\n",
              "  .colab-df-quickchart-complete:disabled,\n",
              "  .colab-df-quickchart-complete:disabled:hover {\n",
              "    background-color: var(--disabled-bg-color);\n",
              "    fill: var(--disabled-fill-color);\n",
              "    box-shadow: none;\n",
              "  }\n",
              "\n",
              "  .colab-df-spinner {\n",
              "    border: 2px solid var(--fill-color);\n",
              "    border-color: transparent;\n",
              "    border-bottom-color: var(--fill-color);\n",
              "    animation:\n",
              "      spin 1s steps(1) infinite;\n",
              "  }\n",
              "\n",
              "  @keyframes spin {\n",
              "    0% {\n",
              "      border-color: transparent;\n",
              "      border-bottom-color: var(--fill-color);\n",
              "      border-left-color: var(--fill-color);\n",
              "    }\n",
              "    20% {\n",
              "      border-color: transparent;\n",
              "      border-left-color: var(--fill-color);\n",
              "      border-top-color: var(--fill-color);\n",
              "    }\n",
              "    30% {\n",
              "      border-color: transparent;\n",
              "      border-left-color: var(--fill-color);\n",
              "      border-top-color: var(--fill-color);\n",
              "      border-right-color: var(--fill-color);\n",
              "    }\n",
              "    40% {\n",
              "      border-color: transparent;\n",
              "      border-right-color: var(--fill-color);\n",
              "      border-top-color: var(--fill-color);\n",
              "    }\n",
              "    60% {\n",
              "      border-color: transparent;\n",
              "      border-right-color: var(--fill-color);\n",
              "    }\n",
              "    80% {\n",
              "      border-color: transparent;\n",
              "      border-right-color: var(--fill-color);\n",
              "      border-bottom-color: var(--fill-color);\n",
              "    }\n",
              "    90% {\n",
              "      border-color: transparent;\n",
              "      border-bottom-color: var(--fill-color);\n",
              "    }\n",
              "  }\n",
              "</style>\n",
              "\n",
              "  <script>\n",
              "    async function quickchart(key) {\n",
              "      const quickchartButtonEl =\n",
              "        document.querySelector('#' + key + ' button');\n",
              "      quickchartButtonEl.disabled = true;  // To prevent multiple clicks.\n",
              "      quickchartButtonEl.classList.add('colab-df-spinner');\n",
              "      try {\n",
              "        const charts = await google.colab.kernel.invokeFunction(\n",
              "            'suggestCharts', [key], {});\n",
              "      } catch (error) {\n",
              "        console.error('Error during call to suggestCharts:', error);\n",
              "      }\n",
              "      quickchartButtonEl.classList.remove('colab-df-spinner');\n",
              "      quickchartButtonEl.classList.add('colab-df-quickchart-complete');\n",
              "    }\n",
              "    (() => {\n",
              "      let quickchartButtonEl =\n",
              "        document.querySelector('#df-0215e4fe-9d87-4eae-b459-e0b67ec91e06 button');\n",
              "      quickchartButtonEl.style.display =\n",
              "        google.colab.kernel.accessAllowed ? 'block' : 'none';\n",
              "    })();\n",
              "  </script>\n",
              "</div>\n",
              "    </div>\n",
              "  </div>\n"
            ]
          },
          "metadata": {},
          "execution_count": 54
        }
      ],
      "source": [
        "new_df.head()"
      ]
    },
    {
      "cell_type": "code",
      "execution_count": 17,
      "metadata": {
        "id": "XQn0v0i6vwme"
      },
      "outputs": [],
      "source": [
        "#removing html tags\n",
        "import re\n",
        "def remove_html_tags(text):\n",
        "    if isinstance(text, str):\n",
        "        pattern = re.compile('<.*?>')\n",
        "        return pattern.sub(r'', text)\n",
        "    else:\n",
        "        return text"
      ]
    },
    {
      "cell_type": "code",
      "execution_count": 55,
      "metadata": {
        "id": "KVJUffPswJw3"
      },
      "outputs": [],
      "source": [
        "new_df['article'] = new_df['article'].apply(remove_html_tags)\n",
        "\n",
        "new_df['highlights'] = new_df['highlights'].apply(remove_html_tags)"
      ]
    },
    {
      "cell_type": "code",
      "execution_count": 56,
      "metadata": {
        "id": "r6JZJuYywQCY",
        "colab": {
          "base_uri": "https://localhost:8080/",
          "height": 467
        },
        "outputId": "b37127cf-b72a-4a92-8269-16727b8a3c81"
      },
      "outputs": [
        {
          "output_type": "execute_result",
          "data": {
            "text/plain": [
              "                                              id  \\\n",
              "276925  f2c51b0e0127c01f19ddc868ff1d49182d76a52b   \n",
              "238374  c08982086dadf2d7809d986d05568471fe895752   \n",
              "122592  2a71fe1c5039b8461ef97667247d448b15549af0   \n",
              "234695  bbd8c5c2e9ea75b506538b7cfa77a721a4a4c2e4   \n",
              "185103  7bca2c8963891ef0bb4ccc45b9f82d37bcc33417   \n",
              "\n",
              "                                                                                                                                                                                                        article  \\\n",
              "276925  by  sophie jane evans  a disabled chinese boy has been tied up by his family for six years after they struggled to cope with his aggressive behaviour xie guobiao 11 who suffers from a learning dis...   \n",
              "238374  baghdad iraq cnn  iraqi leaders are applauding president obamas plan to withdraw most us troops from the country by august 2010 us troops will cede security measures to iraqi security forces inclu...   \n",
              "122592  heartbeat recognition could soon be used to unlock doors start cars and even pay for your shopping thanks to new wearable software currently under development the nymi is a lightweight wearable wr...   \n",
              "234695  by  daily mail reporter  published  1611 est 29 august 2013    updated  1011 est 30 august 2013  a terrified teenage couple were confronted by armed police on their first holiday abroad  over a ro...   \n",
              "185103  by  amanda williams  published  0745 est 28 november 2012    updated  1448 est 28 november 2012  louis walsh has today accepted 500000 euro £403500 in libel damages from the sun in ireland after i...   \n",
              "\n",
              "                                                                                                                                                                                                     highlights  \n",
              "276925  xie guobiao 11 has been tied up by family in daohui china since 2008 \\nparents tie rope around his chest every day before attaching it to a pole \\nthey only allow youngster out of the house for wa...  \n",
              "238374  sunni vice president supports withdrawal of most troops by end of august 2010 \\niraqi prime minister nuri almaliki says iraqi security forces are qualified to take over \\nobama said up to 50000 su...  \n",
              "122592  the nymi authenticates user’s identity through the rhythm of their heartbeat \\nthe wristband could replace pin numbers passwords bank cards and keys \\nas soon as it is removed from the wearer’s bo...  \n",
              "234695                francesca stefanyszyn and ged sykes had no money to pay for damage \\nthey had used the towels to lie on in a krakow park \\nstaff at hotel called police over the lightly mudmarked towels  \n",
              "185103  walsh was falsely accused of groping a man outside a celebrity nightclub in 2011 \\nhe said he would not have wished what happened to him on his worst enemy \\nthe music mogul added he felt vindicat...  "
            ],
            "text/html": [
              "\n",
              "  <div id=\"df-b5c0f7f0-b725-431d-b3f9-a249131572a6\" class=\"colab-df-container\">\n",
              "    <div>\n",
              "<style scoped>\n",
              "    .dataframe tbody tr th:only-of-type {\n",
              "        vertical-align: middle;\n",
              "    }\n",
              "\n",
              "    .dataframe tbody tr th {\n",
              "        vertical-align: top;\n",
              "    }\n",
              "\n",
              "    .dataframe thead th {\n",
              "        text-align: right;\n",
              "    }\n",
              "</style>\n",
              "<table border=\"1\" class=\"dataframe\">\n",
              "  <thead>\n",
              "    <tr style=\"text-align: right;\">\n",
              "      <th></th>\n",
              "      <th>id</th>\n",
              "      <th>article</th>\n",
              "      <th>highlights</th>\n",
              "    </tr>\n",
              "  </thead>\n",
              "  <tbody>\n",
              "    <tr>\n",
              "      <th>276925</th>\n",
              "      <td>f2c51b0e0127c01f19ddc868ff1d49182d76a52b</td>\n",
              "      <td>by  sophie jane evans  a disabled chinese boy has been tied up by his family for six years after they struggled to cope with his aggressive behaviour xie guobiao 11 who suffers from a learning dis...</td>\n",
              "      <td>xie guobiao 11 has been tied up by family in daohui china since 2008 \\nparents tie rope around his chest every day before attaching it to a pole \\nthey only allow youngster out of the house for wa...</td>\n",
              "    </tr>\n",
              "    <tr>\n",
              "      <th>238374</th>\n",
              "      <td>c08982086dadf2d7809d986d05568471fe895752</td>\n",
              "      <td>baghdad iraq cnn  iraqi leaders are applauding president obamas plan to withdraw most us troops from the country by august 2010 us troops will cede security measures to iraqi security forces inclu...</td>\n",
              "      <td>sunni vice president supports withdrawal of most troops by end of august 2010 \\niraqi prime minister nuri almaliki says iraqi security forces are qualified to take over \\nobama said up to 50000 su...</td>\n",
              "    </tr>\n",
              "    <tr>\n",
              "      <th>122592</th>\n",
              "      <td>2a71fe1c5039b8461ef97667247d448b15549af0</td>\n",
              "      <td>heartbeat recognition could soon be used to unlock doors start cars and even pay for your shopping thanks to new wearable software currently under development the nymi is a lightweight wearable wr...</td>\n",
              "      <td>the nymi authenticates user’s identity through the rhythm of their heartbeat \\nthe wristband could replace pin numbers passwords bank cards and keys \\nas soon as it is removed from the wearer’s bo...</td>\n",
              "    </tr>\n",
              "    <tr>\n",
              "      <th>234695</th>\n",
              "      <td>bbd8c5c2e9ea75b506538b7cfa77a721a4a4c2e4</td>\n",
              "      <td>by  daily mail reporter  published  1611 est 29 august 2013    updated  1011 est 30 august 2013  a terrified teenage couple were confronted by armed police on their first holiday abroad  over a ro...</td>\n",
              "      <td>francesca stefanyszyn and ged sykes had no money to pay for damage \\nthey had used the towels to lie on in a krakow park \\nstaff at hotel called police over the lightly mudmarked towels</td>\n",
              "    </tr>\n",
              "    <tr>\n",
              "      <th>185103</th>\n",
              "      <td>7bca2c8963891ef0bb4ccc45b9f82d37bcc33417</td>\n",
              "      <td>by  amanda williams  published  0745 est 28 november 2012    updated  1448 est 28 november 2012  louis walsh has today accepted 500000 euro £403500 in libel damages from the sun in ireland after i...</td>\n",
              "      <td>walsh was falsely accused of groping a man outside a celebrity nightclub in 2011 \\nhe said he would not have wished what happened to him on his worst enemy \\nthe music mogul added he felt vindicat...</td>\n",
              "    </tr>\n",
              "  </tbody>\n",
              "</table>\n",
              "</div>\n",
              "    <div class=\"colab-df-buttons\">\n",
              "\n",
              "  <div class=\"colab-df-container\">\n",
              "    <button class=\"colab-df-convert\" onclick=\"convertToInteractive('df-b5c0f7f0-b725-431d-b3f9-a249131572a6')\"\n",
              "            title=\"Convert this dataframe to an interactive table.\"\n",
              "            style=\"display:none;\">\n",
              "\n",
              "  <svg xmlns=\"http://www.w3.org/2000/svg\" height=\"24px\" viewBox=\"0 -960 960 960\">\n",
              "    <path d=\"M120-120v-720h720v720H120Zm60-500h600v-160H180v160Zm220 220h160v-160H400v160Zm0 220h160v-160H400v160ZM180-400h160v-160H180v160Zm440 0h160v-160H620v160ZM180-180h160v-160H180v160Zm440 0h160v-160H620v160Z\"/>\n",
              "  </svg>\n",
              "    </button>\n",
              "\n",
              "  <style>\n",
              "    .colab-df-container {\n",
              "      display:flex;\n",
              "      gap: 12px;\n",
              "    }\n",
              "\n",
              "    .colab-df-convert {\n",
              "      background-color: #E8F0FE;\n",
              "      border: none;\n",
              "      border-radius: 50%;\n",
              "      cursor: pointer;\n",
              "      display: none;\n",
              "      fill: #1967D2;\n",
              "      height: 32px;\n",
              "      padding: 0 0 0 0;\n",
              "      width: 32px;\n",
              "    }\n",
              "\n",
              "    .colab-df-convert:hover {\n",
              "      background-color: #E2EBFA;\n",
              "      box-shadow: 0px 1px 2px rgba(60, 64, 67, 0.3), 0px 1px 3px 1px rgba(60, 64, 67, 0.15);\n",
              "      fill: #174EA6;\n",
              "    }\n",
              "\n",
              "    .colab-df-buttons div {\n",
              "      margin-bottom: 4px;\n",
              "    }\n",
              "\n",
              "    [theme=dark] .colab-df-convert {\n",
              "      background-color: #3B4455;\n",
              "      fill: #D2E3FC;\n",
              "    }\n",
              "\n",
              "    [theme=dark] .colab-df-convert:hover {\n",
              "      background-color: #434B5C;\n",
              "      box-shadow: 0px 1px 3px 1px rgba(0, 0, 0, 0.15);\n",
              "      filter: drop-shadow(0px 1px 2px rgba(0, 0, 0, 0.3));\n",
              "      fill: #FFFFFF;\n",
              "    }\n",
              "  </style>\n",
              "\n",
              "    <script>\n",
              "      const buttonEl =\n",
              "        document.querySelector('#df-b5c0f7f0-b725-431d-b3f9-a249131572a6 button.colab-df-convert');\n",
              "      buttonEl.style.display =\n",
              "        google.colab.kernel.accessAllowed ? 'block' : 'none';\n",
              "\n",
              "      async function convertToInteractive(key) {\n",
              "        const element = document.querySelector('#df-b5c0f7f0-b725-431d-b3f9-a249131572a6');\n",
              "        const dataTable =\n",
              "          await google.colab.kernel.invokeFunction('convertToInteractive',\n",
              "                                                    [key], {});\n",
              "        if (!dataTable) return;\n",
              "\n",
              "        const docLinkHtml = 'Like what you see? Visit the ' +\n",
              "          '<a target=\"_blank\" href=https://colab.research.google.com/notebooks/data_table.ipynb>data table notebook</a>'\n",
              "          + ' to learn more about interactive tables.';\n",
              "        element.innerHTML = '';\n",
              "        dataTable['output_type'] = 'display_data';\n",
              "        await google.colab.output.renderOutput(dataTable, element);\n",
              "        const docLink = document.createElement('div');\n",
              "        docLink.innerHTML = docLinkHtml;\n",
              "        element.appendChild(docLink);\n",
              "      }\n",
              "    </script>\n",
              "  </div>\n",
              "\n",
              "\n",
              "<div id=\"df-9ee1a1bc-9793-459d-82a4-fec826ca3455\">\n",
              "  <button class=\"colab-df-quickchart\" onclick=\"quickchart('df-9ee1a1bc-9793-459d-82a4-fec826ca3455')\"\n",
              "            title=\"Suggest charts\"\n",
              "            style=\"display:none;\">\n",
              "\n",
              "<svg xmlns=\"http://www.w3.org/2000/svg\" height=\"24px\"viewBox=\"0 0 24 24\"\n",
              "     width=\"24px\">\n",
              "    <g>\n",
              "        <path d=\"M19 3H5c-1.1 0-2 .9-2 2v14c0 1.1.9 2 2 2h14c1.1 0 2-.9 2-2V5c0-1.1-.9-2-2-2zM9 17H7v-7h2v7zm4 0h-2V7h2v10zm4 0h-2v-4h2v4z\"/>\n",
              "    </g>\n",
              "</svg>\n",
              "  </button>\n",
              "\n",
              "<style>\n",
              "  .colab-df-quickchart {\n",
              "      --bg-color: #E8F0FE;\n",
              "      --fill-color: #1967D2;\n",
              "      --hover-bg-color: #E2EBFA;\n",
              "      --hover-fill-color: #174EA6;\n",
              "      --disabled-fill-color: #AAA;\n",
              "      --disabled-bg-color: #DDD;\n",
              "  }\n",
              "\n",
              "  [theme=dark] .colab-df-quickchart {\n",
              "      --bg-color: #3B4455;\n",
              "      --fill-color: #D2E3FC;\n",
              "      --hover-bg-color: #434B5C;\n",
              "      --hover-fill-color: #FFFFFF;\n",
              "      --disabled-bg-color: #3B4455;\n",
              "      --disabled-fill-color: #666;\n",
              "  }\n",
              "\n",
              "  .colab-df-quickchart {\n",
              "    background-color: var(--bg-color);\n",
              "    border: none;\n",
              "    border-radius: 50%;\n",
              "    cursor: pointer;\n",
              "    display: none;\n",
              "    fill: var(--fill-color);\n",
              "    height: 32px;\n",
              "    padding: 0;\n",
              "    width: 32px;\n",
              "  }\n",
              "\n",
              "  .colab-df-quickchart:hover {\n",
              "    background-color: var(--hover-bg-color);\n",
              "    box-shadow: 0 1px 2px rgba(60, 64, 67, 0.3), 0 1px 3px 1px rgba(60, 64, 67, 0.15);\n",
              "    fill: var(--button-hover-fill-color);\n",
              "  }\n",
              "\n",
              "  .colab-df-quickchart-complete:disabled,\n",
              "  .colab-df-quickchart-complete:disabled:hover {\n",
              "    background-color: var(--disabled-bg-color);\n",
              "    fill: var(--disabled-fill-color);\n",
              "    box-shadow: none;\n",
              "  }\n",
              "\n",
              "  .colab-df-spinner {\n",
              "    border: 2px solid var(--fill-color);\n",
              "    border-color: transparent;\n",
              "    border-bottom-color: var(--fill-color);\n",
              "    animation:\n",
              "      spin 1s steps(1) infinite;\n",
              "  }\n",
              "\n",
              "  @keyframes spin {\n",
              "    0% {\n",
              "      border-color: transparent;\n",
              "      border-bottom-color: var(--fill-color);\n",
              "      border-left-color: var(--fill-color);\n",
              "    }\n",
              "    20% {\n",
              "      border-color: transparent;\n",
              "      border-left-color: var(--fill-color);\n",
              "      border-top-color: var(--fill-color);\n",
              "    }\n",
              "    30% {\n",
              "      border-color: transparent;\n",
              "      border-left-color: var(--fill-color);\n",
              "      border-top-color: var(--fill-color);\n",
              "      border-right-color: var(--fill-color);\n",
              "    }\n",
              "    40% {\n",
              "      border-color: transparent;\n",
              "      border-right-color: var(--fill-color);\n",
              "      border-top-color: var(--fill-color);\n",
              "    }\n",
              "    60% {\n",
              "      border-color: transparent;\n",
              "      border-right-color: var(--fill-color);\n",
              "    }\n",
              "    80% {\n",
              "      border-color: transparent;\n",
              "      border-right-color: var(--fill-color);\n",
              "      border-bottom-color: var(--fill-color);\n",
              "    }\n",
              "    90% {\n",
              "      border-color: transparent;\n",
              "      border-bottom-color: var(--fill-color);\n",
              "    }\n",
              "  }\n",
              "</style>\n",
              "\n",
              "  <script>\n",
              "    async function quickchart(key) {\n",
              "      const quickchartButtonEl =\n",
              "        document.querySelector('#' + key + ' button');\n",
              "      quickchartButtonEl.disabled = true;  // To prevent multiple clicks.\n",
              "      quickchartButtonEl.classList.add('colab-df-spinner');\n",
              "      try {\n",
              "        const charts = await google.colab.kernel.invokeFunction(\n",
              "            'suggestCharts', [key], {});\n",
              "      } catch (error) {\n",
              "        console.error('Error during call to suggestCharts:', error);\n",
              "      }\n",
              "      quickchartButtonEl.classList.remove('colab-df-spinner');\n",
              "      quickchartButtonEl.classList.add('colab-df-quickchart-complete');\n",
              "    }\n",
              "    (() => {\n",
              "      let quickchartButtonEl =\n",
              "        document.querySelector('#df-9ee1a1bc-9793-459d-82a4-fec826ca3455 button');\n",
              "      quickchartButtonEl.style.display =\n",
              "        google.colab.kernel.accessAllowed ? 'block' : 'none';\n",
              "    })();\n",
              "  </script>\n",
              "</div>\n",
              "    </div>\n",
              "  </div>\n"
            ]
          },
          "metadata": {},
          "execution_count": 56
        }
      ],
      "source": [
        "new_df.head()"
      ]
    },
    {
      "cell_type": "code",
      "execution_count": 20,
      "metadata": {
        "id": "TaKdy7PHwUtP"
      },
      "outputs": [],
      "source": [
        "#removing punchuation\n",
        "\n",
        "\n",
        "import string\n",
        "string.punctuation\n",
        "exclude = string.punctuation\n",
        "def remove_punc(text):\n",
        "    if isinstance(text, str):\n",
        "        return ''.join(ch for ch in text if ch not in exclude)\n",
        "    else:\n",
        "        return str(text)  # Convert non-string data to string"
      ]
    },
    {
      "cell_type": "code",
      "execution_count": 57,
      "metadata": {
        "id": "s-EUZ33swfy1"
      },
      "outputs": [],
      "source": [
        "new_df['article'] = new_df['article'].apply(remove_punc)\n",
        "\n",
        "new_df['highlights'] = new_df['highlights'].apply(remove_punc)"
      ]
    },
    {
      "cell_type": "code",
      "execution_count": 58,
      "metadata": {
        "id": "N2jk9WjfwkZI",
        "colab": {
          "base_uri": "https://localhost:8080/"
        },
        "outputId": "7eef04e3-bc4b-45f7-e131-2abc57b3a29e"
      },
      "outputs": [
        {
          "output_type": "stream",
          "name": "stdout",
          "text": [
            "['i', 'me', 'my', 'myself', 'we', 'our', 'ours', 'ourselves', 'you', \"you're\", \"you've\", \"you'll\", \"you'd\", 'your', 'yours', 'yourself', 'yourselves', 'he', 'him', 'his', 'himself', 'she', \"she's\", 'her', 'hers', 'herself', 'it', \"it's\", 'its', 'itself', 'they', 'them', 'their', 'theirs', 'themselves', 'what', 'which', 'who', 'whom', 'this', 'that', \"that'll\", 'these', 'those', 'am', 'is', 'are', 'was', 'were', 'be', 'been', 'being', 'have', 'has', 'had', 'having', 'do', 'does', 'did', 'doing', 'a', 'an', 'the', 'and', 'but', 'if', 'or', 'because', 'as', 'until', 'while', 'of', 'at', 'by', 'for', 'with', 'about', 'against', 'between', 'into', 'through', 'during', 'before', 'after', 'above', 'below', 'to', 'from', 'up', 'down', 'in', 'out', 'on', 'off', 'over', 'under', 'again', 'further', 'then', 'once', 'here', 'there', 'when', 'where', 'why', 'how', 'all', 'any', 'both', 'each', 'few', 'more', 'most', 'other', 'some', 'such', 'no', 'nor', 'not', 'only', 'own', 'same', 'so', 'than', 'too', 'very', 's', 't', 'can', 'will', 'just', 'don', \"don't\", 'should', \"should've\", 'now', 'd', 'll', 'm', 'o', 're', 've', 'y', 'ain', 'aren', \"aren't\", 'couldn', \"couldn't\", 'didn', \"didn't\", 'doesn', \"doesn't\", 'hadn', \"hadn't\", 'hasn', \"hasn't\", 'haven', \"haven't\", 'isn', \"isn't\", 'ma', 'mightn', \"mightn't\", 'mustn', \"mustn't\", 'needn', \"needn't\", 'shan', \"shan't\", 'shouldn', \"shouldn't\", 'wasn', \"wasn't\", 'weren', \"weren't\", 'won', \"won't\", 'wouldn', \"wouldn't\"]\n"
          ]
        },
        {
          "output_type": "stream",
          "name": "stderr",
          "text": [
            "[nltk_data] Downloading package stopwords to /root/nltk_data...\n",
            "[nltk_data]   Package stopwords is already up-to-date!\n"
          ]
        }
      ],
      "source": [
        "from nltk.corpus import stopwords\n",
        "nltk.download('stopwords')\n",
        "stopwords = nltk.corpus.stopwords.words('english')\n",
        "\n",
        "print(stopwords)"
      ]
    },
    {
      "cell_type": "code",
      "source": [
        "import nltk\n",
        "nltk.download('stopwords')\n",
        "from nltk.corpus import stopwords\n",
        "\n",
        "stop_words = stopwords.words('english')\n",
        "new_df['article'] = new_df['article'].apply(lambda x: ' '.join([word for word in x.split() if word not in (stop_words)]))\n",
        "new_df['highlights'] = new_df['highlights'].apply(lambda x: ' '.join([word for word in x.split() if word not in (stop_words)]))"
      ],
      "metadata": {
        "colab": {
          "base_uri": "https://localhost:8080/"
        },
        "id": "JGR138QarO3c",
        "outputId": "1787556e-824d-4d4b-89e7-b73712926c92"
      },
      "execution_count": 60,
      "outputs": [
        {
          "output_type": "stream",
          "name": "stderr",
          "text": [
            "[nltk_data] Downloading package stopwords to /root/nltk_data...\n",
            "[nltk_data]   Package stopwords is already up-to-date!\n"
          ]
        }
      ]
    },
    {
      "cell_type": "code",
      "source": [
        "data_train.head(1)"
      ],
      "metadata": {
        "colab": {
          "base_uri": "https://localhost:8080/",
          "height": 115
        },
        "id": "ZFWR4dg1sQlH",
        "outputId": "55154a9d-be40-433d-a9ac-f97d51da312d"
      },
      "execution_count": 37,
      "outputs": [
        {
          "output_type": "execute_result",
          "data": {
            "text/plain": [
              "                                         id  \\\n",
              "0  0001d1afc246a7964130f43ae940af6bc6c57f01   \n",
              "\n",
              "                                                                                                                                                                                                   article  \\\n",
              "0  by  associated press  published  1411 est 25 october 2013    updated  1536 est 25 october 2013  the bishop of the fargo catholic diocese in north dakota has exposed potentially hundreds of church ...   \n",
              "\n",
              "                                                                                                                                                                                                highlights  \n",
              "0  bishop john folda of north dakota is taking time off after being diagnosed \\nhe contracted the infection through contaminated food in italy \\nchurch members in fargo grand forks and jamestown coul...  "
            ],
            "text/html": [
              "\n",
              "  <div id=\"df-b832da8f-bf71-4878-9b23-542dc4b6356a\" class=\"colab-df-container\">\n",
              "    <div>\n",
              "<style scoped>\n",
              "    .dataframe tbody tr th:only-of-type {\n",
              "        vertical-align: middle;\n",
              "    }\n",
              "\n",
              "    .dataframe tbody tr th {\n",
              "        vertical-align: top;\n",
              "    }\n",
              "\n",
              "    .dataframe thead th {\n",
              "        text-align: right;\n",
              "    }\n",
              "</style>\n",
              "<table border=\"1\" class=\"dataframe\">\n",
              "  <thead>\n",
              "    <tr style=\"text-align: right;\">\n",
              "      <th></th>\n",
              "      <th>id</th>\n",
              "      <th>article</th>\n",
              "      <th>highlights</th>\n",
              "    </tr>\n",
              "  </thead>\n",
              "  <tbody>\n",
              "    <tr>\n",
              "      <th>0</th>\n",
              "      <td>0001d1afc246a7964130f43ae940af6bc6c57f01</td>\n",
              "      <td>by  associated press  published  1411 est 25 october 2013    updated  1536 est 25 october 2013  the bishop of the fargo catholic diocese in north dakota has exposed potentially hundreds of church ...</td>\n",
              "      <td>bishop john folda of north dakota is taking time off after being diagnosed \\nhe contracted the infection through contaminated food in italy \\nchurch members in fargo grand forks and jamestown coul...</td>\n",
              "    </tr>\n",
              "  </tbody>\n",
              "</table>\n",
              "</div>\n",
              "    <div class=\"colab-df-buttons\">\n",
              "\n",
              "  <div class=\"colab-df-container\">\n",
              "    <button class=\"colab-df-convert\" onclick=\"convertToInteractive('df-b832da8f-bf71-4878-9b23-542dc4b6356a')\"\n",
              "            title=\"Convert this dataframe to an interactive table.\"\n",
              "            style=\"display:none;\">\n",
              "\n",
              "  <svg xmlns=\"http://www.w3.org/2000/svg\" height=\"24px\" viewBox=\"0 -960 960 960\">\n",
              "    <path d=\"M120-120v-720h720v720H120Zm60-500h600v-160H180v160Zm220 220h160v-160H400v160Zm0 220h160v-160H400v160ZM180-400h160v-160H180v160Zm440 0h160v-160H620v160ZM180-180h160v-160H180v160Zm440 0h160v-160H620v160Z\"/>\n",
              "  </svg>\n",
              "    </button>\n",
              "\n",
              "  <style>\n",
              "    .colab-df-container {\n",
              "      display:flex;\n",
              "      gap: 12px;\n",
              "    }\n",
              "\n",
              "    .colab-df-convert {\n",
              "      background-color: #E8F0FE;\n",
              "      border: none;\n",
              "      border-radius: 50%;\n",
              "      cursor: pointer;\n",
              "      display: none;\n",
              "      fill: #1967D2;\n",
              "      height: 32px;\n",
              "      padding: 0 0 0 0;\n",
              "      width: 32px;\n",
              "    }\n",
              "\n",
              "    .colab-df-convert:hover {\n",
              "      background-color: #E2EBFA;\n",
              "      box-shadow: 0px 1px 2px rgba(60, 64, 67, 0.3), 0px 1px 3px 1px rgba(60, 64, 67, 0.15);\n",
              "      fill: #174EA6;\n",
              "    }\n",
              "\n",
              "    .colab-df-buttons div {\n",
              "      margin-bottom: 4px;\n",
              "    }\n",
              "\n",
              "    [theme=dark] .colab-df-convert {\n",
              "      background-color: #3B4455;\n",
              "      fill: #D2E3FC;\n",
              "    }\n",
              "\n",
              "    [theme=dark] .colab-df-convert:hover {\n",
              "      background-color: #434B5C;\n",
              "      box-shadow: 0px 1px 3px 1px rgba(0, 0, 0, 0.15);\n",
              "      filter: drop-shadow(0px 1px 2px rgba(0, 0, 0, 0.3));\n",
              "      fill: #FFFFFF;\n",
              "    }\n",
              "  </style>\n",
              "\n",
              "    <script>\n",
              "      const buttonEl =\n",
              "        document.querySelector('#df-b832da8f-bf71-4878-9b23-542dc4b6356a button.colab-df-convert');\n",
              "      buttonEl.style.display =\n",
              "        google.colab.kernel.accessAllowed ? 'block' : 'none';\n",
              "\n",
              "      async function convertToInteractive(key) {\n",
              "        const element = document.querySelector('#df-b832da8f-bf71-4878-9b23-542dc4b6356a');\n",
              "        const dataTable =\n",
              "          await google.colab.kernel.invokeFunction('convertToInteractive',\n",
              "                                                    [key], {});\n",
              "        if (!dataTable) return;\n",
              "\n",
              "        const docLinkHtml = 'Like what you see? Visit the ' +\n",
              "          '<a target=\"_blank\" href=https://colab.research.google.com/notebooks/data_table.ipynb>data table notebook</a>'\n",
              "          + ' to learn more about interactive tables.';\n",
              "        element.innerHTML = '';\n",
              "        dataTable['output_type'] = 'display_data';\n",
              "        await google.colab.output.renderOutput(dataTable, element);\n",
              "        const docLink = document.createElement('div');\n",
              "        docLink.innerHTML = docLinkHtml;\n",
              "        element.appendChild(docLink);\n",
              "      }\n",
              "    </script>\n",
              "  </div>\n",
              "\n",
              "    </div>\n",
              "  </div>\n"
            ]
          },
          "metadata": {},
          "execution_count": 37
        }
      ]
    },
    {
      "cell_type": "code",
      "source": [
        "new_df.head(1)"
      ],
      "metadata": {
        "colab": {
          "base_uri": "https://localhost:8080/",
          "height": 133
        },
        "id": "53UvDl_TxJUo",
        "outputId": "edcba696-0fde-4c66-88ab-08347d3f8955"
      },
      "execution_count": 61,
      "outputs": [
        {
          "output_type": "execute_result",
          "data": {
            "text/plain": [
              "                                              id  \\\n",
              "276925  f2c51b0e0127c01f19ddc868ff1d49182d76a52b   \n",
              "\n",
              "                                                                                                                                                                                                        article  \\\n",
              "276925  sophie jane evans disabled chinese boy tied family six years struggled cope aggressive behaviour xie guobiao 11 suffers learning disorder first held captive 2008 became nuisance hometown songyang ...   \n",
              "\n",
              "                                                                                                                                                                                                     highlights  \n",
              "276925  xie guobiao 11 tied family daohui china since 2008 parents tie rope around chest every day attaching pole allow youngster house walks rope lead xie learning disorder reportedly caused trouble vill...  "
            ],
            "text/html": [
              "\n",
              "  <div id=\"df-6ac30983-7adc-480c-8bc7-1eddb8d104be\" class=\"colab-df-container\">\n",
              "    <div>\n",
              "<style scoped>\n",
              "    .dataframe tbody tr th:only-of-type {\n",
              "        vertical-align: middle;\n",
              "    }\n",
              "\n",
              "    .dataframe tbody tr th {\n",
              "        vertical-align: top;\n",
              "    }\n",
              "\n",
              "    .dataframe thead th {\n",
              "        text-align: right;\n",
              "    }\n",
              "</style>\n",
              "<table border=\"1\" class=\"dataframe\">\n",
              "  <thead>\n",
              "    <tr style=\"text-align: right;\">\n",
              "      <th></th>\n",
              "      <th>id</th>\n",
              "      <th>article</th>\n",
              "      <th>highlights</th>\n",
              "    </tr>\n",
              "  </thead>\n",
              "  <tbody>\n",
              "    <tr>\n",
              "      <th>276925</th>\n",
              "      <td>f2c51b0e0127c01f19ddc868ff1d49182d76a52b</td>\n",
              "      <td>sophie jane evans disabled chinese boy tied family six years struggled cope aggressive behaviour xie guobiao 11 suffers learning disorder first held captive 2008 became nuisance hometown songyang ...</td>\n",
              "      <td>xie guobiao 11 tied family daohui china since 2008 parents tie rope around chest every day attaching pole allow youngster house walks rope lead xie learning disorder reportedly caused trouble vill...</td>\n",
              "    </tr>\n",
              "  </tbody>\n",
              "</table>\n",
              "</div>\n",
              "    <div class=\"colab-df-buttons\">\n",
              "\n",
              "  <div class=\"colab-df-container\">\n",
              "    <button class=\"colab-df-convert\" onclick=\"convertToInteractive('df-6ac30983-7adc-480c-8bc7-1eddb8d104be')\"\n",
              "            title=\"Convert this dataframe to an interactive table.\"\n",
              "            style=\"display:none;\">\n",
              "\n",
              "  <svg xmlns=\"http://www.w3.org/2000/svg\" height=\"24px\" viewBox=\"0 -960 960 960\">\n",
              "    <path d=\"M120-120v-720h720v720H120Zm60-500h600v-160H180v160Zm220 220h160v-160H400v160Zm0 220h160v-160H400v160ZM180-400h160v-160H180v160Zm440 0h160v-160H620v160ZM180-180h160v-160H180v160Zm440 0h160v-160H620v160Z\"/>\n",
              "  </svg>\n",
              "    </button>\n",
              "\n",
              "  <style>\n",
              "    .colab-df-container {\n",
              "      display:flex;\n",
              "      gap: 12px;\n",
              "    }\n",
              "\n",
              "    .colab-df-convert {\n",
              "      background-color: #E8F0FE;\n",
              "      border: none;\n",
              "      border-radius: 50%;\n",
              "      cursor: pointer;\n",
              "      display: none;\n",
              "      fill: #1967D2;\n",
              "      height: 32px;\n",
              "      padding: 0 0 0 0;\n",
              "      width: 32px;\n",
              "    }\n",
              "\n",
              "    .colab-df-convert:hover {\n",
              "      background-color: #E2EBFA;\n",
              "      box-shadow: 0px 1px 2px rgba(60, 64, 67, 0.3), 0px 1px 3px 1px rgba(60, 64, 67, 0.15);\n",
              "      fill: #174EA6;\n",
              "    }\n",
              "\n",
              "    .colab-df-buttons div {\n",
              "      margin-bottom: 4px;\n",
              "    }\n",
              "\n",
              "    [theme=dark] .colab-df-convert {\n",
              "      background-color: #3B4455;\n",
              "      fill: #D2E3FC;\n",
              "    }\n",
              "\n",
              "    [theme=dark] .colab-df-convert:hover {\n",
              "      background-color: #434B5C;\n",
              "      box-shadow: 0px 1px 3px 1px rgba(0, 0, 0, 0.15);\n",
              "      filter: drop-shadow(0px 1px 2px rgba(0, 0, 0, 0.3));\n",
              "      fill: #FFFFFF;\n",
              "    }\n",
              "  </style>\n",
              "\n",
              "    <script>\n",
              "      const buttonEl =\n",
              "        document.querySelector('#df-6ac30983-7adc-480c-8bc7-1eddb8d104be button.colab-df-convert');\n",
              "      buttonEl.style.display =\n",
              "        google.colab.kernel.accessAllowed ? 'block' : 'none';\n",
              "\n",
              "      async function convertToInteractive(key) {\n",
              "        const element = document.querySelector('#df-6ac30983-7adc-480c-8bc7-1eddb8d104be');\n",
              "        const dataTable =\n",
              "          await google.colab.kernel.invokeFunction('convertToInteractive',\n",
              "                                                    [key], {});\n",
              "        if (!dataTable) return;\n",
              "\n",
              "        const docLinkHtml = 'Like what you see? Visit the ' +\n",
              "          '<a target=\"_blank\" href=https://colab.research.google.com/notebooks/data_table.ipynb>data table notebook</a>'\n",
              "          + ' to learn more about interactive tables.';\n",
              "        element.innerHTML = '';\n",
              "        dataTable['output_type'] = 'display_data';\n",
              "        await google.colab.output.renderOutput(dataTable, element);\n",
              "        const docLink = document.createElement('div');\n",
              "        docLink.innerHTML = docLinkHtml;\n",
              "        element.appendChild(docLink);\n",
              "      }\n",
              "    </script>\n",
              "  </div>\n",
              "\n",
              "    </div>\n",
              "  </div>\n"
            ]
          },
          "metadata": {},
          "execution_count": 61
        }
      ]
    },
    {
      "cell_type": "code",
      "execution_count": 23,
      "metadata": {
        "id": "wjYAbVnK3wiN",
        "colab": {
          "base_uri": "https://localhost:8080/"
        },
        "outputId": "bb73a9f6-6987-4062-a958-5802d8e877a8"
      },
      "outputs": [
        {
          "output_type": "stream",
          "name": "stdout",
          "text": [
            "Collecting contractions\n",
            "  Downloading contractions-0.1.73-py2.py3-none-any.whl (8.7 kB)\n",
            "Collecting textsearch>=0.0.21 (from contractions)\n",
            "  Downloading textsearch-0.0.24-py2.py3-none-any.whl (7.6 kB)\n",
            "Collecting anyascii (from textsearch>=0.0.21->contractions)\n",
            "  Downloading anyascii-0.3.2-py3-none-any.whl (289 kB)\n",
            "\u001b[2K     \u001b[90m━━━━━━━━━━━━━━━━━━━━━━━━━━━━━━━━━━━━━━━━\u001b[0m \u001b[32m289.9/289.9 kB\u001b[0m \u001b[31m5.5 MB/s\u001b[0m eta \u001b[36m0:00:00\u001b[0m\n",
            "\u001b[?25hCollecting pyahocorasick (from textsearch>=0.0.21->contractions)\n",
            "  Downloading pyahocorasick-2.0.0-cp310-cp310-manylinux_2_5_x86_64.manylinux1_x86_64.manylinux_2_12_x86_64.manylinux2010_x86_64.whl (110 kB)\n",
            "\u001b[2K     \u001b[90m━━━━━━━━━━━━━━━━━━━━━━━━━━━━━━━━━━━━━━━━\u001b[0m \u001b[32m110.8/110.8 kB\u001b[0m \u001b[31m13.3 MB/s\u001b[0m eta \u001b[36m0:00:00\u001b[0m\n",
            "\u001b[?25hInstalling collected packages: pyahocorasick, anyascii, textsearch, contractions\n",
            "Successfully installed anyascii-0.3.2 contractions-0.1.73 pyahocorasick-2.0.0 textsearch-0.0.24\n"
          ]
        }
      ],
      "source": [
        "!pip install contractions\n"
      ]
    },
    {
      "cell_type": "code",
      "source": [
        "from nltk import word_tokenize,sent_tokenize"
      ],
      "metadata": {
        "id": "mMauMFpdlaju"
      },
      "execution_count": 24,
      "outputs": []
    },
    {
      "cell_type": "code",
      "source": [
        "import spacy\n",
        "nlp=spacy.load('en_core_web_sm')"
      ],
      "metadata": {
        "id": "YKfTIP5enNSw"
      },
      "execution_count": 26,
      "outputs": []
    },
    {
      "cell_type": "code",
      "source": [
        "data_train.shape"
      ],
      "metadata": {
        "colab": {
          "base_uri": "https://localhost:8080/"
        },
        "id": "bi-_hEI9nt9a",
        "outputId": "b35f92fd-f48c-47b2-8b17-018478f86ed4"
      },
      "execution_count": 28,
      "outputs": [
        {
          "output_type": "execute_result",
          "data": {
            "text/plain": [
              "(284015, 3)"
            ]
          },
          "metadata": {},
          "execution_count": 28
        }
      ]
    },
    {
      "cell_type": "code",
      "source": [
        "data_test.shape"
      ],
      "metadata": {
        "colab": {
          "base_uri": "https://localhost:8080/"
        },
        "id": "BC72SL_-pdeM",
        "outputId": "6137bb1e-2fc2-414c-b338-c067708042b5"
      },
      "execution_count": 29,
      "outputs": [
        {
          "output_type": "execute_result",
          "data": {
            "text/plain": [
              "(11490, 3)"
            ]
          },
          "metadata": {},
          "execution_count": 29
        }
      ]
    },
    {
      "cell_type": "code",
      "source": [
        "#new_df=data_train.sample(50000)"
      ],
      "metadata": {
        "id": "JhB-aM0fpKAJ"
      },
      "execution_count": 30,
      "outputs": []
    },
    {
      "cell_type": "code",
      "source": [
        "#prepare a tokenizer for reviews on training data\n",
        "x_tokenizer = Tokenizer()\n",
        "x_tokenizer.fit_on_texts(list(new_df))\n",
        "\n",
        "#convert text sequences into integer sequences\n",
        "new_df    =   x_tokenizer.texts_to_sequences(new_df)\n",
        "x_val   =   x_tokenizer.texts_to_sequences(x_val)\n",
        "\n",
        "#padding zero upto maximum length\n",
        "new_df    =   pad_sequences(new_df,  maxlen=max_len_text, padding='post')\n",
        "x_val   =   pad_sequences(x_val, maxlen=max_len_text, padding='post')\n",
        "\n",
        "x_voc_size   =  len(x_tokenizer.word_index) +1"
      ],
      "metadata": {
        "id": "7zBMGNiOplHZ"
      },
      "execution_count": null,
      "outputs": []
    }
  ],
  "metadata": {
    "colab": {
      "provenance": [],
      "authorship_tag": "ABX9TyNsS5/lV2FxEYHeze7I2c07",
      "include_colab_link": true
    },
    "kernelspec": {
      "display_name": "Python 3",
      "name": "python3"
    },
    "language_info": {
      "name": "python"
    }
  },
  "nbformat": 4,
  "nbformat_minor": 0
}