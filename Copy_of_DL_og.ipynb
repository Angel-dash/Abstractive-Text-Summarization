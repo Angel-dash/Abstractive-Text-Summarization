{
  "cells": [
    {
      "cell_type": "markdown",
      "metadata": {
        "id": "view-in-github",
        "colab_type": "text"
      },
      "source": [
        "<a href=\"https://colab.research.google.com/github/Angel-dash/Abstractive-Text-Summarization/blob/main/Copy_of_DL_og.ipynb\" target=\"_parent\"><img src=\"https://colab.research.google.com/assets/colab-badge.svg\" alt=\"Open In Colab\"/></a>"
      ]
    },
    {
      "cell_type": "markdown",
      "metadata": {
        "id": "kqAfNPhkHgS_"
      },
      "source": [
        "Uncomment the code below if you are running on google colab\n",
        "If you are running the code on the google colab then you must have the data set on your google drive. Link to the dataset where you can download it form https://drive.google.com/file/d/1CAK0Cj1kNgoZ0FRxwwCflbh-1-hKDPoK/view?usp=sharing\n",
        "\n"
      ]
    },
    {
      "cell_type": "code",
      "execution_count": 1,
      "metadata": {
        "colab": {
          "base_uri": "https://localhost:8080/"
        },
        "id": "MMJKxxgXOPT0",
        "outputId": "08af9f07-ade3-479d-a100-082e1ef54368"
      },
      "outputs": [
        {
          "output_type": "stream",
          "name": "stdout",
          "text": [
            "Mounted at /content/drive\n"
          ]
        }
      ],
      "source": [
        "from google.colab import drive\n",
        "drive.mount('/content/drive', force_remount = True)\n"
      ]
    },
    {
      "cell_type": "code",
      "execution_count": 2,
      "metadata": {
        "colab": {
          "base_uri": "https://localhost:8080/"
        },
        "id": "NL040gAPOe6t",
        "outputId": "b04613f8-b067-429b-ee12-459570f8099b"
      },
      "outputs": [
        {
          "output_type": "stream",
          "name": "stdout",
          "text": [
            "Archive:  /content/drive/MyDrive/MiniProjectdata/data.zip\n",
            "replace cnn_dailymail/test.csv? [y]es, [n]o, [A]ll, [N]one, [r]ename: y\n",
            "  inflating: cnn_dailymail/test.csv  \n",
            "replace cnn_dailymail/train.csv? [y]es, [n]o, [A]ll, [N]one, [r]ename: y\n",
            "  inflating: cnn_dailymail/train.csv  y\n",
            "y\n",
            "y\n",
            "y\n",
            "\n",
            "replace cnn_dailymail/validation.csv? [y]es, [n]o, [A]ll, [N]one, [r]ename:   inflating: cnn_dailymail/validation.csv  \n"
          ]
        }
      ],
      "source": [
        "#!unzip /content/drive/MyDrive/DL/data.zip # Comment out for niranjan's\n",
        "!unzip /content/drive/MyDrive/MiniProjectdata/data.zip #comment out for Angel's\n",
        "\n"
      ]
    },
    {
      "cell_type": "code",
      "execution_count": 3,
      "metadata": {
        "id": "fHunr2RhP2pd",
        "colab": {
          "base_uri": "https://localhost:8080/"
        },
        "outputId": "1f8e3fc1-2b81-4089-98b0-39ebb40b352c"
      },
      "outputs": [
        {
          "output_type": "stream",
          "name": "stderr",
          "text": [
            "[nltk_data] Downloading package stopwords to /root/nltk_data...\n",
            "[nltk_data]   Package stopwords is already up-to-date!\n"
          ]
        },
        {
          "output_type": "execute_result",
          "data": {
            "text/plain": [
              "True"
            ]
          },
          "metadata": {},
          "execution_count": 3
        }
      ],
      "source": [
        "import numpy as np\n",
        "import pandas as pd\n",
        "import re\n",
        "from bs4 import BeautifulSoup\n",
        "from tensorflow.keras.preprocessing.text import Tokenizer\n",
        "from tensorflow.keras.preprocessing.sequence import pad_sequences\n",
        "from nltk.corpus import stopwords\n",
        "from tensorflow.keras.layers import Input, LSTM, Embedding, Dense, Concatenate, TimeDistributed, Bidirectional\n",
        "from tensorflow.keras.models import Model\n",
        "from tensorflow.keras.callbacks import EarlyStopping\n",
        "import warnings\n",
        "pd.set_option(\"display.max_colwidth\", 200)\n",
        "warnings.filterwarnings(\"ignore\")\n",
        "import textwrap\n",
        "import nltk\n",
        "nltk.download('stopwords')"
      ]
    },
    {
      "cell_type": "code",
      "execution_count": 4,
      "metadata": {
        "id": "_4YwYIe7hQmt"
      },
      "outputs": [],
      "source": [
        "data_train=pd.read_csv('/content/cnn_dailymail/train.csv')\n",
        "#data_test=pd.read_csv('/content/cnn_dailymail/test.csv')\n",
        "#data_validation=pd.read_csv('/content/cnn_dailymail/validation.csv')\n",
        "#data=pd.read_csv('/content/Reviews.csv',nrows=100000)"
      ]
    },
    {
      "cell_type": "markdown",
      "metadata": {
        "id": "zQJdiWCJoIaM"
      },
      "source": [
        "Data preprocessing"
      ]
    },
    {
      "cell_type": "code",
      "execution_count": 5,
      "metadata": {
        "id": "uhS4-P39kULT"
      },
      "outputs": [],
      "source": [
        "#data = pd.concat([data_train, data_test, data_validation ])\n",
        "df = data_train"
      ]
    },
    {
      "cell_type": "code",
      "execution_count": 6,
      "metadata": {
        "id": "ibu0t1QjvoVk"
      },
      "outputs": [],
      "source": [
        "new_df=df.sample(5000)"
      ]
    },
    {
      "cell_type": "code",
      "execution_count": 7,
      "metadata": {
        "id": "bjaSvOGej9gg",
        "colab": {
          "base_uri": "https://localhost:8080/",
          "height": 1000
        },
        "outputId": "b65f9967-d060-4c8e-f781-66d212db705f"
      },
      "outputs": [
        {
          "output_type": "execute_result",
          "data": {
            "text/plain": [
              "                                              id  \\\n",
              "80318   e3ac5e857b7b02bf68fb9cd3e105a9767c69f8a9   \n",
              "126393  2f58cd2418f692816907b095f52188f522e316c0   \n",
              "88036   f9d5ba597d9907c98d3522e002134b8d1704cbca   \n",
              "\n",
              "                                                                                                                                                                                                        article  \\\n",
              "80318   Gone are the days when a pair of black Copa Mundials were the boot of choice for England players ahead of the World Cup. Today's stars prefer to be noticed on the pitch and it seems the more fluor...   \n",
              "126393  Barack Obama could become the latest in a short list of impeached U.S. presidents, according to Sen. Jim Inhofe and Daily Beast columnist Michael Tomasky . The specter of impeachment proceedings a...   \n",
              "88036   The only lifeline one tiny, isolated Alaskan island has to the rest of the world is cut off, leaving snowed-in residents deprived of any food, mail or deliveries of any kind. The single helicopter...   \n",
              "\n",
              "                                                                                                                                                                                                     highlights  \n",
              "80318   Raheem Sterling wore Nike's new Flyknit Mercurial Superfly IV boot at Wembley on Friday .\\nReplaced Wayne Rooney during England's 3-0 win over Peru .\\nBoot was unveiled by Cristiano Ronaldo last m...  \n",
              "126393  Sen. Jim Inhofe: 'People may be starting to use the \"I\"-word before too long'\\nDaily Beast columnist Michael Tomasky: Benghazi 'a potential impeachment issue as long as the Republicans are in cont...  \n",
              "88036   Little Diomede, population 100, has seen its cupboards running empty since January when its only  helicopter was grounded for maintenance .\\nCold hardy residents have even been largely unable to b...  "
            ],
            "text/html": [
              "\n",
              "  <div id=\"df-e1bc1efd-3ad7-437e-adff-6372c60cc17b\" class=\"colab-df-container\">\n",
              "    <div>\n",
              "<style scoped>\n",
              "    .dataframe tbody tr th:only-of-type {\n",
              "        vertical-align: middle;\n",
              "    }\n",
              "\n",
              "    .dataframe tbody tr th {\n",
              "        vertical-align: top;\n",
              "    }\n",
              "\n",
              "    .dataframe thead th {\n",
              "        text-align: right;\n",
              "    }\n",
              "</style>\n",
              "<table border=\"1\" class=\"dataframe\">\n",
              "  <thead>\n",
              "    <tr style=\"text-align: right;\">\n",
              "      <th></th>\n",
              "      <th>id</th>\n",
              "      <th>article</th>\n",
              "      <th>highlights</th>\n",
              "    </tr>\n",
              "  </thead>\n",
              "  <tbody>\n",
              "    <tr>\n",
              "      <th>80318</th>\n",
              "      <td>e3ac5e857b7b02bf68fb9cd3e105a9767c69f8a9</td>\n",
              "      <td>Gone are the days when a pair of black Copa Mundials were the boot of choice for England players ahead of the World Cup. Today's stars prefer to be noticed on the pitch and it seems the more fluor...</td>\n",
              "      <td>Raheem Sterling wore Nike's new Flyknit Mercurial Superfly IV boot at Wembley on Friday .\\nReplaced Wayne Rooney during England's 3-0 win over Peru .\\nBoot was unveiled by Cristiano Ronaldo last m...</td>\n",
              "    </tr>\n",
              "    <tr>\n",
              "      <th>126393</th>\n",
              "      <td>2f58cd2418f692816907b095f52188f522e316c0</td>\n",
              "      <td>Barack Obama could become the latest in a short list of impeached U.S. presidents, according to Sen. Jim Inhofe and Daily Beast columnist Michael Tomasky . The specter of impeachment proceedings a...</td>\n",
              "      <td>Sen. Jim Inhofe: 'People may be starting to use the \"I\"-word before too long'\\nDaily Beast columnist Michael Tomasky: Benghazi 'a potential impeachment issue as long as the Republicans are in cont...</td>\n",
              "    </tr>\n",
              "    <tr>\n",
              "      <th>88036</th>\n",
              "      <td>f9d5ba597d9907c98d3522e002134b8d1704cbca</td>\n",
              "      <td>The only lifeline one tiny, isolated Alaskan island has to the rest of the world is cut off, leaving snowed-in residents deprived of any food, mail or deliveries of any kind. The single helicopter...</td>\n",
              "      <td>Little Diomede, population 100, has seen its cupboards running empty since January when its only  helicopter was grounded for maintenance .\\nCold hardy residents have even been largely unable to b...</td>\n",
              "    </tr>\n",
              "  </tbody>\n",
              "</table>\n",
              "</div>\n",
              "    <div class=\"colab-df-buttons\">\n",
              "\n",
              "  <div class=\"colab-df-container\">\n",
              "    <button class=\"colab-df-convert\" onclick=\"convertToInteractive('df-e1bc1efd-3ad7-437e-adff-6372c60cc17b')\"\n",
              "            title=\"Convert this dataframe to an interactive table.\"\n",
              "            style=\"display:none;\">\n",
              "\n",
              "  <svg xmlns=\"http://www.w3.org/2000/svg\" height=\"24px\" viewBox=\"0 -960 960 960\">\n",
              "    <path d=\"M120-120v-720h720v720H120Zm60-500h600v-160H180v160Zm220 220h160v-160H400v160Zm0 220h160v-160H400v160ZM180-400h160v-160H180v160Zm440 0h160v-160H620v160ZM180-180h160v-160H180v160Zm440 0h160v-160H620v160Z\"/>\n",
              "  </svg>\n",
              "    </button>\n",
              "\n",
              "  <style>\n",
              "    .colab-df-container {\n",
              "      display:flex;\n",
              "      gap: 12px;\n",
              "    }\n",
              "\n",
              "    .colab-df-convert {\n",
              "      background-color: #E8F0FE;\n",
              "      border: none;\n",
              "      border-radius: 50%;\n",
              "      cursor: pointer;\n",
              "      display: none;\n",
              "      fill: #1967D2;\n",
              "      height: 32px;\n",
              "      padding: 0 0 0 0;\n",
              "      width: 32px;\n",
              "    }\n",
              "\n",
              "    .colab-df-convert:hover {\n",
              "      background-color: #E2EBFA;\n",
              "      box-shadow: 0px 1px 2px rgba(60, 64, 67, 0.3), 0px 1px 3px 1px rgba(60, 64, 67, 0.15);\n",
              "      fill: #174EA6;\n",
              "    }\n",
              "\n",
              "    .colab-df-buttons div {\n",
              "      margin-bottom: 4px;\n",
              "    }\n",
              "\n",
              "    [theme=dark] .colab-df-convert {\n",
              "      background-color: #3B4455;\n",
              "      fill: #D2E3FC;\n",
              "    }\n",
              "\n",
              "    [theme=dark] .colab-df-convert:hover {\n",
              "      background-color: #434B5C;\n",
              "      box-shadow: 0px 1px 3px 1px rgba(0, 0, 0, 0.15);\n",
              "      filter: drop-shadow(0px 1px 2px rgba(0, 0, 0, 0.3));\n",
              "      fill: #FFFFFF;\n",
              "    }\n",
              "  </style>\n",
              "\n",
              "    <script>\n",
              "      const buttonEl =\n",
              "        document.querySelector('#df-e1bc1efd-3ad7-437e-adff-6372c60cc17b button.colab-df-convert');\n",
              "      buttonEl.style.display =\n",
              "        google.colab.kernel.accessAllowed ? 'block' : 'none';\n",
              "\n",
              "      async function convertToInteractive(key) {\n",
              "        const element = document.querySelector('#df-e1bc1efd-3ad7-437e-adff-6372c60cc17b');\n",
              "        const dataTable =\n",
              "          await google.colab.kernel.invokeFunction('convertToInteractive',\n",
              "                                                    [key], {});\n",
              "        if (!dataTable) return;\n",
              "\n",
              "        const docLinkHtml = 'Like what you see? Visit the ' +\n",
              "          '<a target=\"_blank\" href=https://colab.research.google.com/notebooks/data_table.ipynb>data table notebook</a>'\n",
              "          + ' to learn more about interactive tables.';\n",
              "        element.innerHTML = '';\n",
              "        dataTable['output_type'] = 'display_data';\n",
              "        await google.colab.output.renderOutput(dataTable, element);\n",
              "        const docLink = document.createElement('div');\n",
              "        docLink.innerHTML = docLinkHtml;\n",
              "        element.appendChild(docLink);\n",
              "      }\n",
              "    </script>\n",
              "  </div>\n",
              "\n",
              "\n",
              "<div id=\"df-8662dfd5-6473-438c-b4f0-fc491284804f\">\n",
              "  <button class=\"colab-df-quickchart\" onclick=\"quickchart('df-8662dfd5-6473-438c-b4f0-fc491284804f')\"\n",
              "            title=\"Suggest charts\"\n",
              "            style=\"display:none;\">\n",
              "\n",
              "<svg xmlns=\"http://www.w3.org/2000/svg\" height=\"24px\"viewBox=\"0 0 24 24\"\n",
              "     width=\"24px\">\n",
              "    <g>\n",
              "        <path d=\"M19 3H5c-1.1 0-2 .9-2 2v14c0 1.1.9 2 2 2h14c1.1 0 2-.9 2-2V5c0-1.1-.9-2-2-2zM9 17H7v-7h2v7zm4 0h-2V7h2v10zm4 0h-2v-4h2v4z\"/>\n",
              "    </g>\n",
              "</svg>\n",
              "  </button>\n",
              "\n",
              "<style>\n",
              "  .colab-df-quickchart {\n",
              "      --bg-color: #E8F0FE;\n",
              "      --fill-color: #1967D2;\n",
              "      --hover-bg-color: #E2EBFA;\n",
              "      --hover-fill-color: #174EA6;\n",
              "      --disabled-fill-color: #AAA;\n",
              "      --disabled-bg-color: #DDD;\n",
              "  }\n",
              "\n",
              "  [theme=dark] .colab-df-quickchart {\n",
              "      --bg-color: #3B4455;\n",
              "      --fill-color: #D2E3FC;\n",
              "      --hover-bg-color: #434B5C;\n",
              "      --hover-fill-color: #FFFFFF;\n",
              "      --disabled-bg-color: #3B4455;\n",
              "      --disabled-fill-color: #666;\n",
              "  }\n",
              "\n",
              "  .colab-df-quickchart {\n",
              "    background-color: var(--bg-color);\n",
              "    border: none;\n",
              "    border-radius: 50%;\n",
              "    cursor: pointer;\n",
              "    display: none;\n",
              "    fill: var(--fill-color);\n",
              "    height: 32px;\n",
              "    padding: 0;\n",
              "    width: 32px;\n",
              "  }\n",
              "\n",
              "  .colab-df-quickchart:hover {\n",
              "    background-color: var(--hover-bg-color);\n",
              "    box-shadow: 0 1px 2px rgba(60, 64, 67, 0.3), 0 1px 3px 1px rgba(60, 64, 67, 0.15);\n",
              "    fill: var(--button-hover-fill-color);\n",
              "  }\n",
              "\n",
              "  .colab-df-quickchart-complete:disabled,\n",
              "  .colab-df-quickchart-complete:disabled:hover {\n",
              "    background-color: var(--disabled-bg-color);\n",
              "    fill: var(--disabled-fill-color);\n",
              "    box-shadow: none;\n",
              "  }\n",
              "\n",
              "  .colab-df-spinner {\n",
              "    border: 2px solid var(--fill-color);\n",
              "    border-color: transparent;\n",
              "    border-bottom-color: var(--fill-color);\n",
              "    animation:\n",
              "      spin 1s steps(1) infinite;\n",
              "  }\n",
              "\n",
              "  @keyframes spin {\n",
              "    0% {\n",
              "      border-color: transparent;\n",
              "      border-bottom-color: var(--fill-color);\n",
              "      border-left-color: var(--fill-color);\n",
              "    }\n",
              "    20% {\n",
              "      border-color: transparent;\n",
              "      border-left-color: var(--fill-color);\n",
              "      border-top-color: var(--fill-color);\n",
              "    }\n",
              "    30% {\n",
              "      border-color: transparent;\n",
              "      border-left-color: var(--fill-color);\n",
              "      border-top-color: var(--fill-color);\n",
              "      border-right-color: var(--fill-color);\n",
              "    }\n",
              "    40% {\n",
              "      border-color: transparent;\n",
              "      border-right-color: var(--fill-color);\n",
              "      border-top-color: var(--fill-color);\n",
              "    }\n",
              "    60% {\n",
              "      border-color: transparent;\n",
              "      border-right-color: var(--fill-color);\n",
              "    }\n",
              "    80% {\n",
              "      border-color: transparent;\n",
              "      border-right-color: var(--fill-color);\n",
              "      border-bottom-color: var(--fill-color);\n",
              "    }\n",
              "    90% {\n",
              "      border-color: transparent;\n",
              "      border-bottom-color: var(--fill-color);\n",
              "    }\n",
              "  }\n",
              "</style>\n",
              "\n",
              "  <script>\n",
              "    async function quickchart(key) {\n",
              "      const quickchartButtonEl =\n",
              "        document.querySelector('#' + key + ' button');\n",
              "      quickchartButtonEl.disabled = true;  // To prevent multiple clicks.\n",
              "      quickchartButtonEl.classList.add('colab-df-spinner');\n",
              "      try {\n",
              "        const charts = await google.colab.kernel.invokeFunction(\n",
              "            'suggestCharts', [key], {});\n",
              "      } catch (error) {\n",
              "        console.error('Error during call to suggestCharts:', error);\n",
              "      }\n",
              "      quickchartButtonEl.classList.remove('colab-df-spinner');\n",
              "      quickchartButtonEl.classList.add('colab-df-quickchart-complete');\n",
              "    }\n",
              "    (() => {\n",
              "      let quickchartButtonEl =\n",
              "        document.querySelector('#df-8662dfd5-6473-438c-b4f0-fc491284804f button');\n",
              "      quickchartButtonEl.style.display =\n",
              "        google.colab.kernel.accessAllowed ? 'block' : 'none';\n",
              "    })();\n",
              "  </script>\n",
              "</div>\n",
              "    </div>\n",
              "  </div>\n"
            ]
          },
          "metadata": {},
          "execution_count": 7
        }
      ],
      "source": [
        "new_df.head(3)"
      ]
    },
    {
      "cell_type": "code",
      "execution_count": 8,
      "metadata": {
        "id": "B4gMsVvVmV_b",
        "colab": {
          "base_uri": "https://localhost:8080/"
        },
        "outputId": "3a48d040-6695-4a9d-f600-dc87ef310e78"
      },
      "outputs": [
        {
          "output_type": "execute_result",
          "data": {
            "text/plain": [
              "(5000, 3)"
            ]
          },
          "metadata": {},
          "execution_count": 8
        }
      ],
      "source": [
        "new_df.shape"
      ]
    },
    {
      "cell_type": "code",
      "execution_count": 9,
      "metadata": {
        "id": "3dPq1VoEmYMF"
      },
      "outputs": [],
      "source": [
        "#sample=new_df.sample()\n",
        "#print(\"****Article****\")\n",
        "#print(sample.article.values)\n",
        "#print('****Highlights****')\n",
        "#print(sample.highlights.values)"
      ]
    },
    {
      "cell_type": "markdown",
      "metadata": {
        "id": "A8f0fplPn7FV"
      },
      "source": [
        "Checking for Null values\n"
      ]
    },
    {
      "cell_type": "code",
      "execution_count": 9,
      "metadata": {
        "id": "-rj60r4FmswB",
        "colab": {
          "base_uri": "https://localhost:8080/"
        },
        "outputId": "1edfbeb3-d7d8-4b82-b638-f95749efbf11"
      },
      "outputs": [
        {
          "output_type": "execute_result",
          "data": {
            "text/plain": [
              "id            0\n",
              "article       0\n",
              "highlights    0\n",
              "dtype: int64"
            ]
          },
          "metadata": {},
          "execution_count": 9
        }
      ],
      "source": [
        "new_df.isna().sum()"
      ]
    },
    {
      "cell_type": "markdown",
      "metadata": {
        "id": "uGY2KQtMoDkM"
      },
      "source": [
        "Checking for duplicates\n"
      ]
    },
    {
      "cell_type": "code",
      "execution_count": 10,
      "metadata": {
        "id": "kHMVZot0n4uD",
        "colab": {
          "base_uri": "https://localhost:8080/"
        },
        "outputId": "867d75de-0132-4c28-de27-ef388d5facec"
      },
      "outputs": [
        {
          "output_type": "execute_result",
          "data": {
            "text/plain": [
              "0"
            ]
          },
          "metadata": {},
          "execution_count": 10
        }
      ],
      "source": [
        "new_df.duplicated(subset=['article']).sum()"
      ]
    },
    {
      "cell_type": "code",
      "execution_count": 11,
      "metadata": {
        "id": "QVHFFfmwoZZT",
        "colab": {
          "base_uri": "https://localhost:8080/"
        },
        "outputId": "5a5bc5f3-395a-4e88-a366-d1b78f77fe01"
      },
      "outputs": [
        {
          "output_type": "execute_result",
          "data": {
            "text/plain": [
              "(5000, 3)"
            ]
          },
          "metadata": {},
          "execution_count": 11
        }
      ],
      "source": [
        "new_df=new_df.drop_duplicates(subset=['article'])\n",
        "new_df.shape"
      ]
    },
    {
      "cell_type": "code",
      "execution_count": 12,
      "metadata": {
        "id": "vDaWneCvo12o",
        "colab": {
          "base_uri": "https://localhost:8080/"
        },
        "outputId": "9276b4c3-f01c-4469-b6b3-4f9a0f57db75"
      },
      "outputs": [
        {
          "output_type": "execute_result",
          "data": {
            "text/plain": [
              "0"
            ]
          },
          "metadata": {},
          "execution_count": 12
        }
      ],
      "source": [
        "new_df.duplicated(subset=['article']).sum()"
      ]
    },
    {
      "cell_type": "code",
      "execution_count": 13,
      "metadata": {
        "id": "T2EEiOeFKUgB",
        "colab": {
          "base_uri": "https://localhost:8080/"
        },
        "outputId": "974dae22-9509-4fc2-e134-39e51f9a8eee"
      },
      "outputs": [
        {
          "output_type": "execute_result",
          "data": {
            "text/plain": [
              "80318     Gone are the days when a pair of black Copa Mundials were the boot of choice for England players ahead of the World Cup. Today's stars prefer to be noticed on the pitch and it seems the more fluor...\n",
              "126393    Barack Obama could become the latest in a short list of impeached U.S. presidents, according to Sen. Jim Inhofe and Daily Beast columnist Michael Tomasky . The specter of impeachment proceedings a...\n",
              "88036     The only lifeline one tiny, isolated Alaskan island has to the rest of the world is cut off, leaving snowed-in residents deprived of any food, mail or deliveries of any kind. The single helicopter...\n",
              "260940    By . David Williams . and Nick Fagge In Gyor, Hungary . Straddling a powerful motorbike in his leathers, this is the first picture of the ex-Hungarian policeman named as a suspect in the brutal mu...\n",
              "125750    (CNN) -- The number of bird flu cases in China jumped Sunday to 102, including 20 deaths, the World Health Organization announced. Seventy patients remain hospitalized with the virus. The WHO said...\n",
              "239338    In the midst of one of the driest climates in the world is an oasis town with lush palm trees, flourishing foliage, and a tranquil lagoon which is said to have curative properties. The magical tow...\n",
              "195127    George Osborne today hailed a surprise fall in inflation to a five-year low which means a rise in interest rates could be delayed until the middle of next year. Cheaper travel, restaurants, books ...\n",
              "118790    By . Jennifer Newton . A coroner has demanded the government do more to improve the safety of blind cords warning millions of homes could still have deadly blinds after a two-year-old girl was str...\n",
              "45482     By . Steve Robson and James Slack . PUBLISHED: . 15:07 EST, 20 November 2012 . | . UPDATED: . 15:20 EST, 20 November 2012 . Prisoners caught using Facebook on smuggled mobile phones will be stripp...\n",
              "52273     By . Emma Innes . PUBLISHED: . 06:29 EST, 7 February 2014 . | . UPDATED: . 07:04 EST, 7 February 2014 . A baby operated on while inside her mother's womb has defied the odds to survive. Hope Rolli...\n",
              "Name: article, dtype: object"
            ]
          },
          "metadata": {},
          "execution_count": 13
        }
      ],
      "source": [
        "new_df['article'][:10]"
      ]
    },
    {
      "cell_type": "code",
      "execution_count": 14,
      "metadata": {
        "id": "yzd9n9H5LaX0",
        "colab": {
          "base_uri": "https://localhost:8080/",
          "height": 1000
        },
        "outputId": "64b8ff5d-758f-4546-d5ea-fb511b82fb72"
      },
      "outputs": [
        {
          "output_type": "execute_result",
          "data": {
            "text/plain": [
              "                                              id  \\\n",
              "80318   e3ac5e857b7b02bf68fb9cd3e105a9767c69f8a9   \n",
              "126393  2f58cd2418f692816907b095f52188f522e316c0   \n",
              "88036   f9d5ba597d9907c98d3522e002134b8d1704cbca   \n",
              "260940  ddf3f6cb699ab5186d2543c46cedc2a651242c9c   \n",
              "125750  2e8c21c7fdf395fabbd6d522dc53aa95ef2f1c75   \n",
              "\n",
              "                                                                                                                                                                                                        article  \\\n",
              "80318   gone are the days when a pair of black copa mundials were the boot of choice for england players ahead of the world cup. today's stars prefer to be noticed on the pitch and it seems the more fluor...   \n",
              "126393  barack obama could become the latest in a short list of impeached u.s. presidents, according to sen. jim inhofe and daily beast columnist michael tomasky . the specter of impeachment proceedings a...   \n",
              "88036   the only lifeline one tiny, isolated alaskan island has to the rest of the world is cut off, leaving snowed-in residents deprived of any food, mail or deliveries of any kind. the single helicopter...   \n",
              "260940  by . david williams . and nick fagge in gyor, hungary . straddling a powerful motorbike in his leathers, this is the first picture of the ex-hungarian policeman named as a suspect in the brutal mu...   \n",
              "125750  (cnn) -- the number of bird flu cases in china jumped sunday to 102, including 20 deaths, the world health organization announced. seventy patients remain hospitalized with the virus. the who said...   \n",
              "\n",
              "                                                                                                                                                                                                     highlights  \n",
              "80318   raheem sterling wore nike's new flyknit mercurial superfly iv boot at wembley on friday .\\nreplaced wayne rooney during england's 3-0 win over peru .\\nboot was unveiled by cristiano ronaldo last m...  \n",
              "126393  sen. jim inhofe: 'people may be starting to use the \"i\"-word before too long'\\ndaily beast columnist michael tomasky: benghazi 'a potential impeachment issue as long as the republicans are in cont...  \n",
              "88036   little diomede, population 100, has seen its cupboards running empty since january when its only  helicopter was grounded for maintenance .\\ncold hardy residents have even been largely unable to b...  \n",
              "260940  eva rhodes found dead in 2008 at the animal sanctuary she ran .\\ncaretaker csaba augusztinyi, 33, confessed and was jailed for 13 years .\\nfamily believe others were involved in the brutal killing...  \n",
              "125750  the cases include 20 deaths, and 102 infection cases .\\nseventy patients are hospitalized with the virus .\\nthe new strain wasn't known until three weeks ago .\\ninternational experts in china to m...  "
            ],
            "text/html": [
              "\n",
              "  <div id=\"df-4696920d-3d22-44b6-9a79-2b03b356d64e\" class=\"colab-df-container\">\n",
              "    <div>\n",
              "<style scoped>\n",
              "    .dataframe tbody tr th:only-of-type {\n",
              "        vertical-align: middle;\n",
              "    }\n",
              "\n",
              "    .dataframe tbody tr th {\n",
              "        vertical-align: top;\n",
              "    }\n",
              "\n",
              "    .dataframe thead th {\n",
              "        text-align: right;\n",
              "    }\n",
              "</style>\n",
              "<table border=\"1\" class=\"dataframe\">\n",
              "  <thead>\n",
              "    <tr style=\"text-align: right;\">\n",
              "      <th></th>\n",
              "      <th>id</th>\n",
              "      <th>article</th>\n",
              "      <th>highlights</th>\n",
              "    </tr>\n",
              "  </thead>\n",
              "  <tbody>\n",
              "    <tr>\n",
              "      <th>80318</th>\n",
              "      <td>e3ac5e857b7b02bf68fb9cd3e105a9767c69f8a9</td>\n",
              "      <td>gone are the days when a pair of black copa mundials were the boot of choice for england players ahead of the world cup. today's stars prefer to be noticed on the pitch and it seems the more fluor...</td>\n",
              "      <td>raheem sterling wore nike's new flyknit mercurial superfly iv boot at wembley on friday .\\nreplaced wayne rooney during england's 3-0 win over peru .\\nboot was unveiled by cristiano ronaldo last m...</td>\n",
              "    </tr>\n",
              "    <tr>\n",
              "      <th>126393</th>\n",
              "      <td>2f58cd2418f692816907b095f52188f522e316c0</td>\n",
              "      <td>barack obama could become the latest in a short list of impeached u.s. presidents, according to sen. jim inhofe and daily beast columnist michael tomasky . the specter of impeachment proceedings a...</td>\n",
              "      <td>sen. jim inhofe: 'people may be starting to use the \"i\"-word before too long'\\ndaily beast columnist michael tomasky: benghazi 'a potential impeachment issue as long as the republicans are in cont...</td>\n",
              "    </tr>\n",
              "    <tr>\n",
              "      <th>88036</th>\n",
              "      <td>f9d5ba597d9907c98d3522e002134b8d1704cbca</td>\n",
              "      <td>the only lifeline one tiny, isolated alaskan island has to the rest of the world is cut off, leaving snowed-in residents deprived of any food, mail or deliveries of any kind. the single helicopter...</td>\n",
              "      <td>little diomede, population 100, has seen its cupboards running empty since january when its only  helicopter was grounded for maintenance .\\ncold hardy residents have even been largely unable to b...</td>\n",
              "    </tr>\n",
              "    <tr>\n",
              "      <th>260940</th>\n",
              "      <td>ddf3f6cb699ab5186d2543c46cedc2a651242c9c</td>\n",
              "      <td>by . david williams . and nick fagge in gyor, hungary . straddling a powerful motorbike in his leathers, this is the first picture of the ex-hungarian policeman named as a suspect in the brutal mu...</td>\n",
              "      <td>eva rhodes found dead in 2008 at the animal sanctuary she ran .\\ncaretaker csaba augusztinyi, 33, confessed and was jailed for 13 years .\\nfamily believe others were involved in the brutal killing...</td>\n",
              "    </tr>\n",
              "    <tr>\n",
              "      <th>125750</th>\n",
              "      <td>2e8c21c7fdf395fabbd6d522dc53aa95ef2f1c75</td>\n",
              "      <td>(cnn) -- the number of bird flu cases in china jumped sunday to 102, including 20 deaths, the world health organization announced. seventy patients remain hospitalized with the virus. the who said...</td>\n",
              "      <td>the cases include 20 deaths, and 102 infection cases .\\nseventy patients are hospitalized with the virus .\\nthe new strain wasn't known until three weeks ago .\\ninternational experts in china to m...</td>\n",
              "    </tr>\n",
              "  </tbody>\n",
              "</table>\n",
              "</div>\n",
              "    <div class=\"colab-df-buttons\">\n",
              "\n",
              "  <div class=\"colab-df-container\">\n",
              "    <button class=\"colab-df-convert\" onclick=\"convertToInteractive('df-4696920d-3d22-44b6-9a79-2b03b356d64e')\"\n",
              "            title=\"Convert this dataframe to an interactive table.\"\n",
              "            style=\"display:none;\">\n",
              "\n",
              "  <svg xmlns=\"http://www.w3.org/2000/svg\" height=\"24px\" viewBox=\"0 -960 960 960\">\n",
              "    <path d=\"M120-120v-720h720v720H120Zm60-500h600v-160H180v160Zm220 220h160v-160H400v160Zm0 220h160v-160H400v160ZM180-400h160v-160H180v160Zm440 0h160v-160H620v160ZM180-180h160v-160H180v160Zm440 0h160v-160H620v160Z\"/>\n",
              "  </svg>\n",
              "    </button>\n",
              "\n",
              "  <style>\n",
              "    .colab-df-container {\n",
              "      display:flex;\n",
              "      gap: 12px;\n",
              "    }\n",
              "\n",
              "    .colab-df-convert {\n",
              "      background-color: #E8F0FE;\n",
              "      border: none;\n",
              "      border-radius: 50%;\n",
              "      cursor: pointer;\n",
              "      display: none;\n",
              "      fill: #1967D2;\n",
              "      height: 32px;\n",
              "      padding: 0 0 0 0;\n",
              "      width: 32px;\n",
              "    }\n",
              "\n",
              "    .colab-df-convert:hover {\n",
              "      background-color: #E2EBFA;\n",
              "      box-shadow: 0px 1px 2px rgba(60, 64, 67, 0.3), 0px 1px 3px 1px rgba(60, 64, 67, 0.15);\n",
              "      fill: #174EA6;\n",
              "    }\n",
              "\n",
              "    .colab-df-buttons div {\n",
              "      margin-bottom: 4px;\n",
              "    }\n",
              "\n",
              "    [theme=dark] .colab-df-convert {\n",
              "      background-color: #3B4455;\n",
              "      fill: #D2E3FC;\n",
              "    }\n",
              "\n",
              "    [theme=dark] .colab-df-convert:hover {\n",
              "      background-color: #434B5C;\n",
              "      box-shadow: 0px 1px 3px 1px rgba(0, 0, 0, 0.15);\n",
              "      filter: drop-shadow(0px 1px 2px rgba(0, 0, 0, 0.3));\n",
              "      fill: #FFFFFF;\n",
              "    }\n",
              "  </style>\n",
              "\n",
              "    <script>\n",
              "      const buttonEl =\n",
              "        document.querySelector('#df-4696920d-3d22-44b6-9a79-2b03b356d64e button.colab-df-convert');\n",
              "      buttonEl.style.display =\n",
              "        google.colab.kernel.accessAllowed ? 'block' : 'none';\n",
              "\n",
              "      async function convertToInteractive(key) {\n",
              "        const element = document.querySelector('#df-4696920d-3d22-44b6-9a79-2b03b356d64e');\n",
              "        const dataTable =\n",
              "          await google.colab.kernel.invokeFunction('convertToInteractive',\n",
              "                                                    [key], {});\n",
              "        if (!dataTable) return;\n",
              "\n",
              "        const docLinkHtml = 'Like what you see? Visit the ' +\n",
              "          '<a target=\"_blank\" href=https://colab.research.google.com/notebooks/data_table.ipynb>data table notebook</a>'\n",
              "          + ' to learn more about interactive tables.';\n",
              "        element.innerHTML = '';\n",
              "        dataTable['output_type'] = 'display_data';\n",
              "        await google.colab.output.renderOutput(dataTable, element);\n",
              "        const docLink = document.createElement('div');\n",
              "        docLink.innerHTML = docLinkHtml;\n",
              "        element.appendChild(docLink);\n",
              "      }\n",
              "    </script>\n",
              "  </div>\n",
              "\n",
              "\n",
              "<div id=\"df-b0f6ac86-b7f2-400a-acfe-d1ecc5e67e66\">\n",
              "  <button class=\"colab-df-quickchart\" onclick=\"quickchart('df-b0f6ac86-b7f2-400a-acfe-d1ecc5e67e66')\"\n",
              "            title=\"Suggest charts\"\n",
              "            style=\"display:none;\">\n",
              "\n",
              "<svg xmlns=\"http://www.w3.org/2000/svg\" height=\"24px\"viewBox=\"0 0 24 24\"\n",
              "     width=\"24px\">\n",
              "    <g>\n",
              "        <path d=\"M19 3H5c-1.1 0-2 .9-2 2v14c0 1.1.9 2 2 2h14c1.1 0 2-.9 2-2V5c0-1.1-.9-2-2-2zM9 17H7v-7h2v7zm4 0h-2V7h2v10zm4 0h-2v-4h2v4z\"/>\n",
              "    </g>\n",
              "</svg>\n",
              "  </button>\n",
              "\n",
              "<style>\n",
              "  .colab-df-quickchart {\n",
              "      --bg-color: #E8F0FE;\n",
              "      --fill-color: #1967D2;\n",
              "      --hover-bg-color: #E2EBFA;\n",
              "      --hover-fill-color: #174EA6;\n",
              "      --disabled-fill-color: #AAA;\n",
              "      --disabled-bg-color: #DDD;\n",
              "  }\n",
              "\n",
              "  [theme=dark] .colab-df-quickchart {\n",
              "      --bg-color: #3B4455;\n",
              "      --fill-color: #D2E3FC;\n",
              "      --hover-bg-color: #434B5C;\n",
              "      --hover-fill-color: #FFFFFF;\n",
              "      --disabled-bg-color: #3B4455;\n",
              "      --disabled-fill-color: #666;\n",
              "  }\n",
              "\n",
              "  .colab-df-quickchart {\n",
              "    background-color: var(--bg-color);\n",
              "    border: none;\n",
              "    border-radius: 50%;\n",
              "    cursor: pointer;\n",
              "    display: none;\n",
              "    fill: var(--fill-color);\n",
              "    height: 32px;\n",
              "    padding: 0;\n",
              "    width: 32px;\n",
              "  }\n",
              "\n",
              "  .colab-df-quickchart:hover {\n",
              "    background-color: var(--hover-bg-color);\n",
              "    box-shadow: 0 1px 2px rgba(60, 64, 67, 0.3), 0 1px 3px 1px rgba(60, 64, 67, 0.15);\n",
              "    fill: var(--button-hover-fill-color);\n",
              "  }\n",
              "\n",
              "  .colab-df-quickchart-complete:disabled,\n",
              "  .colab-df-quickchart-complete:disabled:hover {\n",
              "    background-color: var(--disabled-bg-color);\n",
              "    fill: var(--disabled-fill-color);\n",
              "    box-shadow: none;\n",
              "  }\n",
              "\n",
              "  .colab-df-spinner {\n",
              "    border: 2px solid var(--fill-color);\n",
              "    border-color: transparent;\n",
              "    border-bottom-color: var(--fill-color);\n",
              "    animation:\n",
              "      spin 1s steps(1) infinite;\n",
              "  }\n",
              "\n",
              "  @keyframes spin {\n",
              "    0% {\n",
              "      border-color: transparent;\n",
              "      border-bottom-color: var(--fill-color);\n",
              "      border-left-color: var(--fill-color);\n",
              "    }\n",
              "    20% {\n",
              "      border-color: transparent;\n",
              "      border-left-color: var(--fill-color);\n",
              "      border-top-color: var(--fill-color);\n",
              "    }\n",
              "    30% {\n",
              "      border-color: transparent;\n",
              "      border-left-color: var(--fill-color);\n",
              "      border-top-color: var(--fill-color);\n",
              "      border-right-color: var(--fill-color);\n",
              "    }\n",
              "    40% {\n",
              "      border-color: transparent;\n",
              "      border-right-color: var(--fill-color);\n",
              "      border-top-color: var(--fill-color);\n",
              "    }\n",
              "    60% {\n",
              "      border-color: transparent;\n",
              "      border-right-color: var(--fill-color);\n",
              "    }\n",
              "    80% {\n",
              "      border-color: transparent;\n",
              "      border-right-color: var(--fill-color);\n",
              "      border-bottom-color: var(--fill-color);\n",
              "    }\n",
              "    90% {\n",
              "      border-color: transparent;\n",
              "      border-bottom-color: var(--fill-color);\n",
              "    }\n",
              "  }\n",
              "</style>\n",
              "\n",
              "  <script>\n",
              "    async function quickchart(key) {\n",
              "      const quickchartButtonEl =\n",
              "        document.querySelector('#' + key + ' button');\n",
              "      quickchartButtonEl.disabled = true;  // To prevent multiple clicks.\n",
              "      quickchartButtonEl.classList.add('colab-df-spinner');\n",
              "      try {\n",
              "        const charts = await google.colab.kernel.invokeFunction(\n",
              "            'suggestCharts', [key], {});\n",
              "      } catch (error) {\n",
              "        console.error('Error during call to suggestCharts:', error);\n",
              "      }\n",
              "      quickchartButtonEl.classList.remove('colab-df-spinner');\n",
              "      quickchartButtonEl.classList.add('colab-df-quickchart-complete');\n",
              "    }\n",
              "    (() => {\n",
              "      let quickchartButtonEl =\n",
              "        document.querySelector('#df-b0f6ac86-b7f2-400a-acfe-d1ecc5e67e66 button');\n",
              "      quickchartButtonEl.style.display =\n",
              "        google.colab.kernel.accessAllowed ? 'block' : 'none';\n",
              "    })();\n",
              "  </script>\n",
              "</div>\n",
              "    </div>\n",
              "  </div>\n"
            ]
          },
          "metadata": {},
          "execution_count": 14
        }
      ],
      "source": [
        "new_df['article'] = new_df['article'].str.lower()\n",
        "new_df['highlights'] = new_df['highlights'].str.lower()\n",
        "\n",
        "new_df.head()"
      ]
    },
    {
      "cell_type": "code",
      "execution_count": 15,
      "metadata": {
        "id": "-BWqXLjOS7DS"
      },
      "outputs": [],
      "source": [
        "#removing html tags\n",
        "import re\n",
        "def remove_html_tags(text):\n",
        "    if isinstance(text, str):\n",
        "        pattern = re.compile('<.*?>')\n",
        "        return pattern.sub(r'', text)\n",
        "    else:\n",
        "        return text"
      ]
    },
    {
      "cell_type": "markdown",
      "metadata": {
        "id": "60oRsNGfvm5_"
      },
      "source": [
        "Converting to lower case"
      ]
    },
    {
      "cell_type": "code",
      "execution_count": 16,
      "metadata": {
        "id": "H0xN7npXoA3o"
      },
      "outputs": [],
      "source": [
        "new_df['article'] = new_df['article'].apply(remove_html_tags)\n",
        "\n",
        "new_df['highlights'] = new_df['highlights'].apply(remove_html_tags)"
      ]
    },
    {
      "cell_type": "code",
      "execution_count": 17,
      "metadata": {
        "id": "TaKdy7PHwUtP"
      },
      "outputs": [],
      "source": [
        "#removing punchuation\n",
        "\n",
        "\n",
        "import string\n",
        "string.punctuation\n",
        "exclude = string.punctuation\n",
        "def remove_punc(text):\n",
        "    if isinstance(text, str):\n",
        "        return ''.join(ch for ch in text if ch not in exclude)\n",
        "    else:\n",
        "        return str(text)  # Convert non-string data to string"
      ]
    },
    {
      "cell_type": "code",
      "execution_count": 18,
      "metadata": {
        "id": "s-EUZ33swfy1"
      },
      "outputs": [],
      "source": [
        "new_df['article'] = new_df['article'].apply(remove_punc)\n",
        "\n",
        "new_df['highlights'] = new_df['highlights'].apply(remove_punc)"
      ]
    },
    {
      "cell_type": "code",
      "execution_count": 19,
      "metadata": {
        "id": "N2jk9WjfwkZI",
        "colab": {
          "base_uri": "https://localhost:8080/"
        },
        "outputId": "5e479ef8-1113-4624-afd7-5df5e5bd027b"
      },
      "outputs": [
        {
          "output_type": "stream",
          "name": "stdout",
          "text": [
            "['i', 'me', 'my', 'myself', 'we', 'our', 'ours', 'ourselves', 'you', \"you're\", \"you've\", \"you'll\", \"you'd\", 'your', 'yours', 'yourself', 'yourselves', 'he', 'him', 'his', 'himself', 'she', \"she's\", 'her', 'hers', 'herself', 'it', \"it's\", 'its', 'itself', 'they', 'them', 'their', 'theirs', 'themselves', 'what', 'which', 'who', 'whom', 'this', 'that', \"that'll\", 'these', 'those', 'am', 'is', 'are', 'was', 'were', 'be', 'been', 'being', 'have', 'has', 'had', 'having', 'do', 'does', 'did', 'doing', 'a', 'an', 'the', 'and', 'but', 'if', 'or', 'because', 'as', 'until', 'while', 'of', 'at', 'by', 'for', 'with', 'about', 'against', 'between', 'into', 'through', 'during', 'before', 'after', 'above', 'below', 'to', 'from', 'up', 'down', 'in', 'out', 'on', 'off', 'over', 'under', 'again', 'further', 'then', 'once', 'here', 'there', 'when', 'where', 'why', 'how', 'all', 'any', 'both', 'each', 'few', 'more', 'most', 'other', 'some', 'such', 'no', 'nor', 'not', 'only', 'own', 'same', 'so', 'than', 'too', 'very', 's', 't', 'can', 'will', 'just', 'don', \"don't\", 'should', \"should've\", 'now', 'd', 'll', 'm', 'o', 're', 've', 'y', 'ain', 'aren', \"aren't\", 'couldn', \"couldn't\", 'didn', \"didn't\", 'doesn', \"doesn't\", 'hadn', \"hadn't\", 'hasn', \"hasn't\", 'haven', \"haven't\", 'isn', \"isn't\", 'ma', 'mightn', \"mightn't\", 'mustn', \"mustn't\", 'needn', \"needn't\", 'shan', \"shan't\", 'shouldn', \"shouldn't\", 'wasn', \"wasn't\", 'weren', \"weren't\", 'won', \"won't\", 'wouldn', \"wouldn't\"]\n"
          ]
        },
        {
          "output_type": "stream",
          "name": "stderr",
          "text": [
            "[nltk_data] Downloading package stopwords to /root/nltk_data...\n",
            "[nltk_data]   Package stopwords is already up-to-date!\n"
          ]
        }
      ],
      "source": [
        "from nltk.corpus import stopwords\n",
        "nltk.download('stopwords')\n",
        "stopwords = nltk.corpus.stopwords.words('english')\n",
        "\n",
        "print(stopwords)"
      ]
    },
    {
      "cell_type": "code",
      "execution_count": 20,
      "metadata": {
        "id": "JGR138QarO3c",
        "colab": {
          "base_uri": "https://localhost:8080/"
        },
        "outputId": "6aea44c8-5512-4625-804e-4562b3c8b68c"
      },
      "outputs": [
        {
          "output_type": "stream",
          "name": "stderr",
          "text": [
            "[nltk_data] Downloading package stopwords to /root/nltk_data...\n",
            "[nltk_data]   Package stopwords is already up-to-date!\n"
          ]
        }
      ],
      "source": [
        "import nltk\n",
        "nltk.download('stopwords')\n",
        "from nltk.corpus import stopwords\n",
        "\n",
        "stop_words = stopwords.words('english')\n",
        "new_df['article'] = new_df['article'].apply(lambda x: ' '.join([word for word in x.split() if word not in (stop_words)]))\n",
        "new_df['highlights'] = new_df['highlights'].apply(lambda x: ' '.join([word for word in x.split() if word not in (stop_words)]))"
      ]
    },
    {
      "cell_type": "code",
      "execution_count": 21,
      "metadata": {
        "id": "53UvDl_TxJUo",
        "colab": {
          "base_uri": "https://localhost:8080/",
          "height": 358
        },
        "outputId": "6fafe757-f5ea-426b-85f5-d1310de21137"
      },
      "outputs": [
        {
          "output_type": "execute_result",
          "data": {
            "text/plain": [
              "                                             id  \\\n",
              "80318  e3ac5e857b7b02bf68fb9cd3e105a9767c69f8a9   \n",
              "\n",
              "                                                                                                                                                                                                       article  \\\n",
              "80318  gone days pair black copa mundials boot choice england players ahead world cup todays stars prefer noticed pitch seems fluorescent boot better whole host bright colours seen flashing across wemble...   \n",
              "\n",
              "                                                                                                                                                                                                    highlights  \n",
              "80318  raheem sterling wore nikes new flyknit mercurial superfly iv boot wembley friday replaced wayne rooney englands 30 win peru boot unveiled cristiano ronaldo last month host stars wear boot next mon...  "
            ],
            "text/html": [
              "\n",
              "  <div id=\"df-446dd2d1-68e7-4478-9f09-f1223e344c96\" class=\"colab-df-container\">\n",
              "    <div>\n",
              "<style scoped>\n",
              "    .dataframe tbody tr th:only-of-type {\n",
              "        vertical-align: middle;\n",
              "    }\n",
              "\n",
              "    .dataframe tbody tr th {\n",
              "        vertical-align: top;\n",
              "    }\n",
              "\n",
              "    .dataframe thead th {\n",
              "        text-align: right;\n",
              "    }\n",
              "</style>\n",
              "<table border=\"1\" class=\"dataframe\">\n",
              "  <thead>\n",
              "    <tr style=\"text-align: right;\">\n",
              "      <th></th>\n",
              "      <th>id</th>\n",
              "      <th>article</th>\n",
              "      <th>highlights</th>\n",
              "    </tr>\n",
              "  </thead>\n",
              "  <tbody>\n",
              "    <tr>\n",
              "      <th>80318</th>\n",
              "      <td>e3ac5e857b7b02bf68fb9cd3e105a9767c69f8a9</td>\n",
              "      <td>gone days pair black copa mundials boot choice england players ahead world cup todays stars prefer noticed pitch seems fluorescent boot better whole host bright colours seen flashing across wemble...</td>\n",
              "      <td>raheem sterling wore nikes new flyknit mercurial superfly iv boot wembley friday replaced wayne rooney englands 30 win peru boot unveiled cristiano ronaldo last month host stars wear boot next mon...</td>\n",
              "    </tr>\n",
              "  </tbody>\n",
              "</table>\n",
              "</div>\n",
              "    <div class=\"colab-df-buttons\">\n",
              "\n",
              "  <div class=\"colab-df-container\">\n",
              "    <button class=\"colab-df-convert\" onclick=\"convertToInteractive('df-446dd2d1-68e7-4478-9f09-f1223e344c96')\"\n",
              "            title=\"Convert this dataframe to an interactive table.\"\n",
              "            style=\"display:none;\">\n",
              "\n",
              "  <svg xmlns=\"http://www.w3.org/2000/svg\" height=\"24px\" viewBox=\"0 -960 960 960\">\n",
              "    <path d=\"M120-120v-720h720v720H120Zm60-500h600v-160H180v160Zm220 220h160v-160H400v160Zm0 220h160v-160H400v160ZM180-400h160v-160H180v160Zm440 0h160v-160H620v160ZM180-180h160v-160H180v160Zm440 0h160v-160H620v160Z\"/>\n",
              "  </svg>\n",
              "    </button>\n",
              "\n",
              "  <style>\n",
              "    .colab-df-container {\n",
              "      display:flex;\n",
              "      gap: 12px;\n",
              "    }\n",
              "\n",
              "    .colab-df-convert {\n",
              "      background-color: #E8F0FE;\n",
              "      border: none;\n",
              "      border-radius: 50%;\n",
              "      cursor: pointer;\n",
              "      display: none;\n",
              "      fill: #1967D2;\n",
              "      height: 32px;\n",
              "      padding: 0 0 0 0;\n",
              "      width: 32px;\n",
              "    }\n",
              "\n",
              "    .colab-df-convert:hover {\n",
              "      background-color: #E2EBFA;\n",
              "      box-shadow: 0px 1px 2px rgba(60, 64, 67, 0.3), 0px 1px 3px 1px rgba(60, 64, 67, 0.15);\n",
              "      fill: #174EA6;\n",
              "    }\n",
              "\n",
              "    .colab-df-buttons div {\n",
              "      margin-bottom: 4px;\n",
              "    }\n",
              "\n",
              "    [theme=dark] .colab-df-convert {\n",
              "      background-color: #3B4455;\n",
              "      fill: #D2E3FC;\n",
              "    }\n",
              "\n",
              "    [theme=dark] .colab-df-convert:hover {\n",
              "      background-color: #434B5C;\n",
              "      box-shadow: 0px 1px 3px 1px rgba(0, 0, 0, 0.15);\n",
              "      filter: drop-shadow(0px 1px 2px rgba(0, 0, 0, 0.3));\n",
              "      fill: #FFFFFF;\n",
              "    }\n",
              "  </style>\n",
              "\n",
              "    <script>\n",
              "      const buttonEl =\n",
              "        document.querySelector('#df-446dd2d1-68e7-4478-9f09-f1223e344c96 button.colab-df-convert');\n",
              "      buttonEl.style.display =\n",
              "        google.colab.kernel.accessAllowed ? 'block' : 'none';\n",
              "\n",
              "      async function convertToInteractive(key) {\n",
              "        const element = document.querySelector('#df-446dd2d1-68e7-4478-9f09-f1223e344c96');\n",
              "        const dataTable =\n",
              "          await google.colab.kernel.invokeFunction('convertToInteractive',\n",
              "                                                    [key], {});\n",
              "        if (!dataTable) return;\n",
              "\n",
              "        const docLinkHtml = 'Like what you see? Visit the ' +\n",
              "          '<a target=\"_blank\" href=https://colab.research.google.com/notebooks/data_table.ipynb>data table notebook</a>'\n",
              "          + ' to learn more about interactive tables.';\n",
              "        element.innerHTML = '';\n",
              "        dataTable['output_type'] = 'display_data';\n",
              "        await google.colab.output.renderOutput(dataTable, element);\n",
              "        const docLink = document.createElement('div');\n",
              "        docLink.innerHTML = docLinkHtml;\n",
              "        element.appendChild(docLink);\n",
              "      }\n",
              "    </script>\n",
              "  </div>\n",
              "\n",
              "    </div>\n",
              "  </div>\n"
            ]
          },
          "metadata": {},
          "execution_count": 21
        }
      ],
      "source": [
        "new_df.head(1)"
      ]
    },
    {
      "cell_type": "code",
      "execution_count": 22,
      "metadata": {
        "id": "wjYAbVnK3wiN"
      },
      "outputs": [],
      "source": [
        "#!pip install contractions\n",
        "contraction_mapping = {\"ain't\": \"is not\", \"aren't\": \"are not\",\"can't\": \"cannot\", \"'cause\": \"because\", \"could've\": \"could have\", \"couldn't\": \"could not\",\n",
        "\n",
        "                           \"didn't\": \"did not\", \"doesn't\": \"does not\", \"don't\": \"do not\", \"hadn't\": \"had not\", \"hasn't\": \"has not\", \"haven't\": \"have not\",\n",
        "\n",
        "                           \"he'd\": \"he would\",\"he'll\": \"he will\", \"he's\": \"he is\", \"how'd\": \"how did\", \"how'd'y\": \"how do you\", \"how'll\": \"how will\", \"how's\": \"how is\",\n",
        "\n",
        "                           \"I'd\": \"I would\", \"I'd've\": \"I would have\", \"I'll\": \"I will\", \"I'll've\": \"I will have\",\"I'm\": \"I am\", \"I've\": \"I have\", \"i'd\": \"i would\",\n",
        "\n",
        "                           \"i'd've\": \"i would have\", \"i'll\": \"i will\",  \"i'll've\": \"i will have\",\"i'm\": \"i am\", \"i've\": \"i have\", \"isn't\": \"is not\", \"it'd\": \"it would\",\n",
        "\n",
        "                           \"it'd've\": \"it would have\", \"it'll\": \"it will\", \"it'll've\": \"it will have\",\"it's\": \"it is\", \"let's\": \"let us\", \"ma'am\": \"madam\",\n",
        "\n",
        "                           \"mayn't\": \"may not\", \"might've\": \"might have\",\"mightn't\": \"might not\",\"mightn't've\": \"might not have\", \"must've\": \"must have\",\n",
        "\n",
        "                           \"mustn't\": \"must not\", \"mustn't've\": \"must not have\", \"needn't\": \"need not\", \"needn't've\": \"need not have\",\"o'clock\": \"of the clock\",\n",
        "\n",
        "                           \"oughtn't\": \"ought not\", \"oughtn't've\": \"ought not have\", \"shan't\": \"shall not\", \"sha'n't\": \"shall not\", \"shan't've\": \"shall not have\",\n",
        "\n",
        "                           \"she'd\": \"she would\", \"she'd've\": \"she would have\", \"she'll\": \"she will\", \"she'll've\": \"she will have\", \"she's\": \"she is\",\n",
        "\n",
        "                           \"should've\": \"should have\", \"shouldn't\": \"should not\", \"shouldn't've\": \"should not have\", \"so've\": \"so have\",\"so's\": \"so as\",\n",
        "\n",
        "                           \"this's\": \"this is\",\"that'd\": \"that would\", \"that'd've\": \"that would have\", \"that's\": \"that is\", \"there'd\": \"there would\",\n",
        "\n",
        "                           \"there'd've\": \"there would have\", \"there's\": \"there is\", \"here's\": \"here is\",\"they'd\": \"they would\", \"they'd've\": \"they would have\",\n",
        "\n",
        "                           \"they'll\": \"they will\", \"they'll've\": \"they will have\", \"they're\": \"they are\", \"they've\": \"they have\", \"to've\": \"to have\",\n",
        "\n",
        "                           \"wasn't\": \"was not\", \"we'd\": \"we would\", \"we'd've\": \"we would have\", \"we'll\": \"we will\", \"we'll've\": \"we will have\", \"we're\": \"we are\",\n",
        "\n",
        "                           \"we've\": \"we have\", \"weren't\": \"were not\", \"what'll\": \"what will\", \"what'll've\": \"what will have\", \"what're\": \"what are\",\n",
        "\n",
        "                           \"what's\": \"what is\", \"what've\": \"what have\", \"when's\": \"when is\", \"when've\": \"when have\", \"where'd\": \"where did\", \"where's\": \"where is\",\n",
        "\n",
        "                           \"where've\": \"where have\", \"who'll\": \"who will\", \"who'll've\": \"who will have\", \"who's\": \"who is\", \"who've\": \"who have\",\n",
        "\n",
        "                           \"why's\": \"why is\", \"why've\": \"why have\", \"will've\": \"will have\", \"won't\": \"will not\", \"won't've\": \"will not have\",\n",
        "\n",
        "                           \"would've\": \"would have\", \"wouldn't\": \"would not\", \"wouldn't've\": \"would not have\", \"y'all\": \"you all\",\n",
        "\n",
        "                           \"y'all'd\": \"you all would\",\"y'all'd've\": \"you all would have\",\"y'all're\": \"you all are\",\"y'all've\": \"you all have\",\n",
        "\n",
        "                           \"you'd\": \"you would\", \"you'd've\": \"you would have\", \"you'll\": \"you will\", \"you'll've\": \"you will have\",\n",
        "\n",
        "                           \"you're\": \"you are\", \"you've\": \"you have\"}"
      ]
    },
    {
      "cell_type": "code",
      "source": [
        "import nltk\n",
        "nltk.download('stopwords')\n",
        "stop_words = set(stopwords.words('english'))\n",
        "\n",
        "def text_cleaner(text,num):\n",
        "    newString = text.lower()\n",
        "    newString = BeautifulSoup(newString, \"lxml\").text\n",
        "    newString = re.sub(r'\\([^)]*\\)', '', newString)\n",
        "    newString = re.sub('\"','', newString)\n",
        "    newString = ' '.join([contraction_mapping[t] if t in contraction_mapping else t for t in newString.split(\" \")])\n",
        "    newString = re.sub(r\"'s\\b\",\"\",newString)\n",
        "    newString = re.sub(\"[^a-zA-Z]\", \" \", newString)\n",
        "    newString = re.sub('[m]{2,}', 'mm', newString)\n",
        "    if(num==0):\n",
        "        tokens = [w for w in newString.split() if not w in stop_words]\n",
        "    else:\n",
        "        tokens=newString.split()\n",
        "    long_words=[]\n",
        "    for i in tokens:\n",
        "        if len(i)>1:                                                 #removing short word\n",
        "            long_words.append(i)\n",
        "    return (\" \".join(long_words)).strip()"
      ],
      "metadata": {
        "id": "qtKYxbT0XuOq",
        "outputId": "d35692a8-b0f7-428f-b92f-269d69883712",
        "colab": {
          "base_uri": "https://localhost:8080/"
        }
      },
      "execution_count": 23,
      "outputs": [
        {
          "output_type": "stream",
          "name": "stderr",
          "text": [
            "[nltk_data] Downloading package stopwords to /root/nltk_data...\n",
            "[nltk_data]   Package stopwords is already up-to-date!\n"
          ]
        }
      ]
    },
    {
      "cell_type": "code",
      "source": [
        "#call the function\n",
        "cleaned_text = []\n",
        "for t in df['article']:\n",
        "    cleaned_text.append(text_cleaner(t,0))"
      ],
      "metadata": {
        "id": "ZJ3JfEN-XxHT"
      },
      "execution_count": 24,
      "outputs": []
    },
    {
      "cell_type": "code",
      "source": [
        "cleaned_text[:5]"
      ],
      "metadata": {
        "id": "tCk7aFQ0XzZG",
        "outputId": "06967b1b-1181-4248-a7ab-e96747d22303",
        "colab": {
          "base_uri": "https://localhost:8080/"
        }
      },
      "execution_count": 57,
      "outputs": [
        {
          "output_type": "execute_result",
          "data": {
            "text/plain": [
              "array(['associated press published est october updated est october bishop fargo catholic diocese north dakota exposed potentially hundreds church members fargo grand forks jamestown hepatitis virus late september early october state health department issued advisory exposure anyone attended five churches took communion bishop john folda fargo catholic diocese north dakota exposed potentially hundreds church members fargo grand forks jamestown hepatitis state immunization program manager molly howell says risk low officials feel important alert people possible exposure diocese announced monday bishop john folda taking time diagnosed hepatitis diocese says contracted infection contaminated food attending conference newly ordained bishops italy last month symptoms hepatitis include fever tiredness loss appetite nausea abdominal discomfort fargo catholic diocese north dakota bishop located',\n",
              "       'ralph mata internal affairs lieutenant miami dade police department working division investigates allegations wrongdoing cops outside office authorities allege year old longtime officer worked drug trafficking organization help plan murder plot get guns criminal complaint unsealed district court new jersey tuesday accuses mata also known milk man using role police officer help drug trafficking organization exchange money gifts including rolex watch one instance complaint alleges mata arranged pay two assassins kill rival drug dealers killers would pose cops pulling targets shooting according complaint ultimately decided move forward murder plot mata still received payment setting meetings federal prosecutors said statement complaint also alleges mata used police badge purchase weapons drug traffickers mata according complaint used contacts airport transport weapons carry luggage trips miami dominican republic court documents released investigators specify name drug trafficking organization mata allegedly conspired says organization importing narcotics places ecuador dominican republic hiding inside shipping containers containing pallets produce including bananas organization distributing narcotics new jersey elsewhere complaint says authorities arrested mata tuesday miami gardens florida immediately clear whether mata attorney police officials could immediately reached comment mata worked miami dade police department since including directing investigations miami gardens working lieutenant unit miami international airport according complaint since march working internal affairs division mata faces charges aiding abetting conspiracy distribute cocaine conspiring distribute cocaine engaging monetary transactions property derived specified unlawful activity scheduled appear federal court florida wednesday convicted mata could face life prison cnn suzanne presto contributed report',\n",
              "       'drunk driver killed young woman head crash checking mobile phone jailed six years craig eccleston todd driving home night pub received text message reading replying veered across road driving round bend smashed rachel titley car coming way craig eccleston todd using mobile phone crashed head car driven rachel titley died later injuries head crash took place october mr eccleston todd car barely recognisable police said eccleston todd drunk least three four pints beer getting behind wheel found guilty causing death dangerous driving portsmouth crown court yesterday miss titley year old solicitor clerk cowes isle wight also spent evening friends pub drunk alcohol police said driving responsibly nothing could done avoid collision added lindsay pennell prosecuting said craig eccleston todd driving resulted tragic death young woman rachel titley death could avoided mr eccleston todd took decision pick mobile phone whilst driving either reading replying text message distracted failed negotiate left hand bend crossing central white line path miss titley oncoming car miss titley pulled wreckage daihatsu cuore died later injuries hospital miss titley bright future ahead also returning home spent enjoyable evening friends driving responsibly arranged contact friends got home confirm arrived safely friends sadly never heard parted company miss titley death circumstances reiterates danger using hand held mobile phone whilst driving police unable take breath blood tests eccleston todd immediately tests several hours accident marginally drink drive limit judge agreed police would limit time red citroen hit miss titley blue daihatsu cuore road near yarmouth isle wight october phone records showed also texting around time crash pc mark furse hampshire constabulary serious collision investigation unit said thoughts rachel family time friends pub shalfleet evening alcohol investigation showed nothing could done avoid collision sadly cost life mr eccleston todd left work yarmouth met friends pub drank least three four pints lager long left pub return home collision occurred around pm able take breath blood tests immediately although blood taken several hours collision showed marginally limit maintain would limit time collision summing today judge agreed analysis phone records showed texting phone around time collision highly likely would also contributed dangerous driving loss control eccleston todd found guilty causing death dangerous driving following trial portsmouth crown court added mr eccleston todd spend six years behind bars rachel family lost forever hope make people think twice drinking alcohol getting behind wheel using phone road dangers drink driving driving whilst using mobile phone obvious continue risk spending substantial time prison case highlights tragic consequences committing offences mr eccleston todd spend six years behind bars rachel family lost ever hope make people think twice drinking alcohol getting behind wheel using phone road case highlights tragic consequences committing offences eccleston todd newport isle wight also disqualified driving eight years complete extended test',\n",
              "       'breezy sweep pen president vladimir putin wrote new chapter crimea turbulent history committing region future returned russian domain sixty years prior ukraine breakaway peninsula signed away swiftly soviet leader nikita khrushchev dealing blatant land grab eastern flank anywhere near quick easy europe member union unlike crimea rushed referendum everyone say initially slapping visa restrictions asset freezes limited number little known politicians military men europe facing urgent calls widen scope measures target russian business community particular logic run russia essentially two sides coin alexei navalny one time moscow mayoral contender house arrest opposing current regime called europe leaders ban everyone vladimir putin personal banker chelsea football club owner roman abramovich keeping money loved ones abroad asset freezes visa restrictions especially palatable options eu rolled discretionary basis without requiring cumbersome legal procedures recourse fact russia cancels visas people like time look hermitage capital founder bill browder lost right entry moscow based money dare go back russia also banned adoption orphans americans retaliation us implementation anti corruption law named sergei magnitsky browder lawyer died year moscow detention center apparently beaten death yet playing money talks card europe must ready consequences action money also walks eu leaders must ready accept sanctions two way street hurt sides targeting russia peripatetic business community would one way sapping tenuous support president putin strategy might also turn silver lining awarding eu countries chance finally deal unpleasant sides patronage including money laundering corruption inflated prize assets like london property picasso paintings years europe hold fire though trade two decades post soviet rapprochement almost billion worth commerce lot put stake true trade war would hurt russia far harder would eu least former gdp comes exports bloc europe hefty reliance russian gas would hard time keeping factories going citizens warm without power east putin flexes political muscle open trade channels keep dialogue going giving sides chance change subject talk less tensely one afford cut lifeline especially europe economy rebound russia one wane',\n",
              "       'fleetwood team still record sky bet league one win scunthorpe sent graham alexander men top table cod army playing third tier first time history six promotions nine years remarkable ascent shows sign slowing jamie proctor gareth evans scoring goals glanford park fleetwood one five teams two two four clubs peterborough bristol city chesterfield crawley hit first stumbling blocks posh defeated sheffield united lost opening contests jose baxter opener gave blades first half lead although later cancelled shaun brisley goal ben davies snatched winner six minutes time lead jose baxter celebrates opening scoring sheffield united battle sheffield united michael doyle challenges peterborough kyle vassell keenly contested clash bristol city beat nigel clough men opening day held goalless draw last season play finalists leyton orient chesterfield league two champions beaten mk dons play manchester united capital one cup seven days time arsenal loanee benik afobe scored goal game break meanwhile crawley lost unbeaten status bradford maintained thanks win bantams james hanson became first player score crawley season minutes joe walsh equalised five minutes later heads bristol city korey smith leyton orient lloyd james go header strikes billy knott mason bennett sealed impressive away win phil parkinson men bradford second behind fleetwood doncaster stoppage time equaliser meant preston joe garner signed new contract earlier tuesday held draw slipped table chris humphrey looked secured points lilywhites nathan tyson struck last gasp leveller stand striker matt done scored hat trick rochdale evening high scoring affair crewe hammered marcus haber marked full railwaymen debut brace done treble goals ian henderson peter vincenti helped keith hill men big away victory plenty goals coventry barnsley draw four goals coming first half josh mcquoid jordan clarke twice gave sky blues lead tykes earned point thanks strikes conor hourihane leroy lita notts county recorded home win colchester ronan murray liam noble target freddie sears replied colchester james wilson second half equaliser earned oldham points port vale tom pope opener yeovil claimed away victory walsall kevin dawson striking late winner tom bradshaw equalised veteran james hayter gave glovers lead finally swindon held gillingham draw thanks stephen bywater last minute goal danny kedwell kortney hause twice gave gills lead andy williams pulled swindon level bywater dropped raphael branco cross net'],\n",
              "      dtype=object)"
            ]
          },
          "metadata": {},
          "execution_count": 57
        }
      ]
    },
    {
      "cell_type": "code",
      "source": [
        "df['highlights'] = df['highlights'].astype(str)"
      ],
      "metadata": {
        "id": "OtwB866UX1-M"
      },
      "execution_count": 25,
      "outputs": []
    },
    {
      "cell_type": "code",
      "source": [
        "#call the function\n",
        "cleaned_summary = []\n",
        "for t in df['highlights']:\n",
        "    cleaned_summary.append(text_cleaner(t,1))"
      ],
      "metadata": {
        "id": "86WCr2L9X4FC"
      },
      "execution_count": 26,
      "outputs": []
    },
    {
      "cell_type": "code",
      "source": [
        "cleaned_summary[:10]"
      ],
      "metadata": {
        "id": "cWFKz-C-X5xR",
        "outputId": "a829ffa8-d8a2-4d10-da58-80a40c9bef1c",
        "colab": {
          "base_uri": "https://localhost:8080/"
        }
      },
      "execution_count": 27,
      "outputs": [
        {
          "output_type": "execute_result",
          "data": {
            "text/plain": [
              "['bishop john folda of north dakota is taking time off after being diagnosed he contracted the infection through contaminated food in italy church members in fargo grand forks and jamestown could have been exposed',\n",
              " 'criminal complaint cop used his role to help cocaine traffickers ralph mata an internal affairs lieutenant allegedly helped group get guns he also arranged to pay two assassins in murder plot complaint alleges',\n",
              " 'craig eccleston todd had drunk at least three pints before driving car was using phone when he veered across road in yarmouth isle of wight crashed head on into year old rachel titley car who died in hospital police say he would have been over legal drink drive limit at time of crash he was found guilty at portsmouth crown court of causing death by dangerous driving',\n",
              " 'nina dos santos says europe must be ready to accept sanctions will hurt both sides targeting russia business community would be one way of sapping their support for president putin she says but she says europe would have hard time keeping its factories going without power from the east',\n",
              " 'fleetwood top of league one after win at scunthorpe peterborough bristol city chesterfield and crawley all drop first points of the season stand in striker matt done scores hat trick as rochdale thrash crewe wins for notts county and yeovil coventry bradford and oldham port vale both end in draws late stephen bywater own goal denies gillingham three points against millwall',\n",
              " 'prime minister and his family are enjoying an easter break in lanzarote sported the same beige loafers as he wore in portugal last year pm sat and had drink at beach side cafe on the spanish island',\n",
              " 'nba star calls for black and hispanic communities to get tested former lakers player dedicated life to raising awareness about disease',\n",
              " 'london midland service had been pulling into telford station in shropshire passenger chris downes was recording on his mobile at the time announcer can clearly be heard saying telford central please be aware of pickpockets and gipsies london midland said it is now launching an investigation into the incident',\n",
              " 'tony pulis believes saido berahino should look up to darren fletcher pulis insists berahino has been listened to the wrong advice berahino said he wants to move on to bigger things earlier in the week read berahino available for after liverpool target angers club click here for all the latest west brom news',\n",
              " 'black box data from flight could be analyzed at laboratory in australia even if the flight data recorder is damaged information is retrievable about parameters are decoded like altitude engine performance and cabin pressure the data is used to create visual representation helping the public understand an accident']"
            ]
          },
          "metadata": {},
          "execution_count": 27
        }
      ]
    },
    {
      "cell_type": "code",
      "source": [
        "df['cleaned_text']=cleaned_text\n",
        "df['cleaned_summary']=cleaned_summary"
      ],
      "metadata": {
        "id": "qycix1SDX8YB"
      },
      "execution_count": 28,
      "outputs": []
    },
    {
      "cell_type": "code",
      "source": [
        "df.replace('', np.nan, inplace=True)\n",
        "df.dropna(axis=0,inplace=True)"
      ],
      "metadata": {
        "id": "wLFEtJmUX_KO"
      },
      "execution_count": 29,
      "outputs": []
    },
    {
      "cell_type": "code",
      "source": [
        "import matplotlib.pyplot as plt\n",
        "\n",
        "text_word_count = []\n",
        "summary_word_count = []\n",
        "\n",
        "# populate the lists with sentence lengths\n",
        "for i in df['cleaned_text']:\n",
        "      text_word_count.append(len(i.split()))\n",
        "\n",
        "for i in df['cleaned_summary']:\n",
        "      summary_word_count.append(len(i.split()))\n",
        "\n",
        "length_df = pd.DataFrame({'text':text_word_count, 'summary':summary_word_count})\n",
        "\n",
        "length_df.hist(bins = 30)\n",
        "plt.show()"
      ],
      "metadata": {
        "id": "S8zI6F9oYC_C",
        "outputId": "827eebad-ac77-434b-baf4-25320e8397b5",
        "colab": {
          "base_uri": "https://localhost:8080/",
          "height": 452
        }
      },
      "execution_count": 30,
      "outputs": [
        {
          "output_type": "display_data",
          "data": {
            "text/plain": [
              "<Figure size 640x480 with 2 Axes>"
            ],
            "image/png": "[encoded data removed]"
          },
          "metadata": {}
        }
      ]
    },
    {
      "cell_type": "code",
      "source": [
        "max_len_text=300\n",
        "max_len_summary=100"
      ],
      "metadata": {
        "id": "1yqjhxiFtwuh"
      },
      "execution_count": 31,
      "outputs": []
    },
    {
      "cell_type": "code",
      "source": [
        "cnt=0\n",
        "for i in df['cleaned_summary']:\n",
        "    if(len(i.split())<=8):\n",
        "        cnt=cnt+1\n",
        "print(cnt/len(df['cleaned_summary']))"
      ],
      "metadata": {
        "id": "eQV9JsCGYFva",
        "outputId": "16840bfc-d6a8-4d7f-f68b-a90c2234495e",
        "colab": {
          "base_uri": "https://localhost:8080/"
        }
      },
      "execution_count": 32,
      "outputs": [
        {
          "output_type": "stream",
          "name": "stdout",
          "text": [
            "0.0013130718567254008\n"
          ]
        }
      ]
    },
    {
      "cell_type": "code",
      "source": [
        "cleaned_text =np.array(df['cleaned_text'])\n",
        "cleaned_summary=np.array(df['cleaned_summary'])\n",
        "\n",
        "short_text=[]\n",
        "short_summary=[]\n",
        "\n",
        "for i in range(len(cleaned_text)):\n",
        "    if(len(cleaned_summary[i].split())<=max_len_summary and len(cleaned_text[i].split())<=max_len_text):\n",
        "        short_text.append(cleaned_text[i])\n",
        "        short_summary.append(cleaned_summary[i])\n",
        "\n",
        "df=pd.DataFrame({'text':short_text,'summary':short_summary})"
      ],
      "metadata": {
        "id": "HBOgHSAyYH1R"
      },
      "execution_count": 33,
      "outputs": []
    },
    {
      "cell_type": "code",
      "source": [
        "df['summary'] = df['summary'].apply(lambda x : 'sostok '+ x + ' eostok')"
      ],
      "metadata": {
        "id": "61GoF4EMYJuB"
      },
      "execution_count": 34,
      "outputs": []
    },
    {
      "cell_type": "code",
      "execution_count": 35,
      "metadata": {
        "id": "ALhIQrqvDVpg"
      },
      "outputs": [],
      "source": [
        "from sklearn.model_selection import train_test_split\n",
        "x_tr,x_val,y_tr,y_val=train_test_split(np.array(df['text']),np.array(df['summary']),test_size=0.1,random_state=0,shuffle=True)"
      ]
    },
    {
      "cell_type": "code",
      "source": [
        "from keras.preprocessing.text import Tokenizer\n",
        "from keras.preprocessing.sequence import pad_sequences\n",
        "\n",
        "#prepare a tokenizer for reviews on training data\n",
        "x_tokenizer = Tokenizer()\n",
        "x_tokenizer.fit_on_texts(list(x_tr))"
      ],
      "metadata": {
        "id": "7KkHr3mAYQ8J"
      },
      "execution_count": 36,
      "outputs": []
    },
    {
      "cell_type": "code",
      "source": [
        "thresh=4\n",
        "\n",
        "cnt=0\n",
        "tot_cnt=0\n",
        "freq=0\n",
        "tot_freq=0\n",
        "\n",
        "for key,value in x_tokenizer.word_counts.items():\n",
        "    tot_cnt=tot_cnt+1\n",
        "    tot_freq=tot_freq+value\n",
        "    if(value<thresh):\n",
        "        cnt=cnt+1\n",
        "        freq=freq+value\n",
        "\n",
        "print(\"% of rare words in vocabulary:\",(cnt/tot_cnt)*100)\n",
        "print(\"Total Coverage of rare words:\",(freq/tot_freq)*100)"
      ],
      "metadata": {
        "id": "xTZaAZ33YTuJ",
        "outputId": "ec5653f3-d4db-4d5f-9cf3-c582f906ac48",
        "colab": {
          "base_uri": "https://localhost:8080/"
        }
      },
      "execution_count": 37,
      "outputs": [
        {
          "output_type": "stream",
          "name": "stdout",
          "text": [
            "% of rare words in vocabulary: 54.332160786858374\n",
            "Total Coverage of rare words: 0.7853636538064972\n"
          ]
        }
      ]
    },
    {
      "cell_type": "code",
      "execution_count": 38,
      "metadata": {
        "id": "7zBMGNiOplHZ"
      },
      "outputs": [],
      "source": [
        "#prepare a tokenizer for reviews on training data\n",
        "x_tokenizer = Tokenizer(num_words=tot_cnt-cnt)\n",
        "x_tokenizer.fit_on_texts(list(x_tr))\n",
        "\n",
        "#convert text sequences into integer sequences\n",
        "x_tr_seq    =   x_tokenizer.texts_to_sequences(x_tr)\n",
        "x_val_seq   =   x_tokenizer.texts_to_sequences(x_val)\n",
        "\n",
        "#padding zero upto maximum length\n",
        "x_tr    =   pad_sequences(x_tr_seq,  maxlen=max_len_text, padding='post')\n",
        "x_val   =   pad_sequences(x_val_seq, maxlen=max_len_text, padding='post')\n",
        "\n",
        "#size of vocabulary ( +1 for padding token)\n",
        "x_voc   =  x_tokenizer.num_words + 1\n"
      ]
    },
    {
      "cell_type": "code",
      "source": [
        "x_voc"
      ],
      "metadata": {
        "id": "LozNsq2KYZrK",
        "outputId": "3586a5fd-0439-4812-f3da-53e275db262b",
        "colab": {
          "base_uri": "https://localhost:8080/"
        }
      },
      "execution_count": 39,
      "outputs": [
        {
          "output_type": "execute_result",
          "data": {
            "text/plain": [
              "93605"
            ]
          },
          "metadata": {},
          "execution_count": 39
        }
      ]
    },
    {
      "cell_type": "code",
      "source": [
        "#prepare a tokenizer for reviews on training data\n",
        "y_tokenizer = Tokenizer()\n",
        "y_tokenizer.fit_on_texts(list(y_tr))"
      ],
      "metadata": {
        "id": "DQv_nDo4YkQx"
      },
      "execution_count": 40,
      "outputs": []
    },
    {
      "cell_type": "markdown",
      "source": [
        "Reducing the x_voc_size could help us to remove the number of parameters in the embedding layers.\n",
        "Taking the threshold of the rare words can help us remvoe the number of parameters.\n",
        "Else we have to change the dataset to something smaller"
      ],
      "metadata": {
        "id": "BNCXaHN0TwpO"
      }
    },
    {
      "cell_type": "code",
      "source": [
        "thresh=6\n",
        "\n",
        "cnt=0\n",
        "tot_cnt=0\n",
        "freq=0\n",
        "tot_freq=0\n",
        "\n",
        "for key,value in y_tokenizer.word_counts.items():\n",
        "    tot_cnt=tot_cnt+1\n",
        "    tot_freq=tot_freq+value\n",
        "    if(value<thresh):\n",
        "        cnt=cnt+1\n",
        "        freq=freq+value\n",
        "\n",
        "print(\"% of rare words in vocabulary:\",(cnt/tot_cnt)*100)\n",
        "print(\"Total Coverage of rare words:\",(freq/tot_freq)*100)"
      ],
      "metadata": {
        "id": "7A36kWwYGkKj",
        "outputId": "d638a8c0-4014-43e8-c9b1-df8202f72bd5",
        "colab": {
          "base_uri": "https://localhost:8080/"
        }
      },
      "execution_count": 41,
      "outputs": [
        {
          "output_type": "stream",
          "name": "stdout",
          "text": [
            "% of rare words in vocabulary: 70.06453804347827\n",
            "Total Coverage of rare words: 2.5886158397403003\n"
          ]
        }
      ]
    },
    {
      "cell_type": "markdown",
      "source": [
        "End of the tokenization method for x and begining of the tokenization of y\n",
        "for y only one method is used so far and based on the performance of the x tokenization. One of the method is used."
      ],
      "metadata": {
        "id": "5tMtMSCUIgzE"
      }
    },
    {
      "cell_type": "code",
      "execution_count": 42,
      "metadata": {
        "id": "UkQr1e0A_3Gx"
      },
      "outputs": [],
      "source": [
        "#prepare a tokenizer for reviews on training data\n",
        "y_tokenizer = Tokenizer(num_words=tot_cnt-cnt)\n",
        "y_tokenizer.fit_on_texts(list(y_tr))\n",
        "\n",
        "#convert text sequences into integer sequences\n",
        "y_tr_seq    =   y_tokenizer.texts_to_sequences(y_tr)\n",
        "y_val_seq   =   y_tokenizer.texts_to_sequences(y_val)\n",
        "\n",
        "#padding zero upto maximum length\n",
        "y_tr    =   pad_sequences(y_tr_seq, maxlen=max_len_summary, padding='post')\n",
        "y_val   =   pad_sequences(y_val_seq, maxlen=max_len_summary, padding='post')\n",
        "\n",
        "#size of vocabulary\n",
        "y_voc  =   y_tokenizer.num_words +1"
      ]
    },
    {
      "cell_type": "code",
      "source": [
        "y_voc"
      ],
      "metadata": {
        "colab": {
          "base_uri": "https://localhost:8080/"
        },
        "id": "Kp7kARwUGTpi",
        "outputId": "e7bc4048-f11f-4a5b-bf95-077417bc9a3c"
      },
      "execution_count": 43,
      "outputs": [
        {
          "output_type": "execute_result",
          "data": {
            "text/plain": [
              "26440"
            ]
          },
          "metadata": {},
          "execution_count": 43
        }
      ]
    },
    {
      "cell_type": "code",
      "source": [
        "y_tokenizer.word_counts['sostok'],len(y_tr)"
      ],
      "metadata": {
        "id": "yC71QokUUGQj",
        "outputId": "6367a19c-8d60-416c-8a84-fa637aeba100",
        "colab": {
          "base_uri": "https://localhost:8080/"
        }
      },
      "execution_count": 44,
      "outputs": [
        {
          "output_type": "execute_result",
          "data": {
            "text/plain": [
              "(101049, 101049)"
            ]
          },
          "metadata": {},
          "execution_count": 44
        }
      ]
    },
    {
      "cell_type": "code",
      "source": [
        "type(y_tr)"
      ],
      "metadata": {
        "id": "MIoNfavWYt9i",
        "outputId": "0205896a-c671-4deb-ded6-1cda2887f445",
        "colab": {
          "base_uri": "https://localhost:8080/"
        }
      },
      "execution_count": 45,
      "outputs": [
        {
          "output_type": "execute_result",
          "data": {
            "text/plain": [
              "numpy.ndarray"
            ]
          },
          "metadata": {},
          "execution_count": 45
        }
      ]
    },
    {
      "cell_type": "code",
      "source": [
        "ind=[]\n",
        "for i in range(len(y_tr)):\n",
        "    cnt=0\n",
        "    for j in y_tr[i]:\n",
        "        if j!=0:\n",
        "            cnt=cnt+1\n",
        "    if(cnt==2):\n",
        "        ind.append(i)\n",
        "\n",
        "y_tr=np.delete(y_tr,ind, axis=0)\n",
        "x_tr=np.delete(x_tr,ind, axis=0)"
      ],
      "metadata": {
        "id": "SxyC8mfZYwJB"
      },
      "execution_count": 46,
      "outputs": []
    },
    {
      "cell_type": "code",
      "execution_count": 47,
      "metadata": {
        "id": "0dxdnQjhAWku"
      },
      "outputs": [],
      "source": [
        "ind=[]\n",
        "for i in range(len(y_val)):\n",
        "    cnt=0\n",
        "    for j in y_val[i]:\n",
        "        if j!=0:\n",
        "            cnt=cnt+1\n",
        "    if(cnt==2):\n",
        "        ind.append(i)\n",
        "\n",
        "y_val=np.delete(y_val,ind, axis=0)\n",
        "x_val=np.delete(x_val,ind, axis=0)"
      ]
    },
    {
      "cell_type": "code",
      "source": [
        "from keras import backend as K\n",
        "K.clear_session()\n",
        "latent_dim = 16\n",
        "embedding_dim=32 #Keeping latent dimension to 300 and introducing embedding dimension of 100 to reduce the number of parameters of the model\n",
        "#condider chaging the latent_dim to smaller value such as 100 or 300\n",
        "#also adding a seperate embedding_dim can help to reduce the compleixity of the model"
      ],
      "metadata": {
        "id": "xcfx-7dbyKKL"
      },
      "execution_count": 59,
      "outputs": []
    },
    {
      "cell_type": "markdown",
      "source": [
        "Using word2vec"
      ],
      "metadata": {
        "id": "q1tL4sb9_v3o"
      }
    },
    {
      "cell_type": "code",
      "source": [
        "#Creating a single shared embedding\n",
        "#shared_emb_layer = Embedding(max(x_voc, y_voc), embedding_dim, trainable=True)\n"
      ],
      "metadata": {
        "id": "s5c_LTGE8VN0"
      },
      "execution_count": 94,
      "outputs": []
    },
    {
      "cell_type": "code",
      "source": [
        "#encoder\n",
        "encoder_inputs = Input(shape=(max_len_text,))\n",
        "enc_emb = Embedding(x_voc, embedding_dim,trainable=True)(encoder_inputs)\n",
        "#enc_emb = shared_emb_layer(encoder_inputs)"
      ],
      "metadata": {
        "id": "Tr9oPMfPylXU"
      },
      "execution_count": 60,
      "outputs": []
    },
    {
      "cell_type": "code",
      "source": [
        "#LSTM 1\n",
        "encoder_lstm1 = LSTM(latent_dim,return_sequences=True,return_state=True,dropout=0.5,recurrent_dropout=0.4)\n",
        "encoder_output1, state_h1, state_c1 = encoder_lstm1(enc_emb)\n",
        "\n",
        "#LSTM2\n",
        "encoder_lstm2 = LSTM(latent_dim,return_sequences=True,return_state=True,dropout=0.5,recurrent_dropout=0.4)\n",
        "encoder_output2, state_h2, state_c2 = encoder_lstm2(encoder_output1)\n",
        "\n",
        "'''encoder_lstm3=LSTM(latent_dim, return_state=True, return_sequences=True,dropout=0.4,recurrent_dropout=0.4)\n",
        "encoder_outputs, state_h, state_c= encoder_lstm3(encoder_output2)'''"
      ],
      "metadata": {
        "id": "bd1syzsnytTN",
        "outputId": "d517b7a1-ba8d-4681-feca-9f71efeec870",
        "colab": {
          "base_uri": "https://localhost:8080/",
          "height": 125
        }
      },
      "execution_count": 61,
      "outputs": [
        {
          "output_type": "stream",
          "name": "stderr",
          "text": [
            "WARNING:tensorflow:Layer lstm will not use cuDNN kernels since it doesn't meet the criteria. It will use a generic GPU kernel as fallback when running on GPU.\n",
            "WARNING:tensorflow:Layer lstm_1 will not use cuDNN kernels since it doesn't meet the criteria. It will use a generic GPU kernel as fallback when running on GPU.\n"
          ]
        },
        {
          "output_type": "execute_result",
          "data": {
            "text/plain": [
              "'encoder_lstm3=LSTM(latent_dim, return_state=True, return_sequences=True,dropout=0.4,recurrent_dropout=0.4)\\nencoder_outputs, state_h, state_c= encoder_lstm3(encoder_output2)'"
            ],
            "application/vnd.google.colaboratory.intrinsic+json": {
              "type": "string"
            }
          },
          "metadata": {},
          "execution_count": 61
        }
      ]
    },
    {
      "cell_type": "code",
      "source": [
        "#decoder\n",
        "decoder_inputs = Input(shape=(None,))\n",
        "dec_emb_layer = Embedding(y_voc, embedding_dim,trainable=True)\n",
        "dec_emb = dec_emb_layer(decoder_inputs)\n",
        "#dec_emb = shared_emb_layer(decoder_inputs)"
      ],
      "metadata": {
        "id": "O8B51Oi9y8ij"
      },
      "execution_count": 62,
      "outputs": []
    },
    {
      "cell_type": "code",
      "source": [
        "#LSTM using encoder_states as initial state\n",
        "decoder_lstm = LSTM(latent_dim, return_sequences=True, return_state=True,dropout=0.4,recurrent_dropout=0.2)\n",
        "decoder_outputs,decoder_fwd_state, decoder_back_state = decoder_lstm(dec_emb,initial_state=[state_h2, state_c2])\n"
      ],
      "metadata": {
        "id": "8TnPLg3j09GZ",
        "outputId": "a3830d09-ba34-44ff-dc5c-626195e08e21",
        "colab": {
          "base_uri": "https://localhost:8080/"
        }
      },
      "execution_count": 63,
      "outputs": [
        {
          "output_type": "stream",
          "name": "stderr",
          "text": [
            "WARNING:tensorflow:Layer lstm_2 will not use cuDNN kernels since it doesn't meet the criteria. It will use a generic GPU kernel as fallback when running on GPU.\n"
          ]
        }
      ]
    },
    {
      "cell_type": "code",
      "source": [
        "#pip install attention_keras\n",
        "import tensorflow as tf\n",
        "from tensorflow.python.keras import backend as K\n",
        "\n",
        "logger = tf.get_logger()\n",
        "\n",
        "class AttentionLayer(tf.keras.layers.Layer):\n",
        "    \"\"\"\n",
        "    This class implements Bahdanau attention (https://arxiv.org/pdf/1409.0473.pdf).\n",
        "    There are three sets of weights introduced W_a, U_a, and V_a\n",
        "     \"\"\"\n",
        "\n",
        "    def __init__(self, **kwargs):\n",
        "        super(AttentionLayer, self).__init__(**kwargs)\n",
        "\n",
        "    def build(self, input_shape):\n",
        "        assert isinstance(input_shape, list)\n",
        "        # Create a trainable weight variable for this layer.\n",
        "\n",
        "        self.W_a = self.add_weight(name='W_a',\n",
        "                                   shape=tf.TensorShape((input_shape[0][2], input_shape[0][2])),\n",
        "                                   initializer='uniform',\n",
        "                                   trainable=True)\n",
        "        self.U_a = self.add_weight(name='U_a',\n",
        "                                   shape=tf.TensorShape((input_shape[1][2], input_shape[0][2])),\n",
        "                                   initializer='uniform',\n",
        "                                   trainable=True)\n",
        "        self.V_a = self.add_weight(name='V_a',\n",
        "                                   shape=tf.TensorShape((input_shape[0][2], 1)),\n",
        "                                   initializer='uniform',\n",
        "                                   trainable=True)\n",
        "\n",
        "        super(AttentionLayer, self).build(input_shape)  # Be sure to call this at the end\n",
        "\n",
        "    def call(self, inputs,verbose=False):\n",
        "        \"\"\"\n",
        "        inputs: [encoder_output_sequence, decoder_output_sequence]\n",
        "        \"\"\"\n",
        "        assert type(inputs) == list\n",
        "        encoder_out_seq, decoder_out_seq = inputs\n",
        "\n",
        "        logger.debug(f\"encoder_out_seq.shape = {encoder_out_seq.shape}\")\n",
        "        logger.debug(f\"decoder_out_seq.shape = {decoder_out_seq.shape}\")\n",
        "\n",
        "        def energy_step(inputs, states):\n",
        "            \"\"\" Step function for computing energy for a single decoder state\n",
        "            inputs: (batchsize * 1 * de_in_dim)\n",
        "            states: (batchsize * 1 * de_latent_dim)\n",
        "            \"\"\"\n",
        "\n",
        "            logger.debug(\"Running energy computation step\")\n",
        "\n",
        "            if not isinstance(states, (list, tuple)):\n",
        "                raise TypeError(f\"States must be an iterable. Got {states} of type {type(states)}\")\n",
        "\n",
        "            encoder_full_seq = states[-1]\n",
        "\n",
        "            \"\"\" Computing S.Wa where S=[s0, s1, ..., si]\"\"\"\n",
        "            # <= batch size * en_seq_len * latent_dim\n",
        "            W_a_dot_s = K.dot(encoder_full_seq, self.W_a)\n",
        "\n",
        "            \"\"\" Computing hj.Ua \"\"\"\n",
        "            U_a_dot_h = K.expand_dims(K.dot(inputs, self.U_a), 1)  # <= batch_size, 1, latent_dim\n",
        "\n",
        "            logger.debug(f\"U_a_dot_h.shape = {U_a_dot_h.shape}\")\n",
        "\n",
        "            \"\"\" tanh(S.Wa + hj.Ua) \"\"\"\n",
        "            # <= batch_size*en_seq_len, latent_dim\n",
        "            Ws_plus_Uh = K.tanh(W_a_dot_s + U_a_dot_h)\n",
        "\n",
        "            logger.debug(f\"Ws_plus_Uh.shape = {Ws_plus_Uh.shape}\")\n",
        "\n",
        "            \"\"\" softmax(va.tanh(S.Wa + hj.Ua)) \"\"\"\n",
        "            # <= batch_size, en_seq_len\n",
        "            e_i = K.squeeze(K.dot(Ws_plus_Uh, self.V_a), axis=-1)\n",
        "            # <= batch_size, en_seq_len\n",
        "            e_i = K.softmax(e_i)\n",
        "\n",
        "            logger.debug(f\"ei.shape = {e_i.shape}\")\n",
        "\n",
        "            return e_i, [e_i]\n",
        "\n",
        "        def context_step(inputs, states):\n",
        "            \"\"\" Step function for computing ci using ei \"\"\"\n",
        "\n",
        "            logger.debug(\"Running attention vector computation step\")\n",
        "\n",
        "            if not isinstance(states, (list, tuple)):\n",
        "                raise TypeError(f\"States must be an iterable. Got {states} of type {type(states)}\")\n",
        "\n",
        "            encoder_full_seq = states[-1]\n",
        "\n",
        "            # <= batch_size, hidden_size\n",
        "            c_i = K.sum(encoder_full_seq * K.expand_dims(inputs, -1), axis=1)\n",
        "\n",
        "            logger.debug(f\"ci.shape = {c_i.shape}\")\n",
        "\n",
        "            return c_i, [c_i]\n",
        "\n",
        "        # we don't maintain states between steps when computing attention\n",
        "        # attention is stateless, so we're passing a fake state for RNN step function\n",
        "        fake_state_c = K.sum(encoder_out_seq, axis=1)\n",
        "        fake_state_e = K.sum(encoder_out_seq, axis=2)  # <= (batch_size, enc_seq_len, latent_dim\n",
        "\n",
        "        \"\"\" Computing energy outputs \"\"\"\n",
        "        # e_outputs => (batch_size, de_seq_len, en_seq_len)\n",
        "        last_out, e_outputs, _ = K.rnn(\n",
        "            energy_step, decoder_out_seq, [fake_state_e], constants=[encoder_out_seq]\n",
        "        )\n",
        "\n",
        "        \"\"\" Computing context vectors \"\"\"\n",
        "        last_out, c_outputs, _ = K.rnn(\n",
        "            context_step, e_outputs, [fake_state_c], constants=[encoder_out_seq]\n",
        "        )\n",
        "\n",
        "        return c_outputs, e_outputs\n",
        "\n",
        "    def compute_output_shape(self, input_shape):\n",
        "        \"\"\" Outputs produced by the layer \"\"\"\n",
        "        return [\n",
        "            tf.TensorShape((input_shape[1][0], input_shape[1][1], input_shape[1][2])),\n",
        "            tf.TensorShape((input_shape[1][0], input_shape[1][1], input_shape[0][1]))\n",
        "        ]"
      ],
      "metadata": {
        "id": "yeuUPKUdy-oP"
      },
      "execution_count": 64,
      "outputs": []
    },
    {
      "cell_type": "code",
      "source": [
        "attn_layer = AttentionLayer(name='attention_layer')\n",
        "attn_out, attn_states = attn_layer([encoder_output2, decoder_outputs])"
      ],
      "metadata": {
        "id": "ynWTOFS8zBRS"
      },
      "execution_count": 65,
      "outputs": []
    },
    {
      "cell_type": "code",
      "source": [
        "# Concat attention output and decoder LSTM output\n",
        "decoder_concat_input = Concatenate(axis=-1, name='concat_layer')([decoder_outputs, attn_out])"
      ],
      "metadata": {
        "id": "Eq8bkpu8L02C"
      },
      "execution_count": 66,
      "outputs": []
    },
    {
      "cell_type": "code",
      "source": [
        "#Dense layer\n",
        "decoder_dense = TimeDistributed(Dense(y_voc, activation='softmax'))\n",
        "decoder_outputs = decoder_dense(decoder_concat_input)"
      ],
      "metadata": {
        "id": "a6MACDv9L289"
      },
      "execution_count": 67,
      "outputs": []
    },
    {
      "cell_type": "code",
      "source": [
        "# Define the model\n",
        "model = Model([encoder_inputs, decoder_inputs], decoder_outputs)\n",
        "model.summary()"
      ],
      "metadata": {
        "id": "rl5mDPbPL5TJ",
        "outputId": "2f92f266-1214-4d59-a952-3146824f5595",
        "colab": {
          "base_uri": "https://localhost:8080/"
        }
      },
      "execution_count": 68,
      "outputs": [
        {
          "output_type": "stream",
          "name": "stdout",
          "text": [
            "Model: \"model\"\n",
            "__________________________________________________________________________________________________\n",
            " Layer (type)                Output Shape                 Param #   Connected to                  \n",
            "==================================================================================================\n",
            " input_1 (InputLayer)        [(None, 300)]                0         []                            \n",
            "                                                                                                  \n",
            " embedding (Embedding)       (None, 300, 32)              2995360   ['input_1[0][0]']             \n",
            "                                                                                                  \n",
            " input_2 (InputLayer)        [(None, None)]               0         []                            \n",
            "                                                                                                  \n",
            " lstm (LSTM)                 [(None, 300, 16),            3136      ['embedding[0][0]']           \n",
            "                              (None, 16),                                                         \n",
            "                              (None, 16)]                                                         \n",
            "                                                                                                  \n",
            " embedding_1 (Embedding)     (None, None, 32)             846080    ['input_2[0][0]']             \n",
            "                                                                                                  \n",
            " lstm_1 (LSTM)               [(None, 300, 16),            2112      ['lstm[0][0]']                \n",
            "                              (None, 16),                                                         \n",
            "                              (None, 16)]                                                         \n",
            "                                                                                                  \n",
            " lstm_2 (LSTM)               [(None, None, 16),           3136      ['embedding_1[0][0]',         \n",
            "                              (None, 16),                            'lstm_1[0][1]',              \n",
            "                              (None, 16)]                            'lstm_1[0][2]']              \n",
            "                                                                                                  \n",
            " attention_layer (Attention  ((None, None, 16),           528       ['lstm_1[0][0]',              \n",
            " Layer)                       (None, None, 300))                     'lstm_2[0][0]']              \n",
            "                                                                                                  \n",
            " concat_layer (Concatenate)  (None, None, 32)             0         ['lstm_2[0][0]',              \n",
            "                                                                     'attention_layer[0][0]']     \n",
            "                                                                                                  \n",
            " time_distributed (TimeDist  (None, None, 26440)          872520    ['concat_layer[0][0]']        \n",
            " ributed)                                                                                         \n",
            "                                                                                                  \n",
            "==================================================================================================\n",
            "Total params: 4722872 (18.02 MB)\n",
            "Trainable params: 4722872 (18.02 MB)\n",
            "Non-trainable params: 0 (0.00 Byte)\n",
            "__________________________________________________________________________________________________\n"
          ]
        }
      ]
    },
    {
      "cell_type": "code",
      "source": [
        "model.compile(optimizer='rmsprop', loss='sparse_categorical_crossentropy')\n"
      ],
      "metadata": {
        "id": "G-bze79GL9dD"
      },
      "execution_count": 69,
      "outputs": []
    },
    {
      "cell_type": "code",
      "source": [
        "#using Early stoppage to stop the training of the model once the validation increasers\n",
        "\n",
        "es = EarlyStopping(monitor='val_loss', mode='min', verbose=1)"
      ],
      "metadata": {
        "id": "4u1XQ-RMME44"
      },
      "execution_count": 70,
      "outputs": []
    },
    {
      "cell_type": "code",
      "source": [
        "history=model.fit(\n",
        "    [x_tr,y_tr[:,:-1]],\n",
        "    y_tr.reshape(y_tr.shape[0],y_tr.shape[1], 1)[:,1:] ,\n",
        "    epochs=20,callbacks=[es],\n",
        "    batch_size=256, validation_data=([x_val,y_val[:,:-1]], y_val.reshape(y_val.shape[0],y_val.shape[1], 1)[:,1:]))\n"
      ],
      "metadata": {
        "id": "AB7mMFImP_Rp",
        "outputId": "83a4a793-f6c2-486d-f1da-5eede8121381",
        "colab": {
          "base_uri": "https://localhost:8080/"
        }
      },
      "execution_count": null,
      "outputs": [
        {
          "output_type": "stream",
          "name": "stdout",
          "text": [
            "Epoch 1/20\n",
            "182/395 [============>.................] - ETA: 13:06 - loss: 7.3283"
          ]
        }
      ]
    },
    {
      "cell_type": "code",
      "source": [
        "'''history=model.fit(\n",
        "    [x_tr,y_tr[:,:-1]],\n",
        "    y_tr.reshape(y_tr.shape[0],y_tr.shape[1], 1)[:,1:]\n",
        "    ,epochs=20,callbacks=[es],\n",
        "    batch_size=256,\n",
        "    validation_data=([x_val,y_val[:,:-1]], y_val.reshape(y_val.shape[0],y_val.shape[1], 1)[:,1:]))'''"
      ],
      "metadata": {
        "id": "BjQO24-rTUtO"
      },
      "execution_count": null,
      "outputs": []
    },
    {
      "cell_type": "code",
      "source": [
        "print(\"Training accuracy:\", history.history[\"accuracy\"][-1])\n",
        "print(\"Validation accuracy:\", history.history[\"val_accuracy\"][-1])\n"
      ],
      "metadata": {
        "id": "QoLHE_kGS27q",
        "outputId": "91bf5ff3-697b-4d4b-dfe9-9ceaf74c2095",
        "colab": {
          "base_uri": "https://localhost:8080/"
        }
      },
      "execution_count": null,
      "outputs": [
        {
          "output_type": "stream",
          "name": "stdout",
          "text": [
            "Training accuracy: 0.7440202832221985\n",
            "Validation accuracy: 0.7210544943809509\n"
          ]
        }
      ]
    },
    {
      "cell_type": "code",
      "source": [
        "from matplotlib import pyplot\n",
        "pyplot.plot(history.history['loss'], label='train')\n",
        "pyplot.plot(history.history['val_loss'], label='test')\n",
        "pyplot.legend()\n",
        "pyplot.show()"
      ],
      "metadata": {
        "id": "-j2J850YnMkb",
        "colab": {
          "base_uri": "https://localhost:8080/",
          "height": 430
        },
        "outputId": "952b236e-bb9f-4890-84f0-7587432c1f88"
      },
      "execution_count": null,
      "outputs": [
        {
          "output_type": "display_data",
          "data": {
            "text/plain": [
              "<Figure size 640x480 with 1 Axes>"
            ],
            "image/png": "[encoded data removed]"
          },
          "metadata": {}
        }
      ]
    },
    {
      "cell_type": "code",
      "source": [
        "reverse_target_word_index=y_tokenizer.index_word\n",
        "reverse_source_word_index=x_tokenizer.index_word\n",
        "target_word_index=y_tokenizer.word_index"
      ],
      "metadata": {
        "id": "0wCNWai4MfLk"
      },
      "execution_count": null,
      "outputs": []
    },
    {
      "cell_type": "code",
      "source": [
        "# encoder inference\n",
        "encoder_model = Model(inputs=encoder_inputs,outputs=[encoder_output2, state_h2, state_c2])"
      ],
      "metadata": {
        "id": "spB5_p9TQHBR"
      },
      "execution_count": null,
      "outputs": []
    },
    {
      "cell_type": "markdown",
      "source": [],
      "metadata": {
        "id": "KwN2D4WHOmiI"
      }
    },
    {
      "cell_type": "code",
      "source": [
        "# decoder inference\n",
        "# Below tensors will hold the states of the previous time step\n",
        "decoder_state_input_h = Input(shape=(latent_dim,))\n",
        "decoder_state_input_c = Input(shape=(latent_dim,))\n",
        "decoder_hidden_state_input = Input(shape=(max_text_len,latent_dim))"
      ],
      "metadata": {
        "id": "PXnUx3rMMHWO"
      },
      "execution_count": null,
      "outputs": []
    },
    {
      "cell_type": "code",
      "source": [
        "# Get the embeddings of the decoder sequence\n",
        "dec_emb2= dec_emb_layer(decoder_inputs)"
      ],
      "metadata": {
        "id": "-_ycxlwCQN4l"
      },
      "execution_count": null,
      "outputs": []
    },
    {
      "cell_type": "code",
      "source": [
        "# To predict the next word in the sequence, set the initial states to the states from the previous time step\n",
        "decoder_outputs2, state_h2, state_c2 = decoder_lstm(dec_emb2, initial_state=[decoder_state_input_h, decoder_state_input_c])\n",
        "\n"
      ],
      "metadata": {
        "id": "12eIKgifQPs6"
      },
      "execution_count": null,
      "outputs": []
    },
    {
      "cell_type": "code",
      "source": [
        "#attention inference\n",
        "attn_out_inf, attn_states_inf = attn_layer([decoder_hidden_state_input, decoder_outputs2])\n",
        "decoder_inf_concat = Concatenate(axis=-1, name='concat')([decoder_outputs2, attn_out_inf])"
      ],
      "metadata": {
        "id": "OaPFhd5GQSA3"
      },
      "execution_count": null,
      "outputs": []
    },
    {
      "cell_type": "code",
      "source": [
        "# A dense softmax layer to generate prob dist. over the target vocabulary\n",
        "decoder_outputs2 = decoder_dense(decoder_inf_concat)"
      ],
      "metadata": {
        "id": "xL7OPbJTQToK"
      },
      "execution_count": null,
      "outputs": []
    },
    {
      "cell_type": "code",
      "source": [
        "# Final decoder model\n",
        "decoder_model = Model(\n",
        "[decoder_inputs] + [decoder_hidden_state_input,decoder_state_input_h, decoder_state_input_c],\n",
        "[decoder_outputs2] + [state_h2, state_c2])"
      ],
      "metadata": {
        "id": "E7oNks7hQVhn"
      },
      "execution_count": null,
      "outputs": []
    },
    {
      "cell_type": "code",
      "source": [
        "def decode_sequence(input_seq):\n",
        "    # Encode the input as state vectors.\n",
        "    e_out, e_h, e_c = encoder_model.predict(input_seq)\n",
        "\n",
        "    # Generate empty target sequence of length 1.\n",
        "    target_seq = np.zeros((1,1))\n",
        "\n",
        "    # Populate the first word of target sequence with the start word.\n",
        "    target_seq[0, 0] = target_word_index['sostok']\n",
        "\n",
        "    stop_condition = False\n",
        "    decoded_sentence = ''\n",
        "    while not stop_condition:\n",
        "\n",
        "        output_tokens, h, c = decoder_model.predict([target_seq] + [e_out, e_h, e_c])\n",
        "\n",
        "        # Sample a token\n",
        "        sampled_token_index = np.argmax(output_tokens[0, -1, :])\n",
        "        sampled_token = reverse_target_word_index[sampled_token_index]\n",
        "\n",
        "        if(sampled_token!='eostok'):\n",
        "            decoded_sentence += ' '+sampled_token\n",
        "\n",
        "        # Exit condition: either hit max length or find stop word.\n",
        "        if (sampled_token == 'eostok'  or len(decoded_sentence.split()) >= (max_len_summary-1)):\n",
        "            stop_condition = True\n",
        "\n",
        "        # Update the target sequence (of length 1).\n",
        "        target_seq = np.zeros((1,1))\n",
        "        target_seq[0, 0] = sampled_token_index\n",
        "\n",
        "        # Update internal states\n",
        "        e_h, e_c = h, c\n",
        "\n",
        "    return decoded_sentence"
      ],
      "metadata": {
        "id": "VEIowtHKQYYB"
      },
      "execution_count": null,
      "outputs": []
    },
    {
      "cell_type": "code",
      "source": [
        "def seq2summary(input_seq):\n",
        "    newString=''\n",
        "    for i in input_seq:\n",
        "        if((i!=0 and i!=target_word_index['sostok']) and i!=target_word_index['eostok']):\n",
        "            newString=newString+reverse_target_word_index[i]+' '\n",
        "    return newString\n",
        "\n",
        "def seq2text(input_seq):\n",
        "    newString=''\n",
        "    for i in input_seq:\n",
        "        if(i!=0):\n",
        "            newString=newString+reverse_source_word_index[i]+' '\n",
        "    return newString"
      ],
      "metadata": {
        "id": "yZjUs3Z7QazS"
      },
      "execution_count": null,
      "outputs": []
    },
    {
      "cell_type": "code",
      "source": [
        "for i in range(0,100):\n",
        "    print(\"Review:\",seq2text(x_tr[i]))\n",
        "    print(\"Original summary:\",seq2summary(y_tr[i]))\n",
        "    print(\"Predicted summary:\",decode_sequence(x_tr[i].reshape(1,max_text_len)))\n",
        "    print(\"\\n\")"
      ],
      "metadata": {
        "id": "VXiWENd-Qci9",
        "colab": {
          "base_uri": "https://localhost:8080/"
        },
        "outputId": "0be90465-ef39-4473-80a8-6017fd35c9b7"
      },
      "execution_count": null,
      "outputs": [
        {
          "output_type": "stream",
          "name": "stdout",
          "text": [
            "Review: purchased favorite grandson difficult find glad amazon offers able get large selection packages flavors rich flavor little high calorie good issue \n",
            "Original summary: white chocolate mix \n",
            "1/1 [==============================] - 0s 64ms/step\n",
            "1/1 [==============================] - 0s 20ms/step\n",
            "1/1 [==============================] - 0s 19ms/step\n",
            "1/1 [==============================] - 0s 19ms/step\n",
            "Predicted summary:  great taste\n",
            "\n",
            "\n",
            "Review: firm believer nescafe best available instant decided try like coffee strong need lot stuff classic bad nescafe better \n",
            "Original summary: stick to \n",
            "1/1 [==============================] - 0s 36ms/step\n",
            "1/1 [==============================] - 0s 19ms/step\n",
            "1/1 [==============================] - 0s 22ms/step\n",
            "1/1 [==============================] - 0s 21ms/step\n",
            "Predicted summary:  great taste\n",
            "\n",
            "\n",
            "Review: hot chocolate really delicious use two spoons milk couple spoons sugar natural sweetener tastes great drink two mugs every day service really great ordered sunday delivered monday complaints \n",
            "Original summary: navitas is good \n",
            "1/1 [==============================] - 0s 39ms/step\n",
            "1/1 [==============================] - 0s 23ms/step\n",
            "1/1 [==============================] - 0s 19ms/step\n",
            "1/1 [==============================] - 0s 19ms/step\n",
            "1/1 [==============================] - 0s 19ms/step\n",
            "Predicted summary:  great hot chocolate\n",
            "\n",
            "\n",
            "Review: expected get paid cookies soooooo good care much \n",
            "Original summary: yummie \n",
            "1/1 [==============================] - 0s 39ms/step\n",
            "1/1 [==============================] - 0s 27ms/step\n",
            "1/1 [==============================] - 0s 21ms/step\n",
            "Predicted summary:  yummy\n",
            "\n",
            "\n",
            "Review: wanted licorice teeny tiny rock hard pellets tasted one awful ended throwing boxes bin love licorice \n",
            "Original summary: yuck \n",
            "1/1 [==============================] - 0s 39ms/step\n",
            "1/1 [==============================] - 0s 20ms/step\n",
            "1/1 [==============================] - 0s 19ms/step\n",
            "1/1 [==============================] - 0s 19ms/step\n",
            "Predicted summary:  not bad\n",
            "\n",
            "\n",
            "Review: bought use party favors child birthday went great everyone loved love pez \n",
            "Original summary: great party favor \n",
            "1/1 [==============================] - 0s 37ms/step\n",
            "1/1 [==============================] - 0s 19ms/step\n",
            "1/1 [==============================] - 0s 20ms/step\n",
            "1/1 [==============================] - 0s 21ms/step\n",
            "Predicted summary:  great gift\n",
            "\n",
            "\n",
            "Review: ordered many boxes citrus fizz one places get citrus reasonable price never problem find enjoy fizz morning much cup coffee \n",
            "Original summary: good stuff \n",
            "1/1 [==============================] - 0s 41ms/step\n",
            "1/1 [==============================] - 0s 20ms/step\n",
            "1/1 [==============================] - 0s 19ms/step\n",
            "1/1 [==============================] - 0s 22ms/step\n",
            "Predicted summary:  great product\n",
            "\n",
            "\n",
            "Review: eating couple years yet another terrific product kashi yummy wheat cereal touch sweet great natural cinnamon flavor eat full hours hours like kashi cereals \n",
            "Original summary: super great taste and great nutrition \n",
            "1/1 [==============================] - 0s 42ms/step\n",
            "1/1 [==============================] - 0s 20ms/step\n",
            "1/1 [==============================] - 0s 20ms/step\n",
            "1/1 [==============================] - 0s 20ms/step\n",
            "1/1 [==============================] - 0s 19ms/step\n",
            "1/1 [==============================] - 0s 23ms/step\n",
            "1/1 [==============================] - 0s 24ms/step\n",
            "Predicted summary:  best gluten free bread mix\n",
            "\n",
            "\n",
            "Review: used buy locally apparently lipton selling grocery stores anymore knows get amazon automatic refill satisfied \n",
            "Original summary: my husband favorite tea \n",
            "1/1 [==============================] - 0s 40ms/step\n",
            "1/1 [==============================] - 0s 19ms/step\n",
            "1/1 [==============================] - 0s 20ms/step\n",
            "1/1 [==============================] - 0s 19ms/step\n",
            "Predicted summary:  great product\n",
            "\n",
            "\n",
            "Review: indoor cats initially wary third time served ate relish ever since outdoor cats took right away \n",
            "Original summary: it took but \n",
            "1/1 [==============================] - 0s 38ms/step\n",
            "1/1 [==============================] - 0s 21ms/step\n",
            "1/1 [==============================] - 0s 22ms/step\n",
            "1/1 [==============================] - 0s 21ms/step\n",
            "1/1 [==============================] - 0s 21ms/step\n",
            "Predicted summary:  cats love it\n",
            "\n",
            "\n",
            "Review: love bars chocolate woman love flavor price good hurray kellogg amazon price \n",
            "Original summary: my favorites \n",
            "1/1 [==============================] - 0s 39ms/step\n",
            "1/1 [==============================] - 0s 22ms/step\n",
            "1/1 [==============================] - 0s 25ms/step\n",
            "1/1 [==============================] - 0s 19ms/step\n",
            "Predicted summary:  great taste\n",
            "\n",
            "\n",
            "Review: wonderful gift wife pregnant first child wanted get something make feel special enjoyed treats especially chocolates would definitely recommend gift friend \n",
            "Original summary: great gift for my wife \n",
            "1/1 [==============================] - 0s 48ms/step\n",
            "1/1 [==============================] - 0s 20ms/step\n",
            "1/1 [==============================] - 0s 22ms/step\n",
            "1/1 [==============================] - 0s 22ms/step\n",
            "Predicted summary:  great gift\n",
            "\n",
            "\n",
            "Review: excited try low carb treat realize contain artificial sweeteners terrible aftertaste almond cocoa flavors overpowered fake sweeteners \n",
            "Original summary: tastes fake \n",
            "1/1 [==============================] - 0s 46ms/step\n",
            "1/1 [==============================] - 0s 21ms/step\n",
            "1/1 [==============================] - 0s 23ms/step\n",
            "1/1 [==============================] - 0s 21ms/step\n",
            "Predicted summary:  pretty good\n",
            "\n",
            "\n",
            "Review: gave neighbor like chunks beverage like br ya like coconut juice maybe way br likes waste least \n",
            "Original summary: coconut juice \n",
            "1/1 [==============================] - 0s 45ms/step\n",
            "1/1 [==============================] - 0s 22ms/step\n",
            "1/1 [==============================] - 0s 21ms/step\n",
            "1/1 [==============================] - 0s 23ms/step\n",
            "Predicted summary:  not bad\n",
            "\n",
            "\n",
            "Review: sauce awesome sweeter side spectrum defiantly worth try grew bbq sauce still love day \n",
            "Original summary: one of the greatest \n",
            "1/1 [==============================] - 0s 42ms/step\n",
            "1/1 [==============================] - 0s 19ms/step\n",
            "1/1 [==============================] - 0s 19ms/step\n",
            "1/1 [==============================] - 0s 19ms/step\n",
            "Predicted summary:  great sauce\n",
            "\n",
            "\n",
            "Review: least th box awesome stuff used coffee shop never used anything mochas chemical taste like brand white chocolate goo always mixes perfectly nothing left bottom shipping super fast price right \n",
            "Original summary: great product great company \n",
            "1/1 [==============================] - 0s 37ms/step\n",
            "1/1 [==============================] - 0s 20ms/step\n",
            "1/1 [==============================] - 0s 19ms/step\n",
            "1/1 [==============================] - 0s 19ms/step\n",
            "Predicted summary:  good product\n",
            "\n",
            "\n",
            "Review: hope really healthy yr old seems love tried package already gone recommend \n",
            "Original summary: my kid loves this stuff \n",
            "1/1 [==============================] - 0s 37ms/step\n",
            "1/1 [==============================] - 0s 22ms/step\n",
            "1/1 [==============================] - 0s 22ms/step\n",
            "Predicted summary:  great\n",
            "\n",
            "\n",
            "Review: favorite flavor ramen far able find stores since kid great able find online awesome flavor br br sometimes hot sometimes flavorful always delicious \n",
            "Original summary: thought this was discontinued \n",
            "1/1 [==============================] - 0s 44ms/step\n",
            "1/1 [==============================] - 0s 20ms/step\n",
            "1/1 [==============================] - 0s 22ms/step\n",
            "1/1 [==============================] - 0s 24ms/step\n",
            "Predicted summary:  great product\n",
            "\n",
            "\n",
            "Review: great price gummy treat best gummy bears far come generous quantity per bag \n",
            "Original summary: delicious \n",
            "1/1 [==============================] - 0s 44ms/step\n",
            "1/1 [==============================] - 0s 20ms/step\n",
            "1/1 [==============================] - 0s 23ms/step\n",
            "1/1 [==============================] - 0s 23ms/step\n",
            "1/1 [==============================] - 0s 21ms/step\n",
            "Predicted summary:  love these chips\n",
            "\n",
            "\n",
            "Review: great taste freshness go lot pepper use pre ground stuff definitely recommend great pepper crusted salmon recipes count good pepper \n",
            "Original summary: great item \n",
            "1/1 [==============================] - 0s 40ms/step\n",
            "1/1 [==============================] - 0s 20ms/step\n",
            "1/1 [==============================] - 0s 23ms/step\n",
            "Predicted summary:  great\n",
            "\n",
            "\n",
            "Review: used two cakes raved wide mouth top allows easy access cup measuring cup less mess neat cocoa plus \n",
            "Original summary: good stuff \n",
            "1/1 [==============================] - 0s 41ms/step\n",
            "1/1 [==============================] - 0s 20ms/step\n",
            "1/1 [==============================] - 0s 21ms/step\n",
            "1/1 [==============================] - 0s 21ms/step\n",
            "Predicted summary:  great product\n",
            "\n",
            "\n",
            "Review: awesome product must try sushi tastes like candy heaven food half fun experience making candy must \n",
            "Original summary: yum yum \n",
            "1/1 [==============================] - 0s 44ms/step\n",
            "1/1 [==============================] - 0s 21ms/step\n",
            "1/1 [==============================] - 0s 21ms/step\n",
            "1/1 [==============================] - 0s 25ms/step\n",
            "Predicted summary:  great product\n",
            "\n",
            "\n",
            "Review: bakery organic honey nut absolutely wonderful boxed cereal family prefer mainstream product organic always bonus \n",
            "Original summary: better than expected \n",
            "1/1 [==============================] - 0s 44ms/step\n",
            "1/1 [==============================] - 0s 20ms/step\n",
            "1/1 [==============================] - 0s 20ms/step\n",
            "1/1 [==============================] - 0s 24ms/step\n",
            "Predicted summary:  great tasting\n",
            "\n",
            "\n",
            "Review: wet food kitties like wellness expensive comparison grocery store brands quality superior believe price worth amazon best prices found \n",
            "Original summary: best price ve found \n",
            "1/1 [==============================] - 0s 41ms/step\n",
            "1/1 [==============================] - 0s 20ms/step\n",
            "1/1 [==============================] - 0s 22ms/step\n",
            "1/1 [==============================] - 0s 21ms/step\n",
            "Predicted summary:  great product\n",
            "\n",
            "\n",
            "Review: gourmet coffee stuff disappointing based upon previous good reviews suspect coffee cups received may changed manufacturing wolfgang puck decaf received watery tasteless aroma brewing keurig never \n",
            "Original summary: tasteless and watery \n",
            "1/1 [==============================] - 0s 40ms/step\n",
            "1/1 [==============================] - 0s 21ms/step\n",
            "1/1 [==============================] - 0s 20ms/step\n",
            "Predicted summary:  tasteless\n",
            "\n",
            "\n",
            "Review: wanted add order march came dingo stix per package thats free still priced buy get one free great deal dogs love everything dingo far \n",
            "Original summary: more free \n",
            "1/1 [==============================] - 0s 41ms/step\n",
            "1/1 [==============================] - 0s 20ms/step\n",
            "1/1 [==============================] - 0s 20ms/step\n",
            "1/1 [==============================] - 0s 22ms/step\n",
            "Predicted summary:  great product\n",
            "\n",
            "\n",
            "Review: cupcake picks exactly wanted shipped quicker expected worked perfect graduation perfect \n",
            "Original summary: perfect \n",
            "1/1 [==============================] - 0s 44ms/step\n",
            "1/1 [==============================] - 0s 20ms/step\n",
            "1/1 [==============================] - 0s 20ms/step\n",
            "Predicted summary:  great\n",
            "\n",
            "\n",
            "Review: popular dogs treat pets eat great natural \n",
            "Original summary: liver treats \n",
            "1/1 [==============================] - 0s 41ms/step\n",
            "1/1 [==============================] - 0s 21ms/step\n",
            "1/1 [==============================] - 0s 21ms/step\n",
            "1/1 [==============================] - 0s 19ms/step\n",
            "1/1 [==============================] - 0s 20ms/step\n",
            "Predicted summary:  dogs love it\n",
            "\n",
            "\n",
            "Review: one teas drink daily basis good flavor basic enough part daily routine love \n",
            "Original summary: great staple \n",
            "1/1 [==============================] - 0s 38ms/step\n",
            "1/1 [==============================] - 0s 26ms/step\n",
            "1/1 [==============================] - 0s 21ms/step\n",
            "1/1 [==============================] - 0s 23ms/step\n",
            "Predicted summary:  great tea\n",
            "\n",
            "\n",
            "Review: delicious recommend tastes good alone lemon lime little sweetner etc price good also eligible free shipping \n",
            "Original summary: you like green tea you ll love this one \n",
            "1/1 [==============================] - 0s 41ms/step\n",
            "1/1 [==============================] - 0s 23ms/step\n",
            "1/1 [==============================] - 0s 20ms/step\n",
            "1/1 [==============================] - 0s 21ms/step\n",
            "Predicted summary:  great product\n",
            "\n",
            "\n",
            "Review: like cracked pepper definitely good eats overpowering right \n",
            "Original summary: mm pepper \n",
            "1/1 [==============================] - 0s 41ms/step\n",
            "1/1 [==============================] - 0s 23ms/step\n",
            "1/1 [==============================] - 0s 19ms/step\n",
            "1/1 [==============================] - 0s 21ms/step\n",
            "Predicted summary:  very good\n",
            "\n",
            "\n",
            "Review: recently discovered salt vinegar almonds delicious individual size perfect go also purchased cans home almonds heart healthy snack try limit day taste would like vinegar flavor \n",
            "Original summary: best almonds ever \n",
            "1/1 [==============================] - 0s 39ms/step\n",
            "1/1 [==============================] - 0s 20ms/step\n",
            "1/1 [==============================] - 0s 21ms/step\n",
            "1/1 [==============================] - 0s 21ms/step\n",
            "Predicted summary:  delicious almonds\n",
            "\n",
            "\n",
            "Review: vanilla flavor barely noticeable acidic taste expected breakfast bed hawaiian hazelnut much better choices \n",
            "Original summary: disappointed \n",
            "1/1 [==============================] - 0s 51ms/step\n",
            "1/1 [==============================] - 0s 20ms/step\n",
            "1/1 [==============================] - 0s 20ms/step\n",
            "Predicted summary:  weak\n",
            "\n",
            "\n",
            "Review: discovered kind fruit nut bars recently favorite good taste texture tends get hard bit stale nevertheless would recommend especially someone gluten free case enough options \n",
            "Original summary: very good snack bar \n",
            "1/1 [==============================] - 0s 41ms/step\n",
            "1/1 [==============================] - 0s 19ms/step\n",
            "1/1 [==============================] - 0s 19ms/step\n",
            "Predicted summary:  delicious\n",
            "\n",
            "\n",
            "Review: powder tea granulated sugar make sweet looking healthy sweet luck would say product delicious put scoop way drinking traditional green tea \n",
            "Original summary: has sugar in it \n",
            "1/1 [==============================] - 0s 42ms/step\n",
            "1/1 [==============================] - 0s 21ms/step\n",
            "1/1 [==============================] - 0s 21ms/step\n",
            "1/1 [==============================] - 0s 22ms/step\n",
            "Predicted summary:  great product\n",
            "\n",
            "\n",
            "Review: kettle chip crisp crunchy good although somewhat greasy coated flavoring causing mouth burn expected chip rosemary flavoring leaves greasy gritty residue fingers two three chips \n",
            "Original summary: flavor too strong coating too messy \n",
            "1/1 [==============================] - 0s 43ms/step\n",
            "1/1 [==============================] - 0s 24ms/step\n",
            "1/1 [==============================] - 0s 19ms/step\n",
            "1/1 [==============================] - 0s 18ms/step\n",
            "1/1 [==============================] - 0s 33ms/step\n",
            "Predicted summary:  not the best\n",
            "\n",
            "\n",
            "Review: liked popchips specially taste low calorie fact br also serve bags keeps fresh pack br need need snack \n",
            "Original summary: pretty good snack \n",
            "1/1 [==============================] - 0s 63ms/step\n",
            "1/1 [==============================] - 0s 31ms/step\n",
            "1/1 [==============================] - 0s 29ms/step\n",
            "1/1 [==============================] - 0s 30ms/step\n",
            "1/1 [==============================] - 0s 29ms/step\n",
            "Predicted summary:  love these chips\n",
            "\n",
            "\n",
            "Review: great tasting herbal tea like hot black tea tea also supposed good immune system bonus \n",
            "Original summary: love this tea \n",
            "1/1 [==============================] - 0s 57ms/step\n",
            "1/1 [==============================] - 0s 30ms/step\n",
            "1/1 [==============================] - 0s 30ms/step\n",
            "1/1 [==============================] - 0s 31ms/step\n",
            "Predicted summary:  great tea\n",
            "\n",
            "\n",
            "Review: better expected peppermint flavor lacks mint smell taste good purchase price \n",
            "Original summary: good buy \n",
            "1/1 [==============================] - 0s 61ms/step\n",
            "1/1 [==============================] - 0s 31ms/step\n",
            "1/1 [==============================] - 0s 31ms/step\n",
            "1/1 [==============================] - 0s 33ms/step\n",
            "1/1 [==============================] - 0s 29ms/step\n",
            "1/1 [==============================] - 0s 30ms/step\n",
            "1/1 [==============================] - 0s 29ms/step\n",
            "1/1 [==============================] - 0s 28ms/step\n",
            "Predicted summary:  not as good as the original\n",
            "\n",
            "\n",
            "Review: german shepherds love daily greenies jumps bed every day remind get butt produce treat \n",
            "Original summary: greenies \n",
            "1/1 [==============================] - 0s 59ms/step\n",
            "1/1 [==============================] - 0s 34ms/step\n",
            "1/1 [==============================] - 0s 29ms/step\n",
            "1/1 [==============================] - 0s 34ms/step\n",
            "1/1 [==============================] - 0s 28ms/step\n",
            "Predicted summary:  greenies dental chews\n",
            "\n",
            "\n",
            "Review: please send salmon baby eat please send chicken happybaby organic baby food received month br br \n",
            "Original summary: what baby does not like \n",
            "1/1 [==============================] - 0s 64ms/step\n",
            "1/1 [==============================] - 0s 30ms/step\n",
            "1/1 [==============================] - 0s 32ms/step\n",
            "1/1 [==============================] - 0s 28ms/step\n",
            "1/1 [==============================] - 0s 29ms/step\n",
            "Predicted summary:  cats love it\n",
            "\n",
            "\n",
            "Review: candies addicting miami available certain neighborhood tub perfect disappointed like coconut caramel \n",
            "Original summary: delicious \n",
            "1/1 [==============================] - 0s 60ms/step\n",
            "1/1 [==============================] - 0s 42ms/step\n",
            "1/1 [==============================] - 0s 33ms/step\n",
            "Predicted summary:  delicious\n",
            "\n",
            "\n",
            "Review: anytime shout mr greenie four dogs come running ages dogs love seem help breath tarter amazon absolute best prices \n",
            "Original summary: what my dogs have to say \n",
            "1/1 [==============================] - 0s 62ms/step\n",
            "1/1 [==============================] - 0s 32ms/step\n",
            "1/1 [==============================] - 0s 29ms/step\n",
            "1/1 [==============================] - 0s 29ms/step\n",
            "1/1 [==============================] - 0s 30ms/step\n",
            "Predicted summary:  great training treats\n",
            "\n",
            "\n",
            "Review: small neighborhood bar enjoy novelty fresh hot pork rinds served beverages \n",
            "Original summary: pork rinds \n",
            "1/1 [==============================] - 0s 56ms/step\n",
            "1/1 [==============================] - 0s 30ms/step\n",
            "1/1 [==============================] - 0s 29ms/step\n",
            "1/1 [==============================] - 0s 28ms/step\n",
            "Predicted summary:  best ever\n",
            "\n",
            "\n",
            "Review: dog gets bored easily food tried every different kind food get appetite going merrick wing trick mix dry food happy gets excited mealtime noticed difference coat energy level \n",
            "Original summary: pleased the picky \n",
            "1/1 [==============================] - 0s 59ms/step\n",
            "1/1 [==============================] - 0s 31ms/step\n",
            "1/1 [==============================] - 0s 52ms/step\n",
            "1/1 [==============================] - 0s 32ms/step\n",
            "1/1 [==============================] - 0s 31ms/step\n",
            "1/1 [==============================] - 0s 30ms/step\n",
            "1/1 [==============================] - 0s 32ms/step\n",
            "Predicted summary:  my dog loves this food\n",
            "\n",
            "\n",
            "Review: rich velvety smooth want goat milk cheese expensive sooo worth \n",
            "Original summary: heavenly \n",
            "1/1 [==============================] - 0s 62ms/step\n",
            "1/1 [==============================] - 0s 32ms/step\n",
            "1/1 [==============================] - 0s 29ms/step\n",
            "1/1 [==============================] - 0s 32ms/step\n",
            "Predicted summary:  great product\n",
            "\n",
            "\n",
            "Review: candy tastes like apple juice vitamin chews yummy green like apple flavor hard candies actually green brownish yellow love \n",
            "Original summary: tastes good and natural \n",
            "1/1 [==============================] - 0s 61ms/step\n",
            "1/1 [==============================] - 0s 43ms/step\n",
            "1/1 [==============================] - 0s 30ms/step\n",
            "1/1 [==============================] - 0s 30ms/step\n",
            "1/1 [==============================] - 0s 31ms/step\n",
            "1/1 [==============================] - 0s 30ms/step\n",
            "1/1 [==============================] - 0s 30ms/step\n",
            "Predicted summary:  good but not too sweet\n",
            "\n",
            "\n",
            "Review: never tried himalayan salt really like think strong normal white table salt tastier continue buy \n",
            "Original summary: good salt \n",
            "1/1 [==============================] - 0s 39ms/step\n",
            "1/1 [==============================] - 0s 19ms/step\n",
            "1/1 [==============================] - 0s 22ms/step\n",
            "1/1 [==============================] - 0s 20ms/step\n",
            "Predicted summary:  great salt\n",
            "\n",
            "\n",
            "Review: received chips gift basket absolutely loved searched high low unable find saw immediately ordered case chips light crispy flavorful good love dip chili plain try hooked \n",
            "Original summary: the best chips ever \n",
            "1/1 [==============================] - 0s 41ms/step\n",
            "1/1 [==============================] - 0s 22ms/step\n",
            "1/1 [==============================] - 0s 21ms/step\n",
            "1/1 [==============================] - 0s 20ms/step\n",
            "Predicted summary:  great chips\n",
            "\n",
            "\n",
            "Review: tea found really helps calm anxiety tastes better calming teas make sleepy many local stores carry one amazon best price anyway subscribe save deal \n",
            "Original summary: the only calming tea that works for me \n",
            "1/1 [==============================] - 0s 40ms/step\n",
            "1/1 [==============================] - 0s 22ms/step\n",
            "1/1 [==============================] - 0s 23ms/step\n",
            "1/1 [==============================] - 0s 19ms/step\n",
            "Predicted summary:  great tea\n",
            "\n",
            "\n",
            "Review: delish strong tasty cup joe price used buy coffee time costco knew good \n",
            "Original summary: great deal \n",
            "1/1 [==============================] - 0s 41ms/step\n",
            "1/1 [==============================] - 0s 21ms/step\n",
            "1/1 [==============================] - 0s 23ms/step\n",
            "1/1 [==============================] - 0s 24ms/step\n",
            "Predicted summary:  great taste\n",
            "\n",
            "\n",
            "Review: drinking twining tea years used made england plant north carolina american trade tea excellent drink decaf health reasons find tasty regular tea \n",
            "Original summary: twinings good cup of tea \n",
            "1/1 [==============================] - 0s 41ms/step\n",
            "1/1 [==============================] - 0s 22ms/step\n",
            "1/1 [==============================] - 0s 19ms/step\n",
            "1/1 [==============================] - 0s 23ms/step\n",
            "Predicted summary:  great tea\n",
            "\n",
            "\n",
            "Review: van houtte creme brulee great tasting smooth coffee enjoy much \n",
            "Original summary: great cup of coffee \n",
            "1/1 [==============================] - 0s 40ms/step\n",
            "1/1 [==============================] - 0s 21ms/step\n",
            "1/1 [==============================] - 0s 20ms/step\n",
            "1/1 [==============================] - 0s 22ms/step\n",
            "Predicted summary:  great coffee\n",
            "\n",
            "\n",
            "Review: item bought sent support animal shelter california item got timely manner helped help animals nice thank \n",
            "Original summary: cat food \n",
            "1/1 [==============================] - 0s 42ms/step\n",
            "1/1 [==============================] - 0s 19ms/step\n",
            "1/1 [==============================] - 0s 19ms/step\n",
            "1/1 [==============================] - 0s 18ms/step\n",
            "Predicted summary:  cat food\n",
            "\n",
            "\n",
            "Review: good cereal know else want say definately good stuff \n",
            "Original summary: crunchy healthy \n",
            "1/1 [==============================] - 0s 44ms/step\n",
            "1/1 [==============================] - 0s 20ms/step\n",
            "1/1 [==============================] - 0s 19ms/step\n",
            "1/1 [==============================] - 0s 19ms/step\n",
            "Predicted summary:  great cereal\n",
            "\n",
            "\n",
            "Review: excellent product trans fat baked oven greasy fat baked \n",
            "Original summary: smart puffs cheddar \n",
            "1/1 [==============================] - 0s 39ms/step\n",
            "1/1 [==============================] - 0s 22ms/step\n",
            "1/1 [==============================] - 0s 23ms/step\n",
            "1/1 [==============================] - 0s 21ms/step\n",
            "Predicted summary:  great product\n",
            "\n",
            "\n",
            "Review: best gum ever find particular gum anymore costco best bet br problems order \n",
            "Original summary: best gum ever \n",
            "1/1 [==============================] - 0s 40ms/step\n",
            "1/1 [==============================] - 0s 23ms/step\n",
            "1/1 [==============================] - 0s 19ms/step\n",
            "1/1 [==============================] - 0s 19ms/step\n",
            "1/1 [==============================] - 0s 21ms/step\n",
            "Predicted summary:  best gum ever\n",
            "\n",
            "\n",
            "Review: love lifesaver sugar free wintergreen bags didnt like taste lack sugar since knew buying flavors orange basically baby taste pineapple flavor isnt bad stick wintergreen \n",
            "Original summary: liked them not so much \n",
            "1/1 [==============================] - 0s 40ms/step\n",
            "1/1 [==============================] - 0s 21ms/step\n",
            "1/1 [==============================] - 0s 20ms/step\n",
            "1/1 [==============================] - 0s 23ms/step\n",
            "1/1 [==============================] - 0s 22ms/step\n",
            "Predicted summary:  not so good\n",
            "\n",
            "\n",
            "Review: one packet good cups full pot directions state put water coffe weak \n",
            "Original summary: not strong enough \n",
            "1/1 [==============================] - 0s 44ms/step\n",
            "1/1 [==============================] - 0s 21ms/step\n",
            "1/1 [==============================] - 0s 20ms/step\n",
            "1/1 [==============================] - 0s 21ms/step\n",
            "Predicted summary:  good coffee\n",
            "\n",
            "\n",
            "Review: smell divine even unwrap dark gem rich tasting without sweet dark chocolate often tastes bitter right balance decent sized bar rich enough satisfies chocolate monster two people \n",
            "Original summary: wonderful rich chocolate \n",
            "1/1 [==============================] - 0s 48ms/step\n",
            "1/1 [==============================] - 0s 23ms/step\n",
            "1/1 [==============================] - 0s 23ms/step\n",
            "1/1 [==============================] - 0s 20ms/step\n",
            "Predicted summary:  chocolate heaven\n",
            "\n",
            "\n",
            "Review: westie oliver loves treats really enjoys running agility treats real br br check blog \n",
            "Original summary: looking to super your dog \n",
            "1/1 [==============================] - 0s 42ms/step\n",
            "1/1 [==============================] - 0s 20ms/step\n",
            "1/1 [==============================] - 0s 20ms/step\n",
            "1/1 [==============================] - 0s 22ms/step\n",
            "1/1 [==============================] - 0s 24ms/step\n",
            "1/1 [==============================] - 0s 22ms/step\n",
            "Predicted summary:  my dog loves these\n",
            "\n",
            "\n",
            "Review: boyfriend made rice loved buy locally live small town looked online actually found cheaper amazon manufacturer stuff wonderful \n",
            "Original summary: love this stuff \n",
            "1/1 [==============================] - 0s 43ms/step\n",
            "1/1 [==============================] - 0s 21ms/step\n",
            "1/1 [==============================] - 0s 20ms/step\n",
            "1/1 [==============================] - 0s 20ms/step\n",
            "Predicted summary:  great rice\n",
            "\n",
            "\n",
            "Review: good cup hot chocolate couple marshmellows make daughter every time visits nearly loves \n",
            "Original summary: good drink \n",
            "1/1 [==============================] - 0s 49ms/step\n",
            "1/1 [==============================] - 0s 21ms/step\n",
            "1/1 [==============================] - 0s 20ms/step\n",
            "1/1 [==============================] - 0s 20ms/step\n",
            "1/1 [==============================] - 0s 28ms/step\n",
            "Predicted summary:  great hot cocoa\n",
            "\n",
            "\n",
            "Review: baby loves bring anywhere since glass need anything since suck love fact organic \n",
            "Original summary: yummy easy \n",
            "1/1 [==============================] - 0s 42ms/step\n",
            "1/1 [==============================] - 0s 21ms/step\n",
            "1/1 [==============================] - 0s 22ms/step\n",
            "Predicted summary:  great\n",
            "\n",
            "\n",
            "Review: favorite flavor primal strips like others ordered one last since sounded weird great lime flavor strong texture good lowest calories line excellent guilt snack \n",
            "Original summary: great snack and of protein in calories \n",
            "1/1 [==============================] - 0s 39ms/step\n",
            "1/1 [==============================] - 0s 25ms/step\n",
            "1/1 [==============================] - 0s 23ms/step\n",
            "1/1 [==============================] - 0s 20ms/step\n",
            "Predicted summary:  love these\n",
            "\n",
            "\n",
            "Review: shipping price expensive amazon instead \n",
            "Original summary: get this if \n",
            "1/1 [==============================] - 0s 47ms/step\n",
            "1/1 [==============================] - 0s 28ms/step\n",
            "1/1 [==============================] - 0s 20ms/step\n",
            "1/1 [==============================] - 0s 19ms/step\n",
            "Predicted summary:  good price\n",
            "\n",
            "\n",
            "Review: ambrosia love love love cup tazo zen green tea lemongrass spearmint right low caffeine increases concentration getting ready test enjoying afternoon cup lemongrass spearmint lemon honey \n",
            "Original summary: with fresh lemon and honey \n",
            "1/1 [==============================] - 0s 40ms/step\n",
            "1/1 [==============================] - 0s 22ms/step\n",
            "1/1 [==============================] - 0s 20ms/step\n",
            "Predicted summary:  delicious\n",
            "\n",
            "\n",
            "Review: hands favorite potato chips light flaky hint vinegar make simply irresistible \n",
            "Original summary: my favorite chip \n",
            "1/1 [==============================] - 0s 41ms/step\n",
            "1/1 [==============================] - 0s 20ms/step\n",
            "1/1 [==============================] - 0s 24ms/step\n",
            "1/1 [==============================] - 0s 24ms/step\n",
            "1/1 [==============================] - 0s 19ms/step\n",
            "Predicted summary:  best kettle chips\n",
            "\n",
            "\n",
            "Review: kind bar made look varieties could find healthful delicious sweet chocoholic dream \n",
            "Original summary: kind chocolate cherry cashew \n",
            "1/1 [==============================] - 0s 43ms/step\n",
            "1/1 [==============================] - 0s 20ms/step\n",
            "1/1 [==============================] - 0s 20ms/step\n",
            "1/1 [==============================] - 0s 21ms/step\n",
            "Predicted summary:  great taste\n",
            "\n",
            "\n",
            "Review: nutty delicious well packaged put couple tbls fruit shake every morning get enjoy flavor clean energy satisfaction hunger thanks hemp \n",
            "Original summary: everyday food \n",
            "1/1 [==============================] - 0s 42ms/step\n",
            "1/1 [==============================] - 0s 21ms/step\n",
            "1/1 [==============================] - 0s 19ms/step\n",
            "1/1 [==============================] - 0s 19ms/step\n",
            "1/1 [==============================] - 0s 19ms/step\n",
            "Predicted summary:  love this stuff\n",
            "\n",
            "\n",
            "Review: tea horrible taste threw trash thank heavens found another ginger tea amazon truly wonderful ginger tea \n",
            "Original summary: bad taste \n",
            "1/1 [==============================] - 0s 42ms/step\n",
            "1/1 [==============================] - 0s 20ms/step\n",
            "1/1 [==============================] - 0s 20ms/step\n",
            "1/1 [==============================] - 0s 24ms/step\n",
            "1/1 [==============================] - 0s 20ms/step\n",
            "Predicted summary:  not the best\n",
            "\n",
            "\n",
            "Review: beaba multiportion freezer tray perfect freezing baby food made baby food two children simple way getting done quick easy plus easy push frozen portions freezing tray flexible \n",
            "Original summary: perfect for baby food \n",
            "1/1 [==============================] - 0s 43ms/step\n",
            "1/1 [==============================] - 0s 23ms/step\n",
            "1/1 [==============================] - 0s 19ms/step\n",
            "1/1 [==============================] - 0s 21ms/step\n",
            "Predicted summary:  great product\n",
            "\n",
            "\n",
            "Review: ordered keep dorm opened box order try bit dry side glass cold milk delicious rather small many box filling taste good \n",
            "Original summary: filling cookies \n",
            "1/1 [==============================] - 0s 41ms/step\n",
            "1/1 [==============================] - 0s 22ms/step\n",
            "1/1 [==============================] - 0s 21ms/step\n",
            "1/1 [==============================] - 0s 21ms/step\n",
            "Predicted summary:  great cookies\n",
            "\n",
            "\n",
            "Review: think reading reviews expecting something better whole foods apple sweetened variety actually think whole foods variety taste better however organic convenient pouches would probably get \n",
            "Original summary: had higher expectations \n",
            "1/1 [==============================] - 0s 42ms/step\n",
            "1/1 [==============================] - 0s 21ms/step\n",
            "1/1 [==============================] - 0s 24ms/step\n",
            "1/1 [==============================] - 0s 23ms/step\n",
            "Predicted summary:  good product\n",
            "\n",
            "\n",
            "Review: coffee delight br pretty picky selection coffee one meets requirements br br bravo bravo bravo \n",
            "Original summary: it the best \n",
            "1/1 [==============================] - 0s 41ms/step\n",
            "1/1 [==============================] - 0s 21ms/step\n",
            "1/1 [==============================] - 0s 21ms/step\n",
            "1/1 [==============================] - 0s 24ms/step\n",
            "Predicted summary:  good coffee\n",
            "\n",
            "\n",
            "Review: excellent candy would buy melts never buy summer hot months \n",
            "Original summary: candy would buy again but not in the summer \n",
            "1/1 [==============================] - 0s 45ms/step\n",
            "1/1 [==============================] - 0s 20ms/step\n",
            "1/1 [==============================] - 0s 20ms/step\n",
            "Predicted summary:  delicious\n",
            "\n",
            "\n",
            "Review: love product sold stores arizona sure \n",
            "Original summary: walnut purchase \n",
            "1/1 [==============================] - 0s 42ms/step\n",
            "1/1 [==============================] - 0s 22ms/step\n",
            "1/1 [==============================] - 0s 20ms/step\n",
            "1/1 [==============================] - 0s 20ms/step\n",
            "Predicted summary:  great product\n",
            "\n",
            "\n",
            "Review: href http www amazon com gp product chex calorie snack mix caramel ounce packages br yummy calorie pack snack entire family hooked \n",
            "Original summary: yummy snack \n",
            "1/1 [==============================] - 0s 44ms/step\n",
            "1/1 [==============================] - 0s 20ms/step\n",
            "1/1 [==============================] - 0s 22ms/step\n",
            "1/1 [==============================] - 0s 21ms/step\n",
            "Predicted summary:  great snack\n",
            "\n",
            "\n",
            "Review: dog loves greenies clean teeth wonderful great snack small dog cut half last longer pleased found amazon price sell plus free shipping love amazon \n",
            "Original summary: great \n",
            "1/1 [==============================] - 0s 41ms/step\n",
            "1/1 [==============================] - 0s 19ms/step\n",
            "1/1 [==============================] - 0s 21ms/step\n",
            "1/1 [==============================] - 0s 21ms/step\n",
            "Predicted summary:  great product\n",
            "\n",
            "\n",
            "Review: great product new brand fallen love products soft one reviewer states replace pill pocket hard stores best place buy \n",
            "Original summary: soft and yummy \n",
            "1/1 [==============================] - 0s 42ms/step\n",
            "1/1 [==============================] - 0s 23ms/step\n",
            "1/1 [==============================] - 0s 20ms/step\n",
            "1/1 [==============================] - 0s 22ms/step\n",
            "Predicted summary:  great product\n",
            "\n",
            "\n",
            "Review: shipping fast expiration date got feb expiration april eat much seaweed short time returned wants go trouble well stuffed freezer hope still eatable get order food online order \n",
            "Original summary: almost expired \n",
            "1/1 [==============================] - 0s 61ms/step\n",
            "1/1 [==============================] - 0s 33ms/step\n",
            "1/1 [==============================] - 0s 37ms/step\n",
            "1/1 [==============================] - 0s 30ms/step\n",
            "Predicted summary:  expiration date\n",
            "\n",
            "\n",
            "Review: could coat pill pure hamburger dog could figure eat burger somehow pill ends floor swear begs eats whole thing one bite \n",
            "Original summary: fooled you you picky dog \n",
            "1/1 [==============================] - 0s 57ms/step\n",
            "1/1 [==============================] - 0s 31ms/step\n",
            "1/1 [==============================] - 0s 33ms/step\n",
            "1/1 [==============================] - 0s 43ms/step\n",
            "1/1 [==============================] - 0s 31ms/step\n",
            "Predicted summary:  great dog food\n",
            "\n",
            "\n",
            "Review: ordered swanson premium chunk chicken breast water white meat ounce cans family absolutely loved without doubt best canned chicken ever closest fresh ever tasted \n",
            "Original summary: next to fresh \n",
            "1/1 [==============================] - 0s 56ms/step\n",
            "1/1 [==============================] - 0s 32ms/step\n",
            "1/1 [==============================] - 0s 30ms/step\n",
            "1/1 [==============================] - 0s 29ms/step\n",
            "Predicted summary:  great product\n",
            "\n",
            "\n",
            "Review: first batch lost mail second batch promptly sent amount grains small need lot several months grains two tablespoons size already given away kefir drinkers brazil \n",
            "Original summary: great service and grains \n",
            "1/1 [==============================] - 0s 59ms/step\n",
            "1/1 [==============================] - 0s 28ms/step\n",
            "1/1 [==============================] - 0s 28ms/step\n",
            "1/1 [==============================] - 0s 29ms/step\n",
            "Predicted summary:  great product\n",
            "\n",
            "\n",
            "Review: love pasta mix regular pasta meal half half love lower calories fiber content \n",
            "Original summary: great pasta \n",
            "1/1 [==============================] - 0s 53ms/step\n",
            "1/1 [==============================] - 0s 30ms/step\n",
            "1/1 [==============================] - 0s 33ms/step\n",
            "1/1 [==============================] - 0s 29ms/step\n",
            "Predicted summary:  great pasta\n",
            "\n",
            "\n",
            "Review: cat even touch sniffed looked tried bury tried three different occasions thinking maybe belly upset day never would eat got case guess donate local animal shelter \n",
            "Original summary: cat hated it \n",
            "1/1 [==============================] - 0s 56ms/step\n",
            "1/1 [==============================] - 0s 30ms/step\n",
            "1/1 [==============================] - 0s 30ms/step\n",
            "1/1 [==============================] - 0s 29ms/step\n",
            "Predicted summary:  cat food\n",
            "\n",
            "\n",
            "Review: dogs love greenies healthy chewing snack dogs pleased purchase greenies great price paid tub tiny greenies package sells least product continue purchase product amazon com \n",
            "Original summary: greenies at great price \n",
            "1/1 [==============================] - 0s 68ms/step\n",
            "1/1 [==============================] - 0s 29ms/step\n",
            "1/1 [==============================] - 0s 30ms/step\n",
            "1/1 [==============================] - 0s 35ms/step\n",
            "Predicted summary:  great product\n",
            "\n",
            "\n",
            "Review: rd reorder popcorn quickly become family favorite snack neighbor kids complain parents come popcorn like gotta love super fast shipping portion packs way go \n",
            "Original summary: of the \n",
            "1/1 [==============================] - 0s 62ms/step\n",
            "1/1 [==============================] - 0s 32ms/step\n",
            "1/1 [==============================] - 0s 31ms/step\n",
            "1/1 [==============================] - 0s 29ms/step\n",
            "Predicted summary:  great popcorn\n",
            "\n",
            "\n",
            "Review: ordered gummi rings pink candy buffet gummi rings appear light pink white image actually red white color heads looking pink candy \n",
            "Original summary: is deceiving \n",
            "1/1 [==============================] - 0s 58ms/step\n",
            "1/1 [==============================] - 0s 32ms/step\n",
            "1/1 [==============================] - 0s 27ms/step\n",
            "1/1 [==============================] - 0s 28ms/step\n",
            "Predicted summary:  money tree\n",
            "\n",
            "\n",
            "Review: received product time described like hot sauces assortment highly recommended \n",
            "Original summary: insanely good \n",
            "1/1 [==============================] - 0s 54ms/step\n",
            "1/1 [==============================] - 0s 29ms/step\n",
            "1/1 [==============================] - 0s 31ms/step\n",
            "Predicted summary:  hot\n",
            "\n",
            "\n",
            "Review: wonderful vanilla baking bottle nice touch adds effect gift good product great taste \n",
            "Original summary: mexican vanilla \n",
            "1/1 [==============================] - 0s 56ms/step\n"
          ]
        }
      ]
    },
    {
      "cell_type": "code",
      "source": [],
      "metadata": {
        "id": "SxbhLrbwQcYP"
      },
      "execution_count": null,
      "outputs": []
    }
  ],
  "metadata": {
    "colab": {
      "provenance": [],
      "gpuType": "T4",
      "include_colab_link": true
    },
    "kernelspec": {
      "display_name": "Python 3",
      "name": "python3"
    },
    "language_info": {
      "name": "python"
    },
    "accelerator": "GPU"
  },
  "nbformat": 4,
  "nbformat_minor": 0
}